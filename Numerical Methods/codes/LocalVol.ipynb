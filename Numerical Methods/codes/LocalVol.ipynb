{
 "cells": [
  {
   "cell_type": "code",
   "execution_count": 5,
   "id": "c6648d76-5a1f-434b-bfc4-32205d55b32b",
   "metadata": {},
   "outputs": [
    {
     "ename": "ModuleNotFoundError",
     "evalue": "No module named 'impliedvol'",
     "output_type": "error",
     "traceback": [
      "\u001b[1;31m---------------------------------------------------------------------------\u001b[0m",
      "\u001b[1;31mModuleNotFoundError\u001b[0m                       Traceback (most recent call last)",
      "Cell \u001b[1;32mIn[5], line 5\u001b[0m\n\u001b[0;32m      3\u001b[0m \u001b[38;5;28;01mimport\u001b[39;00m \u001b[38;5;21;01mmatplotlib\u001b[39;00m\u001b[38;5;21;01m.\u001b[39;00m\u001b[38;5;21;01mpyplot\u001b[39;00m \u001b[38;5;28;01mas\u001b[39;00m \u001b[38;5;21;01mplt\u001b[39;00m\n\u001b[0;32m      4\u001b[0m \u001b[38;5;28;01mfrom\u001b[39;00m \u001b[38;5;21;01mipynb\u001b[39;00m\u001b[38;5;21;01m.\u001b[39;00m\u001b[38;5;21;01mfs\u001b[39;00m\u001b[38;5;21;01m.\u001b[39;00m\u001b[38;5;21;01mfull\u001b[39;00m\u001b[38;5;21;01m.\u001b[39;00m\u001b[38;5;21;01mbinomial\u001b[39;00m \u001b[38;5;28;01mimport\u001b[39;00m EuropeanOption, PayoffType, bsPrice\n\u001b[1;32m----> 5\u001b[0m \u001b[38;5;28;01mfrom\u001b[39;00m \u001b[38;5;21;01mimpliedvol\u001b[39;00m \u001b[38;5;28;01mimport\u001b[39;00m LocalVol, createTestImpliedVol, strikeFromDelta\n",
      "\u001b[1;31mModuleNotFoundError\u001b[0m: No module named 'impliedvol'"
     ]
    }
   ],
   "source": [
    "import math\n",
    "import numpy as np\n",
    "import matplotlib.pyplot as plt\n",
    "from ipynb.fs.full.binomial import EuropeanOption, PayoffType, bsPrice\n",
    "from impliedvol import LocalVol, createTestImpliedVol, strikeFromDelta\n"
   ]
  },
  {
   "cell_type": "code",
   "execution_count": 6,
   "id": "f5791af2-5916-4a25-8edb-c5503dbce5d6",
   "metadata": {},
   "outputs": [],
   "source": [
    "class LocalVol:\n",
    "    def __init__(self, iv, S0, rd, rf):\n",
    "        self.iv = iv\n",
    "        self.S0 = S0\n",
    "        self.rd = rd\n",
    "        self.rf = rf\n",
    "    def LV(self, t, s):\n",
    "        if t < 1e-6:\n",
    "            return self.iv.Vol(t, s)\n",
    "        imp = self.iv.Vol(t, s)\n",
    "        dvdk = self.iv.dVoldK(t, s)\n",
    "        dvdt = self.iv.dVoldT(t, s)\n",
    "        d2vdk2 = self.iv.dVol2dK2(t, s)\n",
    "        d1 = (math.log(self.S0/s) + (self.rd-self.rf)*t + imp * imp * t / 2) / imp / math.sqrt(t)\n",
    "        numerator = imp*imp + 2*t*imp*dvdt + 2*(self.rd-self.rf)*s*t*imp*dvdk\n",
    "        denominator = (1+s*d1*math.sqrt(t)*dvdk)**2 + s*s*t*imp*(d2vdk2 - d1 * math.sqrt(t) * dvdk * dvdk)\n",
    "        localvar = min(max(numerator / denominator, 1e-8), 1.0)\n",
    "        if numerator < 0: # floor local volatility\n",
    "            localvar = 1e-8\n",
    "        if denominator < 0: # cap local volatility\n",
    "            localvar = 1.0\n",
    "        return math.sqrt(localvar)"
   ]
  },
  {
   "cell_type": "code",
   "execution_count": 7,
   "id": "2c7969fd-47f3-45e7-b7e2-b6e4ba607fd0",
   "metadata": {},
   "outputs": [],
   "source": [
    "def pdePricerX(S0, r, q, lv, NX, NT, w, trade):\n",
    "    # set up pde grid\n",
    "    mu = r - q\n",
    "    T = trade.expiry\n",
    "    X0 = math.log(S0)\n",
    "    vol0 = lv.LV(0, S0)\n",
    "    srange = 5 * vol0 * math.sqrt(T)\n",
    "    maxX = X0 + (mu - vol0 * vol0 * 0.5)*T + srange\n",
    "    minX = X0 - (mu - vol0 * vol0 * 0.5)*T - srange\n",
    "    dt = T / (NT-1)\n",
    "    dx = (maxX - minX) / (NX-1)\n",
    "    # set up spot grid\n",
    "    xGrid = np.array([minX + i*dx for i in range(NX)])\n",
    "    # initialize the payoff\n",
    "    ps = np.array([trade.payoff(math.exp(x)) for x in xGrid])\n",
    "    # backward induction\n",
    "    for j in range(1, NT):\n",
    "        # set up the matrix, for LV we need to update it for each iteration\n",
    "        M = np.zeros((NX, NX))\n",
    "        D = np.zeros((NX, NX))\n",
    "        for i in range(1, NX - 1):\n",
    "            vol = lv.LV(j*dt, math.exp(xGrid[i]))\n",
    "            M[i, i - 1] = (mu - vol * vol / 2.0) / 2.0 / dx - vol * vol / 2 / dx / dx\n",
    "            M[i, i] = r + vol * vol / dx / dx\n",
    "            M[i, i + 1] = -(mu - vol * vol / 2.0) / 2.0 / dx - vol * vol / 2 / dx / dx\n",
    "            D[i, i] = 1.0\n",
    "        # the first row and last row depends on the boundary condition\n",
    "        M[0, 0], M[NX - 1, NX - 1] = 1.0, 1.0\n",
    "        rhsM = (D - dt * M) * w + (1 - w) * np.identity(NX)\n",
    "        lhsM = w * np.identity(NX) + (D + dt * M) * (1 - w)\n",
    "        inv = np.linalg.inv(lhsM)\n",
    "\n",
    "        ps = rhsM.dot(ps)\n",
    "        ps[0] = dt*math.exp(-r*j*dt) * trade.payoff(math.exp(xGrid[0])) # discounted payoff\n",
    "        ps[NX-1] = dt*math.exp(-r*j*dt) * trade.payoff(math.exp(xGrid[NX-1]))\n",
    "        ps = inv.dot(ps)\n",
    "    # linear interpolate the price at S0\n",
    "    return np.interp(X0, xGrid, ps)"
   ]
  },
  {
   "cell_type": "code",
   "execution_count": 8,
   "id": "7545fb1b-c85f-48e6-abbd-adf9fa0283b1",
   "metadata": {},
   "outputs": [],
   "source": [
    "def pdeCalibReport(S0, r, impliedVol):\n",
    "    ts = [0.02, 0.04, 0.06, 1/12.0, 1/6.0, 1/4.0, 1/2.0, 1, 2, 5]\n",
    "    ds = np.arange(0.9, 0., -0.1)\n",
    "    # ds = np.arange(0.5, 1.7, 0.1)\n",
    "    err = np.zeros((len(ds), len(ts)))\n",
    "    fig, ax = plt.subplots()\n",
    "\n",
    "    ax.set_xticks(np.arange(len(ts)))\n",
    "    ax.set_yticks(np.arange(len(ds)))\n",
    "    ax.set_xticklabels(map(lambda t : round(t, 2), ts))\n",
    "    ax.set_yticklabels(map(lambda d : round(d, 1), ds))\n",
    "\n",
    "    # create local vol surface\n",
    "    lv = LocalVol(impliedVol, S0, r, 0.0)\n",
    "    # Loop over data dimensions and create text annotations.\n",
    "    for i in range(len(ds)):\n",
    "        for j in range(len(ts)):\n",
    "            T = ts[j]\n",
    "            K = strikeFromDelta(S0, r, 0, T, iv.Vol(T, S0*math.exp(r*T)), ds[i], PayoffType.Put)\n",
    "            payoff = PayoffType.Put\n",
    "            trade = EuropeanOption(T, K, payoff)\n",
    "            vol = impliedVol.Vol(ts[j], K)\n",
    "            bs = bsPrice(S0, r, vol, T, K, payoff)\n",
    "            # print(\"bsPrice = \", bs)\n",
    "            pde = pdePricerX(S0, r, 0.0, lv, max(50, int(50 * T)), max(50, int(50 * T)), 0.5, trade)\n",
    "            # pde = pdePricer(S0, r, 0.0, 0.15, max(50, int(30 * T)), max(50, int(30 * T)), 0.5, trade)\n",
    "            # print(\"pdePrice = \", pde)\n",
    "            # normalize error in 1 basis point per 1 unit of stock\n",
    "            err[i, j] = math.fabs(bs - pde)/S0 * 10000\n",
    "            ax.text(j, i, round(err[i, j], 1), ha=\"center\", va=\"center\", color=\"w\")\n",
    "    im = ax.imshow(err)\n",
    "    ax.set_title(\"Dupire Calibration PV Error Matrix\")\n",
    "    fig.tight_layout()\n",
    "    plt.show()"
   ]
  },
  {
   "cell_type": "code",
   "execution_count": 9,
   "id": "51bd3717-fcd5-4588-bca7-5fff34da9ef9",
   "metadata": {},
   "outputs": [
    {
     "ename": "NameError",
     "evalue": "name 'createTestImpliedVol' is not defined",
     "output_type": "error",
     "traceback": [
      "\u001b[1;31m---------------------------------------------------------------------------\u001b[0m",
      "\u001b[1;31mNameError\u001b[0m                                 Traceback (most recent call last)",
      "Cell \u001b[1;32mIn[9], line 3\u001b[0m\n\u001b[0;32m      1\u001b[0m \u001b[38;5;28;01mif\u001b[39;00m \u001b[38;5;18m__name__\u001b[39m \u001b[38;5;241m==\u001b[39m \u001b[38;5;124m\"\u001b[39m\u001b[38;5;124m__main__\u001b[39m\u001b[38;5;124m\"\u001b[39m:\n\u001b[0;32m      2\u001b[0m     S, r, q \u001b[38;5;241m=\u001b[39m \u001b[38;5;241m1.25805\u001b[39m, \u001b[38;5;241m0.01\u001b[39m, \u001b[38;5;241m0.0\u001b[39m\n\u001b[1;32m----> 3\u001b[0m     iv \u001b[38;5;241m=\u001b[39m \u001b[43mcreateTestImpliedVol\u001b[49m(S, r, q, \u001b[38;5;241m1.0\u001b[39m)\n\u001b[0;32m      4\u001b[0m     pdeCalibReport(S, r, iv)\n",
      "\u001b[1;31mNameError\u001b[0m: name 'createTestImpliedVol' is not defined"
     ]
    }
   ],
   "source": [
    "if __name__ == \"__main__\":\n",
    "    S, r, q = 1.25805, 0.01, 0.0\n",
    "    iv = createTestImpliedVol(S, r, q, 1.0)\n",
    "    pdeCalibReport(S, r, iv)"
   ]
  }
 ],
 "metadata": {
  "kernelspec": {
   "display_name": "Python 3 (ipykernel)",
   "language": "python",
   "name": "python3"
  },
  "language_info": {
   "codemirror_mode": {
    "name": "ipython",
    "version": 3
   },
   "file_extension": ".py",
   "mimetype": "text/x-python",
   "name": "python",
   "nbconvert_exporter": "python",
   "pygments_lexer": "ipython3",
   "version": "3.12.0"
  }
 },
 "nbformat": 4,
 "nbformat_minor": 5
}
