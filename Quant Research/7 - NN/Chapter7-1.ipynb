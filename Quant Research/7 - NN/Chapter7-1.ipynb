{
 "cells": [
  {
   "cell_type": "code",
   "execution_count": 1,
   "id": "617ee135",
   "metadata": {},
   "outputs": [],
   "source": [
    "#Importing necessary Libraries\n",
    "import numpy as np\n",
    "import pandas as pd\n",
    "import tensorflow as tf"
   ]
  },
  {
   "cell_type": "code",
   "execution_count": 2,
   "id": "6c6deff4",
   "metadata": {},
   "outputs": [],
   "source": [
    "#Loading Dataset\n",
    "data = pd.read_csv(\"Churn_Modelling.csv\")"
   ]
  },
  {
   "cell_type": "code",
   "execution_count": 3,
   "id": "a80540e6",
   "metadata": {},
   "outputs": [
    {
     "data": {
      "text/html": [
       "<div>\n",
       "<style scoped>\n",
       "    .dataframe tbody tr th:only-of-type {\n",
       "        vertical-align: middle;\n",
       "    }\n",
       "\n",
       "    .dataframe tbody tr th {\n",
       "        vertical-align: top;\n",
       "    }\n",
       "\n",
       "    .dataframe thead th {\n",
       "        text-align: right;\n",
       "    }\n",
       "</style>\n",
       "<table border=\"1\" class=\"dataframe\">\n",
       "  <thead>\n",
       "    <tr style=\"text-align: right;\">\n",
       "      <th></th>\n",
       "      <th>CreditScore</th>\n",
       "      <th>Geography</th>\n",
       "      <th>Gender</th>\n",
       "      <th>Age</th>\n",
       "      <th>Tenure</th>\n",
       "      <th>Balance</th>\n",
       "      <th>NumOfProducts</th>\n",
       "      <th>HasCrCard</th>\n",
       "      <th>IsActiveMember</th>\n",
       "      <th>EstimatedSalary</th>\n",
       "    </tr>\n",
       "  </thead>\n",
       "  <tbody>\n",
       "    <tr>\n",
       "      <th>0</th>\n",
       "      <td>619</td>\n",
       "      <td>France</td>\n",
       "      <td>Female</td>\n",
       "      <td>42</td>\n",
       "      <td>2</td>\n",
       "      <td>0.00</td>\n",
       "      <td>1</td>\n",
       "      <td>1</td>\n",
       "      <td>1</td>\n",
       "      <td>101348.88</td>\n",
       "    </tr>\n",
       "    <tr>\n",
       "      <th>1</th>\n",
       "      <td>608</td>\n",
       "      <td>Spain</td>\n",
       "      <td>Female</td>\n",
       "      <td>41</td>\n",
       "      <td>1</td>\n",
       "      <td>83807.86</td>\n",
       "      <td>1</td>\n",
       "      <td>0</td>\n",
       "      <td>1</td>\n",
       "      <td>112542.58</td>\n",
       "    </tr>\n",
       "    <tr>\n",
       "      <th>2</th>\n",
       "      <td>502</td>\n",
       "      <td>France</td>\n",
       "      <td>Female</td>\n",
       "      <td>42</td>\n",
       "      <td>8</td>\n",
       "      <td>159660.80</td>\n",
       "      <td>3</td>\n",
       "      <td>1</td>\n",
       "      <td>0</td>\n",
       "      <td>113931.57</td>\n",
       "    </tr>\n",
       "    <tr>\n",
       "      <th>3</th>\n",
       "      <td>699</td>\n",
       "      <td>France</td>\n",
       "      <td>Female</td>\n",
       "      <td>39</td>\n",
       "      <td>1</td>\n",
       "      <td>0.00</td>\n",
       "      <td>2</td>\n",
       "      <td>0</td>\n",
       "      <td>0</td>\n",
       "      <td>93826.63</td>\n",
       "    </tr>\n",
       "    <tr>\n",
       "      <th>4</th>\n",
       "      <td>850</td>\n",
       "      <td>Spain</td>\n",
       "      <td>Female</td>\n",
       "      <td>43</td>\n",
       "      <td>2</td>\n",
       "      <td>125510.82</td>\n",
       "      <td>1</td>\n",
       "      <td>1</td>\n",
       "      <td>1</td>\n",
       "      <td>79084.10</td>\n",
       "    </tr>\n",
       "  </tbody>\n",
       "</table>\n",
       "</div>"
      ],
      "text/plain": [
       "   CreditScore Geography  Gender  Age  Tenure    Balance  NumOfProducts  \\\n",
       "0          619    France  Female   42       2       0.00              1   \n",
       "1          608     Spain  Female   41       1   83807.86              1   \n",
       "2          502    France  Female   42       8  159660.80              3   \n",
       "3          699    France  Female   39       1       0.00              2   \n",
       "4          850     Spain  Female   43       2  125510.82              1   \n",
       "\n",
       "   HasCrCard  IsActiveMember  EstimatedSalary  \n",
       "0          1               1        101348.88  \n",
       "1          0               1        112542.58  \n",
       "2          1               0        113931.57  \n",
       "3          0               0         93826.63  \n",
       "4          1               1         79084.10  "
      ]
     },
     "execution_count": 3,
     "metadata": {},
     "output_type": "execute_result"
    }
   ],
   "source": [
    "#Generating Dependent Variable Vectors\n",
    "Y = data.iloc[:,-1].values\n",
    "X = data.iloc[:,3:13]\n",
    "X.head()"
   ]
  },
  {
   "cell_type": "code",
   "execution_count": 4,
   "id": "a98c381c",
   "metadata": {},
   "outputs": [
    {
     "name": "stdout",
     "output_type": "stream",
     "text": [
      "0       0\n",
      "1       0\n",
      "2       0\n",
      "3       0\n",
      "4       0\n",
      "       ..\n",
      "9995    1\n",
      "9996    1\n",
      "9997    0\n",
      "9998    1\n",
      "9999    0\n",
      "Name: Gender, Length: 10000, dtype: int64\n"
     ]
    }
   ],
   "source": [
    "#Generating Dependent Variable Vectors\n",
    "Y = data.iloc[:,-1].values\n",
    "X = data.iloc[:,3:13]\n",
    "X['Gender']=X['Gender'].map({'Female':0,'Male':1})\n",
    "### above is used instead of a more complicated package involving -- from sklearn.preprocessing import LabelEncoder\n",
    "### converts Female -- 0, Male -- 1, i.e. hot-encoding categorical variables\n",
    "print (X['Gender'])"
   ]
  },
  {
   "cell_type": "code",
   "execution_count": 5,
   "id": "2e436f57",
   "metadata": {},
   "outputs": [],
   "source": [
    "#Encoding Categorical variable Geography\n",
    "from sklearn.compose import ColumnTransformer\n",
    "from sklearn.preprocessing import OneHotEncoder\n",
    "ct =ColumnTransformer(transformers=[('encoder',OneHotEncoder(),[1])],remainder=\"passthrough\")\n",
    "X = np.array(ct.fit_transform(X))\n",
    "### Geography is transformed into France -- 1,0,0; Spain -- 0,0,1; Germany -- 0,1,0.\n",
    "### Moreover -- this encoded vector of ones-zeros is now put in first 3 cols. Credit Score pushed to 4th col."
   ]
  },
  {
   "cell_type": "code",
   "execution_count": 6,
   "id": "3166a509",
   "metadata": {},
   "outputs": [
    {
     "data": {
      "text/html": [
       "<div>\n",
       "<style scoped>\n",
       "    .dataframe tbody tr th:only-of-type {\n",
       "        vertical-align: middle;\n",
       "    }\n",
       "\n",
       "    .dataframe tbody tr th {\n",
       "        vertical-align: top;\n",
       "    }\n",
       "\n",
       "    .dataframe thead th {\n",
       "        text-align: right;\n",
       "    }\n",
       "</style>\n",
       "<table border=\"1\" class=\"dataframe\">\n",
       "  <thead>\n",
       "    <tr style=\"text-align: right;\">\n",
       "      <th></th>\n",
       "      <th>0</th>\n",
       "      <th>1</th>\n",
       "      <th>2</th>\n",
       "      <th>3</th>\n",
       "      <th>4</th>\n",
       "      <th>5</th>\n",
       "      <th>6</th>\n",
       "      <th>7</th>\n",
       "      <th>8</th>\n",
       "      <th>9</th>\n",
       "      <th>10</th>\n",
       "      <th>11</th>\n",
       "    </tr>\n",
       "  </thead>\n",
       "  <tbody>\n",
       "    <tr>\n",
       "      <th>0</th>\n",
       "      <td>1.0</td>\n",
       "      <td>0.0</td>\n",
       "      <td>0.0</td>\n",
       "      <td>619.0</td>\n",
       "      <td>0.0</td>\n",
       "      <td>42.0</td>\n",
       "      <td>2.0</td>\n",
       "      <td>0.00</td>\n",
       "      <td>1.0</td>\n",
       "      <td>1.0</td>\n",
       "      <td>1.0</td>\n",
       "      <td>101348.88</td>\n",
       "    </tr>\n",
       "    <tr>\n",
       "      <th>1</th>\n",
       "      <td>0.0</td>\n",
       "      <td>0.0</td>\n",
       "      <td>1.0</td>\n",
       "      <td>608.0</td>\n",
       "      <td>0.0</td>\n",
       "      <td>41.0</td>\n",
       "      <td>1.0</td>\n",
       "      <td>83807.86</td>\n",
       "      <td>1.0</td>\n",
       "      <td>0.0</td>\n",
       "      <td>1.0</td>\n",
       "      <td>112542.58</td>\n",
       "    </tr>\n",
       "    <tr>\n",
       "      <th>2</th>\n",
       "      <td>1.0</td>\n",
       "      <td>0.0</td>\n",
       "      <td>0.0</td>\n",
       "      <td>502.0</td>\n",
       "      <td>0.0</td>\n",
       "      <td>42.0</td>\n",
       "      <td>8.0</td>\n",
       "      <td>159660.80</td>\n",
       "      <td>3.0</td>\n",
       "      <td>1.0</td>\n",
       "      <td>0.0</td>\n",
       "      <td>113931.57</td>\n",
       "    </tr>\n",
       "    <tr>\n",
       "      <th>3</th>\n",
       "      <td>1.0</td>\n",
       "      <td>0.0</td>\n",
       "      <td>0.0</td>\n",
       "      <td>699.0</td>\n",
       "      <td>0.0</td>\n",
       "      <td>39.0</td>\n",
       "      <td>1.0</td>\n",
       "      <td>0.00</td>\n",
       "      <td>2.0</td>\n",
       "      <td>0.0</td>\n",
       "      <td>0.0</td>\n",
       "      <td>93826.63</td>\n",
       "    </tr>\n",
       "    <tr>\n",
       "      <th>4</th>\n",
       "      <td>0.0</td>\n",
       "      <td>0.0</td>\n",
       "      <td>1.0</td>\n",
       "      <td>850.0</td>\n",
       "      <td>0.0</td>\n",
       "      <td>43.0</td>\n",
       "      <td>2.0</td>\n",
       "      <td>125510.82</td>\n",
       "      <td>1.0</td>\n",
       "      <td>1.0</td>\n",
       "      <td>1.0</td>\n",
       "      <td>79084.10</td>\n",
       "    </tr>\n",
       "  </tbody>\n",
       "</table>\n",
       "</div>"
      ],
      "text/plain": [
       "    0    1    2      3    4     5    6          7    8    9    10         11\n",
       "0  1.0  0.0  0.0  619.0  0.0  42.0  2.0       0.00  1.0  1.0  1.0  101348.88\n",
       "1  0.0  0.0  1.0  608.0  0.0  41.0  1.0   83807.86  1.0  0.0  1.0  112542.58\n",
       "2  1.0  0.0  0.0  502.0  0.0  42.0  8.0  159660.80  3.0  1.0  0.0  113931.57\n",
       "3  1.0  0.0  0.0  699.0  0.0  39.0  1.0       0.00  2.0  0.0  0.0   93826.63\n",
       "4  0.0  0.0  1.0  850.0  0.0  43.0  2.0  125510.82  1.0  1.0  1.0   79084.10"
      ]
     },
     "execution_count": 6,
     "metadata": {},
     "output_type": "execute_result"
    }
   ],
   "source": [
    "### convert X to dataframe X1\n",
    "X1 = pd.DataFrame(X)\n",
    "X1.head()\n",
    "### Note there are 12 features including onehotencoder for the Geography feature-- \n",
    "### The features are encoded using a one-hot (aka ‘one-of-K’ or ‘dummy’) encoding scheme"
   ]
  },
  {
   "cell_type": "code",
   "execution_count": 7,
   "id": "3ef915ac",
   "metadata": {},
   "outputs": [],
   "source": [
    "#Splitting dataset into training and testing dataset\n",
    "from sklearn.model_selection import train_test_split\n",
    "X_train,X_test,Y_train,Y_test = train_test_split(X,Y,test_size=0.2,random_state=1)"
   ]
  },
  {
   "cell_type": "code",
   "execution_count": 8,
   "id": "740ede9b",
   "metadata": {},
   "outputs": [],
   "source": [
    "#Performing Feature Scaling\n",
    "from sklearn.preprocessing import StandardScaler\n",
    "sc = StandardScaler()\n",
    "X_train = sc.fit_transform(X_train)\n",
    "X_test = sc.transform(X_test)"
   ]
  },
  {
   "cell_type": "markdown",
   "id": "9850b84b",
   "metadata": {},
   "source": [
    "We call fit_transform() method on our training data and transform() method on our test data. Each feature in the training\n",
    "set is scaled to mean 0, variance 1. In sklearn.preprocessing.StandardScaler(), centering and scaling happens independently on each feature. The fit method is calculating the mean and variance of each of the features present in the data. The transform method is transforming all the features using the respective feature's mean and variance that are calculated in the statement\n",
    "before on X_train."
   ]
  },
  {
   "cell_type": "code",
   "execution_count": 9,
   "id": "f43f1db5",
   "metadata": {},
   "outputs": [],
   "source": [
    "### This is the very first step while creating NNmodel -- you can rename this model. Here we are going to create NNmodel object \n",
    "### by using a certain class of Keras named Sequential. As a part of tensorflow 2.0, Keras is now integrated with \n",
    "### tensorflow and is now considered as a sub-library of tensorflow. The Sequential class is a part of the models module \n",
    "### of Keras library which is a part of the tensorflow library now. \n",
    "### It used to be \"import tensorflow as tf; from tensorflow import keras; from tensorflow.keras import layers\"\n",
    "### See documentation at https://keras.io/guides/sequential_model/\n",
    "\n",
    "#Initialising the NN model name -- NNmodel\n",
    "NNmodel = tf.keras.models.Sequential()\n",
    "### Sequential specifies to keras that the model NNmodel is created sequentially and the output of each layer added \n",
    "### is input to the next specified layer. Note that keras Sequential is not appropriate when the model has multiple outputs"
   ]
  },
  {
   "cell_type": "code",
   "execution_count": 10,
   "id": "34730cae",
   "metadata": {},
   "outputs": [],
   "source": [
    "### Creating a network that has 1 hidden layer together with 1 input layer and 1 output layer. \n",
    "#Adding First Hidden Layer\n",
    "NNmodel.add(tf.keras.layers.Dense(units=2,activation=\"sigmoid\"))\n",
    "### units = 2 refer to 2 neurons in hidden layer \n",
    "### modelname.add is used to add a layer to the neural network -- need to specify as an argument what type of layer --\n",
    "### Dense is used to specify the fully connected layer - i.e. all neurons are forward connect to all forward layer nodes"
   ]
  },
  {
   "cell_type": "markdown",
   "id": "ab12edcf",
   "metadata": {},
   "source": [
    "Above -- first hidden layer is created using the Dense class which is part of the layers module. This class accepts 2 inputs:-\n",
    "(1) units:- number of neurons that will be present in the respective layer (2) activation:- specify which activation function to be used. This example uses first input as 2. There is no correct answer which is the right number of neurons in the layer -- trial and error. Not too large to be computationally impractical or redundant; not too small to be ineffective.\n",
    "For the second input, we try the sigmoid or logistic function as an activation function for hidden layers. We can also try “relu”[rectified linear unit]."
   ]
  },
  {
   "cell_type": "code",
   "execution_count": 11,
   "id": "303997d6",
   "metadata": {},
   "outputs": [],
   "source": [
    "### now we create the output layer\n",
    "#Adding Output Layer\n",
    "NNmodel.add(tf.keras.layers.Dense(units=1,activation=\"sigmoid\"))\n",
    "### Only 1 output neuron"
   ]
  },
  {
   "cell_type": "markdown",
   "id": "a1b4a623",
   "metadata": {},
   "source": [
    "For a binary classification problem as above, actual case output is 1 or 0. Hence we require only one neuron to output layer - output could be estimated probability of case actual output = 1. For multiclass classification problem, if the output contains m categories then we need to create m different neurons, one for each category. In the binary output case, the suitable activation function is the sigmoid function. For multiclass classification problem, the activation function is typically softmax. The softmax function predicts a multinomial probability distribution."
   ]
  },
  {
   "cell_type": "code",
   "execution_count": 12,
   "id": "70baaa68",
   "metadata": {},
   "outputs": [],
   "source": [
    "### After creating the layers -- require compiling the NNmodel. Compiling allows the computer to run and understand the program \n",
    "### without the need of more fundamental steps in the programming. Compiling adds other elements or linking other libraries, and optimization,\n",
    "### such that after compiling the results are readily computed e.g. in a binary executable program as an output. \n",
    "#Compiling NNmodel\n",
    "NNmodel.compile(optimizer=\"adam\",loss=\"binary_crossentropy\",metrics=['accuracy'])\n",
    "### Note optimizer here is a more sophisticated version of the Mean Square loss"
   ]
  },
  {
   "cell_type": "markdown",
   "id": "b6f9d245",
   "metadata": {},
   "source": [
    "Compile method above accepts inputs: (1) optimizer:- specifies which optimizer to be used in order to perform stochastic gradient descent (2) error/loss function, e.g., 'binary_crossentropy' here. For multiclass classification, it should be categorical_crossentropy, (3) metrics - the performance metrics to use in order to compute performance. 'accuracy' is one such  performance metric."
   ]
  },
  {
   "cell_type": "code",
   "execution_count": 13,
   "id": "51697cc6",
   "metadata": {},
   "outputs": [
    {
     "data": {
      "text/plain": [
       "(8000, 12)"
      ]
     },
     "execution_count": 13,
     "metadata": {},
     "output_type": "execute_result"
    }
   ],
   "source": [
    "X_train.shape"
   ]
  },
  {
   "cell_type": "code",
   "execution_count": 14,
   "id": "36a93b23",
   "metadata": {},
   "outputs": [
    {
     "name": "stdout",
     "output_type": "stream",
     "text": [
      "Epoch 1/100\n",
      "1/1 [==============================] - 1s 959ms/step - loss: 1.1152 - accuracy: 0.2027\n",
      "Epoch 2/100\n",
      "1/1 [==============================] - 0s 10ms/step - loss: 1.1138 - accuracy: 0.2027\n",
      "Epoch 3/100\n",
      "1/1 [==============================] - 0s 7ms/step - loss: 1.1124 - accuracy: 0.2027\n",
      "Epoch 4/100\n",
      "1/1 [==============================] - 0s 8ms/step - loss: 1.1109 - accuracy: 0.2027\n",
      "Epoch 5/100\n",
      "1/1 [==============================] - 0s 9ms/step - loss: 1.1095 - accuracy: 0.2027\n",
      "Epoch 6/100\n",
      "1/1 [==============================] - 0s 8ms/step - loss: 1.1081 - accuracy: 0.2027\n",
      "Epoch 7/100\n",
      "1/1 [==============================] - 0s 9ms/step - loss: 1.1066 - accuracy: 0.2027\n",
      "Epoch 8/100\n",
      "1/1 [==============================] - 0s 9ms/step - loss: 1.1052 - accuracy: 0.2027\n",
      "Epoch 9/100\n",
      "1/1 [==============================] - 0s 8ms/step - loss: 1.1038 - accuracy: 0.2027\n",
      "Epoch 10/100\n",
      "1/1 [==============================] - 0s 8ms/step - loss: 1.1024 - accuracy: 0.2027\n",
      "Epoch 11/100\n",
      "1/1 [==============================] - 0s 8ms/step - loss: 1.1010 - accuracy: 0.2027\n",
      "Epoch 12/100\n",
      "1/1 [==============================] - 0s 7ms/step - loss: 1.0995 - accuracy: 0.2027\n",
      "Epoch 13/100\n",
      "1/1 [==============================] - 0s 8ms/step - loss: 1.0981 - accuracy: 0.2027\n",
      "Epoch 14/100\n",
      "1/1 [==============================] - 0s 8ms/step - loss: 1.0967 - accuracy: 0.2027\n",
      "Epoch 15/100\n",
      "1/1 [==============================] - 0s 8ms/step - loss: 1.0953 - accuracy: 0.2027\n",
      "Epoch 16/100\n",
      "1/1 [==============================] - 0s 9ms/step - loss: 1.0939 - accuracy: 0.2027\n",
      "Epoch 17/100\n",
      "1/1 [==============================] - 0s 8ms/step - loss: 1.0925 - accuracy: 0.2027\n",
      "Epoch 18/100\n",
      "1/1 [==============================] - 0s 8ms/step - loss: 1.0911 - accuracy: 0.2027\n",
      "Epoch 19/100\n",
      "1/1 [==============================] - 0s 10ms/step - loss: 1.0897 - accuracy: 0.2027\n",
      "Epoch 20/100\n",
      "1/1 [==============================] - 0s 9ms/step - loss: 1.0883 - accuracy: 0.2027\n",
      "Epoch 21/100\n",
      "1/1 [==============================] - 0s 7ms/step - loss: 1.0869 - accuracy: 0.2027\n",
      "Epoch 22/100\n",
      "1/1 [==============================] - 0s 7ms/step - loss: 1.0855 - accuracy: 0.2027\n",
      "Epoch 23/100\n",
      "1/1 [==============================] - 0s 7ms/step - loss: 1.0841 - accuracy: 0.2027\n",
      "Epoch 24/100\n",
      "1/1 [==============================] - 0s 9ms/step - loss: 1.0827 - accuracy: 0.2027\n",
      "Epoch 25/100\n",
      "1/1 [==============================] - 0s 7ms/step - loss: 1.0813 - accuracy: 0.2027\n",
      "Epoch 26/100\n",
      "1/1 [==============================] - 0s 9ms/step - loss: 1.0799 - accuracy: 0.2027\n",
      "Epoch 27/100\n",
      "1/1 [==============================] - 0s 8ms/step - loss: 1.0786 - accuracy: 0.2027\n",
      "Epoch 28/100\n",
      "1/1 [==============================] - 0s 8ms/step - loss: 1.0772 - accuracy: 0.2027\n",
      "Epoch 29/100\n",
      "1/1 [==============================] - 0s 6ms/step - loss: 1.0758 - accuracy: 0.2027\n",
      "Epoch 30/100\n",
      "1/1 [==============================] - 0s 8ms/step - loss: 1.0744 - accuracy: 0.2027\n",
      "Epoch 31/100\n",
      "1/1 [==============================] - 0s 9ms/step - loss: 1.0731 - accuracy: 0.2027\n",
      "Epoch 32/100\n",
      "1/1 [==============================] - 0s 8ms/step - loss: 1.0717 - accuracy: 0.2027\n",
      "Epoch 33/100\n",
      "1/1 [==============================] - 0s 8ms/step - loss: 1.0703 - accuracy: 0.2027\n",
      "Epoch 34/100\n",
      "1/1 [==============================] - 0s 8ms/step - loss: 1.0690 - accuracy: 0.2027\n",
      "Epoch 35/100\n",
      "1/1 [==============================] - 0s 8ms/step - loss: 1.0676 - accuracy: 0.2027\n",
      "Epoch 36/100\n",
      "1/1 [==============================] - 0s 7ms/step - loss: 1.0663 - accuracy: 0.2027\n",
      "Epoch 37/100\n",
      "1/1 [==============================] - 0s 7ms/step - loss: 1.0649 - accuracy: 0.2027\n",
      "Epoch 38/100\n",
      "1/1 [==============================] - 0s 8ms/step - loss: 1.0636 - accuracy: 0.2027\n",
      "Epoch 39/100\n",
      "1/1 [==============================] - 0s 6ms/step - loss: 1.0622 - accuracy: 0.2027\n",
      "Epoch 40/100\n",
      "1/1 [==============================] - 0s 7ms/step - loss: 1.0609 - accuracy: 0.2027\n",
      "Epoch 41/100\n",
      "1/1 [==============================] - 0s 8ms/step - loss: 1.0595 - accuracy: 0.2027\n",
      "Epoch 42/100\n",
      "1/1 [==============================] - 0s 8ms/step - loss: 1.0582 - accuracy: 0.2027\n",
      "Epoch 43/100\n",
      "1/1 [==============================] - 0s 9ms/step - loss: 1.0568 - accuracy: 0.2027\n",
      "Epoch 44/100\n",
      "1/1 [==============================] - 0s 7ms/step - loss: 1.0555 - accuracy: 0.2027\n",
      "Epoch 45/100\n",
      "1/1 [==============================] - 0s 7ms/step - loss: 1.0542 - accuracy: 0.2027\n",
      "Epoch 46/100\n",
      "1/1 [==============================] - 0s 8ms/step - loss: 1.0528 - accuracy: 0.2027\n",
      "Epoch 47/100\n",
      "1/1 [==============================] - 0s 8ms/step - loss: 1.0515 - accuracy: 0.2027\n",
      "Epoch 48/100\n",
      "1/1 [==============================] - 0s 8ms/step - loss: 1.0502 - accuracy: 0.2027\n",
      "Epoch 49/100\n",
      "1/1 [==============================] - 0s 14ms/step - loss: 1.0489 - accuracy: 0.2027\n",
      "Epoch 50/100\n",
      "1/1 [==============================] - 0s 7ms/step - loss: 1.0475 - accuracy: 0.2027\n",
      "Epoch 51/100\n",
      "1/1 [==============================] - 0s 7ms/step - loss: 1.0462 - accuracy: 0.2027\n",
      "Epoch 52/100\n",
      "1/1 [==============================] - 0s 9ms/step - loss: 1.0449 - accuracy: 0.2027\n",
      "Epoch 53/100\n",
      "1/1 [==============================] - 0s 9ms/step - loss: 1.0436 - accuracy: 0.2027\n",
      "Epoch 54/100\n",
      "1/1 [==============================] - 0s 8ms/step - loss: 1.0423 - accuracy: 0.2027\n",
      "Epoch 55/100\n",
      "1/1 [==============================] - 0s 8ms/step - loss: 1.0410 - accuracy: 0.2027\n",
      "Epoch 56/100\n",
      "1/1 [==============================] - 0s 7ms/step - loss: 1.0397 - accuracy: 0.2027\n",
      "Epoch 57/100\n",
      "1/1 [==============================] - 0s 8ms/step - loss: 1.0384 - accuracy: 0.2027\n",
      "Epoch 58/100\n",
      "1/1 [==============================] - 0s 9ms/step - loss: 1.0371 - accuracy: 0.2027\n",
      "Epoch 59/100\n",
      "1/1 [==============================] - 0s 9ms/step - loss: 1.0358 - accuracy: 0.2027\n",
      "Epoch 60/100\n",
      "1/1 [==============================] - 0s 9ms/step - loss: 1.0345 - accuracy: 0.2027\n",
      "Epoch 61/100\n",
      "1/1 [==============================] - 0s 8ms/step - loss: 1.0332 - accuracy: 0.2027\n",
      "Epoch 62/100\n",
      "1/1 [==============================] - 0s 7ms/step - loss: 1.0319 - accuracy: 0.2027\n",
      "Epoch 63/100\n",
      "1/1 [==============================] - 0s 8ms/step - loss: 1.0306 - accuracy: 0.2027\n",
      "Epoch 64/100\n",
      "1/1 [==============================] - 0s 8ms/step - loss: 1.0294 - accuracy: 0.2027\n",
      "Epoch 65/100\n",
      "1/1 [==============================] - 0s 9ms/step - loss: 1.0281 - accuracy: 0.2027\n",
      "Epoch 66/100\n",
      "1/1 [==============================] - 0s 7ms/step - loss: 1.0268 - accuracy: 0.2027\n",
      "Epoch 67/100\n",
      "1/1 [==============================] - 0s 9ms/step - loss: 1.0255 - accuracy: 0.2027\n",
      "Epoch 68/100\n",
      "1/1 [==============================] - 0s 8ms/step - loss: 1.0243 - accuracy: 0.2027\n",
      "Epoch 69/100\n",
      "1/1 [==============================] - 0s 10ms/step - loss: 1.0230 - accuracy: 0.2027\n",
      "Epoch 70/100\n",
      "1/1 [==============================] - 0s 7ms/step - loss: 1.0217 - accuracy: 0.2027\n",
      "Epoch 71/100\n",
      "1/1 [==============================] - 0s 7ms/step - loss: 1.0205 - accuracy: 0.2027\n",
      "Epoch 72/100\n",
      "1/1 [==============================] - 0s 8ms/step - loss: 1.0192 - accuracy: 0.2027\n",
      "Epoch 73/100\n",
      "1/1 [==============================] - 0s 8ms/step - loss: 1.0180 - accuracy: 0.2027\n",
      "Epoch 74/100\n",
      "1/1 [==============================] - 0s 7ms/step - loss: 1.0167 - accuracy: 0.2027\n",
      "Epoch 75/100\n",
      "1/1 [==============================] - 0s 9ms/step - loss: 1.0155 - accuracy: 0.2027\n",
      "Epoch 76/100\n",
      "1/1 [==============================] - 0s 7ms/step - loss: 1.0142 - accuracy: 0.2027\n",
      "Epoch 77/100\n",
      "1/1 [==============================] - 0s 8ms/step - loss: 1.0130 - accuracy: 0.2027\n",
      "Epoch 78/100\n",
      "1/1 [==============================] - 0s 9ms/step - loss: 1.0117 - accuracy: 0.2027\n",
      "Epoch 79/100\n",
      "1/1 [==============================] - 0s 8ms/step - loss: 1.0105 - accuracy: 0.2027\n",
      "Epoch 80/100\n",
      "1/1 [==============================] - 0s 10ms/step - loss: 1.0092 - accuracy: 0.2027\n",
      "Epoch 81/100\n",
      "1/1 [==============================] - 0s 9ms/step - loss: 1.0080 - accuracy: 0.2027\n",
      "Epoch 82/100\n",
      "1/1 [==============================] - 0s 8ms/step - loss: 1.0068 - accuracy: 0.2027\n",
      "Epoch 83/100\n",
      "1/1 [==============================] - 0s 6ms/step - loss: 1.0055 - accuracy: 0.2027\n",
      "Epoch 84/100\n"
     ]
    },
    {
     "name": "stdout",
     "output_type": "stream",
     "text": [
      "1/1 [==============================] - 0s 8ms/step - loss: 1.0043 - accuracy: 0.2027\n",
      "Epoch 85/100\n",
      "1/1 [==============================] - 0s 7ms/step - loss: 1.0031 - accuracy: 0.2027\n",
      "Epoch 86/100\n",
      "1/1 [==============================] - 0s 7ms/step - loss: 1.0019 - accuracy: 0.2027\n",
      "Epoch 87/100\n",
      "1/1 [==============================] - 0s 7ms/step - loss: 1.0007 - accuracy: 0.2027\n",
      "Epoch 88/100\n",
      "1/1 [==============================] - 0s 8ms/step - loss: 0.9994 - accuracy: 0.2027\n",
      "Epoch 89/100\n",
      "1/1 [==============================] - 0s 9ms/step - loss: 0.9982 - accuracy: 0.2027\n",
      "Epoch 90/100\n",
      "1/1 [==============================] - 0s 8ms/step - loss: 0.9970 - accuracy: 0.2027\n",
      "Epoch 91/100\n",
      "1/1 [==============================] - 0s 9ms/step - loss: 0.9958 - accuracy: 0.2027\n",
      "Epoch 92/100\n",
      "1/1 [==============================] - 0s 7ms/step - loss: 0.9946 - accuracy: 0.2027\n",
      "Epoch 93/100\n",
      "1/1 [==============================] - 0s 8ms/step - loss: 0.9934 - accuracy: 0.2027\n",
      "Epoch 94/100\n",
      "1/1 [==============================] - 0s 7ms/step - loss: 0.9922 - accuracy: 0.2027\n",
      "Epoch 95/100\n",
      "1/1 [==============================] - 0s 7ms/step - loss: 0.9910 - accuracy: 0.2027\n",
      "Epoch 96/100\n",
      "1/1 [==============================] - 0s 7ms/step - loss: 0.9898 - accuracy: 0.2027\n",
      "Epoch 97/100\n",
      "1/1 [==============================] - 0s 9ms/step - loss: 0.9886 - accuracy: 0.2027\n",
      "Epoch 98/100\n",
      "1/1 [==============================] - 0s 8ms/step - loss: 0.9874 - accuracy: 0.2027\n",
      "Epoch 99/100\n",
      "1/1 [==============================] - 0s 9ms/step - loss: 0.9863 - accuracy: 0.2027\n",
      "Epoch 100/100\n",
      "1/1 [==============================] - 0s 8ms/step - loss: 0.9851 - accuracy: 0.2027\n"
     ]
    }
   ],
   "source": [
    "#### Last step in creation of NNmodel NNmodel is trained on the training set here with Tensor-Keras .fit based on Compiler\n",
    "#Fitting NNmodel\n",
    "history=NNmodel.fit(X_train,Y_train,batch_size=8000,epochs = 100)\n",
    "### Note that tf.keras.models.Sequential() by default uses glorot initializer -- drawing intial weights from a uniform \n",
    "### distribution -- see other possibilities in https://keras.io/api/layers/initializers/\n",
    "### Or you could try own customized wts inputs using\n",
    "### for layer in model.layers:\n",
    "###    init_layer_weight = [] # the weights yourself in this layer\n",
    "###    layer.set_weights(init_layer_weight)"
   ]
  },
  {
   "cell_type": "code",
   "execution_count": 15,
   "id": "a9a74ac2",
   "metadata": {},
   "outputs": [
    {
     "name": "stdout",
     "output_type": "stream",
     "text": [
      "Model: \"sequential\"\n",
      "_________________________________________________________________\n",
      " Layer (type)                Output Shape              Param #   \n",
      "=================================================================\n",
      " dense (Dense)               (8000, 2)                 26        \n",
      "                                                                 \n",
      " dense_1 (Dense)             (8000, 1)                 3         \n",
      "                                                                 \n",
      "=================================================================\n",
      "Total params: 29 (116.00 Byte)\n",
      "Trainable params: 29 (116.00 Byte)\n",
      "Non-trainable params: 0 (0.00 Byte)\n",
      "_________________________________________________________________\n"
     ]
    }
   ],
   "source": [
    "NNmodel.summary()"
   ]
  },
  {
   "cell_type": "code",
   "execution_count": 16,
   "id": "3fbefe2f",
   "metadata": {},
   "outputs": [
    {
     "name": "stdout",
     "output_type": "stream",
     "text": [
      "[0.20274999737739563, 0.20274999737739563, 0.20274999737739563, 0.20274999737739563, 0.20274999737739563, 0.20274999737739563, 0.20274999737739563, 0.20274999737739563, 0.20274999737739563, 0.20274999737739563, 0.20274999737739563, 0.20274999737739563, 0.20274999737739563, 0.20274999737739563, 0.20274999737739563, 0.20274999737739563, 0.20274999737739563, 0.20274999737739563, 0.20274999737739563, 0.20274999737739563, 0.20274999737739563, 0.20274999737739563, 0.20274999737739563, 0.20274999737739563, 0.20274999737739563, 0.20274999737739563, 0.20274999737739563, 0.20274999737739563, 0.20274999737739563, 0.20274999737739563, 0.20274999737739563, 0.20274999737739563, 0.20274999737739563, 0.20274999737739563, 0.20274999737739563, 0.20274999737739563, 0.20274999737739563, 0.20274999737739563, 0.20274999737739563, 0.20274999737739563, 0.20274999737739563, 0.20274999737739563, 0.20274999737739563, 0.20274999737739563, 0.20274999737739563, 0.20274999737739563, 0.20274999737739563, 0.20274999737739563, 0.20274999737739563, 0.20274999737739563, 0.20274999737739563, 0.20274999737739563, 0.20274999737739563, 0.20274999737739563, 0.20274999737739563, 0.20274999737739563, 0.20274999737739563, 0.20274999737739563, 0.20274999737739563, 0.20274999737739563, 0.20274999737739563, 0.20274999737739563, 0.20274999737739563, 0.20274999737739563, 0.20274999737739563, 0.20274999737739563, 0.20274999737739563, 0.20274999737739563, 0.20274999737739563, 0.20274999737739563, 0.20274999737739563, 0.20274999737739563, 0.20274999737739563, 0.20274999737739563, 0.20274999737739563, 0.20274999737739563, 0.20274999737739563, 0.20274999737739563, 0.20274999737739563, 0.20274999737739563, 0.20274999737739563, 0.20274999737739563, 0.20274999737739563, 0.20274999737739563, 0.20274999737739563, 0.20274999737739563, 0.20274999737739563, 0.20274999737739563, 0.20274999737739563, 0.20274999737739563, 0.20274999737739563, 0.20274999737739563, 0.20274999737739563, 0.20274999737739563, 0.20274999737739563, 0.20274999737739563, 0.20274999737739563, 0.20274999737739563, 0.20274999737739563, 0.20274999737739563]\n",
      "[1.115227460861206, 1.1137909889221191, 1.112356424331665, 1.1109236478805542, 1.1094928979873657, 1.1080641746520996, 1.1066374778747559, 1.1052128076553345, 1.103790283203125, 1.1023696660995483, 1.1009511947631836, 1.0995348691940308, 1.0981208086013794, 1.09670889377594, 1.0952993631362915, 1.0938918590545654, 1.09248685836792, 1.0910840034484863, 1.0896837711334229, 1.0882856845855713, 1.0868899822235107, 1.0854967832565308, 1.084106206893921, 1.082717776298523, 1.081331729888916, 1.0799487829208374, 1.0785678625106812, 1.0771896839141846, 1.075814127922058, 1.0744409561157227, 1.0730705261230469, 1.0717023611068726, 1.0703372955322266, 1.0689747333526611, 1.0676145553588867, 1.066257357597351, 1.0649025440216064, 1.063550591468811, 1.0622013807296753, 1.0608547925949097, 1.0595109462738037, 1.0581697225570679, 1.0568312406539917, 1.0554955005645752, 1.0541623830795288, 1.0528321266174316, 1.0515046119689941, 1.0501797199249268, 1.0488576889038086, 1.047538161277771, 1.0462217330932617, 1.0449079275131226, 1.043596625328064, 1.0422884225845337, 1.040982961654663, 1.0396798849105835, 1.0383799076080322, 1.0370826721191406, 1.0357880592346191, 1.0344963073730469, 1.0332072973251343, 1.0319210290908813, 1.0306376218795776, 1.029356837272644, 1.0280790328979492, 1.026803731918335, 1.02553129196167, 1.024261474609375, 1.0229946374893188, 1.0217304229736328, 1.0204689502716064, 1.0192102193832397, 1.0179542303085327, 1.0167012214660645, 1.0154507160186768, 1.0142028331756592, 1.01295804977417, 1.0117156505584717, 1.0104762315750122, 1.0092394351959229, 1.0080053806304932, 1.0067739486694336, 1.0055453777313232, 1.004319429397583, 1.0030962228775024, 1.0018757581710815, 1.0006579160690308, 0.9994428753852844, 0.9982304573059082, 0.9970207810401917, 0.9958137273788452, 0.9946093559265137, 0.9934078454971313, 0.9922088384628296, 0.9910126328468323, 0.9898189902305603, 0.9886280298233032, 0.987439751625061, 0.9862541556358337, 0.9850713014602661]\n"
     ]
    },
    {
     "data": {
      "image/png": "[encoded data removed]",
      "text/plain": [
       "<Figure size 640x480 with 1 Axes>"
      ]
     },
     "metadata": {},
     "output_type": "display_data"
    }
   ],
   "source": [
    "import matplotlib.pyplot as plt\n",
    "print(history.history['accuracy'])\n",
    "print(history.history['loss'])\n",
    "plt.plot(history.history['accuracy'])\n",
    "plt.plot(history.history['loss'])\n",
    "plt.title('model accuracy')\n",
    "plt.ylabel('accuracy and loss')\n",
    "plt.xlabel('epoch')\n",
    "plt.legend(['accuracy', 'loss'], loc='upper left')\n",
    "plt.show()"
   ]
  },
  {
   "cell_type": "code",
   "execution_count": 17,
   "id": "7c57e988",
   "metadata": {},
   "outputs": [],
   "source": [
    "### Below are the weights in the final iteration\n",
    "first_layer_weights = NNmodel.layers[0].get_weights()[0]\n",
    "first_layer_biases  = NNmodel.layers[0].get_weights()[1]\n",
    "second_layer_weights = NNmodel.layers[1].get_weights()[0]\n",
    "second_layer_biases  = NNmodel.layers[1].get_weights()[1]"
   ]
  },
  {
   "cell_type": "code",
   "execution_count": 18,
   "id": "f0f6f156",
   "metadata": {},
   "outputs": [
    {
     "name": "stdout",
     "output_type": "stream",
     "text": [
      "[[-0.21837012 -0.4677299 ]\n",
      " [ 0.6600192  -0.2426484 ]\n",
      " [ 0.25108454  0.15153976]\n",
      " [ 0.36568922  0.02559458]\n",
      " [ 0.27104098 -0.20465617]\n",
      " [-0.25991213 -0.21701998]\n",
      " [-0.12435059 -0.10813962]\n",
      " [ 0.44225198  0.41201496]\n",
      " [ 0.3536183  -0.36125824]\n",
      " [-0.20706466  0.34287903]\n",
      " [ 0.18038306 -0.7181577 ]\n",
      " [-0.00633257  0.08825395]]\n"
     ]
    },
    {
     "data": {
      "text/plain": [
       "(12, 2)"
      ]
     },
     "execution_count": 18,
     "metadata": {},
     "output_type": "execute_result"
    }
   ],
   "source": [
    "print(first_layer_weights)\n",
    "first_layer_weights.shape"
   ]
  },
  {
   "cell_type": "code",
   "execution_count": 19,
   "id": "4f38be53",
   "metadata": {},
   "outputs": [
    {
     "name": "stdout",
     "output_type": "stream",
     "text": [
      "[-0.09703324 -0.09592821]\n"
     ]
    },
    {
     "data": {
      "text/plain": [
       "(2,)"
      ]
     },
     "execution_count": 19,
     "metadata": {},
     "output_type": "execute_result"
    }
   ],
   "source": [
    "print(first_layer_biases)\n",
    "first_layer_biases.shape  ### (2,) here basically means 2 elements in a 1-dim array. .T has no effect on 1d array"
   ]
  },
  {
   "cell_type": "code",
   "execution_count": 20,
   "id": "306e8073",
   "metadata": {},
   "outputs": [
    {
     "name": "stdout",
     "output_type": "stream",
     "text": [
      "[[1.2898492 ]\n",
      " [0.46677712]]\n"
     ]
    },
    {
     "data": {
      "text/plain": [
       "(2, 1)"
      ]
     },
     "execution_count": 20,
     "metadata": {},
     "output_type": "execute_result"
    }
   ],
   "source": [
    "print(second_layer_weights)\n",
    "second_layer_weights.shape"
   ]
  },
  {
   "cell_type": "code",
   "execution_count": 21,
   "id": "5587208e",
   "metadata": {},
   "outputs": [
    {
     "name": "stdout",
     "output_type": "stream",
     "text": [
      "[-0.09840885]\n"
     ]
    },
    {
     "data": {
      "text/plain": [
       "(1,)"
      ]
     },
     "execution_count": 21,
     "metadata": {},
     "output_type": "execute_result"
    }
   ],
   "source": [
    "print(second_layer_biases)\n",
    "second_layer_biases.shape"
   ]
  },
  {
   "cell_type": "code",
   "execution_count": 22,
   "id": "6a4a041b",
   "metadata": {},
   "outputs": [
    {
     "name": "stdout",
     "output_type": "stream",
     "text": [
      "[[ 1.00150113 -0.58312392 -0.57273139 -1.55489968  0.91509065  0.10629772\n",
      "  -0.70174202 -0.26396987  0.80225696  0.64376017  0.97725852 -0.00249134]]\n"
     ]
    }
   ],
   "source": [
    "### Now we use the trained weights and biases to try to predict based on a new case\n",
    "tr=sc.transform([[1, 0, 0, 500, 1, 40, 3, 60000, 2, 1, 1, 100000]])\n",
    "print(tr)  ### tr.shape is (1,12)"
   ]
  },
  {
   "cell_type": "code",
   "execution_count": 23,
   "id": "86520ef2",
   "metadata": {},
   "outputs": [
    {
     "name": "stdout",
     "output_type": "stream",
     "text": [
      "1/1 [==============================] - 0s 151ms/step\n",
      "[[0.5881784]]\n"
     ]
    }
   ],
   "source": [
    "### Example\n",
    "### Predicting result for Single Observation\n",
    "print(NNmodel.predict(tr))\n",
    "### note in each recompute -- this no. will change slightly because of the random initiation of the weights"
   ]
  },
  {
   "cell_type": "code",
   "execution_count": 24,
   "id": "4e89bf0b",
   "metadata": {},
   "outputs": [
    {
     "data": {
      "text/plain": [
       "array([[-0.79837572, -1.46788329]])"
      ]
     },
     "execution_count": 24,
     "metadata": {},
     "output_type": "execute_result"
    }
   ],
   "source": [
    "### now we compute the predicted prob of 1, manually\n",
    "tr.dot(first_layer_weights)  ### gives a 1 x 2 matrix"
   ]
  },
  {
   "cell_type": "code",
   "execution_count": 25,
   "id": "223820b2",
   "metadata": {},
   "outputs": [
    {
     "name": "stdout",
     "output_type": "stream",
     "text": [
      "[[-0.89540896 -1.56381151]]\n"
     ]
    }
   ],
   "source": [
    "Flayerneurons_sum=tr.dot(first_layer_weights) + first_layer_biases\n",
    "print(Flayerneurons_sum)  ### 1 x 2 matrix"
   ]
  },
  {
   "cell_type": "code",
   "execution_count": 26,
   "id": "d7512768",
   "metadata": {},
   "outputs": [
    {
     "name": "stdout",
     "output_type": "stream",
     "text": [
      "[[0.28999487 0.1731004 ]]\n"
     ]
    }
   ],
   "source": [
    "Flayerneurons_act=1/(1+np.exp(-Flayerneurons_sum))\n",
    "print(Flayerneurons_act)  ### 1 x 2 matrix -- output of neurons in hidden layer"
   ]
  },
  {
   "cell_type": "code",
   "execution_count": 27,
   "id": "6f7f5c7f",
   "metadata": {},
   "outputs": [
    {
     "name": "stdout",
     "output_type": "stream",
     "text": [
      "[[0.3564401]]\n"
     ]
    }
   ],
   "source": [
    "Slayerneurons_sum=Flayerneurons_act.dot (second_layer_weights)+second_layer_biases\n",
    "print(Slayerneurons_sum)"
   ]
  },
  {
   "cell_type": "code",
   "execution_count": 28,
   "id": "7960c6d8",
   "metadata": {},
   "outputs": [
    {
     "name": "stdout",
     "output_type": "stream",
     "text": [
      "[[0.58817841]]\n"
     ]
    }
   ],
   "source": [
    "predprob=1/(1+np.exp(-Slayerneurons_sum))\n",
    "print(predprob) ### Note this is the same output as NNmodel.predict(tr)\n",
    "### This manual computation of the forward pass should have output same as in NNmodel.predict(tr)"
   ]
  },
  {
   "cell_type": "code",
   "execution_count": 29,
   "id": "34a5ac4b",
   "metadata": {},
   "outputs": [
    {
     "name": "stdout",
     "output_type": "stream",
     "text": [
      "250/250 [==============================] - 1s 1ms/step - loss: 0.9839 - accuracy: 0.2027\n"
     ]
    },
    {
     "data": {
      "text/plain": [
       "[0.983890950679779, 0.20274999737739563]"
      ]
     },
     "execution_count": 29,
     "metadata": {},
     "output_type": "execute_result"
    }
   ],
   "source": [
    "### Now we use the trained NNmodel to predict output in X_train sample\n",
    "NNmodel.evaluate(X_train,Y_train)  ### evaluates the loss and accuracy as specified in the Compiler"
   ]
  },
  {
   "cell_type": "code",
   "execution_count": 30,
   "id": "5ba646c9",
   "metadata": {},
   "outputs": [
    {
     "name": "stdout",
     "output_type": "stream",
     "text": [
      "250/250 [==============================] - 0s 1ms/step\n"
     ]
    }
   ],
   "source": [
    "### Now we use the trained NNmodel to predict output in X_train sample -- computing manually via .predict\n",
    "TE=NNmodel.predict(X_train)  ### note X_train has 8000 data points"
   ]
  },
  {
   "cell_type": "code",
   "execution_count": 31,
   "id": "82ce3372",
   "metadata": {},
   "outputs": [
    {
     "data": {
      "text/plain": [
       "(8000, 1)"
      ]
     },
     "execution_count": 31,
     "metadata": {},
     "output_type": "execute_result"
    }
   ],
   "source": [
    "TE.shape"
   ]
  },
  {
   "cell_type": "code",
   "execution_count": 32,
   "id": "f49c856f",
   "metadata": {},
   "outputs": [],
   "source": [
    "h=(TE > 0.5).astype(int) ### Convert TE>0.5 == true ==> 1, False to 0"
   ]
  },
  {
   "cell_type": "code",
   "execution_count": 33,
   "id": "bb651f4c",
   "metadata": {},
   "outputs": [
    {
     "name": "stdout",
     "output_type": "stream",
     "text": [
      "[[1]\n",
      " [1]\n",
      " [1]\n",
      " ...\n",
      " [1]\n",
      " [1]\n",
      " [1]]\n"
     ]
    },
    {
     "data": {
      "text/plain": [
       "(8000, 1)"
      ]
     },
     "execution_count": 33,
     "metadata": {},
     "output_type": "execute_result"
    }
   ],
   "source": [
    "print(h)\n",
    "h.shape"
   ]
  },
  {
   "cell_type": "code",
   "execution_count": 34,
   "id": "4a697768",
   "metadata": {},
   "outputs": [],
   "source": [
    "### replace all elements in numpy array of value 0 with value -1\n",
    "h[h==0]=-1"
   ]
  },
  {
   "cell_type": "code",
   "execution_count": 35,
   "id": "c9d41502",
   "metadata": {},
   "outputs": [
    {
     "name": "stdout",
     "output_type": "stream",
     "text": [
      "[[1]\n",
      " [1]\n",
      " [1]\n",
      " ...\n",
      " [1]\n",
      " [1]\n",
      " [1]]\n"
     ]
    },
    {
     "data": {
      "text/plain": [
       "(8000, 1)"
      ]
     },
     "execution_count": 35,
     "metadata": {},
     "output_type": "execute_result"
    }
   ],
   "source": [
    "print(h)\n",
    "h.shape"
   ]
  },
  {
   "cell_type": "code",
   "execution_count": 36,
   "id": "e8b950e7",
   "metadata": {},
   "outputs": [],
   "source": [
    "### replace all elements in numpy array of value 0 with value -1\n",
    "Y_train1=Y_train\n",
    "Y_train1[Y_train1==0]=-1"
   ]
  },
  {
   "cell_type": "code",
   "execution_count": 37,
   "id": "53b50eaa",
   "metadata": {},
   "outputs": [
    {
     "name": "stdout",
     "output_type": "stream",
     "text": [
      "[-1 -1  1 ...  1 -1  1]\n"
     ]
    }
   ],
   "source": [
    "print(Y_train1)"
   ]
  },
  {
   "cell_type": "code",
   "execution_count": 38,
   "id": "ec6af287",
   "metadata": {},
   "outputs": [
    {
     "data": {
      "text/plain": [
       "(8000,)"
      ]
     },
     "execution_count": 38,
     "metadata": {},
     "output_type": "execute_result"
    }
   ],
   "source": [
    "Y_train1.shape"
   ]
  },
  {
   "cell_type": "code",
   "execution_count": 39,
   "id": "fe3de8a9",
   "metadata": {},
   "outputs": [
    {
     "name": "stdout",
     "output_type": "stream",
     "text": [
      "1622 0.20275\n"
     ]
    }
   ],
   "source": [
    "J=np.multiply(Y_train1.T,h.T)  ### element by element multiplication\n",
    "c=np.count_nonzero(J > 0) \n",
    "print(c,c/8000)"
   ]
  },
  {
   "cell_type": "code",
   "execution_count": 40,
   "id": "6bfab32b",
   "metadata": {},
   "outputs": [
    {
     "name": "stdout",
     "output_type": "stream",
     "text": [
      "63/63 [==============================] - 0s 2ms/step - loss: 0.9778 - accuracy: 0.2075\n"
     ]
    },
    {
     "data": {
      "text/plain": [
       "[0.9778339862823486, 0.20749999582767487]"
      ]
     },
     "execution_count": 40,
     "metadata": {},
     "output_type": "execute_result"
    }
   ],
   "source": [
    "### Now we use the trained NNmodel to predict output in X_test sample\n",
    "NNmodel.evaluate(X_test,Y_test)  ### evaluates the loss and accuracy as specified in the Compiler"
   ]
  },
  {
   "cell_type": "code",
   "execution_count": 41,
   "id": "f34f4bcf",
   "metadata": {},
   "outputs": [
    {
     "name": "stdout",
     "output_type": "stream",
     "text": [
      "63/63 [==============================] - 0s 1ms/step\n"
     ]
    }
   ],
   "source": [
    "### Now we use the trained NNmodel to predict output in X_test sample -- computing manually via .predict\n",
    "TE1=NNmodel.predict(X_test)  ### note X_test has 2000 data points"
   ]
  },
  {
   "cell_type": "code",
   "execution_count": 42,
   "id": "3d186532",
   "metadata": {},
   "outputs": [
    {
     "name": "stdout",
     "output_type": "stream",
     "text": [
      "415 0.2075\n"
     ]
    }
   ],
   "source": [
    "h1=(TE1 > 0.5).astype(int) ### Convert TE1>0.5 == true ==> 1, False to 0\n",
    "h1[h1==0]=-1\n",
    "Y_test1=Y_test\n",
    "Y_test1[Y_test1==0]=-1\n",
    "J1=np.multiply(Y_test1.T,h1.T)  ### element by element multiplication\n",
    "c1=np.count_nonzero(J1 > 0) \n",
    "print(c1,c1/2000)"
   ]
  },
  {
   "cell_type": "code",
   "execution_count": null,
   "id": "5a2345cc",
   "metadata": {},
   "outputs": [],
   "source": []
  }
 ],
 "metadata": {
  "kernelspec": {
   "display_name": "Python 3 (ipykernel)",
   "language": "python",
   "name": "python3"
  },
  "language_info": {
   "codemirror_mode": {
    "name": "ipython",
    "version": 3
   },
   "file_extension": ".py",
   "mimetype": "text/x-python",
   "name": "python",
   "nbconvert_exporter": "python",
   "pygments_lexer": "ipython3",
   "version": "3.11.3"
  }
 },
 "nbformat": 4,
 "nbformat_minor": 5
}
