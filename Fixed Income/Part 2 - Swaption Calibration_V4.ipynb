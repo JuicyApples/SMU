{
 "cells": [
  {
   "cell_type": "code",
   "execution_count": 1,
   "id": "14825fa0",
   "metadata": {
    "ExecuteTime": {
     "end_time": "2024-04-02T10:42:45.202793Z",
     "start_time": "2024-04-02T10:42:43.379107Z"
    }
   },
   "outputs": [],
   "source": [
    "import pandas as pd\n",
    "import numpy as np\n",
    "import matplotlib.pyplot as plt\n",
    "from scipy.stats import norm\n",
    "from math import log, sqrt, exp\n",
    "from scipy.optimize import brentq, fsolve\n",
    "\n",
    "\n",
    "import warnings\n",
    "warnings.filterwarnings(\"ignore\")"
   ]
  },
  {
   "cell_type": "code",
   "execution_count": 2,
   "id": "3f386f5c",
   "metadata": {
    "ExecuteTime": {
     "end_time": "2024-04-02T10:42:46.197548Z",
     "start_time": "2024-04-02T10:42:45.879378Z"
    },
    "scrolled": true
   },
   "outputs": [
    {
     "data": {
      "text/html": [
       "<div>\n",
       "<style scoped>\n",
       "    .dataframe tbody tr th:only-of-type {\n",
       "        vertical-align: middle;\n",
       "    }\n",
       "\n",
       "    .dataframe tbody tr th {\n",
       "        vertical-align: top;\n",
       "    }\n",
       "\n",
       "    .dataframe thead th {\n",
       "        text-align: right;\n",
       "    }\n",
       "</style>\n",
       "<table border=\"1\" class=\"dataframe\">\n",
       "  <thead>\n",
       "    <tr style=\"text-align: right;\">\n",
       "      <th></th>\n",
       "      <th>-200bps</th>\n",
       "      <th>-150bps</th>\n",
       "      <th>-100bps</th>\n",
       "      <th>-50bps</th>\n",
       "      <th>-25bps</th>\n",
       "      <th>ATM</th>\n",
       "      <th>+25bps</th>\n",
       "      <th>+50bps</th>\n",
       "      <th>+100bps</th>\n",
       "      <th>+150bps</th>\n",
       "      <th>+200bps</th>\n",
       "    </tr>\n",
       "  </thead>\n",
       "  <tbody>\n",
       "    <tr>\n",
       "      <th>(1Y, 1Y)</th>\n",
       "      <td>0.91570</td>\n",
       "      <td>0.62030</td>\n",
       "      <td>0.44130</td>\n",
       "      <td>0.31224</td>\n",
       "      <td>0.26182</td>\n",
       "      <td>0.2250</td>\n",
       "      <td>0.2096</td>\n",
       "      <td>0.2140</td>\n",
       "      <td>0.2434</td>\n",
       "      <td>0.27488</td>\n",
       "      <td>0.30297</td>\n",
       "    </tr>\n",
       "    <tr>\n",
       "      <th>(1Y, 2Y)</th>\n",
       "      <td>0.83270</td>\n",
       "      <td>0.61240</td>\n",
       "      <td>0.46570</td>\n",
       "      <td>0.35807</td>\n",
       "      <td>0.31712</td>\n",
       "      <td>0.2872</td>\n",
       "      <td>0.2712</td>\n",
       "      <td>0.2684</td>\n",
       "      <td>0.2851</td>\n",
       "      <td>0.31025</td>\n",
       "      <td>0.33523</td>\n",
       "    </tr>\n",
       "    <tr>\n",
       "      <th>(1Y, 3Y)</th>\n",
       "      <td>0.73920</td>\n",
       "      <td>0.56870</td>\n",
       "      <td>0.44770</td>\n",
       "      <td>0.35745</td>\n",
       "      <td>0.32317</td>\n",
       "      <td>0.2978</td>\n",
       "      <td>0.2829</td>\n",
       "      <td>0.2780</td>\n",
       "      <td>0.2877</td>\n",
       "      <td>0.30725</td>\n",
       "      <td>0.32833</td>\n",
       "    </tr>\n",
       "    <tr>\n",
       "      <th>(1Y, 5Y)</th>\n",
       "      <td>0.55190</td>\n",
       "      <td>0.44640</td>\n",
       "      <td>0.36510</td>\n",
       "      <td>0.30242</td>\n",
       "      <td>0.27851</td>\n",
       "      <td>0.2607</td>\n",
       "      <td>0.2498</td>\n",
       "      <td>0.2456</td>\n",
       "      <td>0.2512</td>\n",
       "      <td>0.26536</td>\n",
       "      <td>0.28165</td>\n",
       "    </tr>\n",
       "    <tr>\n",
       "      <th>(1Y, 10Y)</th>\n",
       "      <td>0.41180</td>\n",
       "      <td>0.35040</td>\n",
       "      <td>0.30207</td>\n",
       "      <td>0.26619</td>\n",
       "      <td>0.25351</td>\n",
       "      <td>0.2447</td>\n",
       "      <td>0.2398</td>\n",
       "      <td>0.2382</td>\n",
       "      <td>0.2425</td>\n",
       "      <td>0.25204</td>\n",
       "      <td>0.26355</td>\n",
       "    </tr>\n",
       "    <tr>\n",
       "      <th>(5Y, 1Y)</th>\n",
       "      <td>0.67800</td>\n",
       "      <td>0.49090</td>\n",
       "      <td>0.38400</td>\n",
       "      <td>0.31485</td>\n",
       "      <td>0.29060</td>\n",
       "      <td>0.2726</td>\n",
       "      <td>0.2604</td>\n",
       "      <td>0.2532</td>\n",
       "      <td>0.2494</td>\n",
       "      <td>0.25320</td>\n",
       "      <td>0.25980</td>\n",
       "    </tr>\n",
       "    <tr>\n",
       "      <th>(5Y, 2Y)</th>\n",
       "      <td>0.57880</td>\n",
       "      <td>0.46410</td>\n",
       "      <td>0.39033</td>\n",
       "      <td>0.33653</td>\n",
       "      <td>0.31531</td>\n",
       "      <td>0.2983</td>\n",
       "      <td>0.2856</td>\n",
       "      <td>0.2765</td>\n",
       "      <td>0.2671</td>\n",
       "      <td>0.26540</td>\n",
       "      <td>0.26760</td>\n",
       "    </tr>\n",
       "    <tr>\n",
       "      <th>(5Y, 3Y)</th>\n",
       "      <td>0.53430</td>\n",
       "      <td>0.44440</td>\n",
       "      <td>0.38180</td>\n",
       "      <td>0.33437</td>\n",
       "      <td>0.31536</td>\n",
       "      <td>0.2998</td>\n",
       "      <td>0.2876</td>\n",
       "      <td>0.2782</td>\n",
       "      <td>0.2667</td>\n",
       "      <td>0.26200</td>\n",
       "      <td>0.26150</td>\n",
       "    </tr>\n",
       "    <tr>\n",
       "      <th>(5Y, 5Y)</th>\n",
       "      <td>0.41990</td>\n",
       "      <td>0.36524</td>\n",
       "      <td>0.32326</td>\n",
       "      <td>0.29005</td>\n",
       "      <td>0.27677</td>\n",
       "      <td>0.2660</td>\n",
       "      <td>0.2573</td>\n",
       "      <td>0.2502</td>\n",
       "      <td>0.2406</td>\n",
       "      <td>0.23570</td>\n",
       "      <td>0.23400</td>\n",
       "    </tr>\n",
       "    <tr>\n",
       "      <th>(5Y, 10Y)</th>\n",
       "      <td>0.34417</td>\n",
       "      <td>0.30948</td>\n",
       "      <td>0.28148</td>\n",
       "      <td>0.25954</td>\n",
       "      <td>0.25136</td>\n",
       "      <td>0.2451</td>\n",
       "      <td>0.2399</td>\n",
       "      <td>0.2356</td>\n",
       "      <td>0.2291</td>\n",
       "      <td>0.22490</td>\n",
       "      <td>0.22250</td>\n",
       "    </tr>\n",
       "    <tr>\n",
       "      <th>(10Y, 1Y)</th>\n",
       "      <td>0.55160</td>\n",
       "      <td>0.44320</td>\n",
       "      <td>0.37368</td>\n",
       "      <td>0.32259</td>\n",
       "      <td>0.30210</td>\n",
       "      <td>0.2854</td>\n",
       "      <td>0.2731</td>\n",
       "      <td>0.2645</td>\n",
       "      <td>0.2561</td>\n",
       "      <td>0.25520</td>\n",
       "      <td>0.25780</td>\n",
       "    </tr>\n",
       "    <tr>\n",
       "      <th>(10Y, 2Y)</th>\n",
       "      <td>0.51170</td>\n",
       "      <td>0.42900</td>\n",
       "      <td>0.37078</td>\n",
       "      <td>0.32622</td>\n",
       "      <td>0.30800</td>\n",
       "      <td>0.2928</td>\n",
       "      <td>0.2809</td>\n",
       "      <td>0.2720</td>\n",
       "      <td>0.2612</td>\n",
       "      <td>0.25720</td>\n",
       "      <td>0.25710</td>\n",
       "    </tr>\n",
       "    <tr>\n",
       "      <th>(10Y, 3Y)</th>\n",
       "      <td>0.48220</td>\n",
       "      <td>0.41430</td>\n",
       "      <td>0.36400</td>\n",
       "      <td>0.32439</td>\n",
       "      <td>0.30796</td>\n",
       "      <td>0.2940</td>\n",
       "      <td>0.2827</td>\n",
       "      <td>0.2738</td>\n",
       "      <td>0.2618</td>\n",
       "      <td>0.25580</td>\n",
       "      <td>0.25370</td>\n",
       "    </tr>\n",
       "    <tr>\n",
       "      <th>(10Y, 5Y)</th>\n",
       "      <td>0.40550</td>\n",
       "      <td>0.35891</td>\n",
       "      <td>0.32181</td>\n",
       "      <td>0.29144</td>\n",
       "      <td>0.27857</td>\n",
       "      <td>0.2674</td>\n",
       "      <td>0.2580</td>\n",
       "      <td>0.2502</td>\n",
       "      <td>0.2387</td>\n",
       "      <td>0.23170</td>\n",
       "      <td>0.22800</td>\n",
       "    </tr>\n",
       "    <tr>\n",
       "      <th>(10Y, 10Y)</th>\n",
       "      <td>0.33601</td>\n",
       "      <td>0.30509</td>\n",
       "      <td>0.27978</td>\n",
       "      <td>0.25926</td>\n",
       "      <td>0.25086</td>\n",
       "      <td>0.2437</td>\n",
       "      <td>0.2376</td>\n",
       "      <td>0.2324</td>\n",
       "      <td>0.2244</td>\n",
       "      <td>0.21900</td>\n",
       "      <td>0.21560</td>\n",
       "    </tr>\n",
       "  </tbody>\n",
       "</table>\n",
       "</div>"
      ],
      "text/plain": [
       "            -200bps  -150bps  -100bps   -50bps   -25bps     ATM  +25bps  \\\n",
       "(1Y, 1Y)    0.91570  0.62030  0.44130  0.31224  0.26182  0.2250  0.2096   \n",
       "(1Y, 2Y)    0.83270  0.61240  0.46570  0.35807  0.31712  0.2872  0.2712   \n",
       "(1Y, 3Y)    0.73920  0.56870  0.44770  0.35745  0.32317  0.2978  0.2829   \n",
       "(1Y, 5Y)    0.55190  0.44640  0.36510  0.30242  0.27851  0.2607  0.2498   \n",
       "(1Y, 10Y)   0.41180  0.35040  0.30207  0.26619  0.25351  0.2447  0.2398   \n",
       "(5Y, 1Y)    0.67800  0.49090  0.38400  0.31485  0.29060  0.2726  0.2604   \n",
       "(5Y, 2Y)    0.57880  0.46410  0.39033  0.33653  0.31531  0.2983  0.2856   \n",
       "(5Y, 3Y)    0.53430  0.44440  0.38180  0.33437  0.31536  0.2998  0.2876   \n",
       "(5Y, 5Y)    0.41990  0.36524  0.32326  0.29005  0.27677  0.2660  0.2573   \n",
       "(5Y, 10Y)   0.34417  0.30948  0.28148  0.25954  0.25136  0.2451  0.2399   \n",
       "(10Y, 1Y)   0.55160  0.44320  0.37368  0.32259  0.30210  0.2854  0.2731   \n",
       "(10Y, 2Y)   0.51170  0.42900  0.37078  0.32622  0.30800  0.2928  0.2809   \n",
       "(10Y, 3Y)   0.48220  0.41430  0.36400  0.32439  0.30796  0.2940  0.2827   \n",
       "(10Y, 5Y)   0.40550  0.35891  0.32181  0.29144  0.27857  0.2674  0.2580   \n",
       "(10Y, 10Y)  0.33601  0.30509  0.27978  0.25926  0.25086  0.2437  0.2376   \n",
       "\n",
       "            +50bps  +100bps  +150bps  +200bps  \n",
       "(1Y, 1Y)    0.2140   0.2434  0.27488  0.30297  \n",
       "(1Y, 2Y)    0.2684   0.2851  0.31025  0.33523  \n",
       "(1Y, 3Y)    0.2780   0.2877  0.30725  0.32833  \n",
       "(1Y, 5Y)    0.2456   0.2512  0.26536  0.28165  \n",
       "(1Y, 10Y)   0.2382   0.2425  0.25204  0.26355  \n",
       "(5Y, 1Y)    0.2532   0.2494  0.25320  0.25980  \n",
       "(5Y, 2Y)    0.2765   0.2671  0.26540  0.26760  \n",
       "(5Y, 3Y)    0.2782   0.2667  0.26200  0.26150  \n",
       "(5Y, 5Y)    0.2502   0.2406  0.23570  0.23400  \n",
       "(5Y, 10Y)   0.2356   0.2291  0.22490  0.22250  \n",
       "(10Y, 1Y)   0.2645   0.2561  0.25520  0.25780  \n",
       "(10Y, 2Y)   0.2720   0.2612  0.25720  0.25710  \n",
       "(10Y, 3Y)   0.2738   0.2618  0.25580  0.25370  \n",
       "(10Y, 5Y)   0.2502   0.2387  0.23170  0.22800  \n",
       "(10Y, 10Y)  0.2324   0.2244  0.21900  0.21560  "
      ]
     },
     "execution_count": 2,
     "metadata": {},
     "output_type": "execute_result"
    }
   ],
   "source": [
    "# import the dataset\n",
    "swaption_df = pd.read_excel('IR Data.xlsx', sheet_name = 'Swaption', skiprows = 2)\n",
    "swaption_df.index = swaption_df[['Expiry', 'Tenor']]\n",
    "swaption_df.drop(['Expiry', 'Tenor'], inplace=True, axis = 1)\n",
    "swaption_df = swaption_df / 100\n",
    "swaption_df"
   ]
  },
  {
   "cell_type": "code",
   "execution_count": 3,
   "id": "ef9dffc8",
   "metadata": {
    "ExecuteTime": {
     "end_time": "2024-04-02T10:42:47.286446Z",
     "start_time": "2024-04-02T10:42:47.269468Z"
    }
   },
   "outputs": [],
   "source": [
    "# import forward swap rate from part 1\n",
    "swap_rate_df = pd.read_csv('forward_swap_rate.csv')\n",
    "swap_rate_df.set_index('tenor', drop = True, inplace=True)\n",
    "discount_factor_df = pd.read_csv('Discount_Factors.csv')\n",
    "discount_factor_df.set_index('Tenor', drop=True, inplace=True)"
   ]
  },
  {
   "cell_type": "code",
   "execution_count": 4,
   "id": "57e4717d",
   "metadata": {
    "ExecuteTime": {
     "end_time": "2024-04-02T10:42:48.600304Z",
     "start_time": "2024-04-02T10:42:48.591904Z"
    }
   },
   "outputs": [
    {
     "data": {
      "text/html": [
       "<div>\n",
       "<style scoped>\n",
       "    .dataframe tbody tr th:only-of-type {\n",
       "        vertical-align: middle;\n",
       "    }\n",
       "\n",
       "    .dataframe tbody tr th {\n",
       "        vertical-align: top;\n",
       "    }\n",
       "\n",
       "    .dataframe thead th {\n",
       "        text-align: right;\n",
       "    }\n",
       "</style>\n",
       "<table border=\"1\" class=\"dataframe\">\n",
       "  <thead>\n",
       "    <tr style=\"text-align: right;\">\n",
       "      <th></th>\n",
       "      <th>1Y</th>\n",
       "      <th>5Y</th>\n",
       "      <th>10Y</th>\n",
       "    </tr>\n",
       "    <tr>\n",
       "      <th>tenor</th>\n",
       "      <th></th>\n",
       "      <th></th>\n",
       "      <th></th>\n",
       "    </tr>\n",
       "  </thead>\n",
       "  <tbody>\n",
       "    <tr>\n",
       "      <th>1Y</th>\n",
       "      <td>0.032007</td>\n",
       "      <td>0.039274</td>\n",
       "      <td>0.042189</td>\n",
       "    </tr>\n",
       "    <tr>\n",
       "      <th>2Y</th>\n",
       "      <td>0.033259</td>\n",
       "      <td>0.040075</td>\n",
       "      <td>0.043116</td>\n",
       "    </tr>\n",
       "    <tr>\n",
       "      <th>3Y</th>\n",
       "      <td>0.034011</td>\n",
       "      <td>0.040072</td>\n",
       "      <td>0.044097</td>\n",
       "    </tr>\n",
       "    <tr>\n",
       "      <th>5Y</th>\n",
       "      <td>0.035255</td>\n",
       "      <td>0.041093</td>\n",
       "      <td>0.046249</td>\n",
       "    </tr>\n",
       "    <tr>\n",
       "      <th>10Y</th>\n",
       "      <td>0.038428</td>\n",
       "      <td>0.043634</td>\n",
       "      <td>0.053458</td>\n",
       "    </tr>\n",
       "  </tbody>\n",
       "</table>\n",
       "</div>"
      ],
      "text/plain": [
       "             1Y        5Y       10Y\n",
       "tenor                              \n",
       "1Y     0.032007  0.039274  0.042189\n",
       "2Y     0.033259  0.040075  0.043116\n",
       "3Y     0.034011  0.040072  0.044097\n",
       "5Y     0.035255  0.041093  0.046249\n",
       "10Y    0.038428  0.043634  0.053458"
      ]
     },
     "execution_count": 4,
     "metadata": {},
     "output_type": "execute_result"
    }
   ],
   "source": [
    "swap_rate_df"
   ]
  },
  {
   "cell_type": "code",
   "execution_count": 5,
   "id": "436f1f0c",
   "metadata": {
    "ExecuteTime": {
     "end_time": "2024-04-02T10:42:49.726812Z",
     "start_time": "2024-04-02T10:42:49.721287Z"
    }
   },
   "outputs": [],
   "source": [
    "bps = [-0.02, -0.015, -0.01, -0.005, -0.0025, 0, 0.0025, 0.005, 0.01, 0.015, 0.02]"
   ]
  },
  {
   "cell_type": "markdown",
   "id": "b094b03f",
   "metadata": {},
   "source": [
    "## Displaced-Diffusion Model Calibration "
   ]
  },
  {
   "cell_type": "code",
   "execution_count": 6,
   "id": "a52166e5",
   "metadata": {
    "ExecuteTime": {
     "end_time": "2024-04-02T10:42:51.067824Z",
     "start_time": "2024-04-02T10:42:51.056796Z"
    }
   },
   "outputs": [],
   "source": [
    "# Black76 Model\n",
    "def Black76Call(F, K, sigma, T):\n",
    "    d1 = (np.log(F / K) + (1 / 2) * (sigma ** 2) * T) / (sigma * sqrt(T))\n",
    "    d2 = d1 - sigma * sqrt(T)\n",
    "    V = (F * norm.cdf(d1) - K * norm.cdf(d2))\n",
    "    return V\n",
    "\n",
    "def Black76Put(F, K, sigma, T):\n",
    "    d1 = (np.log(F / K) + (1 / 2) * (sigma ** 2) * T) / (sigma * sqrt(T))\n",
    "    d2 = d1 - sigma * sqrt(T)\n",
    "    V = (K * norm.cdf(-d2) - F * norm.cdf(-d1))\n",
    "    return V\n",
    "\n",
    "def Black76(F, K, sigma, T):\n",
    "    if F <= K: \n",
    "        d1 = np.log(F / K) + (0.5 * (sigma ** 2) * T) / (sigma * sqrt(T))\n",
    "        d2 = d1 - sigma * sqrt(T)\n",
    "        V = F * norm.cdf(d1) - K * norm.cdf(d2)\n",
    "    elif F > K: \n",
    "        d1 = (np.log(F / K) + (0.5 * (sigma ** 2) * T) / (sigma * sqrt(T)))\n",
    "        d2 = d1 - sigma * sqrt(T)\n",
    "        V = K * norm.cdf(-d2) - F* norm.cdf(-d1)\n",
    "    else:\n",
    "        raise NameError('Payoff Type not Recognized')\n",
    "    return V\n",
    "\n",
    "# Displaced Diffusion Model\n",
    "\n",
    "def DisplaceDiffusion(F, K, pvbp, sigma, T, beta):\n",
    "    if F <= K:\n",
    "        F_new = F / beta\n",
    "        K_new = K + ((1 - beta)/beta) * F_new\n",
    "        sigma_new = sigma * beta\n",
    "        V = pvbp * Black76(F_new, K_new, sigma_new, T)\n",
    "    elif F > K:\n",
    "        F_new = F / beta\n",
    "        K_new = K + ((1 - beta) / beta) * F_new\n",
    "        sigma_new = sigma * beta\n",
    "        V = pvbp * Black76(F_new, K_new, sigma_new, T)\n",
    "    else:\n",
    "        raise NameError('Payoff Type not Recognized')\n",
    "    return V\n",
    "\n",
    "def impliedVolatility(F, K, pvbp, sigma, T, beta):\n",
    "    \n",
    "    price = DisplaceDiffusion(F, K, pvbp, sigma, T, beta)\n",
    "    impliedVol = fsolve(lambda x: price -\n",
    "                         pvbp*Black76(F, K, x, T),\n",
    "                        0.5)\n",
    "    return impliedVol[0]    \n",
    "\n",
    "\n",
    "def ddcalibration(x, F, strikes, pvbp, vols, T):  # x: [sigma,beta]\n",
    "    err = 0.0\n",
    "    for i, vol in enumerate(vols):\n",
    "        err += (vol - impliedVolatility(F, strikes[i], pvbp,x[0], T, x[1] ))**2\n",
    "    return err\n",
    "\n",
    "# def ddcalibration(x, F, strikes, pvbp, vols, T):\n",
    "#     err = 0.0\n",
    "#     sigma = vols[5]\n",
    "#     for i, vol in enumerate(vols):\n",
    "#         err += (vol - impliedVolatility(F, strikes[i], pvbp,sigma, T, x))**2\n",
    "#     return err"
   ]
  },
  {
   "cell_type": "code",
   "execution_count": 7,
   "id": "0271381e",
   "metadata": {
    "ExecuteTime": {
     "end_time": "2024-04-02T10:42:52.056891Z",
     "start_time": "2024-04-02T10:42:52.052595Z"
    }
   },
   "outputs": [],
   "source": [
    "expiry_lst = ['1Y', '5Y', '10Y']\n",
    "tenor_lst = ['1Y', '2Y', '3Y', '5Y', '10Y']"
   ]
  },
  {
   "cell_type": "code",
   "execution_count": 8,
   "id": "7852875e",
   "metadata": {
    "ExecuteTime": {
     "end_time": "2024-04-02T10:42:52.628543Z",
     "start_time": "2024-04-02T10:42:52.615871Z"
    }
   },
   "outputs": [
    {
     "data": {
      "text/html": [
       "<div>\n",
       "<style scoped>\n",
       "    .dataframe tbody tr th:only-of-type {\n",
       "        vertical-align: middle;\n",
       "    }\n",
       "\n",
       "    .dataframe tbody tr th {\n",
       "        vertical-align: top;\n",
       "    }\n",
       "\n",
       "    .dataframe thead th {\n",
       "        text-align: right;\n",
       "    }\n",
       "</style>\n",
       "<table border=\"1\" class=\"dataframe\">\n",
       "  <thead>\n",
       "    <tr style=\"text-align: right;\">\n",
       "      <th>tenor</th>\n",
       "      <th>1Y</th>\n",
       "      <th>2Y</th>\n",
       "      <th>3Y</th>\n",
       "      <th>5Y</th>\n",
       "      <th>10Y</th>\n",
       "    </tr>\n",
       "  </thead>\n",
       "  <tbody>\n",
       "    <tr>\n",
       "      <th>1Y</th>\n",
       "      <td>0.032007</td>\n",
       "      <td>0.033259</td>\n",
       "      <td>0.034011</td>\n",
       "      <td>0.035255</td>\n",
       "      <td>0.038428</td>\n",
       "    </tr>\n",
       "    <tr>\n",
       "      <th>5Y</th>\n",
       "      <td>0.039274</td>\n",
       "      <td>0.040075</td>\n",
       "      <td>0.040072</td>\n",
       "      <td>0.041093</td>\n",
       "      <td>0.043634</td>\n",
       "    </tr>\n",
       "    <tr>\n",
       "      <th>10Y</th>\n",
       "      <td>0.042189</td>\n",
       "      <td>0.043116</td>\n",
       "      <td>0.044097</td>\n",
       "      <td>0.046249</td>\n",
       "      <td>0.053458</td>\n",
       "    </tr>\n",
       "  </tbody>\n",
       "</table>\n",
       "</div>"
      ],
      "text/plain": [
       "tenor        1Y        2Y        3Y        5Y       10Y\n",
       "1Y     0.032007  0.033259  0.034011  0.035255  0.038428\n",
       "5Y     0.039274  0.040075  0.040072  0.041093  0.043634\n",
       "10Y    0.042189  0.043116  0.044097  0.046249  0.053458"
      ]
     },
     "execution_count": 8,
     "metadata": {},
     "output_type": "execute_result"
    }
   ],
   "source": [
    "swap_rate_df.T"
   ]
  },
  {
   "cell_type": "code",
   "execution_count": 9,
   "id": "edb2f37e",
   "metadata": {
    "ExecuteTime": {
     "end_time": "2024-04-02T10:42:52.999348Z",
     "start_time": "2024-04-02T10:42:52.981234Z"
    }
   },
   "outputs": [
    {
     "data": {
      "text/html": [
       "<div>\n",
       "<style scoped>\n",
       "    .dataframe tbody tr th:only-of-type {\n",
       "        vertical-align: middle;\n",
       "    }\n",
       "\n",
       "    .dataframe tbody tr th {\n",
       "        vertical-align: top;\n",
       "    }\n",
       "\n",
       "    .dataframe thead th {\n",
       "        text-align: right;\n",
       "    }\n",
       "</style>\n",
       "<table border=\"1\" class=\"dataframe\">\n",
       "  <thead>\n",
       "    <tr style=\"text-align: right;\">\n",
       "      <th></th>\n",
       "      <th>-200bps</th>\n",
       "      <th>-150bps</th>\n",
       "      <th>-100bps</th>\n",
       "      <th>-50bps</th>\n",
       "      <th>-25bps</th>\n",
       "      <th>ATM</th>\n",
       "      <th>+25bps</th>\n",
       "      <th>+50bps</th>\n",
       "      <th>+100bps</th>\n",
       "      <th>+150bps</th>\n",
       "      <th>+200bps</th>\n",
       "    </tr>\n",
       "  </thead>\n",
       "  <tbody>\n",
       "    <tr>\n",
       "      <th>(1Y, 1Y)</th>\n",
       "      <td>0.91570</td>\n",
       "      <td>0.62030</td>\n",
       "      <td>0.44130</td>\n",
       "      <td>0.31224</td>\n",
       "      <td>0.26182</td>\n",
       "      <td>0.2250</td>\n",
       "      <td>0.2096</td>\n",
       "      <td>0.2140</td>\n",
       "      <td>0.2434</td>\n",
       "      <td>0.27488</td>\n",
       "      <td>0.30297</td>\n",
       "    </tr>\n",
       "    <tr>\n",
       "      <th>(1Y, 2Y)</th>\n",
       "      <td>0.83270</td>\n",
       "      <td>0.61240</td>\n",
       "      <td>0.46570</td>\n",
       "      <td>0.35807</td>\n",
       "      <td>0.31712</td>\n",
       "      <td>0.2872</td>\n",
       "      <td>0.2712</td>\n",
       "      <td>0.2684</td>\n",
       "      <td>0.2851</td>\n",
       "      <td>0.31025</td>\n",
       "      <td>0.33523</td>\n",
       "    </tr>\n",
       "    <tr>\n",
       "      <th>(1Y, 3Y)</th>\n",
       "      <td>0.73920</td>\n",
       "      <td>0.56870</td>\n",
       "      <td>0.44770</td>\n",
       "      <td>0.35745</td>\n",
       "      <td>0.32317</td>\n",
       "      <td>0.2978</td>\n",
       "      <td>0.2829</td>\n",
       "      <td>0.2780</td>\n",
       "      <td>0.2877</td>\n",
       "      <td>0.30725</td>\n",
       "      <td>0.32833</td>\n",
       "    </tr>\n",
       "    <tr>\n",
       "      <th>(1Y, 5Y)</th>\n",
       "      <td>0.55190</td>\n",
       "      <td>0.44640</td>\n",
       "      <td>0.36510</td>\n",
       "      <td>0.30242</td>\n",
       "      <td>0.27851</td>\n",
       "      <td>0.2607</td>\n",
       "      <td>0.2498</td>\n",
       "      <td>0.2456</td>\n",
       "      <td>0.2512</td>\n",
       "      <td>0.26536</td>\n",
       "      <td>0.28165</td>\n",
       "    </tr>\n",
       "    <tr>\n",
       "      <th>(1Y, 10Y)</th>\n",
       "      <td>0.41180</td>\n",
       "      <td>0.35040</td>\n",
       "      <td>0.30207</td>\n",
       "      <td>0.26619</td>\n",
       "      <td>0.25351</td>\n",
       "      <td>0.2447</td>\n",
       "      <td>0.2398</td>\n",
       "      <td>0.2382</td>\n",
       "      <td>0.2425</td>\n",
       "      <td>0.25204</td>\n",
       "      <td>0.26355</td>\n",
       "    </tr>\n",
       "    <tr>\n",
       "      <th>(5Y, 1Y)</th>\n",
       "      <td>0.67800</td>\n",
       "      <td>0.49090</td>\n",
       "      <td>0.38400</td>\n",
       "      <td>0.31485</td>\n",
       "      <td>0.29060</td>\n",
       "      <td>0.2726</td>\n",
       "      <td>0.2604</td>\n",
       "      <td>0.2532</td>\n",
       "      <td>0.2494</td>\n",
       "      <td>0.25320</td>\n",
       "      <td>0.25980</td>\n",
       "    </tr>\n",
       "    <tr>\n",
       "      <th>(5Y, 2Y)</th>\n",
       "      <td>0.57880</td>\n",
       "      <td>0.46410</td>\n",
       "      <td>0.39033</td>\n",
       "      <td>0.33653</td>\n",
       "      <td>0.31531</td>\n",
       "      <td>0.2983</td>\n",
       "      <td>0.2856</td>\n",
       "      <td>0.2765</td>\n",
       "      <td>0.2671</td>\n",
       "      <td>0.26540</td>\n",
       "      <td>0.26760</td>\n",
       "    </tr>\n",
       "    <tr>\n",
       "      <th>(5Y, 3Y)</th>\n",
       "      <td>0.53430</td>\n",
       "      <td>0.44440</td>\n",
       "      <td>0.38180</td>\n",
       "      <td>0.33437</td>\n",
       "      <td>0.31536</td>\n",
       "      <td>0.2998</td>\n",
       "      <td>0.2876</td>\n",
       "      <td>0.2782</td>\n",
       "      <td>0.2667</td>\n",
       "      <td>0.26200</td>\n",
       "      <td>0.26150</td>\n",
       "    </tr>\n",
       "    <tr>\n",
       "      <th>(5Y, 5Y)</th>\n",
       "      <td>0.41990</td>\n",
       "      <td>0.36524</td>\n",
       "      <td>0.32326</td>\n",
       "      <td>0.29005</td>\n",
       "      <td>0.27677</td>\n",
       "      <td>0.2660</td>\n",
       "      <td>0.2573</td>\n",
       "      <td>0.2502</td>\n",
       "      <td>0.2406</td>\n",
       "      <td>0.23570</td>\n",
       "      <td>0.23400</td>\n",
       "    </tr>\n",
       "    <tr>\n",
       "      <th>(5Y, 10Y)</th>\n",
       "      <td>0.34417</td>\n",
       "      <td>0.30948</td>\n",
       "      <td>0.28148</td>\n",
       "      <td>0.25954</td>\n",
       "      <td>0.25136</td>\n",
       "      <td>0.2451</td>\n",
       "      <td>0.2399</td>\n",
       "      <td>0.2356</td>\n",
       "      <td>0.2291</td>\n",
       "      <td>0.22490</td>\n",
       "      <td>0.22250</td>\n",
       "    </tr>\n",
       "    <tr>\n",
       "      <th>(10Y, 1Y)</th>\n",
       "      <td>0.55160</td>\n",
       "      <td>0.44320</td>\n",
       "      <td>0.37368</td>\n",
       "      <td>0.32259</td>\n",
       "      <td>0.30210</td>\n",
       "      <td>0.2854</td>\n",
       "      <td>0.2731</td>\n",
       "      <td>0.2645</td>\n",
       "      <td>0.2561</td>\n",
       "      <td>0.25520</td>\n",
       "      <td>0.25780</td>\n",
       "    </tr>\n",
       "    <tr>\n",
       "      <th>(10Y, 2Y)</th>\n",
       "      <td>0.51170</td>\n",
       "      <td>0.42900</td>\n",
       "      <td>0.37078</td>\n",
       "      <td>0.32622</td>\n",
       "      <td>0.30800</td>\n",
       "      <td>0.2928</td>\n",
       "      <td>0.2809</td>\n",
       "      <td>0.2720</td>\n",
       "      <td>0.2612</td>\n",
       "      <td>0.25720</td>\n",
       "      <td>0.25710</td>\n",
       "    </tr>\n",
       "    <tr>\n",
       "      <th>(10Y, 3Y)</th>\n",
       "      <td>0.48220</td>\n",
       "      <td>0.41430</td>\n",
       "      <td>0.36400</td>\n",
       "      <td>0.32439</td>\n",
       "      <td>0.30796</td>\n",
       "      <td>0.2940</td>\n",
       "      <td>0.2827</td>\n",
       "      <td>0.2738</td>\n",
       "      <td>0.2618</td>\n",
       "      <td>0.25580</td>\n",
       "      <td>0.25370</td>\n",
       "    </tr>\n",
       "    <tr>\n",
       "      <th>(10Y, 5Y)</th>\n",
       "      <td>0.40550</td>\n",
       "      <td>0.35891</td>\n",
       "      <td>0.32181</td>\n",
       "      <td>0.29144</td>\n",
       "      <td>0.27857</td>\n",
       "      <td>0.2674</td>\n",
       "      <td>0.2580</td>\n",
       "      <td>0.2502</td>\n",
       "      <td>0.2387</td>\n",
       "      <td>0.23170</td>\n",
       "      <td>0.22800</td>\n",
       "    </tr>\n",
       "    <tr>\n",
       "      <th>(10Y, 10Y)</th>\n",
       "      <td>0.33601</td>\n",
       "      <td>0.30509</td>\n",
       "      <td>0.27978</td>\n",
       "      <td>0.25926</td>\n",
       "      <td>0.25086</td>\n",
       "      <td>0.2437</td>\n",
       "      <td>0.2376</td>\n",
       "      <td>0.2324</td>\n",
       "      <td>0.2244</td>\n",
       "      <td>0.21900</td>\n",
       "      <td>0.21560</td>\n",
       "    </tr>\n",
       "  </tbody>\n",
       "</table>\n",
       "</div>"
      ],
      "text/plain": [
       "            -200bps  -150bps  -100bps   -50bps   -25bps     ATM  +25bps  \\\n",
       "(1Y, 1Y)    0.91570  0.62030  0.44130  0.31224  0.26182  0.2250  0.2096   \n",
       "(1Y, 2Y)    0.83270  0.61240  0.46570  0.35807  0.31712  0.2872  0.2712   \n",
       "(1Y, 3Y)    0.73920  0.56870  0.44770  0.35745  0.32317  0.2978  0.2829   \n",
       "(1Y, 5Y)    0.55190  0.44640  0.36510  0.30242  0.27851  0.2607  0.2498   \n",
       "(1Y, 10Y)   0.41180  0.35040  0.30207  0.26619  0.25351  0.2447  0.2398   \n",
       "(5Y, 1Y)    0.67800  0.49090  0.38400  0.31485  0.29060  0.2726  0.2604   \n",
       "(5Y, 2Y)    0.57880  0.46410  0.39033  0.33653  0.31531  0.2983  0.2856   \n",
       "(5Y, 3Y)    0.53430  0.44440  0.38180  0.33437  0.31536  0.2998  0.2876   \n",
       "(5Y, 5Y)    0.41990  0.36524  0.32326  0.29005  0.27677  0.2660  0.2573   \n",
       "(5Y, 10Y)   0.34417  0.30948  0.28148  0.25954  0.25136  0.2451  0.2399   \n",
       "(10Y, 1Y)   0.55160  0.44320  0.37368  0.32259  0.30210  0.2854  0.2731   \n",
       "(10Y, 2Y)   0.51170  0.42900  0.37078  0.32622  0.30800  0.2928  0.2809   \n",
       "(10Y, 3Y)   0.48220  0.41430  0.36400  0.32439  0.30796  0.2940  0.2827   \n",
       "(10Y, 5Y)   0.40550  0.35891  0.32181  0.29144  0.27857  0.2674  0.2580   \n",
       "(10Y, 10Y)  0.33601  0.30509  0.27978  0.25926  0.25086  0.2437  0.2376   \n",
       "\n",
       "            +50bps  +100bps  +150bps  +200bps  \n",
       "(1Y, 1Y)    0.2140   0.2434  0.27488  0.30297  \n",
       "(1Y, 2Y)    0.2684   0.2851  0.31025  0.33523  \n",
       "(1Y, 3Y)    0.2780   0.2877  0.30725  0.32833  \n",
       "(1Y, 5Y)    0.2456   0.2512  0.26536  0.28165  \n",
       "(1Y, 10Y)   0.2382   0.2425  0.25204  0.26355  \n",
       "(5Y, 1Y)    0.2532   0.2494  0.25320  0.25980  \n",
       "(5Y, 2Y)    0.2765   0.2671  0.26540  0.26760  \n",
       "(5Y, 3Y)    0.2782   0.2667  0.26200  0.26150  \n",
       "(5Y, 5Y)    0.2502   0.2406  0.23570  0.23400  \n",
       "(5Y, 10Y)   0.2356   0.2291  0.22490  0.22250  \n",
       "(10Y, 1Y)   0.2645   0.2561  0.25520  0.25780  \n",
       "(10Y, 2Y)   0.2720   0.2612  0.25720  0.25710  \n",
       "(10Y, 3Y)   0.2738   0.2618  0.25580  0.25370  \n",
       "(10Y, 5Y)   0.2502   0.2387  0.23170  0.22800  \n",
       "(10Y, 10Y)  0.2324   0.2244  0.21900  0.21560  "
      ]
     },
     "execution_count": 9,
     "metadata": {},
     "output_type": "execute_result"
    }
   ],
   "source": [
    "swaption_df"
   ]
  },
  {
   "cell_type": "code",
   "execution_count": 10,
   "id": "7d110d10",
   "metadata": {
    "ExecuteTime": {
     "end_time": "2024-04-02T10:43:41.910905Z",
     "start_time": "2024-04-02T10:42:53.797831Z"
    }
   },
   "outputs": [],
   "source": [
    "from scipy.optimize import least_squares\n",
    "\n",
    "initialGuess = [0.2,0.2]\n",
    "k = 0\n",
    "params_lst = []\n",
    "# beta_lst = []\n",
    "# vol_lst = []\n",
    "\n",
    "freq = 0.5\n",
    "\n",
    "for i in range(len(expiry_lst)):\n",
    "    for j in range(len(tenor_lst)):\n",
    "        forward = swap_rate_df.T.iloc[i, j]\n",
    "        vol = swaption_df.iloc[k, :].values\n",
    "        k = k + 1\n",
    "        strike = forward + bps\n",
    "        expiry_T = int(expiry_lst[i].replace('Y', ''))\n",
    "        tenor_T = int(tenor_lst[j].replace('Y', ''))\n",
    "        pvbp = freq * discount_factor_df.iloc[2 * expiry_T:2*(expiry_T + tenor_T), 0].values.sum()\n",
    "        res = least_squares(lambda x: ddcalibration(x,\n",
    "                                                    forward, \n",
    "                                                    strike,\n",
    "                                                    pvbp,\n",
    "                                                    vol,\n",
    "                                                    expiry_T), \n",
    "                            initialGuess,\n",
    "                             bounds = ((0, 0), (1, 1)),\n",
    "#                            bounds=[(0,0),(np.inf, 1)], \n",
    "#                            method = 'trf'\n",
    "                           )\n",
    "        params_lst.append(res.x)\n",
    "        # beta_lst.append(res.x[0])\n",
    "        # vol_lst.append(vol[5])\n",
    "        \n",
    "        "
   ]
  },
  {
   "cell_type": "code",
   "execution_count": 11,
   "id": "4c18126a",
   "metadata": {
    "ExecuteTime": {
     "end_time": "2024-04-02T10:43:45.707773Z",
     "start_time": "2024-04-02T10:43:45.700599Z"
    }
   },
   "outputs": [
    {
     "data": {
      "text/plain": [
       "[array([0.40886412, 0.66658703]),\n",
       " array([0.39485651, 0.99999998]),\n",
       " array([0.41028683, 0.737634  ]),\n",
       " array([0.34307574, 0.76569367]),\n",
       " array([4.00098820e-01, 9.88693409e-05]),\n",
       " array([0.32432843, 0.68098757]),\n",
       " array([0.32659888, 0.70684838]),\n",
       " array([0.31982461, 0.71706731]),\n",
       " array([0.2, 0.2]),\n",
       " array([0.69006978, 0.39563201]),\n",
       " array([0.5850752 , 0.39938832]),\n",
       " array([0.30262158, 0.71232105]),\n",
       " array([0.29936033, 0.72192202]),\n",
       " array([0.58574116, 0.39043458]),\n",
       " array([0.55685092, 0.40111462])]"
      ]
     },
     "execution_count": 11,
     "metadata": {},
     "output_type": "execute_result"
    }
   ],
   "source": [
    "params_lst"
   ]
  },
  {
   "cell_type": "code",
   "execution_count": 12,
   "id": "11bba5aa4b46a8ea",
   "metadata": {
    "ExecuteTime": {
     "end_time": "2024-04-02T10:43:46.466178Z",
     "start_time": "2024-04-02T10:43:46.462527Z"
    },
    "collapsed": false,
    "jupyter": {
     "outputs_hidden": false
    }
   },
   "outputs": [],
   "source": [
    "alpha_lst = [param[0] for param in params_lst]\n",
    "beta_lst = [param[1] for param in params_lst]"
   ]
  },
  {
   "cell_type": "code",
   "execution_count": 13,
   "id": "8227377ac43794ba",
   "metadata": {
    "ExecuteTime": {
     "end_time": "2024-04-02T10:43:47.437413Z",
     "start_time": "2024-04-02T10:43:47.432436Z"
    },
    "collapsed": false,
    "jupyter": {
     "outputs_hidden": false
    }
   },
   "outputs": [],
   "source": [
    "y1_alpha_lst =  alpha_lst[:5]\n",
    "y5_alpha_lst =  alpha_lst[5:10]\n",
    "y10_alpha_lst =  alpha_lst[10:]\n",
    "\n",
    "y1_beta_lst =  beta_lst[:5]\n",
    "y5_beta_lst =  beta_lst[5:10]\n",
    "y10_beta_lst =  beta_lst[10:]"
   ]
  },
  {
   "cell_type": "code",
   "execution_count": 14,
   "id": "898c43d1f34e5a1a",
   "metadata": {
    "ExecuteTime": {
     "end_time": "2024-04-02T10:43:48.026178Z",
     "start_time": "2024-04-02T10:43:48.018872Z"
    },
    "collapsed": false,
    "jupyter": {
     "outputs_hidden": false
    }
   },
   "outputs": [
    {
     "name": "stdout",
     "output_type": "stream",
     "text": [
      "             1Y        5Y       10Y\n",
      "Tenor                              \n",
      "1Y     0.666587  0.680988  0.399388\n",
      "2Y     1.000000  0.706848  0.712321\n",
      "3Y     0.737634  0.717067  0.721922\n",
      "5Y     0.765694  0.200000  0.390435\n",
      "10Y    0.000099  0.395632  0.401115\n"
     ]
    }
   ],
   "source": [
    "Beta_DD = pd.DataFrame()\n",
    "Beta_DD['1Y'] = y1_beta_lst \n",
    "Beta_DD['5Y'] = y5_beta_lst \n",
    "Beta_DD['10Y'] = y10_beta_lst \n",
    "Beta_DD['Tenor'] = tenor_lst\n",
    "Beta_DD.set_index('Tenor', drop=True, inplace=True)\n",
    "\n",
    "print(Beta_DD)"
   ]
  },
  {
   "cell_type": "code",
   "execution_count": 15,
   "id": "997ea1504beb44f6",
   "metadata": {
    "ExecuteTime": {
     "end_time": "2024-04-02T10:56:20.310584Z",
     "start_time": "2024-04-02T10:56:20.301220Z"
    },
    "collapsed": false,
    "jupyter": {
     "outputs_hidden": false
    }
   },
   "outputs": [
    {
     "data": {
      "text/html": [
       "<div>\n",
       "<style scoped>\n",
       "    .dataframe tbody tr th:only-of-type {\n",
       "        vertical-align: middle;\n",
       "    }\n",
       "\n",
       "    .dataframe tbody tr th {\n",
       "        vertical-align: top;\n",
       "    }\n",
       "\n",
       "    .dataframe thead th {\n",
       "        text-align: right;\n",
       "    }\n",
       "</style>\n",
       "<table border=\"1\" class=\"dataframe\">\n",
       "  <thead>\n",
       "    <tr style=\"text-align: right;\">\n",
       "      <th></th>\n",
       "      <th>1Y</th>\n",
       "      <th>5Y</th>\n",
       "      <th>10Y</th>\n",
       "    </tr>\n",
       "    <tr>\n",
       "      <th>Tenor</th>\n",
       "      <th></th>\n",
       "      <th></th>\n",
       "      <th></th>\n",
       "    </tr>\n",
       "  </thead>\n",
       "  <tbody>\n",
       "    <tr>\n",
       "      <th>1Y</th>\n",
       "      <td>0.666587</td>\n",
       "      <td>0.680988</td>\n",
       "      <td>0.399388</td>\n",
       "    </tr>\n",
       "    <tr>\n",
       "      <th>2Y</th>\n",
       "      <td>1.000000</td>\n",
       "      <td>0.706848</td>\n",
       "      <td>0.712321</td>\n",
       "    </tr>\n",
       "    <tr>\n",
       "      <th>3Y</th>\n",
       "      <td>0.737634</td>\n",
       "      <td>0.717067</td>\n",
       "      <td>0.721922</td>\n",
       "    </tr>\n",
       "    <tr>\n",
       "      <th>5Y</th>\n",
       "      <td>0.765694</td>\n",
       "      <td>0.200000</td>\n",
       "      <td>0.390435</td>\n",
       "    </tr>\n",
       "    <tr>\n",
       "      <th>10Y</th>\n",
       "      <td>0.000099</td>\n",
       "      <td>0.395632</td>\n",
       "      <td>0.401115</td>\n",
       "    </tr>\n",
       "  </tbody>\n",
       "</table>\n",
       "</div>"
      ],
      "text/plain": [
       "             1Y        5Y       10Y\n",
       "Tenor                              \n",
       "1Y     0.666587  0.680988  0.399388\n",
       "2Y     1.000000  0.706848  0.712321\n",
       "3Y     0.737634  0.717067  0.721922\n",
       "5Y     0.765694  0.200000  0.390435\n",
       "10Y    0.000099  0.395632  0.401115"
      ]
     },
     "execution_count": 15,
     "metadata": {},
     "output_type": "execute_result"
    }
   ],
   "source": [
    "Beta_DD"
   ]
  },
  {
   "cell_type": "code",
   "execution_count": 16,
   "id": "c6582964",
   "metadata": {
    "ExecuteTime": {
     "end_time": "2024-04-02T10:43:48.624292Z",
     "start_time": "2024-04-02T10:43:48.616843Z"
    }
   },
   "outputs": [
    {
     "name": "stdout",
     "output_type": "stream",
     "text": [
      "             1Y        5Y       10Y\n",
      "Tenor                              \n",
      "1Y     0.408864  0.324328  0.585075\n",
      "2Y     0.394857  0.326599  0.302622\n",
      "3Y     0.410287  0.319825  0.299360\n",
      "5Y     0.343076  0.200000  0.585741\n",
      "10Y    0.400099  0.690070  0.556851\n"
     ]
    }
   ],
   "source": [
    "y1_alpha_lst = alpha_lst[:5]\n",
    "y5_alpha_lst = alpha_lst[5:10]\n",
    "y10_alpha_lst = alpha_lst[10:]\n",
    "\n",
    "Alpha_DD = pd.DataFrame()\n",
    "Alpha_DD['Tenor'] = tenor_lst\n",
    "Alpha_DD['1Y'] = y1_alpha_lst\n",
    "Alpha_DD['5Y'] = y5_alpha_lst\n",
    "Alpha_DD['10Y'] = y10_alpha_lst\n",
    "Alpha_DD.set_index('Tenor', drop=True, inplace=True)\n",
    "\n",
    "print(Alpha_DD)"
   ]
  },
  {
   "cell_type": "markdown",
   "id": "5291428c",
   "metadata": {},
   "source": [
    "## Question 2: SABR Model Calibration (Fixed $\\beta$ = 0.9) "
   ]
  },
  {
   "cell_type": "code",
   "execution_count": 17,
   "id": "765fa247",
   "metadata": {
    "ExecuteTime": {
     "end_time": "2024-04-02T10:43:50.237453Z",
     "start_time": "2024-04-02T10:43:50.228686Z"
    }
   },
   "outputs": [],
   "source": [
    "# SABR fixed beta = 0.9\n",
    "def SABR(F, K, T, alpha, beta, rho, nu):\n",
    "    X = K\n",
    "    # if K is at-the-money-forward\n",
    "    if abs(F - K) < 1e-12:\n",
    "        numer1 = (((1 - beta)**2)/24)*alpha*alpha/(F**(2 - 2*beta))\n",
    "        numer2 = 0.25*rho*beta*nu*alpha/(F**(1 - beta))\n",
    "        numer3 = ((2 - 3*rho*rho)/24)*nu*nu\n",
    "        VolAtm = alpha*(1 + (numer1 + numer2 + numer3)*T)/(F**(1-beta))\n",
    "        sabrsigma = VolAtm\n",
    "    else:\n",
    "        z = (nu/alpha)*((F*X)**(0.5*(1-beta)))*np.log(F/X)\n",
    "        zhi = np.log((((1 - 2*rho*z + z*z)**0.5) + z - rho)/(1 - rho))\n",
    "        numer1 = (((1 - beta)**2)/24)*((alpha*alpha)/((F*X)**(1 - beta)))\n",
    "        numer2 = 0.25*rho*beta*nu*alpha/((F*X)**((1 - beta)/2))\n",
    "        numer3 = ((2 - 3*rho*rho)/24)*nu*nu\n",
    "        numer = alpha*(1 + (numer1 + numer2 + numer3)*T)*z\n",
    "        denom1 = ((1 - beta)**2/24)*(np.log(F/X))**2\n",
    "        denom2 = (((1 - beta)**4)/1920)*((np.log(F/X))**4)\n",
    "        denom = ((F*X)**((1 - beta)/2))*(1 + denom1 + denom2)*zhi\n",
    "        sabrsigma = numer/denom\n",
    "\n",
    "    return sabrsigma"
   ]
  },
  {
   "cell_type": "code",
   "execution_count": 18,
   "id": "00bf9c22",
   "metadata": {
    "ExecuteTime": {
     "end_time": "2024-04-02T10:43:50.759832Z",
     "start_time": "2024-04-02T10:43:50.755684Z"
    }
   },
   "outputs": [],
   "source": [
    "beta = 0.9\n",
    "\n",
    "def sabrcalibration(x, strikes, vols, F, T):\n",
    "    err = 0.0\n",
    "    for i, vol in enumerate(vols):\n",
    "        err += (vol - SABR(F, strikes[i], T,\n",
    "                           x[0], beta, x[1], x[2]))**2\n",
    "\n",
    "    return err"
   ]
  },
  {
   "cell_type": "code",
   "execution_count": 19,
   "id": "daf7751b",
   "metadata": {
    "ExecuteTime": {
     "end_time": "2024-04-02T10:43:51.228217Z",
     "start_time": "2024-04-02T10:43:51.225359Z"
    }
   },
   "outputs": [],
   "source": [
    "expiry_lst = ['1Y', '5Y', '10Y']\n",
    "tenor_lst = ['1Y', '2Y', '3Y', '5Y', '10Y']"
   ]
  },
  {
   "cell_type": "code",
   "execution_count": 20,
   "id": "32ec1464",
   "metadata": {
    "ExecuteTime": {
     "end_time": "2024-04-02T10:43:54.454392Z",
     "start_time": "2024-04-02T10:43:51.542313Z"
    }
   },
   "outputs": [],
   "source": [
    "from scipy.optimize import least_squares\n",
    "\n",
    "initialGuess = [0.2, -0.5, 0.5]\n",
    "bps = [-0.02, -0.015, -0.01, -0.005, -0.0025, 0, 0.0025, 0.005, 0.01, 0.015, 0.02]\n",
    "k = 0\n",
    "alpha_lst = []\n",
    "rho_lst = []\n",
    "nu_lst = []\n",
    "for i in range(len(expiry_lst)):\n",
    "    for j in range(len(tenor_lst)):\n",
    "        forward = swap_rate_df.T.iloc[i, j]\n",
    "        vol = swaption_df.iloc[k, :].values\n",
    "        k = k + 1\n",
    "        strike = forward + bps\n",
    "        T = int(expiry_lst[i].replace('Y', ''))\n",
    "        res = least_squares(lambda x: sabrcalibration(x,\n",
    "                                              strike,\n",
    "                                              vol,\n",
    "                                              forward,\n",
    "                                              T),\n",
    "                            initialGuess)\n",
    "        alpha_lst.append(res.x[0])\n",
    "        rho_lst.append(res.x[1])\n",
    "        nu_lst.append(res.x[2])\n",
    "        "
   ]
  },
  {
   "cell_type": "code",
   "execution_count": 21,
   "id": "c3ceb65e",
   "metadata": {
    "ExecuteTime": {
     "end_time": "2024-04-02T10:43:54.464978Z",
     "start_time": "2024-04-02T10:43:54.455508Z"
    }
   },
   "outputs": [],
   "source": [
    "y1_alpha_lst = alpha_lst[:5]\n",
    "y5_alpha_lst = alpha_lst[5:10]\n",
    "y10_alpha_lst = alpha_lst[10:]\n",
    "\n",
    "y1_rho_lst = rho_lst[:5]\n",
    "y5_rho_lst = rho_lst[5:10]\n",
    "y10_rho_lst = rho_lst[10:]\n",
    "\n",
    "y1_nu_lst = nu_lst[:5]\n",
    "y5_nu_lst = nu_lst[5:10]\n",
    "y10_nu_lst = nu_lst[10:]"
   ]
  },
  {
   "cell_type": "code",
   "execution_count": 22,
   "id": "8dd19d96",
   "metadata": {
    "ExecuteTime": {
     "end_time": "2024-04-02T10:43:55.740051Z",
     "start_time": "2024-04-02T10:43:55.728452Z"
    }
   },
   "outputs": [],
   "source": [
    "Alpha_SABR = pd.DataFrame()\n",
    "Alpha_SABR['1Y'] = y1_alpha_lst\n",
    "Alpha_SABR['5Y'] = y5_alpha_lst\n",
    "Alpha_SABR['10Y'] = y10_alpha_lst\n",
    "Alpha_SABR['Tenor'] = tenor_lst\n",
    "Alpha_SABR.set_index('Tenor', drop=True, inplace=True)\n",
    "Rho_SABR = pd.DataFrame()\n",
    "Rho_SABR['1Y'] = y1_rho_lst\n",
    "Rho_SABR['5Y'] = y5_rho_lst\n",
    "Rho_SABR['10Y'] = y10_rho_lst\n",
    "Rho_SABR['Tenor'] = tenor_lst\n",
    "Rho_SABR.set_index('Tenor', drop=True, inplace=True)\n",
    "Nu_SABR = pd.DataFrame()\n",
    "Nu_SABR['1Y'] = y1_nu_lst\n",
    "Nu_SABR['5Y'] = y5_nu_lst\n",
    "Nu_SABR['10Y'] = y10_nu_lst\n",
    "Nu_SABR['Tenor'] = tenor_lst\n",
    "Nu_SABR.set_index('Tenor', drop=True, inplace=True)"
   ]
  },
  {
   "cell_type": "code",
   "execution_count": 23,
   "id": "a5b8e7e4",
   "metadata": {
    "ExecuteTime": {
     "end_time": "2024-04-02T10:43:56.591973Z",
     "start_time": "2024-04-02T10:43:56.585950Z"
    }
   },
   "outputs": [],
   "source": [
    "Alpha_SABR = Alpha_SABR.T\n",
    "Rho_SABR = Rho_SABR.T\n",
    "Nu_SABR = Nu_SABR.T"
   ]
  },
  {
   "cell_type": "code",
   "execution_count": 24,
   "id": "a3c4eb95",
   "metadata": {
    "ExecuteTime": {
     "end_time": "2024-04-02T10:43:56.985630Z",
     "start_time": "2024-04-02T10:43:56.974471Z"
    }
   },
   "outputs": [
    {
     "data": {
      "text/html": [
       "<div>\n",
       "<style scoped>\n",
       "    .dataframe tbody tr th:only-of-type {\n",
       "        vertical-align: middle;\n",
       "    }\n",
       "\n",
       "    .dataframe tbody tr th {\n",
       "        vertical-align: top;\n",
       "    }\n",
       "\n",
       "    .dataframe thead th {\n",
       "        text-align: right;\n",
       "    }\n",
       "</style>\n",
       "<table border=\"1\" class=\"dataframe\">\n",
       "  <thead>\n",
       "    <tr style=\"text-align: right;\">\n",
       "      <th>Tenor</th>\n",
       "      <th>1Y</th>\n",
       "      <th>2Y</th>\n",
       "      <th>3Y</th>\n",
       "      <th>5Y</th>\n",
       "      <th>10Y</th>\n",
       "    </tr>\n",
       "  </thead>\n",
       "  <tbody>\n",
       "    <tr>\n",
       "      <th>1Y</th>\n",
       "      <td>0.145508</td>\n",
       "      <td>0.189933</td>\n",
       "      <td>0.204179</td>\n",
       "      <td>0.187133</td>\n",
       "      <td>0.180561</td>\n",
       "    </tr>\n",
       "    <tr>\n",
       "      <th>5Y</th>\n",
       "      <td>0.163950</td>\n",
       "      <td>0.199100</td>\n",
       "      <td>0.211737</td>\n",
       "      <td>0.195295</td>\n",
       "      <td>0.179563</td>\n",
       "    </tr>\n",
       "    <tr>\n",
       "      <th>10Y</th>\n",
       "      <td>0.173473</td>\n",
       "      <td>0.190608</td>\n",
       "      <td>0.201316</td>\n",
       "      <td>0.196593</td>\n",
       "      <td>0.181919</td>\n",
       "    </tr>\n",
       "  </tbody>\n",
       "</table>\n",
       "</div>"
      ],
      "text/plain": [
       "Tenor        1Y        2Y        3Y        5Y       10Y\n",
       "1Y     0.145508  0.189933  0.204179  0.187133  0.180561\n",
       "5Y     0.163950  0.199100  0.211737  0.195295  0.179563\n",
       "10Y    0.173473  0.190608  0.201316  0.196593  0.181919"
      ]
     },
     "execution_count": 24,
     "metadata": {},
     "output_type": "execute_result"
    }
   ],
   "source": [
    "Alpha_SABR"
   ]
  },
  {
   "cell_type": "code",
   "execution_count": 25,
   "id": "ffd91c41",
   "metadata": {
    "ExecuteTime": {
     "end_time": "2024-04-02T10:43:57.339293Z",
     "start_time": "2024-04-02T10:43:57.330197Z"
    }
   },
   "outputs": [
    {
     "data": {
      "text/html": [
       "<div>\n",
       "<style scoped>\n",
       "    .dataframe tbody tr th:only-of-type {\n",
       "        vertical-align: middle;\n",
       "    }\n",
       "\n",
       "    .dataframe tbody tr th {\n",
       "        vertical-align: top;\n",
       "    }\n",
       "\n",
       "    .dataframe thead th {\n",
       "        text-align: right;\n",
       "    }\n",
       "</style>\n",
       "<table border=\"1\" class=\"dataframe\">\n",
       "  <thead>\n",
       "    <tr style=\"text-align: right;\">\n",
       "      <th>Tenor</th>\n",
       "      <th>1Y</th>\n",
       "      <th>2Y</th>\n",
       "      <th>3Y</th>\n",
       "      <th>5Y</th>\n",
       "      <th>10Y</th>\n",
       "    </tr>\n",
       "  </thead>\n",
       "  <tbody>\n",
       "    <tr>\n",
       "      <th>1Y</th>\n",
       "      <td>-0.608816</td>\n",
       "      <td>-0.525193</td>\n",
       "      <td>-0.496632</td>\n",
       "      <td>-0.461434</td>\n",
       "      <td>-0.377000</td>\n",
       "    </tr>\n",
       "    <tr>\n",
       "      <th>5Y</th>\n",
       "      <td>-0.564775</td>\n",
       "      <td>-0.540816</td>\n",
       "      <td>-0.550889</td>\n",
       "      <td>-0.533017</td>\n",
       "      <td>-0.466557</td>\n",
       "    </tr>\n",
       "    <tr>\n",
       "      <th>10Y</th>\n",
       "      <td>-0.528502</td>\n",
       "      <td>-0.528894</td>\n",
       "      <td>-0.533273</td>\n",
       "      <td>-0.545831</td>\n",
       "      <td>-0.512094</td>\n",
       "    </tr>\n",
       "  </tbody>\n",
       "</table>\n",
       "</div>"
      ],
      "text/plain": [
       "Tenor        1Y        2Y        3Y        5Y       10Y\n",
       "1Y    -0.608816 -0.525193 -0.496632 -0.461434 -0.377000\n",
       "5Y    -0.564775 -0.540816 -0.550889 -0.533017 -0.466557\n",
       "10Y   -0.528502 -0.528894 -0.533273 -0.545831 -0.512094"
      ]
     },
     "execution_count": 25,
     "metadata": {},
     "output_type": "execute_result"
    }
   ],
   "source": [
    "Rho_SABR"
   ]
  },
  {
   "cell_type": "code",
   "execution_count": 26,
   "id": "001d32fc",
   "metadata": {
    "ExecuteTime": {
     "end_time": "2024-04-02T10:43:57.957262Z",
     "start_time": "2024-04-02T10:43:57.949092Z"
    }
   },
   "outputs": [
    {
     "data": {
      "text/html": [
       "<div>\n",
       "<style scoped>\n",
       "    .dataframe tbody tr th:only-of-type {\n",
       "        vertical-align: middle;\n",
       "    }\n",
       "\n",
       "    .dataframe tbody tr th {\n",
       "        vertical-align: top;\n",
       "    }\n",
       "\n",
       "    .dataframe thead th {\n",
       "        text-align: right;\n",
       "    }\n",
       "</style>\n",
       "<table border=\"1\" class=\"dataframe\">\n",
       "  <thead>\n",
       "    <tr style=\"text-align: right;\">\n",
       "      <th>Tenor</th>\n",
       "      <th>1Y</th>\n",
       "      <th>2Y</th>\n",
       "      <th>3Y</th>\n",
       "      <th>5Y</th>\n",
       "      <th>10Y</th>\n",
       "    </tr>\n",
       "  </thead>\n",
       "  <tbody>\n",
       "    <tr>\n",
       "      <th>1Y</th>\n",
       "      <td>1.933390</td>\n",
       "      <td>1.623749</td>\n",
       "      <td>1.376043</td>\n",
       "      <td>0.979113</td>\n",
       "      <td>0.646509</td>\n",
       "    </tr>\n",
       "    <tr>\n",
       "      <th>5Y</th>\n",
       "      <td>1.305390</td>\n",
       "      <td>1.051516</td>\n",
       "      <td>0.927147</td>\n",
       "      <td>0.652343</td>\n",
       "      <td>0.482230</td>\n",
       "    </tr>\n",
       "    <tr>\n",
       "      <th>10Y</th>\n",
       "      <td>0.987294</td>\n",
       "      <td>0.909526</td>\n",
       "      <td>0.852661</td>\n",
       "      <td>0.710866</td>\n",
       "      <td>0.569442</td>\n",
       "    </tr>\n",
       "  </tbody>\n",
       "</table>\n",
       "</div>"
      ],
      "text/plain": [
       "Tenor        1Y        2Y        3Y        5Y       10Y\n",
       "1Y     1.933390  1.623749  1.376043  0.979113  0.646509\n",
       "5Y     1.305390  1.051516  0.927147  0.652343  0.482230\n",
       "10Y    0.987294  0.909526  0.852661  0.710866  0.569442"
      ]
     },
     "execution_count": 26,
     "metadata": {},
     "output_type": "execute_result"
    }
   ],
   "source": [
    "Nu_SABR"
   ]
  },
  {
   "cell_type": "code",
   "execution_count": 27,
   "id": "3e0fc110",
   "metadata": {
    "ExecuteTime": {
     "end_time": "2024-04-02T10:43:58.540388Z",
     "start_time": "2024-04-02T10:43:58.532398Z"
    }
   },
   "outputs": [],
   "source": [
    "Alpha_SABR.to_csv('Alpha_SABR.csv')\n",
    "Rho_SABR.to_csv('Rho_SABR.csv')\n",
    "Nu_SABR.to_csv('Nu_SABR.csv')"
   ]
  },
  {
   "cell_type": "markdown",
   "id": "35c8deb8",
   "metadata": {},
   "source": [
    "## Question 3: Price the Swaptions Using Calibrated Displaced-Diffusion and SABR Models"
   ]
  },
  {
   "cell_type": "code",
   "execution_count": 28,
   "id": "d2a8db04bebb2be6",
   "metadata": {
    "ExecuteTime": {
     "end_time": "2024-04-02T10:44:00.107531Z",
     "start_time": "2024-04-02T10:44:00.102448Z"
    },
    "collapsed": false,
    "jupyter": {
     "outputs_hidden": false
    }
   },
   "outputs": [],
   "source": [
    "def forward_swap_rate(expiry, tenor):\n",
    "    freq = 0.5\n",
    "    fixed_leg = freq * (discount_factor_df.iloc[2*expiry:2*(expiry+tenor), 0].sum())\n",
    "    float_leg = 0\n",
    "    for k in range(2 * expiry, 2 * (expiry + tenor)):\n",
    "        float_leg = float_leg + (discount_factor_df.iloc[k, 0] * \\\n",
    "                                ((discount_factor_df.iloc[k-1, 1] - discount_factor_df.iloc[k, 1]) / discount_factor_df.iloc[k, 1]))\n",
    "    forward_swap_rate = float_leg / fixed_leg\n",
    "    return forward_swap_rate"
   ]
  },
  {
   "cell_type": "markdown",
   "id": "ace6a80c",
   "metadata": {},
   "source": [
    "### 1）Calibrated Displaced-Diffusion Model"
   ]
  },
  {
   "cell_type": "markdown",
   "id": "1d75af81ec483e5c",
   "metadata": {
    "collapsed": false,
    "jupyter": {
     "outputs_hidden": false
    }
   },
   "source": [
    "#### payer 2y × 10y K = 1\\%,2\\%,3\\%,4\\%,5\\%,6\\%,7\\%,8\\%"
   ]
  },
  {
   "cell_type": "code",
   "execution_count": 29,
   "id": "4525c060-a783-4b72-8a34-f3a54024c62d",
   "metadata": {},
   "outputs": [],
   "source": [
    "def interpol(x1,y1,x2,y2,x):\n",
    "    return y1+(x-x1)*((y2-y1)/(x2-x1))"
   ]
  },
  {
   "cell_type": "code",
   "execution_count": null,
   "id": "bcd94b9a-8b20-476c-8797-cc2df68dd158",
   "metadata": {},
   "outputs": [],
   "source": [
    "DisplaceDiffusion(F, K, pvbp, sigma, T, beta)"
   ]
  },
  {
   "cell_type": "code",
   "execution_count": 43,
   "id": "4655cc21f28f3abc",
   "metadata": {
    "ExecuteTime": {
     "end_time": "2024-04-02T11:13:57.403239Z",
     "start_time": "2024-04-02T11:13:57.397800Z"
    },
    "collapsed": false,
    "jupyter": {
     "outputs_hidden": false
    }
   },
   "outputs": [],
   "source": [
    "def price_swaption_DD(payoff_type, expiry, tenor, strike_rates, alpha, beta):\n",
    "    \n",
    "    forward_rate = forward_swap_rate(expiry, tenor)\n",
    "   \n",
    "    pvbp = 0.5 * discount_factor_df.iloc[2*expiry:2*(expiry+tenor), 0].values.sum()\n",
    "    prices = []\n",
    "    for K in strike_rates:\n",
    "        if payoff_type == \"payer\":\n",
    "            price = DisplaceDiffusion(forward_rate, K, pvbp, alpha, expiry, beta)\n",
    "        elif payoff_type == \"receiver\":\n",
    "            price = DisplaceDiffusion(forward_rate, K, pvbp, alpha, expiry, beta)\n",
    "        prices.append(price)\n",
    "    return prices"
   ]
  },
  {
   "cell_type": "code",
   "execution_count": 44,
   "id": "3dcbfb5f273d7ee1",
   "metadata": {
    "ExecuteTime": {
     "end_time": "2024-04-02T11:13:57.714184Z",
     "start_time": "2024-04-02T11:13:57.709747Z"
    },
    "collapsed": false,
    "jupyter": {
     "outputs_hidden": false
    }
   },
   "outputs": [],
   "source": [
    "beta_payer_2y10y = Beta_DD.loc['2Y', '10Y']\n",
    "alpha_payer_2y10y = Alpha_DD.loc['2Y', '10Y']"
   ]
  },
  {
   "cell_type": "code",
   "execution_count": 45,
   "id": "ce706ca9cec86c4a",
   "metadata": {
    "ExecuteTime": {
     "end_time": "2024-04-02T11:13:58.130627Z",
     "start_time": "2024-04-02T11:13:58.121022Z"
    },
    "collapsed": false,
    "jupyter": {
     "outputs_hidden": false
    }
   },
   "outputs": [],
   "source": [
    "strike_rates = [0.01, 0.02, 0.03, 0.04, 0.05, 0.06, 0.07, 0.08]\n",
    "\n",
    "prices_payer_2y10y = price_swaption_DD(\"payer\", 2, 10, strike_rates, alpha_payer_2y10y, beta_payer_2y10y)"
   ]
  },
  {
   "cell_type": "code",
   "execution_count": 46,
   "id": "2717309bfeeacf44",
   "metadata": {
    "ExecuteTime": {
     "end_time": "2024-04-02T11:13:58.780408Z",
     "start_time": "2024-04-02T11:13:58.771180Z"
    },
    "collapsed": false,
    "jupyter": {
     "outputs_hidden": false
    }
   },
   "outputs": [
    {
     "data": {
      "text/html": [
       "<div>\n",
       "<style scoped>\n",
       "    .dataframe tbody tr th:only-of-type {\n",
       "        vertical-align: middle;\n",
       "    }\n",
       "\n",
       "    .dataframe tbody tr th {\n",
       "        vertical-align: top;\n",
       "    }\n",
       "\n",
       "    .dataframe thead th {\n",
       "        text-align: right;\n",
       "    }\n",
       "</style>\n",
       "<table border=\"1\" class=\"dataframe\">\n",
       "  <thead>\n",
       "    <tr style=\"text-align: right;\">\n",
       "      <th></th>\n",
       "      <th>Strikes</th>\n",
       "      <th>DD_Price</th>\n",
       "    </tr>\n",
       "  </thead>\n",
       "  <tbody>\n",
       "    <tr>\n",
       "      <th>0</th>\n",
       "      <td>0.01</td>\n",
       "      <td>-0.021970</td>\n",
       "    </tr>\n",
       "    <tr>\n",
       "      <th>1</th>\n",
       "      <td>0.02</td>\n",
       "      <td>0.005171</td>\n",
       "    </tr>\n",
       "    <tr>\n",
       "      <th>2</th>\n",
       "      <td>0.03</td>\n",
       "      <td>0.048751</td>\n",
       "    </tr>\n",
       "    <tr>\n",
       "      <th>3</th>\n",
       "      <td>0.04</td>\n",
       "      <td>0.038830</td>\n",
       "    </tr>\n",
       "    <tr>\n",
       "      <th>4</th>\n",
       "      <td>0.05</td>\n",
       "      <td>0.007907</td>\n",
       "    </tr>\n",
       "    <tr>\n",
       "      <th>5</th>\n",
       "      <td>0.06</td>\n",
       "      <td>-0.015585</td>\n",
       "    </tr>\n",
       "    <tr>\n",
       "      <th>6</th>\n",
       "      <td>0.07</td>\n",
       "      <td>-0.033389</td>\n",
       "    </tr>\n",
       "    <tr>\n",
       "      <th>7</th>\n",
       "      <td>0.08</td>\n",
       "      <td>-0.046820</td>\n",
       "    </tr>\n",
       "  </tbody>\n",
       "</table>\n",
       "</div>"
      ],
      "text/plain": [
       "   Strikes  DD_Price\n",
       "0     0.01 -0.021970\n",
       "1     0.02  0.005171\n",
       "2     0.03  0.048751\n",
       "3     0.04  0.038830\n",
       "4     0.05  0.007907\n",
       "5     0.06 -0.015585\n",
       "6     0.07 -0.033389\n",
       "7     0.08 -0.046820"
      ]
     },
     "execution_count": 46,
     "metadata": {},
     "output_type": "execute_result"
    }
   ],
   "source": [
    "Payer_DD_df = pd.DataFrame()\n",
    "Payer_DD_df['Strikes'] = strike_rates\n",
    "Payer_DD_df['DD_Price'] = prices_payer_2y10y\n",
    "Payer_DD_df"
   ]
  },
  {
   "cell_type": "markdown",
   "id": "4250a96d5c506a13",
   "metadata": {
    "collapsed": false,
    "jupyter": {
     "outputs_hidden": false
    }
   },
   "source": [
    "####  Receiver 8y × 10y K = 1\\%,2\\%,3\\%,4\\%,5\\%,6\\%,7\\%, 8\\%"
   ]
  },
  {
   "cell_type": "code",
   "execution_count": 34,
   "id": "d0cc7c71e9c4a7cc",
   "metadata": {
    "ExecuteTime": {
     "end_time": "2024-04-02T11:14:00.649746Z",
     "start_time": "2024-04-02T11:14:00.644308Z"
    },
    "collapsed": false,
    "jupyter": {
     "outputs_hidden": false
    }
   },
   "outputs": [
    {
     "name": "stdout",
     "output_type": "stream",
     "text": [
      "0.39684260041220537\n",
      "0.5684070179116039\n"
     ]
    }
   ],
   "source": [
    "x_points = [5, 10]  # 已知点的年份\n",
    "y_beta_points = [Beta_DD.loc['5Y', '10Y'], Beta_DD.loc['10Y', '10Y']]  # 已知点的beta值，假设5Y和10Y的beta值\n",
    "y_alpha_points = [Alpha_DD.loc['5Y', '10Y'], Alpha_DD.loc['10Y', '10Y']]  # 已知点的alpha值，假设5Y和10Y的alpha值\n",
    "\n",
    "x_target = 8\n",
    "\n",
    "beta_receiver_8y10y = np.interp(x_target, x_points, y_beta_points)\n",
    "alpha_receiver_8y10y = np.interp(x_target, x_points, y_alpha_points)\n",
    "\n",
    "print(beta_receiver_8y10y)\n",
    "print(alpha_receiver_8y10y)"
   ]
  },
  {
   "cell_type": "code",
   "execution_count": 35,
   "id": "8e8a87a3a2f469a5",
   "metadata": {
    "ExecuteTime": {
     "end_time": "2024-04-02T11:14:01.649722Z",
     "start_time": "2024-04-02T11:14:01.642125Z"
    },
    "collapsed": false,
    "jupyter": {
     "outputs_hidden": false
    }
   },
   "outputs": [],
   "source": [
    "prices_receiver_8y10y = price_swaption_DD(\"receiver\", 8, 10, strike_rates, alpha_receiver_8y10y, beta_receiver_8y10y)"
   ]
  },
  {
   "cell_type": "code",
   "execution_count": 36,
   "id": "8ba22a175fa900dc",
   "metadata": {
    "ExecuteTime": {
     "end_time": "2024-04-02T11:14:03.516348Z",
     "start_time": "2024-04-02T11:14:03.505036Z"
    },
    "collapsed": false,
    "jupyter": {
     "outputs_hidden": false
    }
   },
   "outputs": [
    {
     "data": {
      "text/html": [
       "<div>\n",
       "<style scoped>\n",
       "    .dataframe tbody tr th:only-of-type {\n",
       "        vertical-align: middle;\n",
       "    }\n",
       "\n",
       "    .dataframe tbody tr th {\n",
       "        vertical-align: top;\n",
       "    }\n",
       "\n",
       "    .dataframe thead th {\n",
       "        text-align: right;\n",
       "    }\n",
       "</style>\n",
       "<table border=\"1\" class=\"dataframe\">\n",
       "  <thead>\n",
       "    <tr style=\"text-align: right;\">\n",
       "      <th></th>\n",
       "      <th>Strikes</th>\n",
       "      <th>DD_Price</th>\n",
       "    </tr>\n",
       "  </thead>\n",
       "  <tbody>\n",
       "    <tr>\n",
       "      <th>0</th>\n",
       "      <td>0.01</td>\n",
       "      <td>0.035924</td>\n",
       "    </tr>\n",
       "    <tr>\n",
       "      <th>1</th>\n",
       "      <td>0.02</td>\n",
       "      <td>0.039092</td>\n",
       "    </tr>\n",
       "    <tr>\n",
       "      <th>2</th>\n",
       "      <td>0.03</td>\n",
       "      <td>0.028762</td>\n",
       "    </tr>\n",
       "    <tr>\n",
       "      <th>3</th>\n",
       "      <td>0.04</td>\n",
       "      <td>0.021410</td>\n",
       "    </tr>\n",
       "    <tr>\n",
       "      <th>4</th>\n",
       "      <td>0.05</td>\n",
       "      <td>0.016286</td>\n",
       "    </tr>\n",
       "    <tr>\n",
       "      <th>5</th>\n",
       "      <td>0.06</td>\n",
       "      <td>0.012649</td>\n",
       "    </tr>\n",
       "    <tr>\n",
       "      <th>6</th>\n",
       "      <td>0.07</td>\n",
       "      <td>0.010005</td>\n",
       "    </tr>\n",
       "    <tr>\n",
       "      <th>7</th>\n",
       "      <td>0.08</td>\n",
       "      <td>0.008040</td>\n",
       "    </tr>\n",
       "  </tbody>\n",
       "</table>\n",
       "</div>"
      ],
      "text/plain": [
       "   Strikes  DD_Price\n",
       "0     0.01  0.035924\n",
       "1     0.02  0.039092\n",
       "2     0.03  0.028762\n",
       "3     0.04  0.021410\n",
       "4     0.05  0.016286\n",
       "5     0.06  0.012649\n",
       "6     0.07  0.010005\n",
       "7     0.08  0.008040"
      ]
     },
     "execution_count": 36,
     "metadata": {},
     "output_type": "execute_result"
    }
   ],
   "source": [
    "Receiver_DD_df = pd.DataFrame()\n",
    "Receiver_DD_df['Strikes'] = strike_rates\n",
    "Receiver_DD_df['DD_Price'] = prices_receiver_8y10y\n",
    "Receiver_DD_df"
   ]
  },
  {
   "cell_type": "markdown",
   "id": "0b8a797e",
   "metadata": {},
   "source": [
    "### 2) Calibrated SABR Models "
   ]
  },
  {
   "cell_type": "markdown",
   "id": "dab6e732",
   "metadata": {},
   "source": [
    "#### payer 2y × 10y K = 1\\%,2\\%,3\\%,4\\%,5\\%,6\\%,7\\%,8\\%"
   ]
  },
  {
   "cell_type": "code",
   "execution_count": 37,
   "id": "eda6f417",
   "metadata": {
    "ExecuteTime": {
     "end_time": "2024-04-02T11:14:15.464480Z",
     "start_time": "2024-04-02T11:14:15.458791Z"
    }
   },
   "outputs": [],
   "source": [
    "# Interpolate alpha, rho and nu\n",
    "alpha5 = Alpha_SABR.loc['5Y', '10Y']\n",
    "alpha10 = Alpha_SABR.loc['10Y', '10Y']\n",
    "alpha_810 = ((alpha10 - alpha5) / (10-5) * (8-5)) + alpha5\n",
    "\n",
    "rho5 = Rho_SABR.loc['5Y', '10Y']\n",
    "rho10 = Rho_SABR.loc['10Y', '10Y']\n",
    "rho_810 = ((rho10 - rho5) / (10-5) * (8-5)) + rho5\n",
    "\n",
    "nu5 = Nu_SABR.loc['5Y', '10Y']\n",
    "nu10 = Nu_SABR.loc['10Y', '10Y']\n",
    "nu_810 = ((nu10 - nu5) / (10-5) * (8-5)) + nu5"
   ]
  },
  {
   "cell_type": "code",
   "execution_count": 38,
   "id": "b924a662",
   "metadata": {
    "ExecuteTime": {
     "end_time": "2024-04-02T11:14:15.823369Z",
     "start_time": "2024-04-02T11:14:15.811948Z"
    }
   },
   "outputs": [],
   "source": [
    "beta = 0.9\n",
    "Frate_210 = forward_swap_rate(2, 10)\n",
    "K = [0.01, 0.02, 0.03, 0.04, 0.05, 0.06, 0.07, 0.08]\n",
    "T = 2\n",
    "pvbp1 = 0.5 * discount_factor_df.iloc[2*2:2*(10+2), 0].values.sum()\n",
    "SABR_lst = []\n",
    "for i in K: \n",
    "    price = pvbp1 * Black76Call(Frate_210, i, SABR(Frate_210, i, T, alpha_810, beta, rho_810, nu_810), T)\n",
    "    SABR_lst.append(price)"
   ]
  },
  {
   "cell_type": "code",
   "execution_count": 39,
   "id": "537835cf",
   "metadata": {
    "ExecuteTime": {
     "end_time": "2024-04-02T11:14:32.816494Z",
     "start_time": "2024-04-02T11:14:32.803437Z"
    }
   },
   "outputs": [
    {
     "data": {
      "text/html": [
       "<div>\n",
       "<style scoped>\n",
       "    .dataframe tbody tr th:only-of-type {\n",
       "        vertical-align: middle;\n",
       "    }\n",
       "\n",
       "    .dataframe tbody tr th {\n",
       "        vertical-align: top;\n",
       "    }\n",
       "\n",
       "    .dataframe thead th {\n",
       "        text-align: right;\n",
       "    }\n",
       "</style>\n",
       "<table border=\"1\" class=\"dataframe\">\n",
       "  <thead>\n",
       "    <tr style=\"text-align: right;\">\n",
       "      <th></th>\n",
       "      <th>Strikes</th>\n",
       "      <th>SABR_Price</th>\n",
       "    </tr>\n",
       "  </thead>\n",
       "  <tbody>\n",
       "    <tr>\n",
       "      <th>0</th>\n",
       "      <td>0.01</td>\n",
       "      <td>0.288623</td>\n",
       "    </tr>\n",
       "    <tr>\n",
       "      <th>1</th>\n",
       "      <td>0.02</td>\n",
       "      <td>0.196740</td>\n",
       "    </tr>\n",
       "    <tr>\n",
       "      <th>2</th>\n",
       "      <td>0.03</td>\n",
       "      <td>0.114454</td>\n",
       "    </tr>\n",
       "    <tr>\n",
       "      <th>3</th>\n",
       "      <td>0.04</td>\n",
       "      <td>0.052169</td>\n",
       "    </tr>\n",
       "    <tr>\n",
       "      <th>4</th>\n",
       "      <td>0.05</td>\n",
       "      <td>0.018597</td>\n",
       "    </tr>\n",
       "    <tr>\n",
       "      <th>5</th>\n",
       "      <td>0.06</td>\n",
       "      <td>0.006441</td>\n",
       "    </tr>\n",
       "    <tr>\n",
       "      <th>6</th>\n",
       "      <td>0.07</td>\n",
       "      <td>0.002616</td>\n",
       "    </tr>\n",
       "    <tr>\n",
       "      <th>7</th>\n",
       "      <td>0.08</td>\n",
       "      <td>0.001267</td>\n",
       "    </tr>\n",
       "  </tbody>\n",
       "</table>\n",
       "</div>"
      ],
      "text/plain": [
       "   Strikes  SABR_Price\n",
       "0     0.01    0.288623\n",
       "1     0.02    0.196740\n",
       "2     0.03    0.114454\n",
       "3     0.04    0.052169\n",
       "4     0.05    0.018597\n",
       "5     0.06    0.006441\n",
       "6     0.07    0.002616\n",
       "7     0.08    0.001267"
      ]
     },
     "execution_count": 39,
     "metadata": {},
     "output_type": "execute_result"
    }
   ],
   "source": [
    "Payer_SABR_df = pd.DataFrame()\n",
    "Payer_SABR_df['Strikes'] = K\n",
    "Payer_SABR_df['SABR_Price'] = SABR_lst\n",
    "Payer_SABR_df"
   ]
  },
  {
   "cell_type": "markdown",
   "id": "d308c1c7",
   "metadata": {},
   "source": [
    "####  Receiver 8y × 10y K = 1\\%,2\\%,3\\%,4\\%,5\\%,6\\%,7\\%, 8\\%"
   ]
  },
  {
   "cell_type": "code",
   "execution_count": 40,
   "id": "c79e3b31",
   "metadata": {
    "ExecuteTime": {
     "end_time": "2024-04-02T11:14:35.580070Z",
     "start_time": "2024-04-02T11:14:35.575139Z"
    }
   },
   "outputs": [],
   "source": [
    "# Interpolate alpha, rho and nu\n",
    "alpha5 = Alpha_SABR.loc['5Y', '10Y']\n",
    "alpha10 = Alpha_SABR.loc['10Y', '10Y']\n",
    "alpha_810 = ((alpha10 - alpha5) / (10-5) * (8-5)) + alpha5\n",
    "\n",
    "rho5 = Rho_SABR.loc['5Y', '10Y']\n",
    "rho10 = Rho_SABR.loc['10Y', '10Y']\n",
    "rho_810 = ((rho10 - rho5) / (10-5) * (8-5)) + rho5\n",
    "\n",
    "nu5 = Nu_SABR.loc['5Y', '10Y']\n",
    "nu10 = Nu_SABR.loc['10Y', '10Y']\n",
    "nu_810 = ((nu10 - nu5) / (10-5) * (8-5)) + nu5"
   ]
  },
  {
   "cell_type": "code",
   "execution_count": 41,
   "id": "01c080b2",
   "metadata": {
    "ExecuteTime": {
     "end_time": "2024-04-02T11:14:36.655074Z",
     "start_time": "2024-04-02T11:14:36.644149Z"
    }
   },
   "outputs": [],
   "source": [
    "beta = 0.9\n",
    "Frate_810 = forward_swap_rate(8, 10)\n",
    "K = [0.01, 0.02, 0.03, 0.04, 0.05, 0.06, 0.07, 0.08]\n",
    "T = 8\n",
    "pvbp2 = 0.5 * discount_factor_df.iloc[2*8:2*(10+2), 0].values.sum()\n",
    "SABR_lst = []\n",
    "for i in K: \n",
    "    price = pvbp1 * Black76Put(Frate_810, i, SABR(Frate_810, i, T, alpha_810, beta, rho_810, nu_810), T)\n",
    "    SABR_lst.append(price)"
   ]
  },
  {
   "cell_type": "code",
   "execution_count": 42,
   "id": "63a1fd0e",
   "metadata": {
    "ExecuteTime": {
     "end_time": "2024-04-02T11:14:50.991257Z",
     "start_time": "2024-04-02T11:14:50.980768Z"
    }
   },
   "outputs": [
    {
     "data": {
      "text/html": [
       "<div>\n",
       "<style scoped>\n",
       "    .dataframe tbody tr th:only-of-type {\n",
       "        vertical-align: middle;\n",
       "    }\n",
       "\n",
       "    .dataframe tbody tr th {\n",
       "        vertical-align: top;\n",
       "    }\n",
       "\n",
       "    .dataframe thead th {\n",
       "        text-align: right;\n",
       "    }\n",
       "</style>\n",
       "<table border=\"1\" class=\"dataframe\">\n",
       "  <thead>\n",
       "    <tr style=\"text-align: right;\">\n",
       "      <th></th>\n",
       "      <th>Strikes</th>\n",
       "      <th>SABR_Price</th>\n",
       "    </tr>\n",
       "  </thead>\n",
       "  <tbody>\n",
       "    <tr>\n",
       "      <th>0</th>\n",
       "      <td>0.01</td>\n",
       "      <td>0.019265</td>\n",
       "    </tr>\n",
       "    <tr>\n",
       "      <th>1</th>\n",
       "      <td>0.02</td>\n",
       "      <td>0.039012</td>\n",
       "    </tr>\n",
       "    <tr>\n",
       "      <th>2</th>\n",
       "      <td>0.03</td>\n",
       "      <td>0.062656</td>\n",
       "    </tr>\n",
       "    <tr>\n",
       "      <th>3</th>\n",
       "      <td>0.04</td>\n",
       "      <td>0.093088</td>\n",
       "    </tr>\n",
       "    <tr>\n",
       "      <th>4</th>\n",
       "      <td>0.05</td>\n",
       "      <td>0.134714</td>\n",
       "    </tr>\n",
       "    <tr>\n",
       "      <th>5</th>\n",
       "      <td>0.06</td>\n",
       "      <td>0.192162</td>\n",
       "    </tr>\n",
       "    <tr>\n",
       "      <th>6</th>\n",
       "      <td>0.07</td>\n",
       "      <td>0.265302</td>\n",
       "    </tr>\n",
       "    <tr>\n",
       "      <th>7</th>\n",
       "      <td>0.08</td>\n",
       "      <td>0.348860</td>\n",
       "    </tr>\n",
       "  </tbody>\n",
       "</table>\n",
       "</div>"
      ],
      "text/plain": [
       "   Strikes  SABR_Price\n",
       "0     0.01    0.019265\n",
       "1     0.02    0.039012\n",
       "2     0.03    0.062656\n",
       "3     0.04    0.093088\n",
       "4     0.05    0.134714\n",
       "5     0.06    0.192162\n",
       "6     0.07    0.265302\n",
       "7     0.08    0.348860"
      ]
     },
     "execution_count": 42,
     "metadata": {},
     "output_type": "execute_result"
    }
   ],
   "source": [
    "Receiver_SABR_df = pd.DataFrame()\n",
    "Receiver_SABR_df['Strikes'] = K\n",
    "Receiver_SABR_df['SABR_Price'] = SABR_lst\n",
    "Receiver_SABR_df"
   ]
  },
  {
   "cell_type": "code",
   "execution_count": null,
   "id": "a4d4f53f9496d20a",
   "metadata": {
    "collapsed": false,
    "jupyter": {
     "outputs_hidden": false
    }
   },
   "outputs": [],
   "source": []
  }
 ],
 "metadata": {
  "kernelspec": {
   "display_name": "Python 3 (ipykernel)",
   "language": "python",
   "name": "python3"
  },
  "language_info": {
   "codemirror_mode": {
    "name": "ipython",
    "version": 3
   },
   "file_extension": ".py",
   "mimetype": "text/x-python",
   "name": "python",
   "nbconvert_exporter": "python",
   "pygments_lexer": "ipython3",
   "version": "3.12.0"
  }
 },
 "nbformat": 4,
 "nbformat_minor": 5
}
