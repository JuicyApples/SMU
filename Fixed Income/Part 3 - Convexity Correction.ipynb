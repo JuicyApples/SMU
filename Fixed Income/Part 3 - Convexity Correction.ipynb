{
 "cells": [
  {
   "cell_type": "code",
   "execution_count": 1,
   "id": "5ca7b90b",
   "metadata": {
    "ExecuteTime": {
     "end_time": "2024-04-01T14:00:47.521520Z",
     "start_time": "2024-04-01T14:00:46.300492Z"
    }
   },
   "outputs": [],
   "source": [
    "import numpy as np\n",
    "import pandas as pd\n",
    "import matplotlib.pyplot as plt\n",
    "from scipy.stats import norm\n",
    "from scipy.integrate import quad\n",
    "from math import log, sqrt, exp\n",
    "\n",
    "import warnings\n",
    "warnings.filterwarnings(\"ignore\")"
   ]
  },
  {
   "cell_type": "code",
   "execution_count": 2,
   "id": "e22816da",
   "metadata": {
    "ExecuteTime": {
     "end_time": "2024-04-01T14:00:48.250637Z",
     "start_time": "2024-04-01T14:00:48.243027Z"
    }
   },
   "outputs": [],
   "source": [
    "def SABR(F, K, T, alpha, beta, rho, nu):\n",
    "    X = K\n",
    "    # if K is at-the-money-forward\n",
    "    if abs(F - K) < 1e-12:\n",
    "        numer1 = (((1 - beta)**2)/24)*alpha*alpha/(F**(2 - 2*beta))\n",
    "        numer2 = 0.25*rho*beta*nu*alpha/(F**(1 - beta))\n",
    "        numer3 = ((2 - 3*rho*rho)/24)*nu*nu\n",
    "        VolAtm = alpha*(1 + (numer1 + numer2 + numer3)*T)/(F**(1-beta))\n",
    "        sabrsigma = VolAtm\n",
    "    else:\n",
    "        z = (nu/alpha)*((F*X)**(0.5*(1-beta)))*np.log(F/X)\n",
    "        zhi = np.log((((1 - 2*rho*z + z*z)**0.5) + z - rho)/(1 - rho))\n",
    "        numer1 = (((1 - beta)**2)/24)*((alpha*alpha)/((F*X)**(1 - beta)))\n",
    "        numer2 = 0.25*rho*beta*nu*alpha/((F*X)**((1 - beta)/2))\n",
    "        numer3 = ((2 - 3*rho*rho)/24)*nu*nu\n",
    "        numer = alpha*(1 + (numer1 + numer2 + numer3)*T)*z\n",
    "        denom1 = ((1 - beta)**2/24)*(np.log(F/X))**2\n",
    "        denom2 = (((1 - beta)**4)/1920)*((np.log(F/X))**4)\n",
    "        denom = ((F*X)**((1 - beta)/2))*(1 + denom1 + denom2)*zhi\n",
    "        sabrsigma = numer/denom\n",
    "\n",
    "    return sabrsigma"
   ]
  },
  {
   "cell_type": "code",
   "execution_count": 3,
   "id": "052f18ed",
   "metadata": {
    "ExecuteTime": {
     "end_time": "2024-04-01T14:00:49.742433Z",
     "start_time": "2024-04-01T14:00:49.737201Z"
    }
   },
   "outputs": [],
   "source": [
    "def IRR_0(K, m, N):\n",
    "    # implementation of IRR(K) function\n",
    "    value = 1/(K) * ( 1.0 - 1/(1 + K/m)**(N*m))\n",
    "    return value\n",
    "\n",
    "def IRR_1(K, m, N):\n",
    "    # implementation of IRR'(K) function (1st derivative)\n",
    "    firstDerivative = -1/(K)*IRR_0(K, m, N) + 1/(K*m)*N*m/(1+K/m)**(N*m+1)\n",
    "    return firstDerivative\n",
    "\n",
    "def IRR_2(K, m, N):\n",
    "    # implementation of IRR''(K) function (2nd derivative)\n",
    "    secondDerivative = -2/(K)*IRR_1(K, m, N) - 1/(K*m*m)*(N*m)*(N*m+1)/(1+K/m)**(N*m+2)\n",
    "    return secondDerivative"
   ]
  },
  {
   "cell_type": "code",
   "execution_count": 4,
   "id": "f81dbf77",
   "metadata": {
    "ExecuteTime": {
     "end_time": "2024-04-01T14:00:50.556790Z",
     "start_time": "2024-04-01T14:00:50.552853Z"
    }
   },
   "outputs": [],
   "source": [
    "# def payoff second derivative function\n",
    "def payoff_2(K, m, N):\n",
    "    payoff = ((-IRR_2(K, m, N) * K - 2 * IRR_1(K, m, N)) / (IRR_0(K, m, N) ** 2)) + \\\n",
    "    ((2 * (IRR_1(K, m, N) ** 2) * K) / IRR_0(K, m, N) ** 3)\n",
    "    return payoff"
   ]
  },
  {
   "cell_type": "code",
   "execution_count": 5,
   "id": "bde6d6ea",
   "metadata": {
    "ExecuteTime": {
     "end_time": "2024-04-01T14:00:51.249999Z",
     "start_time": "2024-04-01T14:00:51.243569Z"
    }
   },
   "outputs": [],
   "source": [
    "def Black76Call(F, K, sigma, T):\n",
    "    d1 = (log(F / K) + (1 / 2) * (sigma ** 2) * T) / (sigma * sqrt(T))\n",
    "    d2 = d1 - sigma * sqrt(T)\n",
    "    V =  F * norm.cdf(d1) - K * norm.cdf(d2)\n",
    "    return V\n",
    "\n",
    "def Black76Put(F, K, sigma, T):\n",
    "    d1 = (log(F / K) + (1 / 2) * (sigma ** 2) * T) / (sigma * sqrt(T))\n",
    "    d2 = d1 - sigma * sqrt(T)\n",
    "    V = K * norm.cdf(-d2) - F * norm.cdf(-d1)\n",
    "    return V"
   ]
  },
  {
   "cell_type": "code",
   "execution_count": 6,
   "id": "16384c97",
   "metadata": {
    "ExecuteTime": {
     "end_time": "2024-04-01T14:00:52.075952Z",
     "start_time": "2024-04-01T14:00:52.069490Z"
    }
   },
   "outputs": [],
   "source": [
    "# integrand of receiver price part\n",
    "def integrand_put(K, m, N, sigma, df, F, T):\n",
    "    h = payoff_2(K, m, N)\n",
    "    V_put = df * Black76Put(F, K, sigma, T)\n",
    "    return h * V_put\n",
    "# integrand of payer price part\n",
    "def integrand_call(K, m, N, sigma, df, F, T):\n",
    "    h = payoff_2(K, m, N)\n",
    "    V_call = df * Black76Call(F, K, sigma, T)\n",
    "    return h * V_call"
   ]
  },
  {
   "cell_type": "code",
   "execution_count": 7,
   "id": "0060e7c6",
   "metadata": {
    "ExecuteTime": {
     "end_time": "2024-04-01T14:00:52.925695Z",
     "start_time": "2024-04-01T14:00:52.916044Z"
    }
   },
   "outputs": [],
   "source": [
    "Discount_Factor_df = pd.read_csv('Discount_Factors.csv')\n",
    "Discount_Factor_df.set_index('Tenor', drop=True, inplace=True)"
   ]
  },
  {
   "cell_type": "markdown",
   "id": "8edb1a38",
   "metadata": {},
   "source": [
    "## Question 1: Use SABR Model to Value the CMS Products "
   ]
  },
  {
   "cell_type": "markdown",
   "id": "f7bf2c4c",
   "metadata": {},
   "source": [
    "### PV of a leg receiving CMS10y semi-annually over the next 5 years "
   ]
  },
  {
   "cell_type": "code",
   "execution_count": 8,
   "id": "0ab89706",
   "metadata": {
    "ExecuteTime": {
     "end_time": "2024-04-01T14:00:54.779379Z",
     "start_time": "2024-04-01T14:00:54.774594Z"
    }
   },
   "outputs": [],
   "source": [
    "def forward_swap_rate(expiry, tenor, m, N):\n",
    "    if type(expiry) == str: \n",
    "        expiry = float(expiry.replace('Y', ''))\n",
    "    tenor = int(tenor.replace('Y', ''))\n",
    "    fixed_leg = m * (Discount_Factor_df.iloc[int(N*expiry):int(N*(expiry+tenor)), 0].values.sum())\n",
    "    float_leg = 0\n",
    "    for k in range(int(N * expiry), int(N * (expiry + tenor))):\n",
    "        float_leg = float_leg + (Discount_Factor_df.iloc[k, 0] * \\\n",
    "                                ((Discount_Factor_df.iloc[k-1, 1] - Discount_Factor_df.iloc[k, 1]) / Discount_Factor_df.iloc[k, 1]))\n",
    "    forward_swap_rate = float_leg / fixed_leg\n",
    "    return forward_swap_rate"
   ]
  },
  {
   "cell_type": "code",
   "execution_count": 9,
   "id": "33ae7207",
   "metadata": {
    "ExecuteTime": {
     "end_time": "2024-04-01T14:00:55.669216Z",
     "start_time": "2024-04-01T14:00:55.665741Z"
    }
   },
   "outputs": [],
   "source": [
    "freq_lst = ['0.5Y', '1Y', '1.5Y', '2Y', '2.5Y', '3Y', '3.5Y', '4Y', '4.5Y', '5Y']\n",
    "tenor_l = ['10Y']"
   ]
  },
  {
   "cell_type": "code",
   "execution_count": 10,
   "id": "3b6944b8",
   "metadata": {
    "ExecuteTime": {
     "end_time": "2024-04-01T14:00:56.235001Z",
     "start_time": "2024-04-01T14:00:56.217402Z"
    }
   },
   "outputs": [],
   "source": [
    "# compute forward swap rate for next 5 years with tenor as 10 years\n",
    "swap_rate = []\n",
    "m = 0.5\n",
    "N = 2\n",
    "for i in freq_lst:\n",
    "    for j in tenor_l:\n",
    "        S = forward_swap_rate(i, j, m, N)\n",
    "        swap_rate.append(S)"
   ]
  },
  {
   "cell_type": "code",
   "execution_count": 11,
   "id": "6ddba47a",
   "metadata": {
    "scrolled": true,
    "ExecuteTime": {
     "end_time": "2024-04-01T14:00:56.634918Z",
     "start_time": "2024-04-01T14:00:56.624871Z"
    }
   },
   "outputs": [],
   "source": [
    "alpha = pd.read_csv('Alpha_SABR.csv')\n",
    "alpha1 = alpha.copy()\n",
    "alpha_value = alpha1.iloc[:-1, -1].values\n",
    "\n",
    "rho = pd.read_csv('Rho_SABR.csv')\n",
    "rho1 = rho.copy()\n",
    "rho_value = rho1.iloc[:-1, -1].values\n",
    "\n",
    "nu = pd.read_csv('Nu_SABR.csv')\n",
    "nu1 = nu.copy()\n",
    "nu_value = nu1.iloc[:-1, -1].values"
   ]
  },
  {
   "cell_type": "code",
   "execution_count": 12,
   "id": "38920c6b",
   "metadata": {
    "ExecuteTime": {
     "end_time": "2024-04-01T14:00:57.183306Z",
     "start_time": "2024-04-01T14:00:57.176713Z"
    }
   },
   "outputs": [],
   "source": [
    "cms_df = pd.DataFrame({'freq': freq_lst, \n",
    "                       'swap_rate': swap_rate, \n",
    "                       'OIS_DF':Discount_Factor_df.iloc[:10, 0]})\n",
    "cms_df['alpha'] = np.nan\n",
    "cms_df['rho'] = np.nan\n",
    "cms_df['nu'] = np.nan"
   ]
  },
  {
   "cell_type": "code",
   "execution_count": 13,
   "id": "b4b764e5",
   "metadata": {
    "ExecuteTime": {
     "end_time": "2024-04-01T14:00:57.617980Z",
     "start_time": "2024-04-01T14:00:57.608610Z"
    }
   },
   "outputs": [],
   "source": [
    "cms_df['alpha'][0] = alpha_value[0]\n",
    "cms_df['alpha'][1] = alpha_value[0]\n",
    "cms_df['alpha'][9] = alpha_value[1]\n",
    "\n",
    "cms_df['rho'][0] = rho_value[0]\n",
    "cms_df['rho'][1] = rho_value[0]\n",
    "cms_df['rho'][9] = rho_value[1]\n",
    "\n",
    "cms_df['nu'][0] = nu_value[0]\n",
    "cms_df['nu'][1] = nu_value[0]\n",
    "cms_df['nu'][9] = nu_value[1]"
   ]
  },
  {
   "cell_type": "code",
   "execution_count": 14,
   "id": "4920b20a",
   "metadata": {
    "ExecuteTime": {
     "end_time": "2024-04-01T14:00:58.085177Z",
     "start_time": "2024-04-01T14:00:58.078119Z"
    }
   },
   "outputs": [],
   "source": [
    "# linear interpolation for calibrated SABR model parameters\n",
    "cms_df['alpha'] = cms_df['alpha'].interpolate()\n",
    "cms_df['rho'] = cms_df['rho'].interpolate()\n",
    "cms_df['nu'] = cms_df['nu'].interpolate()"
   ]
  },
  {
   "cell_type": "code",
   "execution_count": 15,
   "id": "a8fa3261",
   "metadata": {
    "ExecuteTime": {
     "end_time": "2024-04-01T14:00:58.770521Z",
     "start_time": "2024-04-01T14:00:58.754762Z"
    }
   },
   "outputs": [
    {
     "data": {
      "text/plain": "       freq  swap_rate    OIS_DF     alpha       rho        nu\nTenor                                                         \n0.5    0.5Y   0.037845  0.998752  0.180561 -0.377000  0.646509\n1.0      1Y   0.038428  0.997009  0.180561 -0.377000  0.646509\n1.5    1.5Y   0.039020  0.995270  0.180436 -0.388195  0.625974\n2.0      2Y   0.039634  0.993531  0.180311 -0.399389  0.605439\n2.5    2.5Y   0.040200  0.991773  0.180187 -0.410584  0.584904\n3.0      3Y   0.040788  0.990015  0.180062 -0.421779  0.564369\n3.5    3.5Y   0.041412  0.988066  0.179937 -0.432973  0.543834\n4.0      4Y   0.042062  0.986117  0.179812 -0.444168  0.523299\n4.5    4.5Y   0.042831  0.984150  0.179688 -0.455362  0.502765\n5.0      5Y   0.043634  0.982184  0.179563 -0.466557  0.482230",
      "text/html": "<div>\n<style scoped>\n    .dataframe tbody tr th:only-of-type {\n        vertical-align: middle;\n    }\n\n    .dataframe tbody tr th {\n        vertical-align: top;\n    }\n\n    .dataframe thead th {\n        text-align: right;\n    }\n</style>\n<table border=\"1\" class=\"dataframe\">\n  <thead>\n    <tr style=\"text-align: right;\">\n      <th></th>\n      <th>freq</th>\n      <th>swap_rate</th>\n      <th>OIS_DF</th>\n      <th>alpha</th>\n      <th>rho</th>\n      <th>nu</th>\n    </tr>\n    <tr>\n      <th>Tenor</th>\n      <th></th>\n      <th></th>\n      <th></th>\n      <th></th>\n      <th></th>\n      <th></th>\n    </tr>\n  </thead>\n  <tbody>\n    <tr>\n      <th>0.5</th>\n      <td>0.5Y</td>\n      <td>0.037845</td>\n      <td>0.998752</td>\n      <td>0.180561</td>\n      <td>-0.377000</td>\n      <td>0.646509</td>\n    </tr>\n    <tr>\n      <th>1.0</th>\n      <td>1Y</td>\n      <td>0.038428</td>\n      <td>0.997009</td>\n      <td>0.180561</td>\n      <td>-0.377000</td>\n      <td>0.646509</td>\n    </tr>\n    <tr>\n      <th>1.5</th>\n      <td>1.5Y</td>\n      <td>0.039020</td>\n      <td>0.995270</td>\n      <td>0.180436</td>\n      <td>-0.388195</td>\n      <td>0.625974</td>\n    </tr>\n    <tr>\n      <th>2.0</th>\n      <td>2Y</td>\n      <td>0.039634</td>\n      <td>0.993531</td>\n      <td>0.180311</td>\n      <td>-0.399389</td>\n      <td>0.605439</td>\n    </tr>\n    <tr>\n      <th>2.5</th>\n      <td>2.5Y</td>\n      <td>0.040200</td>\n      <td>0.991773</td>\n      <td>0.180187</td>\n      <td>-0.410584</td>\n      <td>0.584904</td>\n    </tr>\n    <tr>\n      <th>3.0</th>\n      <td>3Y</td>\n      <td>0.040788</td>\n      <td>0.990015</td>\n      <td>0.180062</td>\n      <td>-0.421779</td>\n      <td>0.564369</td>\n    </tr>\n    <tr>\n      <th>3.5</th>\n      <td>3.5Y</td>\n      <td>0.041412</td>\n      <td>0.988066</td>\n      <td>0.179937</td>\n      <td>-0.432973</td>\n      <td>0.543834</td>\n    </tr>\n    <tr>\n      <th>4.0</th>\n      <td>4Y</td>\n      <td>0.042062</td>\n      <td>0.986117</td>\n      <td>0.179812</td>\n      <td>-0.444168</td>\n      <td>0.523299</td>\n    </tr>\n    <tr>\n      <th>4.5</th>\n      <td>4.5Y</td>\n      <td>0.042831</td>\n      <td>0.984150</td>\n      <td>0.179688</td>\n      <td>-0.455362</td>\n      <td>0.502765</td>\n    </tr>\n    <tr>\n      <th>5.0</th>\n      <td>5Y</td>\n      <td>0.043634</td>\n      <td>0.982184</td>\n      <td>0.179563</td>\n      <td>-0.466557</td>\n      <td>0.482230</td>\n    </tr>\n  </tbody>\n</table>\n</div>"
     },
     "execution_count": 15,
     "metadata": {},
     "output_type": "execute_result"
    }
   ],
   "source": [
    "cms_df"
   ]
  },
  {
   "cell_type": "code",
   "execution_count": 16,
   "id": "d4340533",
   "metadata": {
    "ExecuteTime": {
     "end_time": "2024-04-01T14:00:59.718755Z",
     "start_time": "2024-04-01T14:00:59.489993Z"
    }
   },
   "outputs": [],
   "source": [
    "beta = 0.9\n",
    "# compute cms rate\n",
    "cms_rate = []\n",
    "for i in range(len(freq_lst)):\n",
    "    F = cms_df['swap_rate'].iloc[i]\n",
    "    T = (i + 1) / 2\n",
    "    N = 10\n",
    "    m = 2\n",
    "    sigma = SABR(F, F, T, cms_df['alpha'].iloc[i], beta, cms_df['rho'].iloc[i], cms_df['nu'].iloc[i])\n",
    "    integral_term1 = quad(lambda x: integrand_put(x, m, N, sigma, IRR_0(F, N, m) , F, T), 0, F)\n",
    "    integral_term2 = quad(lambda x: integrand_call(x, m, N, sigma, IRR_0(F, N, m), F, T), F, np.inf)\n",
    "    rate = F + sum(integral_term1 + integral_term2)\n",
    "    cms_rate.append(rate)"
   ]
  },
  {
   "cell_type": "code",
   "execution_count": 17,
   "id": "6312adb4",
   "metadata": {
    "ExecuteTime": {
     "end_time": "2024-04-01T14:01:00.084939Z",
     "start_time": "2024-04-01T14:01:00.081063Z"
    }
   },
   "outputs": [],
   "source": [
    "cms_df['CMS_rate'] = cms_rate"
   ]
  },
  {
   "cell_type": "code",
   "execution_count": 18,
   "id": "325be7d7",
   "metadata": {
    "ExecuteTime": {
     "end_time": "2024-04-01T14:01:00.800088Z",
     "start_time": "2024-04-01T14:01:00.794810Z"
    }
   },
   "outputs": [],
   "source": [
    "cms_df.to_csv('CMS_Rate_10y.csv')"
   ]
  },
  {
   "cell_type": "code",
   "execution_count": 19,
   "id": "623354bf",
   "metadata": {
    "ExecuteTime": {
     "end_time": "2024-04-01T14:01:01.268553Z",
     "start_time": "2024-04-01T14:01:01.263565Z"
    }
   },
   "outputs": [
    {
     "name": "stdout",
     "output_type": "stream",
     "text": [
      "The PV of a Leg Receiving CMS10y Semi-Annually Over the Next 5 Years is 0.20304196105699154\n"
     ]
    }
   ],
   "source": [
    "# calculate the PV of leg of CMS product\n",
    "PV = []\n",
    "freq = 0.5\n",
    "for i in range(len(freq_lst)):\n",
    "    pv = freq * cms_df['OIS_DF'].iloc[i] * cms_df['CMS_rate'].iloc[i]\n",
    "    PV.append(pv)\n",
    "sum(PV)\n",
    "print('The PV of a Leg Receiving CMS10y Semi-Annually Over the Next 5 Years is', sum(PV))"
   ]
  },
  {
   "cell_type": "markdown",
   "id": "267fc680",
   "metadata": {},
   "source": [
    "###  PV of a leg receiving CMS2y quarterly over the next 10 years"
   ]
  },
  {
   "cell_type": "code",
   "execution_count": 20,
   "id": "c15643eb",
   "metadata": {
    "ExecuteTime": {
     "end_time": "2024-04-01T14:01:02.408185Z",
     "start_time": "2024-04-01T14:01:02.403686Z"
    }
   },
   "outputs": [],
   "source": [
    "def forward_swap_rate2(expiry, tenor, m, N):\n",
    "    if type(expiry) == str: \n",
    "        expiry = float(expiry.replace('Y', ''))\n",
    "    tenor = int(tenor.replace('Y', ''))\n",
    "    fixed_leg = m * (Discount_Factor_df2.iloc[int(N*expiry):int(N*(expiry+tenor)), 0].values.sum())\n",
    "    float_leg = 0\n",
    "    for k in range(int(N * expiry), int(N * (expiry + tenor))):\n",
    "        float_leg = float_leg + (Discount_Factor_df2.iloc[k, 0] * \\\n",
    "                                ((Discount_Factor_df2.iloc[k-1, 1] - Discount_Factor_df2.iloc[k, 1]) / Discount_Factor_df2.iloc[k, 1]))\n",
    "    forward_swap_rate = float_leg / fixed_leg\n",
    "    return forward_swap_rate"
   ]
  },
  {
   "cell_type": "code",
   "execution_count": 21,
   "id": "7e23dabf",
   "metadata": {
    "scrolled": true,
    "ExecuteTime": {
     "end_time": "2024-04-01T14:01:02.931544Z",
     "start_time": "2024-04-01T14:01:02.925697Z"
    }
   },
   "outputs": [],
   "source": [
    "## Because the day count fraction be quarter annually\n",
    "## thus we need to change the discount factor to be quarter annually\n",
    "## then we need to interpolate the necessary missing discount factors\n",
    "Discount_Factor_df2 = pd.DataFrame()\n",
    "tenor_lst2 = np.linspace(0.25, 12.5, 50)\n",
    "Discount_Factor_df2['Tenor'] = tenor_lst2\n",
    "Discount_Factor_df2.set_index('Tenor', drop=True, inplace=True)\n",
    "Discount_Factor_df2['OIS_DF'] = np.nan\n",
    "Discount_Factor_df2['LIBOR_DF']= np.nan"
   ]
  },
  {
   "cell_type": "code",
   "execution_count": 22,
   "id": "e22aa6e8",
   "metadata": {
    "ExecuteTime": {
     "end_time": "2024-04-01T14:01:03.515132Z",
     "start_time": "2024-04-01T14:01:03.511456Z"
    }
   },
   "outputs": [],
   "source": [
    "Discount_Factor_df2['OIS_DF'] = Discount_Factor_df['OIS_DF']\n",
    "Discount_Factor_df2['LIBOR_DF'] = Discount_Factor_df['LIBOR_DF']"
   ]
  },
  {
   "cell_type": "code",
   "execution_count": 23,
   "id": "096b90c8",
   "metadata": {
    "ExecuteTime": {
     "end_time": "2024-04-01T14:01:04.038753Z",
     "start_time": "2024-04-01T14:01:04.032214Z"
    }
   },
   "outputs": [],
   "source": [
    "Discount_Factor_df2['OIS_DF'] = Discount_Factor_df2['OIS_DF'].interpolate(limit_direction = \\\n",
    "                                                                          'both')\n",
    "Discount_Factor_df2['LIBOR_DF'] = Discount_Factor_df2['LIBOR_DF'].interpolate(limit_direction = \\\n",
    "                                                                              'both')"
   ]
  },
  {
   "cell_type": "code",
   "execution_count": 24,
   "id": "63c572d3",
   "metadata": {
    "ExecuteTime": {
     "end_time": "2024-04-01T14:01:04.614361Z",
     "start_time": "2024-04-01T14:01:04.610962Z"
    }
   },
   "outputs": [],
   "source": [
    "freq_lst2 = np.linspace(0.25, 10, 40)\n",
    "tenor_l2 = ['2Y']"
   ]
  },
  {
   "cell_type": "code",
   "execution_count": 25,
   "id": "0a65cf72",
   "metadata": {
    "scrolled": false,
    "ExecuteTime": {
     "end_time": "2024-04-01T14:01:05.147368Z",
     "start_time": "2024-04-01T14:01:05.116861Z"
    }
   },
   "outputs": [],
   "source": [
    "swap_rate2 = []\n",
    "m = 0.25\n",
    "N = 4\n",
    "for i in freq_lst2:\n",
    "    for j in tenor_l2:\n",
    "        S = forward_swap_rate2(i, j, m, N)\n",
    "        swap_rate2.append(S)"
   ]
  },
  {
   "cell_type": "code",
   "execution_count": 26,
   "id": "b5da05f4",
   "metadata": {
    "ExecuteTime": {
     "end_time": "2024-04-01T14:01:05.718455Z",
     "start_time": "2024-04-01T14:01:05.713535Z"
    }
   },
   "outputs": [],
   "source": [
    "alpha_value2 = alpha1.iloc[:, -1].values\n",
    "\n",
    "rho_value2 = rho1.iloc[:, -1].values\n",
    "\n",
    "nu_value2 = nu1.iloc[:, -1].values"
   ]
  },
  {
   "cell_type": "code",
   "execution_count": 27,
   "id": "1e4a9a05",
   "metadata": {
    "ExecuteTime": {
     "end_time": "2024-04-01T14:01:06.323708Z",
     "start_time": "2024-04-01T14:01:06.319023Z"
    }
   },
   "outputs": [],
   "source": [
    "cms_df2 = pd.DataFrame({'freq': freq_lst2, \n",
    "                       'swap_rate': swap_rate2, \n",
    "                       'OIS_DF':Discount_Factor_df2.iloc[:40, 0]})\n",
    "cms_df2['alpha'] = np.nan\n",
    "cms_df2['rho'] = np.nan\n",
    "cms_df2['nu'] = np.nan"
   ]
  },
  {
   "cell_type": "code",
   "execution_count": 28,
   "id": "d9d3e1f6",
   "metadata": {
    "ExecuteTime": {
     "end_time": "2024-04-01T14:01:06.863700Z",
     "start_time": "2024-04-01T14:01:06.857658Z"
    }
   },
   "outputs": [],
   "source": [
    "# cms_df2['alpha'][0] = alpha_value2[0]\n",
    "cms_df2['alpha'][1] = alpha_value2[0]\n",
    "cms_df2['alpha'][5] = alpha_value2[1]\n",
    "cms_df2['alpha'][10] = alpha_value2[2]\n",
    "\n",
    "# cms_df2['rho'][0] = rho_value2[0]\n",
    "cms_df2['rho'][1] = rho_value2[0]\n",
    "cms_df2['rho'][5] = rho_value2[1]\n",
    "cms_df2['rho'][10] = rho_value2[2]\n",
    "\n",
    "\n",
    "# cms_df2['nu'][0] = nu_value2[0]\n",
    "cms_df2['nu'][1] = nu_value2[0]\n",
    "cms_df2['nu'][5] = nu_value2[1]\n",
    "cms_df2['nu'][10] = nu_value2[2]\n"
   ]
  },
  {
   "cell_type": "code",
   "execution_count": 29,
   "id": "1ae0d3a0",
   "metadata": {
    "ExecuteTime": {
     "end_time": "2024-04-01T14:01:07.547599Z",
     "start_time": "2024-04-01T14:01:07.538136Z"
    }
   },
   "outputs": [],
   "source": [
    "cms_df2['alpha'] = cms_df2['alpha'].interpolate(limit_direction = 'both')\n",
    "cms_df2['rho'] = cms_df2['rho'].interpolate(limit_direction = 'both')\n",
    "cms_df2['nu'] = cms_df2['nu'].interpolate(limit_direction = 'both')"
   ]
  },
  {
   "cell_type": "code",
   "execution_count": 30,
   "id": "fa2712e6",
   "metadata": {
    "ExecuteTime": {
     "end_time": "2024-04-01T14:01:09.199524Z",
     "start_time": "2024-04-01T14:01:08.059132Z"
    }
   },
   "outputs": [],
   "source": [
    "beta = 0.9\n",
    "# cms rate computation\n",
    "cms_rate2 = []\n",
    "for i in range(len(freq_lst2)):\n",
    "    F = cms_df2['swap_rate'].iloc[i]\n",
    "    T = (i + 1) / 4\n",
    "    N = 2\n",
    "    m = 4\n",
    "    sigma = SABR(F, F, T, cms_df2['alpha'].iloc[i], beta, cms_df2['rho'].iloc[i], cms_df2['nu'].iloc[i])\n",
    "    print\n",
    "    integral_term1 = quad(lambda x: integrand_put(x, m, N, sigma, IRR_0(F, N, m) , F, T), 0, F)\n",
    "    integral_term2 = quad(lambda x: integrand_call(x, m, N, sigma, IRR_0(F, N, m), F, T), F, np.inf)\n",
    "    rate = F + sum(integral_term1 + integral_term2)\n",
    "    cms_rate2.append(rate)"
   ]
  },
  {
   "cell_type": "code",
   "execution_count": 31,
   "id": "bad4e12b",
   "metadata": {
    "ExecuteTime": {
     "end_time": "2024-04-01T14:01:09.759242Z",
     "start_time": "2024-04-01T14:01:09.755456Z"
    }
   },
   "outputs": [],
   "source": [
    "cms_df2['CMS_rate'] = cms_rate2"
   ]
  },
  {
   "cell_type": "code",
   "execution_count": 32,
   "id": "8f52fe4f",
   "metadata": {
    "ExecuteTime": {
     "end_time": "2024-04-01T14:01:10.462716Z",
     "start_time": "2024-04-01T14:01:10.457155Z"
    }
   },
   "outputs": [
    {
     "name": "stdout",
     "output_type": "stream",
     "text": [
      "The PV of a Leg Receiving CMS10y Semi-Annually Over the Next 5 Years is 0.38932460068991026\n"
     ]
    }
   ],
   "source": [
    "# calculate the PV of leg of CMS product\n",
    "PV2 = []\n",
    "freq = 0.25\n",
    "for i in range(len(freq_lst2)):\n",
    "    pv = freq * cms_df2['OIS_DF'].iloc[i] * cms_df2['CMS_rate'].iloc[i]\n",
    "    PV2.append(pv)\n",
    "sum(PV2)\n",
    "print('The PV of a Leg Receiving CMS10y Semi-Annually Over the Next 5 Years is', sum(PV2))"
   ]
  },
  {
   "cell_type": "markdown",
   "id": "46490540",
   "metadata": {},
   "source": [
    "## Question 2: Compare Forward Swap Rates and CMS Rates"
   ]
  },
  {
   "cell_type": "code",
   "execution_count": 33,
   "id": "5191a037",
   "metadata": {
    "ExecuteTime": {
     "end_time": "2024-04-01T14:01:12.047835Z",
     "start_time": "2024-04-01T14:01:12.044442Z"
    }
   },
   "outputs": [],
   "source": [
    "expiry_lst = [1, 5, 10]\n",
    "tenor_lst = [1, 2, 3, 5, 10]"
   ]
  },
  {
   "cell_type": "code",
   "execution_count": 34,
   "id": "3142dffe",
   "metadata": {
    "ExecuteTime": {
     "end_time": "2024-04-01T14:01:12.588755Z",
     "start_time": "2024-04-01T14:01:12.582181Z"
    }
   },
   "outputs": [],
   "source": [
    "swap_rate_df = pd.read_csv('forward_swap_rate.csv')\n",
    "swap_rate_df.set_index('tenor', drop=True, inplace=True)\n",
    "swap_rate_df2 = pd.read_csv('forward_swap_rate2.csv')"
   ]
  },
  {
   "cell_type": "code",
   "execution_count": 35,
   "id": "34cd06df",
   "metadata": {
    "scrolled": false,
    "ExecuteTime": {
     "end_time": "2024-04-01T14:01:13.164425Z",
     "start_time": "2024-04-01T14:01:13.155045Z"
    }
   },
   "outputs": [
    {
     "data": {
      "text/plain": "             1Y        5Y       10Y\ntenor                              \n1Y     0.032007  0.039274  0.042189\n2Y     0.033259  0.040075  0.043116\n3Y     0.034011  0.040072  0.044097\n5Y     0.035255  0.041093  0.046249\n10Y    0.038428  0.043634  0.053458",
      "text/html": "<div>\n<style scoped>\n    .dataframe tbody tr th:only-of-type {\n        vertical-align: middle;\n    }\n\n    .dataframe tbody tr th {\n        vertical-align: top;\n    }\n\n    .dataframe thead th {\n        text-align: right;\n    }\n</style>\n<table border=\"1\" class=\"dataframe\">\n  <thead>\n    <tr style=\"text-align: right;\">\n      <th></th>\n      <th>1Y</th>\n      <th>5Y</th>\n      <th>10Y</th>\n    </tr>\n    <tr>\n      <th>tenor</th>\n      <th></th>\n      <th></th>\n      <th></th>\n    </tr>\n  </thead>\n  <tbody>\n    <tr>\n      <th>1Y</th>\n      <td>0.032007</td>\n      <td>0.039274</td>\n      <td>0.042189</td>\n    </tr>\n    <tr>\n      <th>2Y</th>\n      <td>0.033259</td>\n      <td>0.040075</td>\n      <td>0.043116</td>\n    </tr>\n    <tr>\n      <th>3Y</th>\n      <td>0.034011</td>\n      <td>0.040072</td>\n      <td>0.044097</td>\n    </tr>\n    <tr>\n      <th>5Y</th>\n      <td>0.035255</td>\n      <td>0.041093</td>\n      <td>0.046249</td>\n    </tr>\n    <tr>\n      <th>10Y</th>\n      <td>0.038428</td>\n      <td>0.043634</td>\n      <td>0.053458</td>\n    </tr>\n  </tbody>\n</table>\n</div>"
     },
     "execution_count": 35,
     "metadata": {},
     "output_type": "execute_result"
    }
   ],
   "source": [
    "swap_rate_df"
   ]
  },
  {
   "cell_type": "code",
   "execution_count": 36,
   "id": "43892731",
   "metadata": {
    "ExecuteTime": {
     "end_time": "2024-04-01T14:01:14.501343Z",
     "start_time": "2024-04-01T14:01:14.263511Z"
    }
   },
   "outputs": [],
   "source": [
    "beta = 0.9\n",
    "cms_rate3 = []\n",
    "# compute the cms rate for the swaption from previous part with different tenor and expiry\n",
    "for i in range(len(expiry_lst)):\n",
    "    for j in range(len(tenor_lst)):\n",
    "        F = swap_rate_df.T.iloc[i, j]\n",
    "        T = expiry_lst[i]\n",
    "        N = tenor_lst[j]\n",
    "        m = 2\n",
    "        sigma = SABR(F, F, T, alpha.iloc[i, j+1], beta, rho.iloc[i, j+1], nu.iloc[i, j+1])\n",
    "        integral_term1 = quad(lambda x: integrand_put(x, m, N, sigma, IRR_0(F, N, m) , F, T), 0, F)\n",
    "        integral_term2 = quad(lambda x: integrand_call(x, m, N, sigma, IRR_0(F, N, m), F, T), F, np.inf)\n",
    "        rate = F + sum(integral_term1 + integral_term2)\n",
    "        cms_rate3.append(rate)"
   ]
  },
  {
   "cell_type": "code",
   "execution_count": 37,
   "id": "7b675624",
   "metadata": {
    "ExecuteTime": {
     "end_time": "2024-04-01T14:01:14.971586Z",
     "start_time": "2024-04-01T14:01:14.966438Z"
    }
   },
   "outputs": [],
   "source": [
    "swap_rate_df2['CMS_Rate'] = cms_rate3\n",
    "swap_rate_df2.drop('Unnamed: 0', axis = 1, inplace=True)\n",
    "index = ['1x1', '1x2', '1x3', '1x5', '1x10', '5x1', '5x2', '5x3', \n",
    "        '5x5', '5x10', '10x1', '10x2', '10x3', '10x5', '10x10']\n",
    "swap_rate_df2.index = index"
   ]
  },
  {
   "cell_type": "code",
   "execution_count": 38,
   "id": "e2131bae",
   "metadata": {
    "ExecuteTime": {
     "end_time": "2024-04-01T14:01:15.474717Z",
     "start_time": "2024-04-01T14:01:15.466250Z"
    }
   },
   "outputs": [
    {
     "data": {
      "text/plain": "       Forward_Swap_Rate  CMS_Rate\n1x1             0.032007  0.032082\n1x2             0.033259  0.033377\n1x3             0.034011  0.034140\n1x5             0.035255  0.035362\n1x10            0.038428  0.038546\n5x1             0.039274  0.040231\n5x2             0.040075  0.041189\n5x3             0.040072  0.041171\n5x5             0.041093  0.041960\n5x10            0.043634  0.044494\n10x1            0.042189  0.045381\n10x2            0.043116  0.046320\n10x3            0.044097  0.047448\n10x5            0.046249  0.049083\n10x10           0.053458  0.056749",
      "text/html": "<div>\n<style scoped>\n    .dataframe tbody tr th:only-of-type {\n        vertical-align: middle;\n    }\n\n    .dataframe tbody tr th {\n        vertical-align: top;\n    }\n\n    .dataframe thead th {\n        text-align: right;\n    }\n</style>\n<table border=\"1\" class=\"dataframe\">\n  <thead>\n    <tr style=\"text-align: right;\">\n      <th></th>\n      <th>Forward_Swap_Rate</th>\n      <th>CMS_Rate</th>\n    </tr>\n  </thead>\n  <tbody>\n    <tr>\n      <th>1x1</th>\n      <td>0.032007</td>\n      <td>0.032082</td>\n    </tr>\n    <tr>\n      <th>1x2</th>\n      <td>0.033259</td>\n      <td>0.033377</td>\n    </tr>\n    <tr>\n      <th>1x3</th>\n      <td>0.034011</td>\n      <td>0.034140</td>\n    </tr>\n    <tr>\n      <th>1x5</th>\n      <td>0.035255</td>\n      <td>0.035362</td>\n    </tr>\n    <tr>\n      <th>1x10</th>\n      <td>0.038428</td>\n      <td>0.038546</td>\n    </tr>\n    <tr>\n      <th>5x1</th>\n      <td>0.039274</td>\n      <td>0.040231</td>\n    </tr>\n    <tr>\n      <th>5x2</th>\n      <td>0.040075</td>\n      <td>0.041189</td>\n    </tr>\n    <tr>\n      <th>5x3</th>\n      <td>0.040072</td>\n      <td>0.041171</td>\n    </tr>\n    <tr>\n      <th>5x5</th>\n      <td>0.041093</td>\n      <td>0.041960</td>\n    </tr>\n    <tr>\n      <th>5x10</th>\n      <td>0.043634</td>\n      <td>0.044494</td>\n    </tr>\n    <tr>\n      <th>10x1</th>\n      <td>0.042189</td>\n      <td>0.045381</td>\n    </tr>\n    <tr>\n      <th>10x2</th>\n      <td>0.043116</td>\n      <td>0.046320</td>\n    </tr>\n    <tr>\n      <th>10x3</th>\n      <td>0.044097</td>\n      <td>0.047448</td>\n    </tr>\n    <tr>\n      <th>10x5</th>\n      <td>0.046249</td>\n      <td>0.049083</td>\n    </tr>\n    <tr>\n      <th>10x10</th>\n      <td>0.053458</td>\n      <td>0.056749</td>\n    </tr>\n  </tbody>\n</table>\n</div>"
     },
     "execution_count": 38,
     "metadata": {},
     "output_type": "execute_result"
    }
   ],
   "source": [
    "# present a dataframe to show the difference\n",
    "swap_rate_df2"
   ]
  },
  {
   "cell_type": "code",
   "execution_count": 39,
   "id": "361a42d4",
   "metadata": {
    "ExecuteTime": {
     "end_time": "2024-04-01T14:01:16.639561Z",
     "start_time": "2024-04-01T14:01:16.635920Z"
    }
   },
   "outputs": [],
   "source": [
    "forward_swap_rate = swap_rate_df2['Forward_Swap_Rate']"
   ]
  },
  {
   "cell_type": "code",
   "execution_count": 40,
   "id": "b0e0af3f",
   "metadata": {
    "scrolled": false,
    "ExecuteTime": {
     "end_time": "2024-04-01T14:01:18.203017Z",
     "start_time": "2024-04-01T14:01:17.327507Z"
    }
   },
   "outputs": [
    {
     "data": {
      "text/plain": "<Figure size 1500x800 with 1 Axes>",
      "image/png": "[encoded data removed]"
     },
     "metadata": {},
     "output_type": "display_data"
    }
   ],
   "source": [
    "# Plot the Difference between Forward Swap rate and CMS rate\n",
    "plt.figure(figsize = (15, 8))\n",
    "plt.scatter(index, forward_swap_rate, color = 'black', linewidth = 2.5, label = 'Forward Swap Rate')\n",
    "plt.scatter(index, cms_rate3, color = 'red', linewidth = 2.5, label = 'CMS Rate')\n",
    "plt.grid(color='blue', linewidth = 1, linestyle = '-.')\n",
    "plt.title(label = \"Figure 3: The Plot for Comparing Difference between Forward Swap Rate and CMS Rate\", \n",
    "         y = -0.15, \n",
    "          fontstyle = 'italic', \n",
    "         fontsize = 20)\n",
    "plt.ylabel('Forward Swap Rate / CMS Rate', fontsize = 15)\n",
    "plt.xlabel('Expiry x Tenor', fontsize = 15)\n",
    "plt.legend(loc = 'upper left')\n",
    "plt.savefig(\"The Plot for Comparing Difference between Forward Swap Rate and CMS Rate.png\")\n",
    "\n",
    "plt.show()"
   ]
  },
  {
   "cell_type": "code",
   "outputs": [],
   "source": [],
   "metadata": {
    "collapsed": false
   },
   "id": "bb337ccb12df874d"
  }
 ],
 "metadata": {
  "kernelspec": {
   "display_name": "Python 3 (ipykernel)",
   "language": "python",
   "name": "python3"
  },
  "language_info": {
   "codemirror_mode": {
    "name": "ipython",
    "version": 3
   },
   "file_extension": ".py",
   "mimetype": "text/x-python",
   "name": "python",
   "nbconvert_exporter": "python",
   "pygments_lexer": "ipython3",
   "version": "3.9.12"
  }
 },
 "nbformat": 4,
 "nbformat_minor": 5
}
