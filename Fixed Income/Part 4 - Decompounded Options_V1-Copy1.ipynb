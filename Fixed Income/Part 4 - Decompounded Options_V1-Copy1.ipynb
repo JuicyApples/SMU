{
 "cells": [
  {
   "cell_type": "code",
   "execution_count": 1,
   "id": "027caee5",
   "metadata": {
    "ExecuteTime": {
     "end_time": "2024-04-01T14:01:27.013036Z",
     "start_time": "2024-04-01T14:01:25.960396Z"
    }
   },
   "outputs": [],
   "source": [
    "import numpy as np\n",
    "import pandas as pd\n",
    "import matplotlib.pyplot as plt\n",
    "from scipy.stats import norm\n",
    "from scipy.integrate import quad\n",
    "from math import log, sqrt, exp\n",
    "\n",
    "import warnings\n",
    "warnings.filterwarnings(\"ignore\")"
   ]
  },
  {
   "cell_type": "code",
   "execution_count": 2,
   "id": "c6f4318a",
   "metadata": {
    "ExecuteTime": {
     "end_time": "2024-04-01T14:01:27.454689Z",
     "start_time": "2024-04-01T14:01:27.446682Z"
    }
   },
   "outputs": [],
   "source": [
    "def SABR(F, K, T, alpha, beta, rho, nu):\n",
    "    X = K\n",
    "    # if K is at-the-money-forward\n",
    "    if abs(F - K) < 1e-12:\n",
    "        numer1 = (((1 - beta)**2)/24)*alpha*alpha/(F**(2 - 2*beta))\n",
    "        numer2 = 0.25*rho*beta*nu*alpha/(F**(1 - beta))\n",
    "        numer3 = ((2 - 3*rho*rho)/24)*nu*nu\n",
    "        VolAtm = alpha*(1 + (numer1 + numer2 + numer3)*T)/(F**(1-beta))\n",
    "        sabrsigma = VolAtm\n",
    "    else:\n",
    "        z = (nu/alpha)*((F*X)**(0.5*(1-beta)))*np.log(F/X)\n",
    "        zhi = np.log((((1 - 2*rho*z + z*z)**0.5) + z - rho)/(1 - rho))\n",
    "        numer1 = (((1 - beta)**2)/24)*((alpha*alpha)/((F*X)**(1 - beta)))\n",
    "        numer2 = 0.25*rho*beta*nu*alpha/((F*X)**((1 - beta)/2))\n",
    "        numer3 = ((2 - 3*rho*rho)/24)*nu*nu\n",
    "        numer = alpha*(1 + (numer1 + numer2 + numer3)*T)*z\n",
    "        denom1 = ((1 - beta)**2/24)*(np.log(F/X))**2\n",
    "        denom2 = (((1 - beta)**4)/1920)*((np.log(F/X))**4)\n",
    "        denom = ((F*X)**((1 - beta)/2))*(1 + denom1 + denom2)*zhi\n",
    "        sabrsigma = numer/denom\n",
    "\n",
    "    return sabrsigma"
   ]
  },
  {
   "cell_type": "code",
   "execution_count": 3,
   "id": "a0448b7b",
   "metadata": {
    "ExecuteTime": {
     "end_time": "2024-04-01T14:01:28.139799Z",
     "start_time": "2024-04-01T14:01:28.133598Z"
    }
   },
   "outputs": [],
   "source": [
    "def IRR_0(K, m, N):\n",
    "    # implementation of IRR(K) function\n",
    "    value = 1/K * ( 1.0 - 1/(1 + K/m)**(N*m) )\n",
    "    return value\n",
    "\n",
    "def IRR_1(K, m, N):\n",
    "    # implementation of IRR'(K) function (1st derivative)\n",
    "    firstDerivative = -1/K*IRR_0(K, m, N) + 1/(K*m)*N*m/(1+K/m)**(N*m+1)\n",
    "    return firstDerivative\n",
    "\n",
    "def IRR_2(K, m, N):\n",
    "    # implementation of IRR''(K) function (2nd derivative)\n",
    "    secondDerivative = -2/K*IRR_1(K, m, N) - 1/(K*m*m)*(N*m)*(N*m+1)/(1+K/m)**(N*m+2)\n",
    "    return secondDerivative\n"
   ]
  },
  {
   "cell_type": "markdown",
   "id": "b4003d2a",
   "metadata": {},
   "source": [
    "## Question 1: Decompounded Option"
   ]
  },
  {
   "cell_type": "code",
   "execution_count": 4,
   "id": "bd79a014",
   "metadata": {
    "ExecuteTime": {
     "end_time": "2024-04-01T14:01:29.659360Z",
     "start_time": "2024-04-01T14:01:29.653942Z"
    }
   },
   "outputs": [],
   "source": [
    "def g_0(K):\n",
    "    return F ** (1/4) - 0.04**(1/2)\n",
    "\n",
    "def g_1(K):\n",
    "    return (1/4) * K** (-3/4)\n",
    "\n",
    "def g_2(K):\n",
    "    return (-3/16)*(K)**(-7/4)\n",
    "\n",
    "def h_0(K, m, N):\n",
    "    # implementation of h(K)\n",
    "    value = g_0(K) / IRR_0(K, m, N)\n",
    "    return value\n",
    "\n",
    "def h_1(K, m, N):\n",
    "    # implementation of h'(K) (1st derivative)\n",
    "    firstDerivative = (IRR_0(K, m, N)*g_1(K) - g_0(K)*IRR_1(K, m, N)) / IRR_0(K, m, N)**2\n",
    "    return firstDerivative\n",
    "\n",
    "def h_2(K, m, N):\n",
    "    # implementation of h''(K) (2nd derivative)\n",
    "    secondDerivative = ((IRR_0(K, m, N)*g_2(K) - IRR_2(K, m, N)*g_0(K) - 2.0*IRR_1(K, m, N)*g_1(K))/IRR_0(K, m, N)**2 \n",
    "                        + 2.0*IRR_1(K, m, N)**2*g_0(K)/IRR_0(K, m, N)**3)\n",
    "    return secondDerivative\n"
   ]
  },
  {
   "cell_type": "code",
   "execution_count": 5,
   "id": "fc62cde3",
   "metadata": {
    "ExecuteTime": {
     "end_time": "2024-04-01T14:01:30.092537Z",
     "start_time": "2024-04-01T14:01:30.088193Z"
    }
   },
   "outputs": [],
   "source": [
    "def Black76Call(F, K, sigma, T):\n",
    "    d1 = (log(F / K) + (1 / 2) * (sigma ** 2) * T) / (sigma * sqrt(T))\n",
    "    d2 = d1 - sigma * sqrt(T)\n",
    "    V =  F * norm.cdf(d1) - K * norm.cdf(d2)\n",
    "    return V\n",
    "\n",
    "def Black76Put(F, K, sigma, T):\n",
    "    d1 = (log(F / K) + (1 / 2) * (sigma ** 2) * T) / (sigma * sqrt(T))\n",
    "    d2 = d1 - sigma * sqrt(T)\n",
    "    V = K * norm.cdf(-d2) - F * norm.cdf(-d1)\n",
    "    return V"
   ]
  },
  {
   "cell_type": "code",
   "execution_count": 6,
   "id": "c5d21050",
   "metadata": {
    "ExecuteTime": {
     "end_time": "2024-04-01T14:01:30.505880Z",
     "start_time": "2024-04-01T14:01:30.501866Z"
    }
   },
   "outputs": [],
   "source": [
    "def integrand_put(K, m, N, sigma, df, F, T):\n",
    "    h = h_2(K, m, N)\n",
    "    V_put = df * Black76Put(F, K, sigma, T)\n",
    "    return h * V_put\n",
    "\n",
    "def integrand_call(K, m, N, sigma, df, F, T):\n",
    "    h = h_2(K, m, N)\n",
    "    V_call = df * Black76Call(F, K, sigma, T)\n",
    "    return h * V_call"
   ]
  },
  {
   "cell_type": "code",
   "execution_count": 7,
   "id": "a6ae18b3",
   "metadata": {
    "ExecuteTime": {
     "end_time": "2024-04-01T14:01:30.957550Z",
     "start_time": "2024-04-01T14:01:30.941629Z"
    }
   },
   "outputs": [],
   "source": [
    "disc_factor = pd.read_csv('Discount_Factors.csv') \n",
    "disc_factor.set_index(\"Tenor\",inplace = True)\n",
    "\n",
    "swap_rate_df = pd.read_csv('forward_swap_rate.csv')\n",
    "\n",
    "Alpha_SABR = pd.read_csv('Alpha_SABR.csv')\n",
    "Rho_SABR = pd.read_csv('Rho_SABR.csv')\n",
    "Nu_SABR = pd.read_csv('Nu_SABR.csv')"
   ]
  },
  {
   "cell_type": "code",
   "execution_count": 8,
   "id": "b5005b2f",
   "metadata": {
    "ExecuteTime": {
     "end_time": "2024-04-01T14:01:31.949917Z",
     "start_time": "2024-04-01T14:01:31.336981Z"
    }
   },
   "outputs": [],
   "source": [
    "## using implicit index on former dataframe o call out F, alpha, beta, rho and nu, if former df change, might lead to problem \n",
    "\n",
    "F = swap_rate_df.iloc[4,2]  # 5y * 10 y forward swap rate\n",
    "DF_5y = disc_factor.loc[5.0,\"OIS_DF\"] # OIS D(0,5y)\n",
    "T = 5 # expiry\n",
    "alpha = Alpha_SABR.iloc[1,-1]  # 5y * 10 y alpha form SABR calibarition result\n",
    "beta = 0.9 \n",
    "rho = Rho_SABR.iloc[1,-1]  # 5y * 10 y rho form SABR calibarition result\n",
    "nu =  Nu_SABR.iloc[1,-1]  # 5y * 10 y nu form SABR calibarition result\n",
    "m = 2 # payment frequency\n",
    "N = 10 # tenor\n",
    "\n",
    "integral_term1 = quad(lambda x: integrand_put(x, m, N, SABR(F, x, T, alpha, beta, rho, nu), IRR_0(F, N, m) , F, T), 0, F)\n",
    "integral_term2 = quad(lambda x: integrand_call(x, m, N, SABR(F, x, T, alpha, beta, rho, nu), IRR_0(F, N, m), F, T), F, np.inf)\n",
    "\n",
    "PV = g_0(F)*DF_5y  + integral_term1[0] + integral_term2[0]"
   ]
  },
  {
   "cell_type": "code",
   "execution_count": 9,
   "id": "c55ae456",
   "metadata": {
    "ExecuteTime": {
     "end_time": "2024-04-01T14:01:31.956610Z",
     "start_time": "2024-04-01T14:01:31.952508Z"
    }
   },
   "outputs": [
    {
     "name": "stdout",
     "output_type": "stream",
     "text": [
      "The PV of the CMS Decompounded Option is 0.24769310685896034\n"
     ]
    }
   ],
   "source": [
    "print(\"The PV of the CMS Decompounded Option is\", PV)"
   ]
  },
  {
   "cell_type": "markdown",
   "id": "1d866059",
   "metadata": {},
   "source": [
    "## Question 2: Caplet"
   ]
  },
  {
   "cell_type": "code",
   "execution_count": 10,
   "id": "e0687684",
   "metadata": {
    "ExecuteTime": {
     "end_time": "2024-04-01T14:01:33.362845Z",
     "start_time": "2024-04-01T14:01:33.211723Z"
    }
   },
   "outputs": [
    {
     "name": "stdout",
     "output_type": "stream",
     "text": [
      "The PV of the CMS Decompounded Option Caplet is 0.276157104971118\n"
     ]
    }
   ],
   "source": [
    "L = 0.04**((1/2)*4)\n",
    "\n",
    "sigma = SABR(F, L, T, alpha, beta, rho, nu)\n",
    "V_call = DF_5y * IRR_0(F, m, N) * Black76Call(F, L, sigma, T)\n",
    "\n",
    "part1 = h_1(L, m, N)* V_call\n",
    "part2 = quad(lambda x: h_2(x, m, N)*IRR_0(F, m, N)*Black76Call(F, x, SABR(F, x, T, alpha, beta, rho, nu), T),L,np.inf)\n",
    "# part2 = quad(lambda x: integrand_call(x, m, N, SABR(F, x, T, alpha, beta, rho, nu), IRR_0(F, N, m), F, T), L, np.inf)\n",
    "\n",
    "PV_caplet = part1 + part2[0]\n",
    "\n",
    "print(\"The PV of the CMS Decompounded Option Caplet is\", PV_caplet)\n"
   ]
  },
  {
   "cell_type": "code",
   "execution_count": null,
   "id": "14987b3e59eda69f",
   "metadata": {
    "collapsed": false,
    "jupyter": {
     "outputs_hidden": false
    }
   },
   "outputs": [],
   "source": []
  }
 ],
 "metadata": {
  "kernelspec": {
   "display_name": "Python 3 (ipykernel)",
   "language": "python",
   "name": "python3"
  },
  "language_info": {
   "codemirror_mode": {
    "name": "ipython",
    "version": 3
   },
   "file_extension": ".py",
   "mimetype": "text/x-python",
   "name": "python",
   "nbconvert_exporter": "python",
   "pygments_lexer": "ipython3",
   "version": "3.12.0"
  }
 },
 "nbformat": 4,
 "nbformat_minor": 5
}
