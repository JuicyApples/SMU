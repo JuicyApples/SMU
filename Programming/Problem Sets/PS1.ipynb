{
 "cells": [
  {
   "cell_type": "markdown",
   "metadata": {},
   "source": [
    "# QF 627 Programming and Computational Finance\n",
    "## `Py`Day Week `2` | Problem-Sets for Exercise 1 | `RE`view"
   ]
  },
  {
   "cell_type": "markdown",
   "metadata": {},
   "source": [
    "> For your further exercise, let's analyze a dataset about [TED talks](https://www.ted.com/talks) using `pandas` and `matplotlib` libraries."
   ]
  },
  {
   "cell_type": "markdown",
   "metadata": {},
   "source": [
    "### <font color = green> Activation of necessary libraries. </font>"
   ]
  },
  {
   "cell_type": "code",
   "execution_count": 1,
   "metadata": {},
   "outputs": [],
   "source": [
    "import numpy as np\n",
    "import pandas as pd\n",
    "import matplotlib.pyplot as plt"
   ]
  },
  {
   "cell_type": "code",
   "execution_count": 2,
   "metadata": {},
   "outputs": [
    {
     "name": "stdout",
     "output_type": "stream",
     "text": [
      "Variable   Type      Data/Info\n",
      "------------------------------\n",
      "np         module    <module 'numpy' from '/Us<...>kages/numpy/__init__.py'>\n",
      "pd         module    <module 'pandas' from '/U<...>ages/pandas/__init__.py'>\n",
      "plt        module    <module 'matplotlib.pyplo<...>es/matplotlib/pyplot.py'>\n"
     ]
    }
   ],
   "source": [
    "%whos"
   ]
  },
  {
   "cell_type": "markdown",
   "metadata": {},
   "source": [
    "### <font color = \"blue\"> `IMPORT` your dataset: `ted.csv`. </font>"
   ]
  },
  {
   "cell_type": "code",
   "execution_count": 3,
   "metadata": {},
   "outputs": [],
   "source": [
    "ted =\\\n",
    "    pd \\\n",
    "    .read_csv(\"ted.csv\")"
   ]
  },
  {
   "cell_type": "markdown",
   "metadata": {
    "scrolled": false
   },
   "source": [
    "> #### Print the imported dataframe. Each row (data points) represents a single talk (unit of observation)."
   ]
  },
  {
   "cell_type": "code",
   "execution_count": 4,
   "metadata": {
    "scrolled": false
   },
   "outputs": [
    {
     "data": {
      "text/html": [
       "<div>\n",
       "<style scoped>\n",
       "    .dataframe tbody tr th:only-of-type {\n",
       "        vertical-align: middle;\n",
       "    }\n",
       "\n",
       "    .dataframe tbody tr th {\n",
       "        vertical-align: top;\n",
       "    }\n",
       "\n",
       "    .dataframe thead th {\n",
       "        text-align: right;\n",
       "    }\n",
       "</style>\n",
       "<table border=\"1\" class=\"dataframe\">\n",
       "  <thead>\n",
       "    <tr style=\"text-align: right;\">\n",
       "      <th></th>\n",
       "      <th>comments</th>\n",
       "      <th>description</th>\n",
       "      <th>duration</th>\n",
       "      <th>event</th>\n",
       "      <th>film_date</th>\n",
       "      <th>languages</th>\n",
       "      <th>main_speaker</th>\n",
       "      <th>name</th>\n",
       "      <th>num_speaker</th>\n",
       "      <th>published_date</th>\n",
       "      <th>ratings</th>\n",
       "      <th>related_talks</th>\n",
       "      <th>speaker_occupation</th>\n",
       "      <th>tags</th>\n",
       "      <th>title</th>\n",
       "      <th>url</th>\n",
       "      <th>views</th>\n",
       "    </tr>\n",
       "  </thead>\n",
       "  <tbody>\n",
       "    <tr>\n",
       "      <th>2545</th>\n",
       "      <td>17</td>\n",
       "      <td>Between 2008 and 2016, the United States depor...</td>\n",
       "      <td>476</td>\n",
       "      <td>TED2017</td>\n",
       "      <td>1496707200</td>\n",
       "      <td>4</td>\n",
       "      <td>Duarte Geraldino</td>\n",
       "      <td>Duarte Geraldino: What we're missing in the de...</td>\n",
       "      <td>1</td>\n",
       "      <td>1505851216</td>\n",
       "      <td>[{'id': 3, 'name': 'Courageous', 'count': 24},...</td>\n",
       "      <td>[{'id': 2596, 'hero': 'https://pe.tedcdn.com/i...</td>\n",
       "      <td>Journalist</td>\n",
       "      <td>['TED Residency', 'United States', 'community'...</td>\n",
       "      <td>What we're missing in the debate about immigra...</td>\n",
       "      <td>https://www.ted.com/talks/duarte_geraldino_wha...</td>\n",
       "      <td>450430</td>\n",
       "    </tr>\n",
       "    <tr>\n",
       "      <th>2546</th>\n",
       "      <td>6</td>\n",
       "      <td>How can you study Mars without a spaceship? He...</td>\n",
       "      <td>290</td>\n",
       "      <td>TED2017</td>\n",
       "      <td>1492992000</td>\n",
       "      <td>3</td>\n",
       "      <td>Armando Azua-Bustos</td>\n",
       "      <td>Armando Azua-Bustos: The most Martian place on...</td>\n",
       "      <td>1</td>\n",
       "      <td>1505919737</td>\n",
       "      <td>[{'id': 22, 'name': 'Fascinating', 'count': 32...</td>\n",
       "      <td>[{'id': 2491, 'hero': 'https://pe.tedcdn.com/i...</td>\n",
       "      <td>Astrobiologist</td>\n",
       "      <td>['Mars', 'South America', 'TED Fellows', 'astr...</td>\n",
       "      <td>The most Martian place on Earth</td>\n",
       "      <td>https://www.ted.com/talks/armando_azua_bustos_...</td>\n",
       "      <td>417470</td>\n",
       "    </tr>\n",
       "    <tr>\n",
       "      <th>2547</th>\n",
       "      <td>10</td>\n",
       "      <td>Science fiction visions of the future show us ...</td>\n",
       "      <td>651</td>\n",
       "      <td>TED2017</td>\n",
       "      <td>1492992000</td>\n",
       "      <td>1</td>\n",
       "      <td>Radhika Nagpal</td>\n",
       "      <td>Radhika Nagpal: What intelligent machines can ...</td>\n",
       "      <td>1</td>\n",
       "      <td>1506006095</td>\n",
       "      <td>[{'id': 1, 'name': 'Beautiful', 'count': 14}, ...</td>\n",
       "      <td>[{'id': 2346, 'hero': 'https://pe.tedcdn.com/i...</td>\n",
       "      <td>Robotics engineer</td>\n",
       "      <td>['AI', 'ants', 'fish', 'future', 'innovation',...</td>\n",
       "      <td>What intelligent machines can learn from a sch...</td>\n",
       "      <td>https://www.ted.com/talks/radhika_nagpal_what_...</td>\n",
       "      <td>375647</td>\n",
       "    </tr>\n",
       "    <tr>\n",
       "      <th>2548</th>\n",
       "      <td>32</td>\n",
       "      <td>In an unmissable talk about race and politics ...</td>\n",
       "      <td>1100</td>\n",
       "      <td>TEDxMileHigh</td>\n",
       "      <td>1499472000</td>\n",
       "      <td>1</td>\n",
       "      <td>Theo E.J. Wilson</td>\n",
       "      <td>Theo E.J. Wilson: A black man goes undercover ...</td>\n",
       "      <td>1</td>\n",
       "      <td>1506024042</td>\n",
       "      <td>[{'id': 11, 'name': 'Longwinded', 'count': 3},...</td>\n",
       "      <td>[{'id': 2512, 'hero': 'https://pe.tedcdn.com/i...</td>\n",
       "      <td>Public intellectual</td>\n",
       "      <td>['Internet', 'TEDx', 'United States', 'communi...</td>\n",
       "      <td>A black man goes undercover in the alt-right</td>\n",
       "      <td>https://www.ted.com/talks/theo_e_j_wilson_a_bl...</td>\n",
       "      <td>419309</td>\n",
       "    </tr>\n",
       "    <tr>\n",
       "      <th>2549</th>\n",
       "      <td>8</td>\n",
       "      <td>With more than half of the world population li...</td>\n",
       "      <td>519</td>\n",
       "      <td>TED2017</td>\n",
       "      <td>1492992000</td>\n",
       "      <td>1</td>\n",
       "      <td>Karoliina Korppoo</td>\n",
       "      <td>Karoliina Korppoo: How a video game might help...</td>\n",
       "      <td>1</td>\n",
       "      <td>1506092422</td>\n",
       "      <td>[{'id': 21, 'name': 'Unconvincing', 'count': 2...</td>\n",
       "      <td>[{'id': 2682, 'hero': 'https://pe.tedcdn.com/i...</td>\n",
       "      <td>Game designer</td>\n",
       "      <td>['cities', 'design', 'future', 'infrastructure...</td>\n",
       "      <td>How a video game might help us build better ci...</td>\n",
       "      <td>https://www.ted.com/talks/karoliina_korppoo_ho...</td>\n",
       "      <td>391721</td>\n",
       "    </tr>\n",
       "  </tbody>\n",
       "</table>\n",
       "</div>"
      ],
      "text/plain": [
       "      comments                                        description  duration  \\\n",
       "2545        17  Between 2008 and 2016, the United States depor...       476   \n",
       "2546         6  How can you study Mars without a spaceship? He...       290   \n",
       "2547        10  Science fiction visions of the future show us ...       651   \n",
       "2548        32  In an unmissable talk about race and politics ...      1100   \n",
       "2549         8  With more than half of the world population li...       519   \n",
       "\n",
       "             event   film_date  languages         main_speaker  \\\n",
       "2545       TED2017  1496707200          4     Duarte Geraldino   \n",
       "2546       TED2017  1492992000          3  Armando Azua-Bustos   \n",
       "2547       TED2017  1492992000          1       Radhika Nagpal   \n",
       "2548  TEDxMileHigh  1499472000          1     Theo E.J. Wilson   \n",
       "2549       TED2017  1492992000          1    Karoliina Korppoo   \n",
       "\n",
       "                                                   name  num_speaker  \\\n",
       "2545  Duarte Geraldino: What we're missing in the de...            1   \n",
       "2546  Armando Azua-Bustos: The most Martian place on...            1   \n",
       "2547  Radhika Nagpal: What intelligent machines can ...            1   \n",
       "2548  Theo E.J. Wilson: A black man goes undercover ...            1   \n",
       "2549  Karoliina Korppoo: How a video game might help...            1   \n",
       "\n",
       "      published_date                                            ratings  \\\n",
       "2545      1505851216  [{'id': 3, 'name': 'Courageous', 'count': 24},...   \n",
       "2546      1505919737  [{'id': 22, 'name': 'Fascinating', 'count': 32...   \n",
       "2547      1506006095  [{'id': 1, 'name': 'Beautiful', 'count': 14}, ...   \n",
       "2548      1506024042  [{'id': 11, 'name': 'Longwinded', 'count': 3},...   \n",
       "2549      1506092422  [{'id': 21, 'name': 'Unconvincing', 'count': 2...   \n",
       "\n",
       "                                          related_talks   speaker_occupation  \\\n",
       "2545  [{'id': 2596, 'hero': 'https://pe.tedcdn.com/i...           Journalist   \n",
       "2546  [{'id': 2491, 'hero': 'https://pe.tedcdn.com/i...       Astrobiologist   \n",
       "2547  [{'id': 2346, 'hero': 'https://pe.tedcdn.com/i...    Robotics engineer   \n",
       "2548  [{'id': 2512, 'hero': 'https://pe.tedcdn.com/i...  Public intellectual   \n",
       "2549  [{'id': 2682, 'hero': 'https://pe.tedcdn.com/i...        Game designer   \n",
       "\n",
       "                                                   tags  \\\n",
       "2545  ['TED Residency', 'United States', 'community'...   \n",
       "2546  ['Mars', 'South America', 'TED Fellows', 'astr...   \n",
       "2547  ['AI', 'ants', 'fish', 'future', 'innovation',...   \n",
       "2548  ['Internet', 'TEDx', 'United States', 'communi...   \n",
       "2549  ['cities', 'design', 'future', 'infrastructure...   \n",
       "\n",
       "                                                  title  \\\n",
       "2545  What we're missing in the debate about immigra...   \n",
       "2546                    The most Martian place on Earth   \n",
       "2547  What intelligent machines can learn from a sch...   \n",
       "2548       A black man goes undercover in the alt-right   \n",
       "2549  How a video game might help us build better ci...   \n",
       "\n",
       "                                                    url   views  \n",
       "2545  https://www.ted.com/talks/duarte_geraldino_wha...  450430  \n",
       "2546  https://www.ted.com/talks/armando_azua_bustos_...  417470  \n",
       "2547  https://www.ted.com/talks/radhika_nagpal_what_...  375647  \n",
       "2548  https://www.ted.com/talks/theo_e_j_wilson_a_bl...  419309  \n",
       "2549  https://www.ted.com/talks/karoliina_korppoo_ho...  391721  "
      ]
     },
     "execution_count": 4,
     "metadata": {},
     "output_type": "execute_result"
    }
   ],
   "source": [
    "ted.tail()"
   ]
  },
  {
   "cell_type": "markdown",
   "metadata": {},
   "source": [
    "### Question 1. How would you check the number of rows and columns?"
   ]
  },
  {
   "cell_type": "code",
   "execution_count": 5,
   "metadata": {},
   "outputs": [
    {
     "data": {
      "text/plain": [
       "(2550, 17)"
      ]
     },
     "execution_count": 5,
     "metadata": {},
     "output_type": "execute_result"
    }
   ],
   "source": [
    "ted.shape"
   ]
  },
  {
   "cell_type": "code",
   "execution_count": 6,
   "metadata": {},
   "outputs": [
    {
     "name": "stdout",
     "output_type": "stream",
     "text": [
      "<class 'pandas.core.frame.DataFrame'>\n",
      "RangeIndex: 2550 entries, 0 to 2549\n",
      "Data columns (total 17 columns):\n",
      " #   Column              Non-Null Count  Dtype \n",
      "---  ------              --------------  ----- \n",
      " 0   comments            2550 non-null   int64 \n",
      " 1   description         2550 non-null   object\n",
      " 2   duration            2550 non-null   int64 \n",
      " 3   event               2550 non-null   object\n",
      " 4   film_date           2550 non-null   int64 \n",
      " 5   languages           2550 non-null   int64 \n",
      " 6   main_speaker        2550 non-null   object\n",
      " 7   name                2550 non-null   object\n",
      " 8   num_speaker         2550 non-null   int64 \n",
      " 9   published_date      2550 non-null   int64 \n",
      " 10  ratings             2550 non-null   object\n",
      " 11  related_talks       2550 non-null   object\n",
      " 12  speaker_occupation  2544 non-null   object\n",
      " 13  tags                2550 non-null   object\n",
      " 14  title               2550 non-null   object\n",
      " 15  url                 2550 non-null   object\n",
      " 16  views               2550 non-null   int64 \n",
      "dtypes: int64(7), object(10)\n",
      "memory usage: 338.8+ KB\n"
     ]
    }
   ],
   "source": [
    "ted.info()"
   ]
  },
  {
   "cell_type": "markdown",
   "metadata": {},
   "source": [
    "> Note that `object columns` are usually `strings`, but can also be arbitrary Python objects such as `lists` and `dictionaries`.\n",
    "\n",
    "> #### <font color = \"red\"> See **Chapter 12 and 13** of `The Coder's Apprentice` for more details. </font>"
   ]
  },
  {
   "cell_type": "markdown",
   "metadata": {},
   "source": [
    "### Question 2. How would you count the number of missing values in each column?"
   ]
  },
  {
   "cell_type": "code",
   "execution_count": 7,
   "metadata": {},
   "outputs": [
    {
     "data": {
      "text/plain": [
       "comments              0\n",
       "description           0\n",
       "duration              0\n",
       "event                 0\n",
       "film_date             0\n",
       "languages             0\n",
       "main_speaker          0\n",
       "name                  0\n",
       "num_speaker           0\n",
       "published_date        0\n",
       "ratings               0\n",
       "related_talks         0\n",
       "speaker_occupation    6\n",
       "tags                  0\n",
       "title                 0\n",
       "url                   0\n",
       "views                 0\n",
       "dtype: int64"
      ]
     },
     "execution_count": 7,
     "metadata": {},
     "output_type": "execute_result"
    }
   ],
   "source": [
    "# solution 1\n",
    "\n",
    "(\n",
    "    ted\n",
    "    .isna()\n",
    "    .sum() # returns column-wise missing values count\n",
    ")"
   ]
  },
  {
   "cell_type": "code",
   "execution_count": 8,
   "metadata": {},
   "outputs": [
    {
     "data": {
      "text/plain": [
       "comments              0\n",
       "description           0\n",
       "duration              0\n",
       "event                 0\n",
       "film_date             0\n",
       "languages             0\n",
       "main_speaker          0\n",
       "name                  0\n",
       "num_speaker           0\n",
       "published_date        0\n",
       "ratings               0\n",
       "related_talks         0\n",
       "speaker_occupation    6\n",
       "tags                  0\n",
       "title                 0\n",
       "url                   0\n",
       "views                 0\n",
       "dtype: int64"
      ]
     },
     "execution_count": 8,
     "metadata": {},
     "output_type": "execute_result"
    }
   ],
   "source": [
    "ted \\\n",
    "    .isna() \\\n",
    "    .sum(axis = 0)"
   ]
  },
  {
   "cell_type": "code",
   "execution_count": 9,
   "metadata": {},
   "outputs": [
    {
     "data": {
      "text/html": [
       "<div>\n",
       "<style scoped>\n",
       "    .dataframe tbody tr th:only-of-type {\n",
       "        vertical-align: middle;\n",
       "    }\n",
       "\n",
       "    .dataframe tbody tr th {\n",
       "        vertical-align: top;\n",
       "    }\n",
       "\n",
       "    .dataframe thead th {\n",
       "        text-align: right;\n",
       "    }\n",
       "</style>\n",
       "<table border=\"1\" class=\"dataframe\">\n",
       "  <thead>\n",
       "    <tr style=\"text-align: right;\">\n",
       "      <th></th>\n",
       "      <th>comments</th>\n",
       "      <th>description</th>\n",
       "      <th>duration</th>\n",
       "      <th>event</th>\n",
       "      <th>film_date</th>\n",
       "      <th>languages</th>\n",
       "      <th>main_speaker</th>\n",
       "      <th>name</th>\n",
       "      <th>num_speaker</th>\n",
       "      <th>published_date</th>\n",
       "      <th>ratings</th>\n",
       "      <th>related_talks</th>\n",
       "      <th>speaker_occupation</th>\n",
       "      <th>tags</th>\n",
       "      <th>title</th>\n",
       "      <th>url</th>\n",
       "      <th>views</th>\n",
       "    </tr>\n",
       "  </thead>\n",
       "  <tbody>\n",
       "    <tr>\n",
       "      <th>1113</th>\n",
       "      <td>145</td>\n",
       "      <td>After a crisis, how can we tell if water is sa...</td>\n",
       "      <td>217</td>\n",
       "      <td>TEDGlobal 2011</td>\n",
       "      <td>1310601600</td>\n",
       "      <td>38</td>\n",
       "      <td>Sonaar Luthra</td>\n",
       "      <td>Sonaar Luthra: Meet the Water Canary</td>\n",
       "      <td>1</td>\n",
       "      <td>1326731605</td>\n",
       "      <td>[{'id': 10, 'name': 'Inspiring', 'count': 73},...</td>\n",
       "      <td>[{'id': 523, 'hero': 'https://pe.tedcdn.com/im...</td>\n",
       "      <td>NaN</td>\n",
       "      <td>['TED Fellows', 'design', 'global development'...</td>\n",
       "      <td>Meet the Water Canary</td>\n",
       "      <td>https://www.ted.com/talks/sonaar_luthra_meet_t...</td>\n",
       "      <td>353749</td>\n",
       "    </tr>\n",
       "    <tr>\n",
       "      <th>1192</th>\n",
       "      <td>122</td>\n",
       "      <td>The Pirate Party fights for transparency, anon...</td>\n",
       "      <td>1097</td>\n",
       "      <td>TEDxObserver</td>\n",
       "      <td>1331424000</td>\n",
       "      <td>10</td>\n",
       "      <td>Rick Falkvinge</td>\n",
       "      <td>Rick Falkvinge: I am a pirate</td>\n",
       "      <td>1</td>\n",
       "      <td>1333289675</td>\n",
       "      <td>[{'id': 8, 'name': 'Informative', 'count': 156...</td>\n",
       "      <td>[{'id': 1329, 'hero': 'https://pe.tedcdn.com/i...</td>\n",
       "      <td>NaN</td>\n",
       "      <td>['Internet', 'TEDx', 'global issues', 'politic...</td>\n",
       "      <td>I am a pirate</td>\n",
       "      <td>https://www.ted.com/talks/rick_falkvinge_i_am_...</td>\n",
       "      <td>181010</td>\n",
       "    </tr>\n",
       "    <tr>\n",
       "      <th>1220</th>\n",
       "      <td>257</td>\n",
       "      <td>As you surf the Web, information is being coll...</td>\n",
       "      <td>399</td>\n",
       "      <td>TED2012</td>\n",
       "      <td>1330473600</td>\n",
       "      <td>32</td>\n",
       "      <td>Gary Kovacs</td>\n",
       "      <td>Gary Kovacs: Tracking our online trackers</td>\n",
       "      <td>1</td>\n",
       "      <td>1336057219</td>\n",
       "      <td>[{'id': 23, 'name': 'Jaw-dropping', 'count': 9...</td>\n",
       "      <td>[{'id': 1370, 'hero': 'https://pe.tedcdn.com/i...</td>\n",
       "      <td>NaN</td>\n",
       "      <td>['Internet', 'advertising', 'business', 'priva...</td>\n",
       "      <td>Tracking our online trackers</td>\n",
       "      <td>https://www.ted.com/talks/gary_kovacs_tracking...</td>\n",
       "      <td>2098639</td>\n",
       "    </tr>\n",
       "    <tr>\n",
       "      <th>1656</th>\n",
       "      <td>140</td>\n",
       "      <td>In this lovely talk, TED Fellow Ryan Holladay ...</td>\n",
       "      <td>389</td>\n",
       "      <td>TED@BCG San Francisco</td>\n",
       "      <td>1383091200</td>\n",
       "      <td>33</td>\n",
       "      <td>Ryan Holladay</td>\n",
       "      <td>Ryan Holladay: To hear this music you have to ...</td>\n",
       "      <td>1</td>\n",
       "      <td>1389369735</td>\n",
       "      <td>[{'id': 1, 'name': 'Beautiful', 'count': 211},...</td>\n",
       "      <td>[{'id': 1152, 'hero': 'https://pe.tedcdn.com/i...</td>\n",
       "      <td>NaN</td>\n",
       "      <td>['TED Fellows', 'entertainment', 'music', 'tec...</td>\n",
       "      <td>To hear this music you have to be there. Liter...</td>\n",
       "      <td>https://www.ted.com/talks/ryan_holladay_to_hea...</td>\n",
       "      <td>1284510</td>\n",
       "    </tr>\n",
       "    <tr>\n",
       "      <th>1911</th>\n",
       "      <td>48</td>\n",
       "      <td>What do you do with an outdated encyclopedia i...</td>\n",
       "      <td>366</td>\n",
       "      <td>TEDYouth 2014</td>\n",
       "      <td>1415059200</td>\n",
       "      <td>34</td>\n",
       "      <td>Brian Dettmer</td>\n",
       "      <td>Brian Dettmer: Old books reborn as art</td>\n",
       "      <td>1</td>\n",
       "      <td>1423238442</td>\n",
       "      <td>[{'id': 1, 'name': 'Beautiful', 'count': 361},...</td>\n",
       "      <td>[{'id': 610, 'hero': 'https://pe.tedcdn.com/im...</td>\n",
       "      <td>NaN</td>\n",
       "      <td>['TEDYouth', 'art', 'books', 'creativity']</td>\n",
       "      <td>Old books reborn as art</td>\n",
       "      <td>https://www.ted.com/talks/brian_dettmer_old_bo...</td>\n",
       "      <td>1159937</td>\n",
       "    </tr>\n",
       "    <tr>\n",
       "      <th>1949</th>\n",
       "      <td>70</td>\n",
       "      <td>Photographer Boniface Mwangi wanted to protest...</td>\n",
       "      <td>440</td>\n",
       "      <td>TEDGlobal 2014</td>\n",
       "      <td>1413763200</td>\n",
       "      <td>33</td>\n",
       "      <td>Boniface Mwangi</td>\n",
       "      <td>Boniface Mwangi: The day I stood up alone</td>\n",
       "      <td>1</td>\n",
       "      <td>1427989423</td>\n",
       "      <td>[{'id': 3, 'name': 'Courageous', 'count': 614}...</td>\n",
       "      <td>[{'id': 1757, 'hero': 'https://pe.tedcdn.com/i...</td>\n",
       "      <td>NaN</td>\n",
       "      <td>['TED Fellows', 'activism', 'art', 'corruption...</td>\n",
       "      <td>The day I stood up alone</td>\n",
       "      <td>https://www.ted.com/talks/boniface_mwangi_boni...</td>\n",
       "      <td>1342431</td>\n",
       "    </tr>\n",
       "  </tbody>\n",
       "</table>\n",
       "</div>"
      ],
      "text/plain": [
       "      comments                                        description  duration  \\\n",
       "1113       145  After a crisis, how can we tell if water is sa...       217   \n",
       "1192       122  The Pirate Party fights for transparency, anon...      1097   \n",
       "1220       257  As you surf the Web, information is being coll...       399   \n",
       "1656       140  In this lovely talk, TED Fellow Ryan Holladay ...       389   \n",
       "1911        48  What do you do with an outdated encyclopedia i...       366   \n",
       "1949        70  Photographer Boniface Mwangi wanted to protest...       440   \n",
       "\n",
       "                      event   film_date  languages     main_speaker  \\\n",
       "1113         TEDGlobal 2011  1310601600         38    Sonaar Luthra   \n",
       "1192           TEDxObserver  1331424000         10   Rick Falkvinge   \n",
       "1220                TED2012  1330473600         32      Gary Kovacs   \n",
       "1656  TED@BCG San Francisco  1383091200         33    Ryan Holladay   \n",
       "1911          TEDYouth 2014  1415059200         34    Brian Dettmer   \n",
       "1949         TEDGlobal 2014  1413763200         33  Boniface Mwangi   \n",
       "\n",
       "                                                   name  num_speaker  \\\n",
       "1113               Sonaar Luthra: Meet the Water Canary            1   \n",
       "1192                      Rick Falkvinge: I am a pirate            1   \n",
       "1220          Gary Kovacs: Tracking our online trackers            1   \n",
       "1656  Ryan Holladay: To hear this music you have to ...            1   \n",
       "1911             Brian Dettmer: Old books reborn as art            1   \n",
       "1949          Boniface Mwangi: The day I stood up alone            1   \n",
       "\n",
       "      published_date                                            ratings  \\\n",
       "1113      1326731605  [{'id': 10, 'name': 'Inspiring', 'count': 73},...   \n",
       "1192      1333289675  [{'id': 8, 'name': 'Informative', 'count': 156...   \n",
       "1220      1336057219  [{'id': 23, 'name': 'Jaw-dropping', 'count': 9...   \n",
       "1656      1389369735  [{'id': 1, 'name': 'Beautiful', 'count': 211},...   \n",
       "1911      1423238442  [{'id': 1, 'name': 'Beautiful', 'count': 361},...   \n",
       "1949      1427989423  [{'id': 3, 'name': 'Courageous', 'count': 614}...   \n",
       "\n",
       "                                          related_talks speaker_occupation  \\\n",
       "1113  [{'id': 523, 'hero': 'https://pe.tedcdn.com/im...                NaN   \n",
       "1192  [{'id': 1329, 'hero': 'https://pe.tedcdn.com/i...                NaN   \n",
       "1220  [{'id': 1370, 'hero': 'https://pe.tedcdn.com/i...                NaN   \n",
       "1656  [{'id': 1152, 'hero': 'https://pe.tedcdn.com/i...                NaN   \n",
       "1911  [{'id': 610, 'hero': 'https://pe.tedcdn.com/im...                NaN   \n",
       "1949  [{'id': 1757, 'hero': 'https://pe.tedcdn.com/i...                NaN   \n",
       "\n",
       "                                                   tags  \\\n",
       "1113  ['TED Fellows', 'design', 'global development'...   \n",
       "1192  ['Internet', 'TEDx', 'global issues', 'politic...   \n",
       "1220  ['Internet', 'advertising', 'business', 'priva...   \n",
       "1656  ['TED Fellows', 'entertainment', 'music', 'tec...   \n",
       "1911         ['TEDYouth', 'art', 'books', 'creativity']   \n",
       "1949  ['TED Fellows', 'activism', 'art', 'corruption...   \n",
       "\n",
       "                                                  title  \\\n",
       "1113                              Meet the Water Canary   \n",
       "1192                                      I am a pirate   \n",
       "1220                       Tracking our online trackers   \n",
       "1656  To hear this music you have to be there. Liter...   \n",
       "1911                            Old books reborn as art   \n",
       "1949                           The day I stood up alone   \n",
       "\n",
       "                                                    url    views  \n",
       "1113  https://www.ted.com/talks/sonaar_luthra_meet_t...   353749  \n",
       "1192  https://www.ted.com/talks/rick_falkvinge_i_am_...   181010  \n",
       "1220  https://www.ted.com/talks/gary_kovacs_tracking...  2098639  \n",
       "1656  https://www.ted.com/talks/ryan_holladay_to_hea...  1284510  \n",
       "1911  https://www.ted.com/talks/brian_dettmer_old_bo...  1159937  \n",
       "1949  https://www.ted.com/talks/boniface_mwangi_boni...  1342431  "
      ]
     },
     "execution_count": 9,
     "metadata": {},
     "output_type": "execute_result"
    }
   ],
   "source": [
    "ted \\\n",
    "    [ted\n",
    "     .isna()\n",
    "     .any(axis = 1)\n",
    "    ]"
   ]
  },
  {
   "cell_type": "markdown",
   "metadata": {},
   "source": [
    "### Question 3.1. Which talks give rise to the most online discussion? First, please sort by the number of first-level comments (though note that this is `biased in favor of older talks`)."
   ]
  },
  {
   "cell_type": "code",
   "execution_count": 10,
   "metadata": {},
   "outputs": [],
   "source": [
    "# solution 1\n",
    "\n",
    "ted \\\n",
    "    .sort_values(by = \"comments\",\n",
    "                 inplace = True,\n",
    "                 ascending = False)"
   ]
  },
  {
   "cell_type": "code",
   "execution_count": 11,
   "metadata": {},
   "outputs": [
    {
     "data": {
      "text/html": [
       "<div>\n",
       "<style scoped>\n",
       "    .dataframe tbody tr th:only-of-type {\n",
       "        vertical-align: middle;\n",
       "    }\n",
       "\n",
       "    .dataframe tbody tr th {\n",
       "        vertical-align: top;\n",
       "    }\n",
       "\n",
       "    .dataframe thead th {\n",
       "        text-align: right;\n",
       "    }\n",
       "</style>\n",
       "<table border=\"1\" class=\"dataframe\">\n",
       "  <thead>\n",
       "    <tr style=\"text-align: right;\">\n",
       "      <th></th>\n",
       "      <th>comments</th>\n",
       "      <th>description</th>\n",
       "      <th>duration</th>\n",
       "      <th>event</th>\n",
       "      <th>film_date</th>\n",
       "      <th>languages</th>\n",
       "      <th>main_speaker</th>\n",
       "      <th>name</th>\n",
       "      <th>num_speaker</th>\n",
       "      <th>published_date</th>\n",
       "      <th>ratings</th>\n",
       "      <th>related_talks</th>\n",
       "      <th>speaker_occupation</th>\n",
       "      <th>tags</th>\n",
       "      <th>title</th>\n",
       "      <th>url</th>\n",
       "      <th>views</th>\n",
       "    </tr>\n",
       "  </thead>\n",
       "  <tbody>\n",
       "    <tr>\n",
       "      <th>96</th>\n",
       "      <td>6404</td>\n",
       "      <td>Richard Dawkins urges all atheists to openly s...</td>\n",
       "      <td>1750</td>\n",
       "      <td>TED2002</td>\n",
       "      <td>1012608000</td>\n",
       "      <td>42</td>\n",
       "      <td>Richard Dawkins</td>\n",
       "      <td>Richard Dawkins: Militant atheism</td>\n",
       "      <td>1</td>\n",
       "      <td>1176689220</td>\n",
       "      <td>[{'id': 3, 'name': 'Courageous', 'count': 3236...</td>\n",
       "      <td>[{'id': 86, 'hero': 'https://pe.tedcdn.com/ima...</td>\n",
       "      <td>Evolutionary biologist</td>\n",
       "      <td>['God', 'atheism', 'culture', 'religion', 'sci...</td>\n",
       "      <td>Militant atheism</td>\n",
       "      <td>https://www.ted.com/talks/richard_dawkins_on_m...</td>\n",
       "      <td>4374792</td>\n",
       "    </tr>\n",
       "    <tr>\n",
       "      <th>0</th>\n",
       "      <td>4553</td>\n",
       "      <td>Sir Ken Robinson makes an entertaining and pro...</td>\n",
       "      <td>1164</td>\n",
       "      <td>TED2006</td>\n",
       "      <td>1140825600</td>\n",
       "      <td>60</td>\n",
       "      <td>Ken Robinson</td>\n",
       "      <td>Ken Robinson: Do schools kill creativity?</td>\n",
       "      <td>1</td>\n",
       "      <td>1151367060</td>\n",
       "      <td>[{'id': 7, 'name': 'Funny', 'count': 19645}, {...</td>\n",
       "      <td>[{'id': 865, 'hero': 'https://pe.tedcdn.com/im...</td>\n",
       "      <td>Author/educator</td>\n",
       "      <td>['children', 'creativity', 'culture', 'dance',...</td>\n",
       "      <td>Do schools kill creativity?</td>\n",
       "      <td>https://www.ted.com/talks/ken_robinson_says_sc...</td>\n",
       "      <td>47227110</td>\n",
       "    </tr>\n",
       "    <tr>\n",
       "      <th>644</th>\n",
       "      <td>3356</td>\n",
       "      <td>Questions of good and evil, right and wrong ar...</td>\n",
       "      <td>1386</td>\n",
       "      <td>TED2010</td>\n",
       "      <td>1265846400</td>\n",
       "      <td>39</td>\n",
       "      <td>Sam Harris</td>\n",
       "      <td>Sam Harris: Science can answer moral questions</td>\n",
       "      <td>1</td>\n",
       "      <td>1269249180</td>\n",
       "      <td>[{'id': 8, 'name': 'Informative', 'count': 923...</td>\n",
       "      <td>[{'id': 666, 'hero': 'https://pe.tedcdn.com/im...</td>\n",
       "      <td>Neuroscientist, philosopher</td>\n",
       "      <td>['culture', 'evolutionary psychology', 'global...</td>\n",
       "      <td>Science can answer moral questions</td>\n",
       "      <td>https://www.ted.com/talks/sam_harris_science_c...</td>\n",
       "      <td>3433437</td>\n",
       "    </tr>\n",
       "    <tr>\n",
       "      <th>201</th>\n",
       "      <td>2877</td>\n",
       "      <td>Jill Bolte Taylor got a research opportunity f...</td>\n",
       "      <td>1099</td>\n",
       "      <td>TED2008</td>\n",
       "      <td>1204070400</td>\n",
       "      <td>49</td>\n",
       "      <td>Jill Bolte Taylor</td>\n",
       "      <td>Jill Bolte Taylor: My stroke of insight</td>\n",
       "      <td>1</td>\n",
       "      <td>1205284200</td>\n",
       "      <td>[{'id': 22, 'name': 'Fascinating', 'count': 14...</td>\n",
       "      <td>[{'id': 184, 'hero': 'https://pe.tedcdn.com/im...</td>\n",
       "      <td>Neuroanatomist</td>\n",
       "      <td>['biology', 'brain', 'consciousness', 'global ...</td>\n",
       "      <td>My stroke of insight</td>\n",
       "      <td>https://www.ted.com/talks/jill_bolte_taylor_s_...</td>\n",
       "      <td>21190883</td>\n",
       "    </tr>\n",
       "    <tr>\n",
       "      <th>1787</th>\n",
       "      <td>2673</td>\n",
       "      <td>Our consciousness is a fundamental aspect of o...</td>\n",
       "      <td>1117</td>\n",
       "      <td>TED2014</td>\n",
       "      <td>1395100800</td>\n",
       "      <td>33</td>\n",
       "      <td>David Chalmers</td>\n",
       "      <td>David Chalmers: How do you explain consciousness?</td>\n",
       "      <td>1</td>\n",
       "      <td>1405350484</td>\n",
       "      <td>[{'id': 25, 'name': 'OK', 'count': 280}, {'id'...</td>\n",
       "      <td>[{'id': 1308, 'hero': 'https://pe.tedcdn.com/i...</td>\n",
       "      <td>Philosopher</td>\n",
       "      <td>['brain', 'consciousness', 'neuroscience', 'ph...</td>\n",
       "      <td>How do you explain consciousness?</td>\n",
       "      <td>https://www.ted.com/talks/david_chalmers_how_d...</td>\n",
       "      <td>2162764</td>\n",
       "    </tr>\n",
       "  </tbody>\n",
       "</table>\n",
       "</div>"
      ],
      "text/plain": [
       "      comments                                        description  duration  \\\n",
       "96        6404  Richard Dawkins urges all atheists to openly s...      1750   \n",
       "0         4553  Sir Ken Robinson makes an entertaining and pro...      1164   \n",
       "644       3356  Questions of good and evil, right and wrong ar...      1386   \n",
       "201       2877  Jill Bolte Taylor got a research opportunity f...      1099   \n",
       "1787      2673  Our consciousness is a fundamental aspect of o...      1117   \n",
       "\n",
       "        event   film_date  languages       main_speaker  \\\n",
       "96    TED2002  1012608000         42    Richard Dawkins   \n",
       "0     TED2006  1140825600         60       Ken Robinson   \n",
       "644   TED2010  1265846400         39         Sam Harris   \n",
       "201   TED2008  1204070400         49  Jill Bolte Taylor   \n",
       "1787  TED2014  1395100800         33     David Chalmers   \n",
       "\n",
       "                                                   name  num_speaker  \\\n",
       "96                    Richard Dawkins: Militant atheism            1   \n",
       "0             Ken Robinson: Do schools kill creativity?            1   \n",
       "644      Sam Harris: Science can answer moral questions            1   \n",
       "201             Jill Bolte Taylor: My stroke of insight            1   \n",
       "1787  David Chalmers: How do you explain consciousness?            1   \n",
       "\n",
       "      published_date                                            ratings  \\\n",
       "96        1176689220  [{'id': 3, 'name': 'Courageous', 'count': 3236...   \n",
       "0         1151367060  [{'id': 7, 'name': 'Funny', 'count': 19645}, {...   \n",
       "644       1269249180  [{'id': 8, 'name': 'Informative', 'count': 923...   \n",
       "201       1205284200  [{'id': 22, 'name': 'Fascinating', 'count': 14...   \n",
       "1787      1405350484  [{'id': 25, 'name': 'OK', 'count': 280}, {'id'...   \n",
       "\n",
       "                                          related_talks  \\\n",
       "96    [{'id': 86, 'hero': 'https://pe.tedcdn.com/ima...   \n",
       "0     [{'id': 865, 'hero': 'https://pe.tedcdn.com/im...   \n",
       "644   [{'id': 666, 'hero': 'https://pe.tedcdn.com/im...   \n",
       "201   [{'id': 184, 'hero': 'https://pe.tedcdn.com/im...   \n",
       "1787  [{'id': 1308, 'hero': 'https://pe.tedcdn.com/i...   \n",
       "\n",
       "               speaker_occupation  \\\n",
       "96         Evolutionary biologist   \n",
       "0                 Author/educator   \n",
       "644   Neuroscientist, philosopher   \n",
       "201                Neuroanatomist   \n",
       "1787                  Philosopher   \n",
       "\n",
       "                                                   tags  \\\n",
       "96    ['God', 'atheism', 'culture', 'religion', 'sci...   \n",
       "0     ['children', 'creativity', 'culture', 'dance',...   \n",
       "644   ['culture', 'evolutionary psychology', 'global...   \n",
       "201   ['biology', 'brain', 'consciousness', 'global ...   \n",
       "1787  ['brain', 'consciousness', 'neuroscience', 'ph...   \n",
       "\n",
       "                                   title  \\\n",
       "96                      Militant atheism   \n",
       "0            Do schools kill creativity?   \n",
       "644   Science can answer moral questions   \n",
       "201                 My stroke of insight   \n",
       "1787   How do you explain consciousness?   \n",
       "\n",
       "                                                    url     views  \n",
       "96    https://www.ted.com/talks/richard_dawkins_on_m...   4374792  \n",
       "0     https://www.ted.com/talks/ken_robinson_says_sc...  47227110  \n",
       "644   https://www.ted.com/talks/sam_harris_science_c...   3433437  \n",
       "201   https://www.ted.com/talks/jill_bolte_taylor_s_...  21190883  \n",
       "1787  https://www.ted.com/talks/david_chalmers_how_d...   2162764  "
      ]
     },
     "execution_count": 11,
     "metadata": {},
     "output_type": "execute_result"
    }
   ],
   "source": [
    "ted.head()"
   ]
  },
  {
   "cell_type": "code",
   "execution_count": 12,
   "metadata": {},
   "outputs": [],
   "source": [
    "# solution 2\n",
    "\n",
    "# (\n",
    "#     ted\n",
    "#     [[\"name\", \"comments\"]]\n",
    "#     .sort_values(\"comments\",\n",
    "#                  ascending = False)\n",
    "# )"
   ]
  },
  {
   "cell_type": "code",
   "execution_count": 13,
   "metadata": {},
   "outputs": [],
   "source": [
    "# solution 3\n",
    "\n",
    "# ted \\\n",
    "#     .sort_values(\"comments\") \\\n",
    "#     .tail()"
   ]
  },
  {
   "cell_type": "markdown",
   "metadata": {},
   "source": [
    "#### Question 3.2. Please `correct for the bias` in favor of older talks `by calculating the number of comments per view`."
   ]
  },
  {
   "cell_type": "code",
   "execution_count": 14,
   "metadata": {},
   "outputs": [
    {
     "data": {
      "text/html": [
       "<div>\n",
       "<style scoped>\n",
       "    .dataframe tbody tr th:only-of-type {\n",
       "        vertical-align: middle;\n",
       "    }\n",
       "\n",
       "    .dataframe tbody tr th {\n",
       "        vertical-align: top;\n",
       "    }\n",
       "\n",
       "    .dataframe thead th {\n",
       "        text-align: right;\n",
       "    }\n",
       "</style>\n",
       "<table border=\"1\" class=\"dataframe\">\n",
       "  <thead>\n",
       "    <tr style=\"text-align: right;\">\n",
       "      <th></th>\n",
       "      <th>0</th>\n",
       "    </tr>\n",
       "  </thead>\n",
       "  <tbody>\n",
       "    <tr>\n",
       "      <th>comments</th>\n",
       "      <td>comments</td>\n",
       "    </tr>\n",
       "    <tr>\n",
       "      <th>description</th>\n",
       "      <td>description</td>\n",
       "    </tr>\n",
       "    <tr>\n",
       "      <th>duration</th>\n",
       "      <td>duration</td>\n",
       "    </tr>\n",
       "    <tr>\n",
       "      <th>event</th>\n",
       "      <td>event</td>\n",
       "    </tr>\n",
       "    <tr>\n",
       "      <th>film_date</th>\n",
       "      <td>film_date</td>\n",
       "    </tr>\n",
       "    <tr>\n",
       "      <th>languages</th>\n",
       "      <td>languages</td>\n",
       "    </tr>\n",
       "    <tr>\n",
       "      <th>main_speaker</th>\n",
       "      <td>main_speaker</td>\n",
       "    </tr>\n",
       "    <tr>\n",
       "      <th>name</th>\n",
       "      <td>name</td>\n",
       "    </tr>\n",
       "    <tr>\n",
       "      <th>num_speaker</th>\n",
       "      <td>num_speaker</td>\n",
       "    </tr>\n",
       "    <tr>\n",
       "      <th>published_date</th>\n",
       "      <td>published_date</td>\n",
       "    </tr>\n",
       "    <tr>\n",
       "      <th>ratings</th>\n",
       "      <td>ratings</td>\n",
       "    </tr>\n",
       "    <tr>\n",
       "      <th>related_talks</th>\n",
       "      <td>related_talks</td>\n",
       "    </tr>\n",
       "    <tr>\n",
       "      <th>speaker_occupation</th>\n",
       "      <td>speaker_occupation</td>\n",
       "    </tr>\n",
       "    <tr>\n",
       "      <th>tags</th>\n",
       "      <td>tags</td>\n",
       "    </tr>\n",
       "    <tr>\n",
       "      <th>title</th>\n",
       "      <td>title</td>\n",
       "    </tr>\n",
       "    <tr>\n",
       "      <th>url</th>\n",
       "      <td>url</td>\n",
       "    </tr>\n",
       "    <tr>\n",
       "      <th>views</th>\n",
       "      <td>views</td>\n",
       "    </tr>\n",
       "  </tbody>\n",
       "</table>\n",
       "</div>"
      ],
      "text/plain": [
       "                                     0\n",
       "comments                      comments\n",
       "description                description\n",
       "duration                      duration\n",
       "event                            event\n",
       "film_date                    film_date\n",
       "languages                    languages\n",
       "main_speaker              main_speaker\n",
       "name                              name\n",
       "num_speaker                num_speaker\n",
       "published_date          published_date\n",
       "ratings                        ratings\n",
       "related_talks            related_talks\n",
       "speaker_occupation  speaker_occupation\n",
       "tags                              tags\n",
       "title                            title\n",
       "url                                url\n",
       "views                            views"
      ]
     },
     "execution_count": 14,
     "metadata": {},
     "output_type": "execute_result"
    }
   ],
   "source": [
    "ted \\\n",
    "    .columns \\\n",
    "    .to_frame()"
   ]
  },
  {
   "cell_type": "code",
   "execution_count": 15,
   "metadata": {},
   "outputs": [
    {
     "data": {
      "text/html": [
       "<div>\n",
       "<style scoped>\n",
       "    .dataframe tbody tr th:only-of-type {\n",
       "        vertical-align: middle;\n",
       "    }\n",
       "\n",
       "    .dataframe tbody tr th {\n",
       "        vertical-align: top;\n",
       "    }\n",
       "\n",
       "    .dataframe thead th {\n",
       "        text-align: right;\n",
       "    }\n",
       "</style>\n",
       "<table border=\"1\" class=\"dataframe\">\n",
       "  <thead>\n",
       "    <tr style=\"text-align: right;\">\n",
       "      <th></th>\n",
       "      <th>comments_per_view</th>\n",
       "    </tr>\n",
       "  </thead>\n",
       "  <tbody>\n",
       "    <tr>\n",
       "      <th>96</th>\n",
       "      <td>0.001464</td>\n",
       "    </tr>\n",
       "    <tr>\n",
       "      <th>0</th>\n",
       "      <td>0.000096</td>\n",
       "    </tr>\n",
       "    <tr>\n",
       "      <th>644</th>\n",
       "      <td>0.000977</td>\n",
       "    </tr>\n",
       "    <tr>\n",
       "      <th>201</th>\n",
       "      <td>0.000136</td>\n",
       "    </tr>\n",
       "    <tr>\n",
       "      <th>1787</th>\n",
       "      <td>0.001236</td>\n",
       "    </tr>\n",
       "    <tr>\n",
       "      <th>...</th>\n",
       "      <td>...</td>\n",
       "    </tr>\n",
       "    <tr>\n",
       "      <th>2407</th>\n",
       "      <td>0.000008</td>\n",
       "    </tr>\n",
       "    <tr>\n",
       "      <th>2528</th>\n",
       "      <td>0.000006</td>\n",
       "    </tr>\n",
       "    <tr>\n",
       "      <th>2542</th>\n",
       "      <td>0.000006</td>\n",
       "    </tr>\n",
       "    <tr>\n",
       "      <th>2501</th>\n",
       "      <td>0.000004</td>\n",
       "    </tr>\n",
       "    <tr>\n",
       "      <th>2534</th>\n",
       "      <td>0.000003</td>\n",
       "    </tr>\n",
       "  </tbody>\n",
       "</table>\n",
       "<p>2550 rows × 1 columns</p>\n",
       "</div>"
      ],
      "text/plain": [
       "      comments_per_view\n",
       "96             0.001464\n",
       "0              0.000096\n",
       "644            0.000977\n",
       "201            0.000136\n",
       "1787           0.001236\n",
       "...                 ...\n",
       "2407           0.000008\n",
       "2528           0.000006\n",
       "2542           0.000006\n",
       "2501           0.000004\n",
       "2534           0.000003\n",
       "\n",
       "[2550 rows x 1 columns]"
      ]
     },
     "execution_count": 15,
     "metadata": {},
     "output_type": "execute_result"
    }
   ],
   "source": [
    "ted[\"comments_per_view\"] =\\\n",
    "    ted[\"comments\"] / ted[\"views\"]\n",
    "\n",
    "ted[[\"comments_per_view\"]]"
   ]
  },
  {
   "cell_type": "markdown",
   "metadata": {},
   "source": [
    "> #### You will find that, for every view of the same-sex marriage talk, there are 0.002 comments."
   ]
  },
  {
   "cell_type": "markdown",
   "metadata": {},
   "source": [
    "#### Question 3.3. Please make this more interpretable by `inverting` the calculation."
   ]
  },
  {
   "cell_type": "code",
   "execution_count": 16,
   "metadata": {},
   "outputs": [],
   "source": [
    "# ted[\"view_per_comments\"] = 1 / ted[\"comments_per_view\"]"
   ]
  },
  {
   "cell_type": "code",
   "execution_count": 17,
   "metadata": {},
   "outputs": [],
   "source": [
    "ted_VpC =\\\n",
    "(    \n",
    "    ted\n",
    "    [[\"name\", \"comments_per_view\"]]\n",
    "    .sort_values(\"comments_per_view\",\n",
    "                 ascending = False)\n",
    "    .copy()\n",
    ")"
   ]
  },
  {
   "cell_type": "code",
   "execution_count": 18,
   "metadata": {},
   "outputs": [],
   "source": [
    "ted_VpC[\"view_per_comments\"] =\\\n",
    "    1 / ted_VpC[\"comments_per_view\"]"
   ]
  },
  {
   "cell_type": "code",
   "execution_count": 19,
   "metadata": {},
   "outputs": [
    {
     "data": {
      "text/html": [
       "<div>\n",
       "<style scoped>\n",
       "    .dataframe tbody tr th:only-of-type {\n",
       "        vertical-align: middle;\n",
       "    }\n",
       "\n",
       "    .dataframe tbody tr th {\n",
       "        vertical-align: top;\n",
       "    }\n",
       "\n",
       "    .dataframe thead th {\n",
       "        text-align: right;\n",
       "    }\n",
       "</style>\n",
       "<table border=\"1\" class=\"dataframe\">\n",
       "  <thead>\n",
       "    <tr style=\"text-align: right;\">\n",
       "      <th></th>\n",
       "      <th>name</th>\n",
       "      <th>view_per_comments</th>\n",
       "    </tr>\n",
       "  </thead>\n",
       "  <tbody>\n",
       "    <tr>\n",
       "      <th>744</th>\n",
       "      <td>Diane J. Savino: The case for same-sex marriage</td>\n",
       "      <td>450.531587</td>\n",
       "    </tr>\n",
       "    <tr>\n",
       "      <th>803</th>\n",
       "      <td>David Bismark: E-voting without fraud</td>\n",
       "      <td>651.739808</td>\n",
       "    </tr>\n",
       "    <tr>\n",
       "      <th>96</th>\n",
       "      <td>Richard Dawkins: Militant atheism</td>\n",
       "      <td>683.134291</td>\n",
       "    </tr>\n",
       "    <tr>\n",
       "      <th>694</th>\n",
       "      <td>Sharmeen Obaid-Chinoy: Inside a school for sui...</td>\n",
       "      <td>703.886818</td>\n",
       "    </tr>\n",
       "    <tr>\n",
       "      <th>954</th>\n",
       "      <td>Janet Echelman: Taking imagination seriously</td>\n",
       "      <td>735.525682</td>\n",
       "    </tr>\n",
       "    <tr>\n",
       "      <th>...</th>\n",
       "      <td>...</td>\n",
       "      <td>...</td>\n",
       "    </tr>\n",
       "    <tr>\n",
       "      <th>2494</th>\n",
       "      <td>Jimmy Lin: A simple new blood test that can ca...</td>\n",
       "      <td>143643.714286</td>\n",
       "    </tr>\n",
       "    <tr>\n",
       "      <th>2528</th>\n",
       "      <td>Chance Coughenour: How your pictures can help ...</td>\n",
       "      <td>179735.666667</td>\n",
       "    </tr>\n",
       "    <tr>\n",
       "      <th>2542</th>\n",
       "      <td>Sethembile Msezane: Living sculptures that sta...</td>\n",
       "      <td>180696.000000</td>\n",
       "    </tr>\n",
       "    <tr>\n",
       "      <th>2501</th>\n",
       "      <td>Françoise Mouly: The stories behind The New Yo...</td>\n",
       "      <td>279680.000000</td>\n",
       "    </tr>\n",
       "    <tr>\n",
       "      <th>2534</th>\n",
       "      <td>Benjamin Grant: What it feels like to see Eart...</td>\n",
       "      <td>323087.000000</td>\n",
       "    </tr>\n",
       "  </tbody>\n",
       "</table>\n",
       "<p>2550 rows × 2 columns</p>\n",
       "</div>"
      ],
      "text/plain": [
       "                                                   name  view_per_comments\n",
       "744     Diane J. Savino: The case for same-sex marriage         450.531587\n",
       "803               David Bismark: E-voting without fraud         651.739808\n",
       "96                    Richard Dawkins: Militant atheism         683.134291\n",
       "694   Sharmeen Obaid-Chinoy: Inside a school for sui...         703.886818\n",
       "954        Janet Echelman: Taking imagination seriously         735.525682\n",
       "...                                                 ...                ...\n",
       "2494  Jimmy Lin: A simple new blood test that can ca...      143643.714286\n",
       "2528  Chance Coughenour: How your pictures can help ...      179735.666667\n",
       "2542  Sethembile Msezane: Living sculptures that sta...      180696.000000\n",
       "2501  Françoise Mouly: The stories behind The New Yo...      279680.000000\n",
       "2534  Benjamin Grant: What it feels like to see Eart...      323087.000000\n",
       "\n",
       "[2550 rows x 2 columns]"
      ]
     },
     "execution_count": 19,
     "metadata": {},
     "output_type": "execute_result"
    }
   ],
   "source": [
    "ted_VpC[[\"name\", \"view_per_comments\"]] \\\n",
    "    .sort_values(\"view_per_comments\")"
   ]
  },
  {
   "cell_type": "markdown",
   "metadata": {},
   "source": [
    "> Please consider the `limitations` and `biases` of your data, making your results understandable (`interpretable`)."
   ]
  },
  {
   "cell_type": "markdown",
   "metadata": {},
   "source": [
    "### <font color = \"blue\"> Let's `visualize` the distribution of comments </font>\n",
    "\n",
    "> #### <font color = \"red\"> See **Chapter 4** of `Python Data Science Handbook` for a quick reference for matplotlib </font>\n",
    "\n",
    "> #### <font color = \"red\"> For in-depth details, use https://matplotlib.org/stable/api/_as_gen/matplotlib.pyplot.html </font>"
   ]
  },
  {
   "cell_type": "markdown",
   "metadata": {},
   "source": [
    "#### Question 3.4. Please create a `Line chart`, but it seems NOT useful here."
   ]
  },
  {
   "cell_type": "code",
   "execution_count": 20,
   "metadata": {},
   "outputs": [
    {
     "data": {
      "text/plain": [
       "[<matplotlib.lines.Line2D at 0x7fc5323ae5b0>]"
      ]
     },
     "execution_count": 20,
     "metadata": {},
     "output_type": "execute_result"
    },
    {
     "data": {
      "image/png": "[encoded data removed]",
      "text/plain": [
       "<Figure size 432x288 with 1 Axes>"
      ]
     },
     "metadata": {
      "needs_background": "light"
     },
     "output_type": "display_data"
    }
   ],
   "source": [
    "plt \\\n",
    "    .plot(ted[\"comments\"]\n",
    "         )"
   ]
  },
  {
   "cell_type": "code",
   "execution_count": 21,
   "metadata": {},
   "outputs": [
    {
     "data": {
      "text/html": [
       "<div>\n",
       "<style scoped>\n",
       "    .dataframe tbody tr th:only-of-type {\n",
       "        vertical-align: middle;\n",
       "    }\n",
       "\n",
       "    .dataframe tbody tr th {\n",
       "        vertical-align: top;\n",
       "    }\n",
       "\n",
       "    .dataframe thead th {\n",
       "        text-align: right;\n",
       "    }\n",
       "</style>\n",
       "<table border=\"1\" class=\"dataframe\">\n",
       "  <thead>\n",
       "    <tr style=\"text-align: right;\">\n",
       "      <th></th>\n",
       "      <th>comments</th>\n",
       "    </tr>\n",
       "  </thead>\n",
       "  <tbody>\n",
       "    <tr>\n",
       "      <th>96</th>\n",
       "      <td>6404</td>\n",
       "    </tr>\n",
       "    <tr>\n",
       "      <th>0</th>\n",
       "      <td>4553</td>\n",
       "    </tr>\n",
       "    <tr>\n",
       "      <th>644</th>\n",
       "      <td>3356</td>\n",
       "    </tr>\n",
       "    <tr>\n",
       "      <th>201</th>\n",
       "      <td>2877</td>\n",
       "    </tr>\n",
       "    <tr>\n",
       "      <th>1787</th>\n",
       "      <td>2673</td>\n",
       "    </tr>\n",
       "    <tr>\n",
       "      <th>...</th>\n",
       "      <td>...</td>\n",
       "    </tr>\n",
       "    <tr>\n",
       "      <th>2407</th>\n",
       "      <td>5</td>\n",
       "    </tr>\n",
       "    <tr>\n",
       "      <th>2528</th>\n",
       "      <td>3</td>\n",
       "    </tr>\n",
       "    <tr>\n",
       "      <th>2542</th>\n",
       "      <td>3</td>\n",
       "    </tr>\n",
       "    <tr>\n",
       "      <th>2501</th>\n",
       "      <td>3</td>\n",
       "    </tr>\n",
       "    <tr>\n",
       "      <th>2534</th>\n",
       "      <td>2</td>\n",
       "    </tr>\n",
       "  </tbody>\n",
       "</table>\n",
       "<p>2550 rows × 1 columns</p>\n",
       "</div>"
      ],
      "text/plain": [
       "      comments\n",
       "96        6404\n",
       "0         4553\n",
       "644       3356\n",
       "201       2877\n",
       "1787      2673\n",
       "...        ...\n",
       "2407         5\n",
       "2528         3\n",
       "2542         3\n",
       "2501         3\n",
       "2534         2\n",
       "\n",
       "[2550 rows x 1 columns]"
      ]
     },
     "execution_count": 21,
     "metadata": {},
     "output_type": "execute_result"
    }
   ],
   "source": [
    "ted[[\"comments\"]]"
   ]
  },
  {
   "cell_type": "code",
   "execution_count": 22,
   "metadata": {},
   "outputs": [
    {
     "data": {
      "text/plain": [
       "<Axes: >"
      ]
     },
     "execution_count": 22,
     "metadata": {},
     "output_type": "execute_result"
    },
    {
     "data": {
      "image/png": "[encoded data removed]",
      "text/plain": [
       "<Figure size 432x288 with 1 Axes>"
      ]
     },
     "metadata": {
      "needs_background": "light"
     },
     "output_type": "display_data"
    }
   ],
   "source": [
    "(\n",
    "    ted\n",
    "    [\"comments\"]\n",
    "    .sort_values()\n",
    "    .reset_index(drop = True)\n",
    "    .plot\n",
    "    .line()\n",
    ")"
   ]
  },
  {
   "cell_type": "markdown",
   "metadata": {},
   "source": [
    "#### Question 3.5. Please create a `Histogram`--it displays the frequency distribution of a single numeric variable."
   ]
  },
  {
   "cell_type": "code",
   "execution_count": 23,
   "metadata": {},
   "outputs": [
    {
     "data": {
      "text/plain": [
       "<Axes: ylabel='Frequency'>"
      ]
     },
     "execution_count": 23,
     "metadata": {},
     "output_type": "execute_result"
    },
    {
     "data": {
      "image/png": "[encoded data removed]",
      "text/plain": [
       "<Figure size 432x288 with 1 Axes>"
      ]
     },
     "metadata": {
      "needs_background": "light"
     },
     "output_type": "display_data"
    }
   ],
   "source": [
    "(\n",
    "    ted\n",
    "    .comments\n",
    "    .plot(kind = \"hist\")\n",
    ")"
   ]
  },
  {
   "cell_type": "markdown",
   "metadata": {},
   "source": [
    "#### Question 3.6. Please modify the plot to be more informative by setting a cut-off for inclusion (i.e., more than 1,000 comments)."
   ]
  },
  {
   "cell_type": "code",
   "execution_count": 24,
   "metadata": {},
   "outputs": [
    {
     "data": {
      "text/plain": [
       "<Axes: ylabel='Frequency'>"
      ]
     },
     "execution_count": 24,
     "metadata": {},
     "output_type": "execute_result"
    },
    {
     "data": {
      "image/png": "[encoded data removed]",
      "text/plain": [
       "<Figure size 432x288 with 1 Axes>"
      ]
     },
     "metadata": {
      "needs_background": "light"
     },
     "output_type": "display_data"
    }
   ],
   "source": [
    "(\n",
    "    ted\n",
    "    [ted.comments < 1000]\n",
    "    .comments\n",
    "    .plot(kind = \"hist\")\n",
    ")"
   ]
  },
  {
   "cell_type": "markdown",
   "metadata": {},
   "source": [
    ">  Now, before we move on, let's check how many observations we removed from the plot."
   ]
  },
  {
   "cell_type": "code",
   "execution_count": 25,
   "metadata": {},
   "outputs": [
    {
     "data": {
      "text/plain": [
       "(32, 18)"
      ]
     },
     "execution_count": 25,
     "metadata": {},
     "output_type": "execute_result"
    }
   ],
   "source": [
    "(ted\n",
    "    [ted.comments >= 1000]\n",
    "    .shape\n",
    ")"
   ]
  },
  {
   "cell_type": "markdown",
   "metadata": {},
   "source": [
    "### Question 4.1. Here's a question for an expansion of your vocabulary: please obtain the above using the query method.\n",
    "\n",
    "> #### <font color = \"red\"> Please check the following for more details </font> \n",
    "> - `Python Data Science Handbook`\n",
    "    - *Chapter 3*: Data Manipulation with Pandas\n",
    "        - *Section 12*: High-Performance Pandas: `eval()` and `query()` "
   ]
  },
  {
   "cell_type": "code",
   "execution_count": 26,
   "metadata": {},
   "outputs": [],
   "source": [
    "P =\\\n",
    "(ted\n",
    "    .query(\"comments < 1000\")\n",
    ")"
   ]
  },
  {
   "cell_type": "code",
   "execution_count": 27,
   "metadata": {},
   "outputs": [],
   "source": [
    "Q =\\\n",
    "(ted \n",
    "    [ted.comments < 1000]\n",
    ")"
   ]
  },
  {
   "cell_type": "code",
   "execution_count": 28,
   "metadata": {},
   "outputs": [
    {
     "name": "stdout",
     "output_type": "stream",
     "text": [
      "Variable   Type         Data/Info\n",
      "---------------------------------\n",
      "P          DataFrame          comments           <...>n[2518 rows x 18 columns]\n",
      "Q          DataFrame          comments           <...>n[2518 rows x 18 columns]\n",
      "np         module       <module 'numpy' from '/Us<...>kages/numpy/__init__.py'>\n",
      "pd         module       <module 'pandas' from '/U<...>ages/pandas/__init__.py'>\n",
      "plt        module       <module 'matplotlib.pyplo<...>es/matplotlib/pyplot.py'>\n",
      "ted        DataFrame          comments           <...>n[2550 rows x 18 columns]\n",
      "ted_VpC    DataFrame                             <...>\\n[2550 rows x 3 columns]\n"
     ]
    }
   ],
   "source": [
    "%whos"
   ]
  },
  {
   "cell_type": "markdown",
   "metadata": {},
   "source": [
    "### NOTE: Please pay attention to `the details`."
   ]
  },
  {
   "cell_type": "code",
   "execution_count": 29,
   "metadata": {},
   "outputs": [
    {
     "name": "stdout",
     "output_type": "stream",
     "text": [
      "comments\n",
      "True    2518\n",
      "Name: count, dtype: int64 \n",
      "\n",
      "description\n",
      "True    2518\n",
      "Name: count, dtype: int64 \n",
      "\n",
      "duration\n",
      "True    2518\n",
      "Name: count, dtype: int64 \n",
      "\n",
      "event\n",
      "True    2518\n",
      "Name: count, dtype: int64 \n",
      "\n",
      "film_date\n",
      "True    2518\n",
      "Name: count, dtype: int64 \n",
      "\n",
      "languages\n",
      "True    2518\n",
      "Name: count, dtype: int64 \n",
      "\n",
      "main_speaker\n",
      "True    2518\n",
      "Name: count, dtype: int64 \n",
      "\n",
      "name\n",
      "True    2518\n",
      "Name: count, dtype: int64 \n",
      "\n",
      "num_speaker\n",
      "True    2518\n",
      "Name: count, dtype: int64 \n",
      "\n",
      "published_date\n",
      "True    2518\n",
      "Name: count, dtype: int64 \n",
      "\n",
      "ratings\n",
      "True    2518\n",
      "Name: count, dtype: int64 \n",
      "\n",
      "related_talks\n",
      "True    2518\n",
      "Name: count, dtype: int64 \n",
      "\n",
      "speaker_occupation\n",
      "True     2512\n",
      "False       6\n",
      "Name: count, dtype: int64 \n",
      "\n",
      "tags\n",
      "True    2518\n",
      "Name: count, dtype: int64 \n",
      "\n",
      "title\n",
      "True    2518\n",
      "Name: count, dtype: int64 \n",
      "\n",
      "url\n",
      "True    2518\n",
      "Name: count, dtype: int64 \n",
      "\n",
      "views\n",
      "True    2518\n",
      "Name: count, dtype: int64 \n",
      "\n",
      "comments_per_view\n",
      "True    2518\n",
      "Name: count, dtype: int64 \n",
      "\n"
     ]
    }
   ],
   "source": [
    "for variable in (P == Q).columns:\n",
    "    print((P == Q)[variable]\n",
    "          .value_counts(),\n",
    "          \"\\n\")"
   ]
  },
  {
   "cell_type": "markdown",
   "metadata": {},
   "source": [
    "#### Question 4.2. Here's a question for yet another expansion of your vocabulary: please write this using the `loc` accessor.\n",
    "\n",
    "> #### <font color = \"red\"> Please check the following for more details on the differences between loc and iloc. \n",
    "    \n",
    "> - `** NOTE: You may ignore ix as it has been deprecated**` </font>\n",
    "\n",
    "> - `Python Data Science Handbook`\n",
    "    - *Chapter 3*: Data Manipulation with Pandas\n",
    "        - *Section 2*: Data Indexing and Selection\n",
    "            - *Subsection 3*: Indexers: loc, iloc, and ix"
   ]
  },
  {
   "cell_type": "code",
   "execution_count": 30,
   "metadata": {},
   "outputs": [
    {
     "data": {
      "text/plain": [
       "<Axes: ylabel='Frequency'>"
      ]
     },
     "execution_count": 30,
     "metadata": {},
     "output_type": "execute_result"
    },
    {
     "data": {
      "image/png": "[encoded data removed]",
      "text/plain": [
       "<Figure size 432x288 with 1 Axes>"
      ]
     },
     "metadata": {
      "needs_background": "light"
     },
     "output_type": "display_data"
    }
   ],
   "source": [
    "(ted\n",
    "    .loc[ted.comments < 1000, \"comments\"]\n",
    "    .plot(kind = \"hist\")\n",
    ")"
   ]
  },
  {
   "cell_type": "markdown",
   "metadata": {},
   "source": [
    "> Let's increase the number of bins (intervals) to see more detail."
   ]
  },
  {
   "cell_type": "code",
   "execution_count": 31,
   "metadata": {},
   "outputs": [
    {
     "data": {
      "text/plain": [
       "<Axes: ylabel='Frequency'>"
      ]
     },
     "execution_count": 31,
     "metadata": {},
     "output_type": "execute_result"
    },
    {
     "data": {
      "image/png": "[encoded data removed]",
      "text/plain": [
       "<Figure size 432x288 with 1 Axes>"
      ]
     },
     "metadata": {
      "needs_background": "light"
     },
     "output_type": "display_data"
    }
   ],
   "source": [
    "(ted\n",
    "    .loc[ted.comments < 1000, \"comments\"]\n",
    "    .plot(kind = \"hist\",\n",
    "          bins = 100)\n",
    ")"
   ]
  },
  {
   "cell_type": "markdown",
   "metadata": {},
   "source": [
    "#### Question 4.3. Please create a boxplot. Boxplot can also show distributions, but it's far less useful for concentrated distributions because of outliers."
   ]
  },
  {
   "cell_type": "code",
   "execution_count": 32,
   "metadata": {},
   "outputs": [
    {
     "data": {
      "text/plain": [
       "<Axes: >"
      ]
     },
     "execution_count": 32,
     "metadata": {},
     "output_type": "execute_result"
    },
    {
     "data": {
      "image/png": "[encoded data removed]",
      "text/plain": [
       "<Figure size 432x288 with 1 Axes>"
      ]
     },
     "metadata": {
      "needs_background": "light"
     },
     "output_type": "display_data"
    }
   ],
   "source": [
    "(ted\n",
    "    .loc[ted.comments < 1000, \"comments\"]\n",
    "    .plot(kind = \"box\")\n",
    ")"
   ]
  },
  {
   "cell_type": "code",
   "execution_count": 33,
   "metadata": {},
   "outputs": [
    {
     "data": {
      "image/png": "[encoded data removed]",
      "text/plain": [
       "<Figure size 432x288 with 1 Axes>"
      ]
     },
     "metadata": {
      "needs_background": "light"
     },
     "output_type": "display_data"
    }
   ],
   "source": [
    "(plt\n",
    "    .boxplot(ted\n",
    "             #loc[row, column]\n",
    "             .loc[ : , \"comments\"]\n",
    "            )\n",
    ")\n",
    "\n",
    "plt.show()"
   ]
  },
  {
   "cell_type": "markdown",
   "metadata": {},
   "source": [
    "### <font color = \"blue\"> Let me reiterate learning pointers in an explicit manner so that you can keep this in mind. </font>\n",
    "\n",
    "1. `Choose your plot type` based on the question you are answering and the data type(s) you are working with\n",
    "2. `Use pandas one-liners` to iterate through plots quickly\n",
    "3. `Try modifying the plot defaults`\n",
    "\n",
    "> ***Yes, creating plots involves your decision-making***"
   ]
  },
  {
   "cell_type": "markdown",
   "metadata": {},
   "source": [
    "#### Question 4.4. Please plot the number of talks that took place each year."
   ]
  },
  {
   "cell_type": "markdown",
   "metadata": {},
   "source": [
    "> Let's calculate the average delay between filming and publishing."
   ]
  },
  {
   "cell_type": "code",
   "execution_count": 34,
   "metadata": {},
   "outputs": [
    {
     "data": {
      "text/html": [
       "<div>\n",
       "<style scoped>\n",
       "    .dataframe tbody tr th:only-of-type {\n",
       "        vertical-align: middle;\n",
       "    }\n",
       "\n",
       "    .dataframe tbody tr th {\n",
       "        vertical-align: top;\n",
       "    }\n",
       "\n",
       "    .dataframe thead th {\n",
       "        text-align: right;\n",
       "    }\n",
       "</style>\n",
       "<table border=\"1\" class=\"dataframe\">\n",
       "  <thead>\n",
       "    <tr style=\"text-align: right;\">\n",
       "      <th></th>\n",
       "      <th>0</th>\n",
       "    </tr>\n",
       "  </thead>\n",
       "  <tbody>\n",
       "    <tr>\n",
       "      <th>comments</th>\n",
       "      <td>comments</td>\n",
       "    </tr>\n",
       "    <tr>\n",
       "      <th>description</th>\n",
       "      <td>description</td>\n",
       "    </tr>\n",
       "    <tr>\n",
       "      <th>duration</th>\n",
       "      <td>duration</td>\n",
       "    </tr>\n",
       "    <tr>\n",
       "      <th>event</th>\n",
       "      <td>event</td>\n",
       "    </tr>\n",
       "    <tr>\n",
       "      <th>film_date</th>\n",
       "      <td>film_date</td>\n",
       "    </tr>\n",
       "    <tr>\n",
       "      <th>languages</th>\n",
       "      <td>languages</td>\n",
       "    </tr>\n",
       "    <tr>\n",
       "      <th>main_speaker</th>\n",
       "      <td>main_speaker</td>\n",
       "    </tr>\n",
       "    <tr>\n",
       "      <th>name</th>\n",
       "      <td>name</td>\n",
       "    </tr>\n",
       "    <tr>\n",
       "      <th>num_speaker</th>\n",
       "      <td>num_speaker</td>\n",
       "    </tr>\n",
       "    <tr>\n",
       "      <th>published_date</th>\n",
       "      <td>published_date</td>\n",
       "    </tr>\n",
       "    <tr>\n",
       "      <th>ratings</th>\n",
       "      <td>ratings</td>\n",
       "    </tr>\n",
       "    <tr>\n",
       "      <th>related_talks</th>\n",
       "      <td>related_talks</td>\n",
       "    </tr>\n",
       "    <tr>\n",
       "      <th>speaker_occupation</th>\n",
       "      <td>speaker_occupation</td>\n",
       "    </tr>\n",
       "    <tr>\n",
       "      <th>tags</th>\n",
       "      <td>tags</td>\n",
       "    </tr>\n",
       "    <tr>\n",
       "      <th>title</th>\n",
       "      <td>title</td>\n",
       "    </tr>\n",
       "    <tr>\n",
       "      <th>url</th>\n",
       "      <td>url</td>\n",
       "    </tr>\n",
       "    <tr>\n",
       "      <th>views</th>\n",
       "      <td>views</td>\n",
       "    </tr>\n",
       "    <tr>\n",
       "      <th>comments_per_view</th>\n",
       "      <td>comments_per_view</td>\n",
       "    </tr>\n",
       "  </tbody>\n",
       "</table>\n",
       "</div>"
      ],
      "text/plain": [
       "                                     0\n",
       "comments                      comments\n",
       "description                description\n",
       "duration                      duration\n",
       "event                            event\n",
       "film_date                    film_date\n",
       "languages                    languages\n",
       "main_speaker              main_speaker\n",
       "name                              name\n",
       "num_speaker                num_speaker\n",
       "published_date          published_date\n",
       "ratings                        ratings\n",
       "related_talks            related_talks\n",
       "speaker_occupation  speaker_occupation\n",
       "tags                              tags\n",
       "title                            title\n",
       "url                                url\n",
       "views                            views\n",
       "comments_per_view    comments_per_view"
      ]
     },
     "execution_count": 34,
     "metadata": {},
     "output_type": "execute_result"
    }
   ],
   "source": [
    "(ted\n",
    "    .columns\n",
    "    .to_frame()\n",
    ")"
   ]
  },
  {
   "cell_type": "code",
   "execution_count": 35,
   "metadata": {},
   "outputs": [
    {
     "data": {
      "text/html": [
       "<div>\n",
       "<style scoped>\n",
       "    .dataframe tbody tr th:only-of-type {\n",
       "        vertical-align: middle;\n",
       "    }\n",
       "\n",
       "    .dataframe tbody tr th {\n",
       "        vertical-align: top;\n",
       "    }\n",
       "\n",
       "    .dataframe thead th {\n",
       "        text-align: right;\n",
       "    }\n",
       "</style>\n",
       "<table border=\"1\" class=\"dataframe\">\n",
       "  <thead>\n",
       "    <tr style=\"text-align: right;\">\n",
       "      <th></th>\n",
       "      <th>event</th>\n",
       "    </tr>\n",
       "  </thead>\n",
       "  <tbody>\n",
       "    <tr>\n",
       "      <th>96</th>\n",
       "      <td>TED2002</td>\n",
       "    </tr>\n",
       "    <tr>\n",
       "      <th>0</th>\n",
       "      <td>TED2006</td>\n",
       "    </tr>\n",
       "    <tr>\n",
       "      <th>644</th>\n",
       "      <td>TED2010</td>\n",
       "    </tr>\n",
       "    <tr>\n",
       "      <th>201</th>\n",
       "      <td>TED2008</td>\n",
       "    </tr>\n",
       "    <tr>\n",
       "      <th>1787</th>\n",
       "      <td>TED2014</td>\n",
       "    </tr>\n",
       "    <tr>\n",
       "      <th>...</th>\n",
       "      <td>...</td>\n",
       "    </tr>\n",
       "    <tr>\n",
       "      <th>2407</th>\n",
       "      <td>TED2016</td>\n",
       "    </tr>\n",
       "    <tr>\n",
       "      <th>2528</th>\n",
       "      <td>TEDxHamburg</td>\n",
       "    </tr>\n",
       "    <tr>\n",
       "      <th>2542</th>\n",
       "      <td>TEDGlobal 2017</td>\n",
       "    </tr>\n",
       "    <tr>\n",
       "      <th>2501</th>\n",
       "      <td>TEDNYC</td>\n",
       "    </tr>\n",
       "    <tr>\n",
       "      <th>2534</th>\n",
       "      <td>TEDxSkoll</td>\n",
       "    </tr>\n",
       "  </tbody>\n",
       "</table>\n",
       "<p>2550 rows × 1 columns</p>\n",
       "</div>"
      ],
      "text/plain": [
       "               event\n",
       "96           TED2002\n",
       "0            TED2006\n",
       "644          TED2010\n",
       "201          TED2008\n",
       "1787         TED2014\n",
       "...              ...\n",
       "2407         TED2016\n",
       "2528     TEDxHamburg\n",
       "2542  TEDGlobal 2017\n",
       "2501          TEDNYC\n",
       "2534       TEDxSkoll\n",
       "\n",
       "[2550 rows x 1 columns]"
      ]
     },
     "execution_count": 35,
     "metadata": {},
     "output_type": "execute_result"
    }
   ],
   "source": [
    "ted[[\"event\"]]"
   ]
  },
  {
   "cell_type": "markdown",
   "metadata": {},
   "source": [
    "> Okay. `event` column does not always include the year"
   ]
  },
  {
   "cell_type": "markdown",
   "metadata": {},
   "source": [
    "> Note that `film_date` denotes `Unix timestamp of the filming`. Have a look at it :)"
   ]
  },
  {
   "cell_type": "code",
   "execution_count": 36,
   "metadata": {},
   "outputs": [
    {
     "data": {
      "text/html": [
       "<div>\n",
       "<style scoped>\n",
       "    .dataframe tbody tr th:only-of-type {\n",
       "        vertical-align: middle;\n",
       "    }\n",
       "\n",
       "    .dataframe tbody tr th {\n",
       "        vertical-align: top;\n",
       "    }\n",
       "\n",
       "    .dataframe thead th {\n",
       "        text-align: right;\n",
       "    }\n",
       "</style>\n",
       "<table border=\"1\" class=\"dataframe\">\n",
       "  <thead>\n",
       "    <tr style=\"text-align: right;\">\n",
       "      <th></th>\n",
       "      <th>film_date</th>\n",
       "      <th>published_date</th>\n",
       "    </tr>\n",
       "  </thead>\n",
       "  <tbody>\n",
       "    <tr>\n",
       "      <th>96</th>\n",
       "      <td>1012608000</td>\n",
       "      <td>1176689220</td>\n",
       "    </tr>\n",
       "    <tr>\n",
       "      <th>0</th>\n",
       "      <td>1140825600</td>\n",
       "      <td>1151367060</td>\n",
       "    </tr>\n",
       "    <tr>\n",
       "      <th>644</th>\n",
       "      <td>1265846400</td>\n",
       "      <td>1269249180</td>\n",
       "    </tr>\n",
       "    <tr>\n",
       "      <th>201</th>\n",
       "      <td>1204070400</td>\n",
       "      <td>1205284200</td>\n",
       "    </tr>\n",
       "    <tr>\n",
       "      <th>1787</th>\n",
       "      <td>1395100800</td>\n",
       "      <td>1405350484</td>\n",
       "    </tr>\n",
       "    <tr>\n",
       "      <th>...</th>\n",
       "      <td>...</td>\n",
       "      <td>...</td>\n",
       "    </tr>\n",
       "    <tr>\n",
       "      <th>2407</th>\n",
       "      <td>1455494400</td>\n",
       "      <td>1489759215</td>\n",
       "    </tr>\n",
       "    <tr>\n",
       "      <th>2528</th>\n",
       "      <td>1465344000</td>\n",
       "      <td>1504209631</td>\n",
       "    </tr>\n",
       "    <tr>\n",
       "      <th>2542</th>\n",
       "      <td>1503792000</td>\n",
       "      <td>1505488093</td>\n",
       "    </tr>\n",
       "    <tr>\n",
       "      <th>2501</th>\n",
       "      <td>1488931200</td>\n",
       "      <td>1501770244</td>\n",
       "    </tr>\n",
       "    <tr>\n",
       "      <th>2534</th>\n",
       "      <td>1491523200</td>\n",
       "      <td>1504814438</td>\n",
       "    </tr>\n",
       "  </tbody>\n",
       "</table>\n",
       "<p>2550 rows × 2 columns</p>\n",
       "</div>"
      ],
      "text/plain": [
       "       film_date  published_date\n",
       "96    1012608000      1176689220\n",
       "0     1140825600      1151367060\n",
       "644   1265846400      1269249180\n",
       "201   1204070400      1205284200\n",
       "1787  1395100800      1405350484\n",
       "...          ...             ...\n",
       "2407  1455494400      1489759215\n",
       "2528  1465344000      1504209631\n",
       "2542  1503792000      1505488093\n",
       "2501  1488931200      1501770244\n",
       "2534  1491523200      1504814438\n",
       "\n",
       "[2550 rows x 2 columns]"
      ]
     },
     "execution_count": 36,
     "metadata": {},
     "output_type": "execute_result"
    }
   ],
   "source": [
    "ted[[\"film_date\", \"published_date\"]]"
   ]
  },
  {
   "cell_type": "markdown",
   "metadata": {},
   "source": [
    "> Results don't look right...\n",
    "\n",
    "> What would you do? You may use `to_datetime()`"
   ]
  },
  {
   "cell_type": "code",
   "execution_count": 37,
   "metadata": {},
   "outputs": [
    {
     "data": {
      "text/plain": [
       "96     1970-01-01 00:00:01.012608000\n",
       "0      1970-01-01 00:00:01.140825600\n",
       "644    1970-01-01 00:00:01.265846400\n",
       "201    1970-01-01 00:00:01.204070400\n",
       "1787   1970-01-01 00:00:01.395100800\n",
       "                    ...             \n",
       "2407   1970-01-01 00:00:01.455494400\n",
       "2528   1970-01-01 00:00:01.465344000\n",
       "2542   1970-01-01 00:00:01.503792000\n",
       "2501   1970-01-01 00:00:01.488931200\n",
       "2534   1970-01-01 00:00:01.491523200\n",
       "Name: film_date, Length: 2550, dtype: datetime64[ns]"
      ]
     },
     "execution_count": 37,
     "metadata": {},
     "output_type": "execute_result"
    }
   ],
   "source": [
    "(\n",
    "    pd\n",
    "    .to_datetime(ted[\"film_date\"]\n",
    "                )\n",
    ")"
   ]
  },
  {
   "cell_type": "markdown",
   "metadata": {},
   "source": [
    "> Still, it does NOT look fine..."
   ]
  },
  {
   "cell_type": "markdown",
   "metadata": {},
   "source": [
    "### <font color = \"red\"> For your information, [pandas documentation for `to_datetime`](https://pandas.pydata.org/pandas-docs/stable/reference/api/pandas.to_datetime.html) </font>"
   ]
  },
  {
   "cell_type": "markdown",
   "metadata": {},
   "source": [
    "> #### <font color = \"blue\"> Please use argument `unit` and set it at `\"s\"` </font>"
   ]
  },
  {
   "cell_type": "code",
   "execution_count": 38,
   "metadata": {},
   "outputs": [],
   "source": [
    "ted[\"film_date_CLEANED\"] =\\\n",
    "(    pd\n",
    "     .to_datetime(ted.film_date,\n",
    "                  unit = \"s\")\n",
    ")"
   ]
  },
  {
   "cell_type": "markdown",
   "metadata": {
    "scrolled": false
   },
   "source": [
    "> You might want to check that event name matches film_datetime for a random sample: use, `sample()`"
   ]
  },
  {
   "cell_type": "code",
   "execution_count": 39,
   "metadata": {
    "scrolled": false
   },
   "outputs": [
    {
     "data": {
      "text/html": [
       "<div>\n",
       "<style scoped>\n",
       "    .dataframe tbody tr th:only-of-type {\n",
       "        vertical-align: middle;\n",
       "    }\n",
       "\n",
       "    .dataframe tbody tr th {\n",
       "        vertical-align: top;\n",
       "    }\n",
       "\n",
       "    .dataframe thead th {\n",
       "        text-align: right;\n",
       "    }\n",
       "</style>\n",
       "<table border=\"1\" class=\"dataframe\">\n",
       "  <thead>\n",
       "    <tr style=\"text-align: right;\">\n",
       "      <th></th>\n",
       "      <th>event</th>\n",
       "      <th>film_date</th>\n",
       "      <th>film_date_CLEANED</th>\n",
       "    </tr>\n",
       "  </thead>\n",
       "  <tbody>\n",
       "    <tr>\n",
       "      <th>2013</th>\n",
       "      <td>TED2015</td>\n",
       "      <td>1426723200</td>\n",
       "      <td>2015-03-19</td>\n",
       "    </tr>\n",
       "    <tr>\n",
       "      <th>1926</th>\n",
       "      <td>TEDGlobal 2014</td>\n",
       "      <td>1413417600</td>\n",
       "      <td>2014-10-16</td>\n",
       "    </tr>\n",
       "    <tr>\n",
       "      <th>1512</th>\n",
       "      <td>TED2013</td>\n",
       "      <td>1361923200</td>\n",
       "      <td>2013-02-27</td>\n",
       "    </tr>\n",
       "    <tr>\n",
       "      <th>988</th>\n",
       "      <td>TEDGlobal 2011</td>\n",
       "      <td>1310515200</td>\n",
       "      <td>2011-07-13</td>\n",
       "    </tr>\n",
       "    <tr>\n",
       "      <th>2397</th>\n",
       "      <td>TEDxVienna</td>\n",
       "      <td>1477094400</td>\n",
       "      <td>2016-10-22</td>\n",
       "    </tr>\n",
       "    <tr>\n",
       "      <th>868</th>\n",
       "      <td>TEDxRotterdam 2010</td>\n",
       "      <td>1275609600</td>\n",
       "      <td>2010-06-04</td>\n",
       "    </tr>\n",
       "    <tr>\n",
       "      <th>746</th>\n",
       "      <td>TEDGlobal 2010</td>\n",
       "      <td>1279152000</td>\n",
       "      <td>2010-07-15</td>\n",
       "    </tr>\n",
       "  </tbody>\n",
       "</table>\n",
       "</div>"
      ],
      "text/plain": [
       "                   event   film_date film_date_CLEANED\n",
       "2013             TED2015  1426723200        2015-03-19\n",
       "1926      TEDGlobal 2014  1413417600        2014-10-16\n",
       "1512             TED2013  1361923200        2013-02-27\n",
       "988       TEDGlobal 2011  1310515200        2011-07-13\n",
       "2397          TEDxVienna  1477094400        2016-10-22\n",
       "868   TEDxRotterdam 2010  1275609600        2010-06-04\n",
       "746       TEDGlobal 2010  1279152000        2010-07-15"
      ]
     },
     "execution_count": 39,
     "metadata": {},
     "output_type": "execute_result"
    }
   ],
   "source": [
    "(\n",
    "    ted\n",
    "    .sample(n = 7,\n",
    "            random_state = 230902)\n",
    "    [[\"event\", \"film_date\", \"film_date_CLEANED\"]]\n",
    ")"
   ]
  },
  {
   "cell_type": "markdown",
   "metadata": {},
   "source": [
    "> New column uses the datetime data type (this was an automatic conversion)"
   ]
  },
  {
   "cell_type": "markdown",
   "metadata": {},
   "source": [
    "##### `datetime` columns have convenient attributes under the `dt` namespace"
   ]
  },
  {
   "cell_type": "code",
   "execution_count": 40,
   "metadata": {},
   "outputs": [
    {
     "data": {
      "text/plain": [
       "96      2002\n",
       "0       2006\n",
       "644     2010\n",
       "201     2008\n",
       "1787    2014\n",
       "Name: film_date_CLEANED, dtype: int32"
      ]
     },
     "execution_count": 40,
     "metadata": {},
     "output_type": "execute_result"
    }
   ],
   "source": [
    "(ted\n",
    "    .film_date_CLEANED\n",
    "    .dt\n",
    "    .year\n",
    "    .head()\n",
    ")"
   ]
  },
  {
   "cell_type": "markdown",
   "metadata": {},
   "source": [
    "> This is similar to string methods under the str namespace"
   ]
  },
  {
   "cell_type": "code",
   "execution_count": 41,
   "metadata": {},
   "outputs": [
    {
     "data": {
      "text/plain": [
       "Index(['comments', 'description', 'duration', 'event', 'film_date',\n",
       "       'languages', 'main_speaker', 'name', 'num_speaker', 'published_date',\n",
       "       'ratings', 'related_talks', 'speaker_occupation', 'tags', 'title',\n",
       "       'url', 'views', 'comments_per_view', 'film_date_CLEANED'],\n",
       "      dtype='object')"
      ]
     },
     "execution_count": 41,
     "metadata": {},
     "output_type": "execute_result"
    }
   ],
   "source": [
    "ted.columns"
   ]
  },
  {
   "cell_type": "code",
   "execution_count": 42,
   "metadata": {},
   "outputs": [
    {
     "data": {
      "text/plain": [
       "96             TED2002\n",
       "0              TED2006\n",
       "644            TED2010\n",
       "201            TED2008\n",
       "1787           TED2014\n",
       "             ...      \n",
       "2407           TED2016\n",
       "2528       TEDxHamburg\n",
       "2542    TEDGlobal 2017\n",
       "2501            TEDNYC\n",
       "2534         TEDxSkoll\n",
       "Name: event, Length: 2550, dtype: object"
      ]
     },
     "execution_count": 42,
     "metadata": {},
     "output_type": "execute_result"
    }
   ],
   "source": [
    "ted.event"
   ]
  },
  {
   "cell_type": "code",
   "execution_count": 43,
   "metadata": {},
   "outputs": [
    {
     "data": {
      "text/plain": [
       "96             ted2002\n",
       "0              ted2006\n",
       "644            ted2010\n",
       "201            ted2008\n",
       "1787           ted2014\n",
       "             ...      \n",
       "2407           ted2016\n",
       "2528       tedxhamburg\n",
       "2542    tedglobal 2017\n",
       "2501            tednyc\n",
       "2534         tedxskoll\n",
       "Name: event, Length: 2550, dtype: object"
      ]
     },
     "execution_count": 43,
     "metadata": {},
     "output_type": "execute_result"
    }
   ],
   "source": [
    "(ted\n",
    "    .event\n",
    "    .str\n",
    "    .lower()\n",
    ")"
   ]
  },
  {
   "cell_type": "markdown",
   "metadata": {},
   "source": [
    "> Let's count the number of talks each year using value_counts()"
   ]
  },
  {
   "cell_type": "code",
   "execution_count": 44,
   "metadata": {},
   "outputs": [
    {
     "data": {
      "text/plain": [
       "film_date_CLEANED\n",
       "2011    270\n",
       "2013    270\n",
       "2010    267\n",
       "2012    267\n",
       "2016    246\n",
       "2015    239\n",
       "2014    237\n",
       "2009    232\n",
       "2007    114\n",
       "2017     98\n",
       "2008     84\n",
       "2005     66\n",
       "2006     50\n",
       "2004     33\n",
       "2003     33\n",
       "2002     27\n",
       "1998      6\n",
       "2001      5\n",
       "1972      1\n",
       "1983      1\n",
       "1991      1\n",
       "1994      1\n",
       "1984      1\n",
       "1990      1\n",
       "Name: count, dtype: int64"
      ]
     },
     "execution_count": 44,
     "metadata": {},
     "output_type": "execute_result"
    }
   ],
   "source": [
    "(ted\n",
    "    .film_date_CLEANED\n",
    "    .dt\n",
    "    .year\n",
    "    .value_counts()\n",
    ")"
   ]
  },
  {
   "cell_type": "markdown",
   "metadata": {},
   "source": [
    "##### Let's visualize."
   ]
  },
  {
   "cell_type": "code",
   "execution_count": 45,
   "metadata": {},
   "outputs": [
    {
     "data": {
      "text/plain": [
       "<Axes: xlabel='film_date_CLEANED'>"
      ]
     },
     "execution_count": 45,
     "metadata": {},
     "output_type": "execute_result"
    },
    {
     "data": {
      "image/png": "[encoded data removed]",
      "text/plain": [
       "<Figure size 432x288 with 1 Axes>"
      ]
     },
     "metadata": {
      "needs_background": "light"
     },
     "output_type": "display_data"
    }
   ],
   "source": [
    "(ted\n",
    "    .film_date_CLEANED\n",
    "    .dt\n",
    "    .year\n",
    "    .value_counts()\n",
    ").plot()"
   ]
  },
  {
   "cell_type": "markdown",
   "metadata": {},
   "source": [
    "> points are plotted and connected in the order you give them to pandas"
   ]
  },
  {
   "cell_type": "markdown",
   "metadata": {},
   "source": [
    "#### Question 4.5. Please sort the index before plotting"
   ]
  },
  {
   "cell_type": "code",
   "execution_count": 46,
   "metadata": {},
   "outputs": [
    {
     "data": {
      "text/plain": [
       "<Axes: xlabel='film_date_CLEANED'>"
      ]
     },
     "execution_count": 46,
     "metadata": {},
     "output_type": "execute_result"
    },
    {
     "data": {
      "image/png": "[encoded data removed]",
      "text/plain": [
       "<Figure size 432x288 with 1 Axes>"
      ]
     },
     "metadata": {
      "needs_background": "light"
     },
     "output_type": "display_data"
    }
   ],
   "source": [
    "(ted\n",
    "    .film_date_CLEANED\n",
    "    .dt\n",
    "    .year\n",
    "    .value_counts()\n",
    "    .sort_index()\n",
    ").plot()"
   ]
  },
  {
   "cell_type": "markdown",
   "metadata": {},
   "source": [
    "> Check your data to understand more about what this means :)"
   ]
  },
  {
   "cell_type": "code",
   "execution_count": 47,
   "metadata": {
    "scrolled": true
   },
   "outputs": [
    {
     "data": {
      "text/plain": [
       "Timestamp('2017-08-27 00:00:00')"
      ]
     },
     "execution_count": 47,
     "metadata": {},
     "output_type": "execute_result"
    }
   ],
   "source": [
    "(\n",
    "    ted\n",
    "    .film_date_CLEANED\n",
    "    .max()\n",
    ")"
   ]
  },
  {
   "cell_type": "markdown",
   "metadata": {
    "scrolled": true
   },
   "source": [
    "> Do note that we only have partial data for 2017"
   ]
  },
  {
   "cell_type": "markdown",
   "metadata": {},
   "source": [
    "Before we move forward, please consider the following:\n",
    "\n",
    "- Read the documentation of your dataset\n",
    "- Use the datetime data type for dates and times\n",
    "- Check your work as you proceed\n",
    "- Exclude data if it might not be relevant to your focal point of analysis"
   ]
  },
  {
   "cell_type": "markdown",
   "metadata": {},
   "source": [
    "### Question 5.1. What were the \"best\" events in TED talks' history to attend? Let's count the number of talks (great if you value variety, but they may not be great talks)"
   ]
  },
  {
   "cell_type": "code",
   "execution_count": 48,
   "metadata": {},
   "outputs": [
    {
     "data": {
      "text/plain": [
       "Index(['comments', 'description', 'duration', 'event', 'film_date',\n",
       "       'languages', 'main_speaker', 'name', 'num_speaker', 'published_date',\n",
       "       'ratings', 'related_talks', 'speaker_occupation', 'tags', 'title',\n",
       "       'url', 'views', 'comments_per_view', 'film_date_CLEANED'],\n",
       "      dtype='object')"
      ]
     },
     "execution_count": 48,
     "metadata": {},
     "output_type": "execute_result"
    }
   ],
   "source": [
    "ted.columns"
   ]
  },
  {
   "cell_type": "code",
   "execution_count": 49,
   "metadata": {},
   "outputs": [
    {
     "data": {
      "text/plain": [
       "event\n",
       "TED2014    84\n",
       "TED2009    83\n",
       "TED2016    77\n",
       "TED2013    77\n",
       "TED2015    75\n",
       "Name: count, dtype: int64"
      ]
     },
     "execution_count": 49,
     "metadata": {},
     "output_type": "execute_result"
    }
   ],
   "source": [
    "(ted \n",
    "    .event\n",
    "    .value_counts()\n",
    "    .head()\n",
    ")"
   ]
  },
  {
   "cell_type": "markdown",
   "metadata": {},
   "source": [
    "#### Question 5.2. Let's use `views` as a proxy for `quality of talk`"
   ]
  },
  {
   "cell_type": "code",
   "execution_count": 50,
   "metadata": {},
   "outputs": [
    {
     "data": {
      "text/html": [
       "<div>\n",
       "<style scoped>\n",
       "    .dataframe tbody tr th:only-of-type {\n",
       "        vertical-align: middle;\n",
       "    }\n",
       "\n",
       "    .dataframe tbody tr th {\n",
       "        vertical-align: top;\n",
       "    }\n",
       "\n",
       "    .dataframe thead th {\n",
       "        text-align: right;\n",
       "    }\n",
       "</style>\n",
       "<table border=\"1\" class=\"dataframe\">\n",
       "  <thead>\n",
       "    <tr style=\"text-align: right;\">\n",
       "      <th></th>\n",
       "      <th>views</th>\n",
       "    </tr>\n",
       "  </thead>\n",
       "  <tbody>\n",
       "    <tr>\n",
       "      <th>96</th>\n",
       "      <td>4374792</td>\n",
       "    </tr>\n",
       "    <tr>\n",
       "      <th>0</th>\n",
       "      <td>47227110</td>\n",
       "    </tr>\n",
       "    <tr>\n",
       "      <th>644</th>\n",
       "      <td>3433437</td>\n",
       "    </tr>\n",
       "    <tr>\n",
       "      <th>201</th>\n",
       "      <td>21190883</td>\n",
       "    </tr>\n",
       "    <tr>\n",
       "      <th>1787</th>\n",
       "      <td>2162764</td>\n",
       "    </tr>\n",
       "    <tr>\n",
       "      <th>...</th>\n",
       "      <td>...</td>\n",
       "    </tr>\n",
       "    <tr>\n",
       "      <th>2407</th>\n",
       "      <td>640734</td>\n",
       "    </tr>\n",
       "    <tr>\n",
       "      <th>2528</th>\n",
       "      <td>539207</td>\n",
       "    </tr>\n",
       "    <tr>\n",
       "      <th>2542</th>\n",
       "      <td>542088</td>\n",
       "    </tr>\n",
       "    <tr>\n",
       "      <th>2501</th>\n",
       "      <td>839040</td>\n",
       "    </tr>\n",
       "    <tr>\n",
       "      <th>2534</th>\n",
       "      <td>646174</td>\n",
       "    </tr>\n",
       "  </tbody>\n",
       "</table>\n",
       "<p>2550 rows × 1 columns</p>\n",
       "</div>"
      ],
      "text/plain": [
       "         views\n",
       "96     4374792\n",
       "0     47227110\n",
       "644    3433437\n",
       "201   21190883\n",
       "1787   2162764\n",
       "...        ...\n",
       "2407    640734\n",
       "2528    539207\n",
       "2542    542088\n",
       "2501    839040\n",
       "2534    646174\n",
       "\n",
       "[2550 rows x 1 columns]"
      ]
     },
     "execution_count": 50,
     "metadata": {},
     "output_type": "execute_result"
    }
   ],
   "source": [
    "ted[[\"views\"]]"
   ]
  },
  {
   "cell_type": "code",
   "execution_count": 51,
   "metadata": {},
   "outputs": [
    {
     "data": {
      "text/plain": [
       "event\n",
       "TED2013                   177307937\n",
       "TED2014                   174121423\n",
       "TEDGlobal 2013            170554736\n",
       "TED2015                   150826305\n",
       "TED2006                   147345533\n",
       "                            ...    \n",
       "TEDxNASA@SiliconValley       155895\n",
       "AORN Congress                149818\n",
       "TEDxWaterloo                 138812\n",
       "TEDxIslay                    120274\n",
       "The Do Lectures              112321\n",
       "Name: views, Length: 355, dtype: int64"
      ]
     },
     "execution_count": 51,
     "metadata": {},
     "output_type": "execute_result"
    }
   ],
   "source": [
    "(ted\n",
    "    .groupby(\"event\")\n",
    "     [\"views\"]\n",
    "    .sum()\n",
    "    .sort_values(ascending = False)\n",
    ")"
   ]
  },
  {
   "cell_type": "markdown",
   "metadata": {},
   "source": [
    "#### Question 5.3. Let's find the largest values, but we don't know how many talks are being averaged"
   ]
  },
  {
   "cell_type": "code",
   "execution_count": 52,
   "metadata": {},
   "outputs": [
    {
     "data": {
      "text/plain": [
       "event\n",
       "The Do Lectures              112321.0\n",
       "Toronto Youth Corps         1028630.0\n",
       "University of California     261831.5\n",
       "Web 2.0 Expo 2008            757791.0\n",
       "World Science Festival      3302312.0\n",
       "Name: views, dtype: float64"
      ]
     },
     "execution_count": 52,
     "metadata": {},
     "output_type": "execute_result"
    }
   ],
   "source": [
    "(\n",
    "    ted\n",
    "    .groupby(\"event\")\n",
    "    [\"views\"]\n",
    "    .mean()\n",
    "    .tail()\n",
    ")"
   ]
  },
  {
   "cell_type": "code",
   "execution_count": 53,
   "metadata": {},
   "outputs": [
    {
     "data": {
      "text/plain": [
       "event\n",
       "TEDxNorrkoping        6569493.0\n",
       "TEDxCreativeCoast     8444981.0\n",
       "TEDxBloomington       9484259.5\n",
       "TEDxHouston          16140250.5\n",
       "TEDxPuget Sound      34309432.0\n",
       "Name: views, dtype: float64"
      ]
     },
     "execution_count": 53,
     "metadata": {},
     "output_type": "execute_result"
    }
   ],
   "source": [
    "(\n",
    "    ted\n",
    "    .groupby(\"event\")\n",
    "    [\"views\"]\n",
    "    .mean()\n",
    "    .sort_values()\n",
    "    .tail()\n",
    ")"
   ]
  },
  {
   "cell_type": "markdown",
   "metadata": {},
   "source": [
    "#### Question 5.4. Let's show the number of talks along with the mean (events with the highest means had only 1 or 2 talks)"
   ]
  },
  {
   "cell_type": "code",
   "execution_count": 54,
   "metadata": {},
   "outputs": [
    {
     "data": {
      "text/html": [
       "<div>\n",
       "<style scoped>\n",
       "    .dataframe tbody tr th:only-of-type {\n",
       "        vertical-align: middle;\n",
       "    }\n",
       "\n",
       "    .dataframe tbody tr th {\n",
       "        vertical-align: top;\n",
       "    }\n",
       "\n",
       "    .dataframe thead th {\n",
       "        text-align: right;\n",
       "    }\n",
       "</style>\n",
       "<table border=\"1\" class=\"dataframe\">\n",
       "  <thead>\n",
       "    <tr style=\"text-align: right;\">\n",
       "      <th></th>\n",
       "      <th>count</th>\n",
       "      <th>mean</th>\n",
       "    </tr>\n",
       "    <tr>\n",
       "      <th>event</th>\n",
       "      <th></th>\n",
       "      <th></th>\n",
       "    </tr>\n",
       "  </thead>\n",
       "  <tbody>\n",
       "    <tr>\n",
       "      <th>TEDxNorrkoping</th>\n",
       "      <td>1</td>\n",
       "      <td>6569493.0</td>\n",
       "    </tr>\n",
       "    <tr>\n",
       "      <th>TEDxCreativeCoast</th>\n",
       "      <td>1</td>\n",
       "      <td>8444981.0</td>\n",
       "    </tr>\n",
       "    <tr>\n",
       "      <th>TEDxBloomington</th>\n",
       "      <td>2</td>\n",
       "      <td>9484259.5</td>\n",
       "    </tr>\n",
       "    <tr>\n",
       "      <th>TEDxHouston</th>\n",
       "      <td>2</td>\n",
       "      <td>16140250.5</td>\n",
       "    </tr>\n",
       "    <tr>\n",
       "      <th>TEDxPuget Sound</th>\n",
       "      <td>1</td>\n",
       "      <td>34309432.0</td>\n",
       "    </tr>\n",
       "  </tbody>\n",
       "</table>\n",
       "</div>"
      ],
      "text/plain": [
       "                   count        mean\n",
       "event                               \n",
       "TEDxNorrkoping         1   6569493.0\n",
       "TEDxCreativeCoast      1   8444981.0\n",
       "TEDxBloomington        2   9484259.5\n",
       "TEDxHouston            2  16140250.5\n",
       "TEDxPuget Sound        1  34309432.0"
      ]
     },
     "execution_count": 54,
     "metadata": {},
     "output_type": "execute_result"
    }
   ],
   "source": [
    "(\n",
    "    ted\n",
    "    .groupby(\"event\")\n",
    "    [\"views\"]\n",
    "    .agg([\"count\", \"mean\"]\n",
    "        )\n",
    "    .sort_values(\"mean\")\n",
    "    .tail()\n",
    ")"
   ]
  },
  {
   "cell_type": "markdown",
   "metadata": {},
   "source": [
    "#### Question 5.5. Let's calculate the total views per event"
   ]
  },
  {
   "cell_type": "code",
   "execution_count": 55,
   "metadata": {},
   "outputs": [
    {
     "data": {
      "text/html": [
       "<div>\n",
       "<style scoped>\n",
       "    .dataframe tbody tr th:only-of-type {\n",
       "        vertical-align: middle;\n",
       "    }\n",
       "\n",
       "    .dataframe tbody tr th {\n",
       "        vertical-align: top;\n",
       "    }\n",
       "\n",
       "    .dataframe thead th {\n",
       "        text-align: right;\n",
       "    }\n",
       "</style>\n",
       "<table border=\"1\" class=\"dataframe\">\n",
       "  <thead>\n",
       "    <tr style=\"text-align: right;\">\n",
       "      <th></th>\n",
       "      <th>count</th>\n",
       "      <th>mean</th>\n",
       "      <th>sum</th>\n",
       "    </tr>\n",
       "    <tr>\n",
       "      <th>event</th>\n",
       "      <th></th>\n",
       "      <th></th>\n",
       "      <th></th>\n",
       "    </tr>\n",
       "  </thead>\n",
       "  <tbody>\n",
       "    <tr>\n",
       "      <th>TED2006</th>\n",
       "      <td>45</td>\n",
       "      <td>3.274345e+06</td>\n",
       "      <td>147345533</td>\n",
       "    </tr>\n",
       "    <tr>\n",
       "      <th>TED2015</th>\n",
       "      <td>75</td>\n",
       "      <td>2.011017e+06</td>\n",
       "      <td>150826305</td>\n",
       "    </tr>\n",
       "    <tr>\n",
       "      <th>TEDGlobal 2013</th>\n",
       "      <td>66</td>\n",
       "      <td>2.584163e+06</td>\n",
       "      <td>170554736</td>\n",
       "    </tr>\n",
       "    <tr>\n",
       "      <th>TED2014</th>\n",
       "      <td>84</td>\n",
       "      <td>2.072874e+06</td>\n",
       "      <td>174121423</td>\n",
       "    </tr>\n",
       "    <tr>\n",
       "      <th>TED2013</th>\n",
       "      <td>77</td>\n",
       "      <td>2.302700e+06</td>\n",
       "      <td>177307937</td>\n",
       "    </tr>\n",
       "  </tbody>\n",
       "</table>\n",
       "</div>"
      ],
      "text/plain": [
       "                count          mean        sum\n",
       "event                                         \n",
       "TED2006            45  3.274345e+06  147345533\n",
       "TED2015            75  2.011017e+06  150826305\n",
       "TEDGlobal 2013     66  2.584163e+06  170554736\n",
       "TED2014            84  2.072874e+06  174121423\n",
       "TED2013            77  2.302700e+06  177307937"
      ]
     },
     "execution_count": 55,
     "metadata": {},
     "output_type": "execute_result"
    }
   ],
   "source": [
    "(\n",
    "    ted\n",
    "    .groupby(\"event\")\n",
    "    [\"views\"]\n",
    "    .agg([\"count\", \"mean\", \"sum\"]\n",
    "        )\n",
    "    .sort_values(\"sum\")\n",
    "    .tail()\n",
    ")"
   ]
  },
  {
   "cell_type": "markdown",
   "metadata": {},
   "source": [
    "> #### <font color = \"blue\"> As you have seen, please... </font>\n",
    "\n",
    "- Think creatively for how you can use the data you have to answer your question\n",
    "- Watch out for small sample sizes"
   ]
  },
  {
   "cell_type": "markdown",
   "metadata": {},
   "source": [
    "### Now, let's take a look at ratings data"
   ]
  },
  {
   "cell_type": "code",
   "execution_count": 56,
   "metadata": {},
   "outputs": [
    {
     "data": {
      "text/plain": [
       "96      [{'id': 3, 'name': 'Courageous', 'count': 3236...\n",
       "0       [{'id': 7, 'name': 'Funny', 'count': 19645}, {...\n",
       "644     [{'id': 8, 'name': 'Informative', 'count': 923...\n",
       "201     [{'id': 22, 'name': 'Fascinating', 'count': 14...\n",
       "1787    [{'id': 25, 'name': 'OK', 'count': 280}, {'id'...\n",
       "                              ...                        \n",
       "2407    [{'id': 1, 'name': 'Beautiful', 'count': 80}, ...\n",
       "2528    [{'id': 9, 'name': 'Ingenious', 'count': 16}, ...\n",
       "2542    [{'id': 1, 'name': 'Beautiful', 'count': 41}, ...\n",
       "2501    [{'id': 7, 'name': 'Funny', 'count': 10}, {'id...\n",
       "2534    [{'id': 10, 'name': 'Inspiring', 'count': 46},...\n",
       "Name: ratings, Length: 2550, dtype: object"
      ]
     },
     "execution_count": 56,
     "metadata": {},
     "output_type": "execute_result"
    }
   ],
   "source": [
    "ted.ratings"
   ]
  },
  {
   "cell_type": "markdown",
   "metadata": {},
   "source": [
    "> Previously, users could tag talks on the TED website (funny, inspiring, confusing, etc.)"
   ]
  },
  {
   "cell_type": "code",
   "execution_count": 57,
   "metadata": {},
   "outputs": [
    {
     "data": {
      "text/plain": [
       "Index(['comments', 'description', 'duration', 'event', 'film_date',\n",
       "       'languages', 'main_speaker', 'name', 'num_speaker', 'published_date',\n",
       "       'ratings', 'related_talks', 'speaker_occupation', 'tags', 'title',\n",
       "       'url', 'views', 'comments_per_view', 'film_date_CLEANED'],\n",
       "      dtype='object')"
      ]
     },
     "execution_count": 57,
     "metadata": {},
     "output_type": "execute_result"
    }
   ],
   "source": [
    "ted.columns"
   ]
  },
  {
   "cell_type": "code",
   "execution_count": 58,
   "metadata": {},
   "outputs": [
    {
     "data": {
      "text/plain": [
       "96      ['God', 'atheism', 'culture', 'religion', 'sci...\n",
       "0       ['children', 'creativity', 'culture', 'dance',...\n",
       "644     ['culture', 'evolutionary psychology', 'global...\n",
       "201     ['biology', 'brain', 'consciousness', 'global ...\n",
       "1787    ['brain', 'consciousness', 'neuroscience', 'ph...\n",
       "                              ...                        \n",
       "2407        ['art', 'live music', 'music', 'performance']\n",
       "2528    ['TEDx', 'ancient world', 'archaeology', 'cons...\n",
       "2542    ['Africa', 'activism', 'art', 'community', 'hi...\n",
       "2501    ['TEDNYC', 'art', 'creativity', 'culture', 'de...\n",
       "2534    ['TEDx', 'art', 'climate change', 'environment...\n",
       "Name: tags, Length: 2550, dtype: object"
      ]
     },
     "execution_count": 58,
     "metadata": {},
     "output_type": "execute_result"
    }
   ],
   "source": [
    "ted.tags"
   ]
  },
  {
   "cell_type": "markdown",
   "metadata": {},
   "source": [
    "> Think about two ways to examine the ratings data for the first talk"
   ]
  },
  {
   "cell_type": "code",
   "execution_count": 59,
   "metadata": {},
   "outputs": [
    {
     "data": {
      "text/plain": [
       "\"[{'id': 7, 'name': 'Funny', 'count': 19645}, {'id': 1, 'name': 'Beautiful', 'count': 4573}, {'id': 9, 'name': 'Ingenious', 'count': 6073}, {'id': 3, 'name': 'Courageous', 'count': 3253}, {'id': 11, 'name': 'Longwinded', 'count': 387}, {'id': 2, 'name': 'Confusing', 'count': 242}, {'id': 8, 'name': 'Informative', 'count': 7346}, {'id': 22, 'name': 'Fascinating', 'count': 10581}, {'id': 21, 'name': 'Unconvincing', 'count': 300}, {'id': 24, 'name': 'Persuasive', 'count': 10704}, {'id': 23, 'name': 'Jaw-dropping', 'count': 4439}, {'id': 25, 'name': 'OK', 'count': 1174}, {'id': 26, 'name': 'Obnoxious', 'count': 209}, {'id': 10, 'name': 'Inspiring', 'count': 24924}]\""
      ]
     },
     "execution_count": 59,
     "metadata": {},
     "output_type": "execute_result"
    }
   ],
   "source": [
    "ted.loc[0, \"ratings\"]"
   ]
  },
  {
   "cell_type": "code",
   "execution_count": 60,
   "metadata": {},
   "outputs": [
    {
     "data": {
      "text/plain": [
       "\"[{'id': 3, 'name': 'Courageous', 'count': 3236}, {'id': 21, 'name': 'Unconvincing', 'count': 539}, {'id': 1, 'name': 'Beautiful', 'count': 399}, {'id': 2, 'name': 'Confusing', 'count': 86}, {'id': 7, 'name': 'Funny', 'count': 1203}, {'id': 9, 'name': 'Ingenious', 'count': 663}, {'id': 11, 'name': 'Longwinded', 'count': 192}, {'id': 8, 'name': 'Informative', 'count': 1113}, {'id': 10, 'name': 'Inspiring', 'count': 2935}, {'id': 22, 'name': 'Fascinating', 'count': 934}, {'id': 24, 'name': 'Persuasive', 'count': 2475}, {'id': 23, 'name': 'Jaw-dropping', 'count': 551}, {'id': 26, 'name': 'Obnoxious', 'count': 406}, {'id': 25, 'name': 'OK', 'count': 172}]\""
      ]
     },
     "execution_count": 60,
     "metadata": {},
     "output_type": "execute_result"
    }
   ],
   "source": [
    "ted[\"ratings\"] \\\n",
    "    .iloc[0]"
   ]
  },
  {
   "cell_type": "markdown",
   "metadata": {},
   "source": [
    "> Okay, this is a string not a list."
   ]
  },
  {
   "cell_type": "code",
   "execution_count": 61,
   "metadata": {},
   "outputs": [
    {
     "data": {
      "text/plain": [
       "str"
      ]
     },
     "execution_count": 61,
     "metadata": {},
     "output_type": "execute_result"
    }
   ],
   "source": [
    "type(ted.ratings[0]\n",
    "    )"
   ]
  },
  {
   "cell_type": "markdown",
   "metadata": {},
   "source": [
    "### Let's convert this into something useful using Python's `ast` module (`Abstract Syntax Tree`)"
   ]
  },
  {
   "cell_type": "markdown",
   "metadata": {},
   "source": [
    "> `literal_eval()` allows you to evaluate a string containing a Python literal or container\n",
    "\n",
    "> #### <font color = \"red\"> See below for my guidance </font>"
   ]
  },
  {
   "cell_type": "markdown",
   "metadata": {},
   "source": [
    "```python\n",
    "# if you wish to unpack data\n",
    "    YOUR_DF[\"variable\"].apply(ast.literal_eval)\n",
    "\n",
    "# if you wish to access specific talk related data\n",
    "    YOUR_DF[\"variable\"].apply(ast.literal_eval)[0]\n",
    "\n",
    "# if you wish to access specific talk related observations within the data\n",
    "    YOUR_DF[\"variable\"].apply(ast.literal_eval)[0][0]\n",
    "\n",
    "# if you wish to access specific talk related observations with a particular attribute within the data\n",
    "    YOUR_DF[\"variable\"].apply(ast.literal_eval)[0][0][\"key\"]\n",
    "```"
   ]
  },
  {
   "cell_type": "markdown",
   "metadata": {},
   "source": [
    "> If you have a string representation of something, you can retrieve what it actually represents"
   ]
  },
  {
   "cell_type": "code",
   "execution_count": 62,
   "metadata": {},
   "outputs": [],
   "source": [
    "import ast"
   ]
  },
  {
   "cell_type": "markdown",
   "metadata": {},
   "source": [
    "> Let's unpack the ratings data for the first talk"
   ]
  },
  {
   "cell_type": "code",
   "execution_count": 63,
   "metadata": {},
   "outputs": [
    {
     "data": {
      "text/plain": [
       "\"[{'id': 7, 'name': 'Funny', 'count': 19645}, {'id': 1, 'name': 'Beautiful', 'count': 4573}, {'id': 9, 'name': 'Ingenious', 'count': 6073}, {'id': 3, 'name': 'Courageous', 'count': 3253}, {'id': 11, 'name': 'Longwinded', 'count': 387}, {'id': 2, 'name': 'Confusing', 'count': 242}, {'id': 8, 'name': 'Informative', 'count': 7346}, {'id': 22, 'name': 'Fascinating', 'count': 10581}, {'id': 21, 'name': 'Unconvincing', 'count': 300}, {'id': 24, 'name': 'Persuasive', 'count': 10704}, {'id': 23, 'name': 'Jaw-dropping', 'count': 4439}, {'id': 25, 'name': 'OK', 'count': 1174}, {'id': 26, 'name': 'Obnoxious', 'count': 209}, {'id': 10, 'name': 'Inspiring', 'count': 24924}]\""
      ]
     },
     "execution_count": 63,
     "metadata": {},
     "output_type": "execute_result"
    }
   ],
   "source": [
    "ted[\"ratings\"][0]"
   ]
  },
  {
   "cell_type": "code",
   "execution_count": 64,
   "metadata": {},
   "outputs": [
    {
     "data": {
      "text/plain": [
       "[{'id': 7, 'name': 'Funny', 'count': 19645},\n",
       " {'id': 1, 'name': 'Beautiful', 'count': 4573},\n",
       " {'id': 9, 'name': 'Ingenious', 'count': 6073},\n",
       " {'id': 3, 'name': 'Courageous', 'count': 3253},\n",
       " {'id': 11, 'name': 'Longwinded', 'count': 387},\n",
       " {'id': 2, 'name': 'Confusing', 'count': 242},\n",
       " {'id': 8, 'name': 'Informative', 'count': 7346},\n",
       " {'id': 22, 'name': 'Fascinating', 'count': 10581},\n",
       " {'id': 21, 'name': 'Unconvincing', 'count': 300},\n",
       " {'id': 24, 'name': 'Persuasive', 'count': 10704},\n",
       " {'id': 23, 'name': 'Jaw-dropping', 'count': 4439},\n",
       " {'id': 25, 'name': 'OK', 'count': 1174},\n",
       " {'id': 26, 'name': 'Obnoxious', 'count': 209},\n",
       " {'id': 10, 'name': 'Inspiring', 'count': 24924}]"
      ]
     },
     "execution_count": 64,
     "metadata": {},
     "output_type": "execute_result"
    }
   ],
   "source": [
    "(ast\n",
    "    .literal_eval(ted\n",
    "                  [\"ratings\"]\n",
    "                  [0]\n",
    "                 )\n",
    ")"
   ]
  },
  {
   "cell_type": "markdown",
   "metadata": {},
   "source": [
    "> Yes, now we have a list (of dictionaries)"
   ]
  },
  {
   "cell_type": "markdown",
   "metadata": {},
   "source": [
    "### Question 6. Let's define a function to convert an element in the ratings Series from string to list\n",
    "\n",
    "#### <font color = \"blue\"> USE `ast.literal_eval()` </font>"
   ]
  },
  {
   "cell_type": "code",
   "execution_count": 65,
   "metadata": {},
   "outputs": [],
   "source": [
    "def favorite_eval(x):\n",
    "    return ast.literal_eval(x)"
   ]
  },
  {
   "cell_type": "markdown",
   "metadata": {},
   "source": [
    "> Let's test our function"
   ]
  },
  {
   "cell_type": "code",
   "execution_count": 66,
   "metadata": {},
   "outputs": [
    {
     "data": {
      "text/plain": [
       "96      [{'id': 3, 'name': 'Courageous', 'count': 3236...\n",
       "0       [{'id': 7, 'name': 'Funny', 'count': 19645}, {...\n",
       "644     [{'id': 8, 'name': 'Informative', 'count': 923...\n",
       "201     [{'id': 22, 'name': 'Fascinating', 'count': 14...\n",
       "1787    [{'id': 25, 'name': 'OK', 'count': 280}, {'id'...\n",
       "                              ...                        \n",
       "2407    [{'id': 1, 'name': 'Beautiful', 'count': 80}, ...\n",
       "2528    [{'id': 9, 'name': 'Ingenious', 'count': 16}, ...\n",
       "2542    [{'id': 1, 'name': 'Beautiful', 'count': 41}, ...\n",
       "2501    [{'id': 7, 'name': 'Funny', 'count': 10}, {'id...\n",
       "2534    [{'id': 10, 'name': 'Inspiring', 'count': 46},...\n",
       "Name: ratings, Length: 2550, dtype: object"
      ]
     },
     "execution_count": 66,
     "metadata": {},
     "output_type": "execute_result"
    }
   ],
   "source": [
    "ted[\"ratings\"] \\\n",
    "    .apply(favorite_eval)"
   ]
  },
  {
   "cell_type": "markdown",
   "metadata": {},
   "source": [
    "> Note that Series `apply` method applies a function to every element in a Series, returning a Series."
   ]
  },
  {
   "cell_type": "code",
   "execution_count": 67,
   "metadata": {},
   "outputs": [
    {
     "data": {
      "text/plain": [
       "[{'id': 7, 'name': 'Funny', 'count': 19645},\n",
       " {'id': 1, 'name': 'Beautiful', 'count': 4573},\n",
       " {'id': 9, 'name': 'Ingenious', 'count': 6073},\n",
       " {'id': 3, 'name': 'Courageous', 'count': 3253},\n",
       " {'id': 11, 'name': 'Longwinded', 'count': 387},\n",
       " {'id': 2, 'name': 'Confusing', 'count': 242},\n",
       " {'id': 8, 'name': 'Informative', 'count': 7346},\n",
       " {'id': 22, 'name': 'Fascinating', 'count': 10581},\n",
       " {'id': 21, 'name': 'Unconvincing', 'count': 300},\n",
       " {'id': 24, 'name': 'Persuasive', 'count': 10704},\n",
       " {'id': 23, 'name': 'Jaw-dropping', 'count': 4439},\n",
       " {'id': 25, 'name': 'OK', 'count': 1174},\n",
       " {'id': 26, 'name': 'Obnoxious', 'count': 209},\n",
       " {'id': 10, 'name': 'Inspiring', 'count': 24924}]"
      ]
     },
     "execution_count": 67,
     "metadata": {},
     "output_type": "execute_result"
    }
   ],
   "source": [
    "ted[\"ratings\"] \\\n",
    "    .apply(favorite_eval)[0]"
   ]
  },
  {
   "cell_type": "markdown",
   "metadata": {},
   "source": [
    "> #### <font color = \"blue\"> `lambda` is a shorter alternative</blue>\n",
    "\n",
    "> #### <font color = \"red\">Please check the following for more details</font>\n",
    "> - `Coder's Apprentice`\n",
    "    - *Chapter 8*: Functions\n",
    "        - *Section 6*: Anonymous functions"
   ]
  },
  {
   "cell_type": "code",
   "execution_count": 68,
   "metadata": {},
   "outputs": [
    {
     "data": {
      "text/plain": [
       "96      [{'id': 3, 'name': 'Courageous', 'count': 3236...\n",
       "0       [{'id': 7, 'name': 'Funny', 'count': 19645}, {...\n",
       "644     [{'id': 8, 'name': 'Informative', 'count': 923...\n",
       "201     [{'id': 22, 'name': 'Fascinating', 'count': 14...\n",
       "1787    [{'id': 25, 'name': 'OK', 'count': 280}, {'id'...\n",
       "                              ...                        \n",
       "2407    [{'id': 1, 'name': 'Beautiful', 'count': 80}, ...\n",
       "2528    [{'id': 9, 'name': 'Ingenious', 'count': 16}, ...\n",
       "2542    [{'id': 1, 'name': 'Beautiful', 'count': 41}, ...\n",
       "2501    [{'id': 7, 'name': 'Funny', 'count': 10}, {'id...\n",
       "2534    [{'id': 10, 'name': 'Inspiring', 'count': 46},...\n",
       "Name: ratings, Length: 2550, dtype: object"
      ]
     },
     "execution_count": 68,
     "metadata": {},
     "output_type": "execute_result"
    }
   ],
   "source": [
    "ted[\"ratings\"] \\\n",
    "    .apply(lambda x: ast.literal_eval(x)\n",
    "          )"
   ]
  },
  {
   "cell_type": "markdown",
   "metadata": {},
   "source": [
    "> An even shorter alternative is to apply the function directly (without lambda)"
   ]
  },
  {
   "cell_type": "code",
   "execution_count": 69,
   "metadata": {},
   "outputs": [
    {
     "data": {
      "text/plain": [
       "96      [{'id': 3, 'name': 'Courageous', 'count': 3236...\n",
       "0       [{'id': 7, 'name': 'Funny', 'count': 19645}, {...\n",
       "644     [{'id': 8, 'name': 'Informative', 'count': 923...\n",
       "201     [{'id': 22, 'name': 'Fascinating', 'count': 14...\n",
       "1787    [{'id': 25, 'name': 'OK', 'count': 280}, {'id'...\n",
       "                              ...                        \n",
       "2407    [{'id': 1, 'name': 'Beautiful', 'count': 80}, ...\n",
       "2528    [{'id': 9, 'name': 'Ingenious', 'count': 16}, ...\n",
       "2542    [{'id': 1, 'name': 'Beautiful', 'count': 41}, ...\n",
       "2501    [{'id': 7, 'name': 'Funny', 'count': 10}, {'id...\n",
       "2534    [{'id': 10, 'name': 'Inspiring', 'count': 46},...\n",
       "Name: ratings, Length: 2550, dtype: object"
      ]
     },
     "execution_count": 69,
     "metadata": {},
     "output_type": "execute_result"
    }
   ],
   "source": [
    "(\n",
    "    ted\n",
    "    .ratings\n",
    "    .apply(favorite_eval)\n",
    ")"
   ]
  },
  {
   "cell_type": "markdown",
   "metadata": {},
   "source": [
    "> Let's check that the new Series looks as expected"
   ]
  },
  {
   "cell_type": "code",
   "execution_count": 70,
   "metadata": {},
   "outputs": [],
   "source": [
    "ted[\"ratings_LIST\"] =\\\n",
    "(\n",
    "    ted\n",
    "    .ratings\n",
    "    .apply(lambda x: ast.literal_eval(x)\n",
    "          )\n",
    ")"
   ]
  },
  {
   "cell_type": "markdown",
   "metadata": {},
   "source": [
    "> Each element in the Series is a list"
   ]
  },
  {
   "cell_type": "code",
   "execution_count": 71,
   "metadata": {
    "scrolled": true
   },
   "outputs": [
    {
     "data": {
      "text/plain": [
       "[{'id': 7, 'name': 'Funny', 'count': 19645},\n",
       " {'id': 1, 'name': 'Beautiful', 'count': 4573},\n",
       " {'id': 9, 'name': 'Ingenious', 'count': 6073},\n",
       " {'id': 3, 'name': 'Courageous', 'count': 3253},\n",
       " {'id': 11, 'name': 'Longwinded', 'count': 387},\n",
       " {'id': 2, 'name': 'Confusing', 'count': 242},\n",
       " {'id': 8, 'name': 'Informative', 'count': 7346},\n",
       " {'id': 22, 'name': 'Fascinating', 'count': 10581},\n",
       " {'id': 21, 'name': 'Unconvincing', 'count': 300},\n",
       " {'id': 24, 'name': 'Persuasive', 'count': 10704},\n",
       " {'id': 23, 'name': 'Jaw-dropping', 'count': 4439},\n",
       " {'id': 25, 'name': 'OK', 'count': 1174},\n",
       " {'id': 26, 'name': 'Obnoxious', 'count': 209},\n",
       " {'id': 10, 'name': 'Inspiring', 'count': 24924}]"
      ]
     },
     "execution_count": 71,
     "metadata": {},
     "output_type": "execute_result"
    }
   ],
   "source": [
    "(ted\n",
    "    .ratings_LIST)[0]"
   ]
  },
  {
   "cell_type": "markdown",
   "metadata": {
    "scrolled": true
   },
   "source": [
    "> data type of the new Series is object"
   ]
  },
  {
   "cell_type": "markdown",
   "metadata": {},
   "source": [
    "##### Note that object is not just for strings."
   ]
  },
  {
   "cell_type": "code",
   "execution_count": 72,
   "metadata": {},
   "outputs": [
    {
     "data": {
      "text/plain": [
       "comments                       int64\n",
       "description                   object\n",
       "duration                       int64\n",
       "event                         object\n",
       "film_date                      int64\n",
       "languages                      int64\n",
       "main_speaker                  object\n",
       "name                          object\n",
       "num_speaker                    int64\n",
       "published_date                 int64\n",
       "ratings                       object\n",
       "related_talks                 object\n",
       "speaker_occupation            object\n",
       "tags                          object\n",
       "title                         object\n",
       "url                           object\n",
       "views                          int64\n",
       "comments_per_view            float64\n",
       "film_date_CLEANED     datetime64[ns]\n",
       "ratings_LIST                  object\n",
       "dtype: object"
      ]
     },
     "execution_count": 72,
     "metadata": {},
     "output_type": "execute_result"
    }
   ],
   "source": [
    "ted.dtypes"
   ]
  },
  {
   "cell_type": "code",
   "execution_count": 73,
   "metadata": {},
   "outputs": [
    {
     "data": {
      "text/plain": [
       "list"
      ]
     },
     "execution_count": 73,
     "metadata": {},
     "output_type": "execute_result"
    }
   ],
   "source": [
    "type(ted.ratings_LIST[0])"
   ]
  },
  {
   "cell_type": "markdown",
   "metadata": {},
   "source": [
    "#### <font color = \"blue\"> So far so good, remember to: </font>\n",
    "\n",
    "- Pay attention to data types in pandas\n",
    "- Use apply any time it is necessary"
   ]
  },
  {
   "cell_type": "markdown",
   "metadata": {},
   "source": [
    "### Question 7.1. Let's have a look at the total number of ratings received by each talk\n",
    "\n",
    "- for each talk, calculate the percentage of ratings that were negative\n",
    "\n",
    "- for each talk, calculate the average number of ratings it received per day since it was published"
   ]
  },
  {
   "cell_type": "markdown",
   "metadata": {},
   "source": [
    "> Let's start by building a simple function"
   ]
  },
  {
   "cell_type": "markdown",
   "metadata": {},
   "source": [
    "> Here, expected result (for each talk) is sum of count"
   ]
  },
  {
   "cell_type": "code",
   "execution_count": 74,
   "metadata": {},
   "outputs": [
    {
     "data": {
      "text/plain": [
       "\"[{'id': 7, 'name': 'Funny', 'count': 19645}, {'id': 1, 'name': 'Beautiful', 'count': 4573}, {'id': 9, 'name': 'Ingenious', 'count': 6073}, {'id': 3, 'name': 'Courageous', 'count': 3253}, {'id': 11, 'name': 'Longwinded', 'count': 387}, {'id': 2, 'name': 'Confusing', 'count': 242}, {'id': 8, 'name': 'Informative', 'count': 7346}, {'id': 22, 'name': 'Fascinating', 'count': 10581}, {'id': 21, 'name': 'Unconvincing', 'count': 300}, {'id': 24, 'name': 'Persuasive', 'count': 10704}, {'id': 23, 'name': 'Jaw-dropping', 'count': 4439}, {'id': 25, 'name': 'OK', 'count': 1174}, {'id': 26, 'name': 'Obnoxious', 'count': 209}, {'id': 10, 'name': 'Inspiring', 'count': 24924}]\""
      ]
     },
     "execution_count": 74,
     "metadata": {},
     "output_type": "execute_result"
    }
   ],
   "source": [
    "ted[\"ratings\"][0]"
   ]
  },
  {
   "cell_type": "markdown",
   "metadata": {},
   "source": [
    "#### Question 7.2. Please pass it a list, and it returns the first element in the list, which is a dictionary"
   ]
  },
  {
   "cell_type": "code",
   "execution_count": 75,
   "metadata": {},
   "outputs": [],
   "source": [
    "def get_ratings(list_of_dictionaries):\n",
    "    return list_of_dictionaries[0]"
   ]
  },
  {
   "cell_type": "code",
   "execution_count": 76,
   "metadata": {},
   "outputs": [
    {
     "data": {
      "text/plain": [
       "{'id': 7, 'name': 'Funny', 'count': 19645}"
      ]
     },
     "execution_count": 76,
     "metadata": {},
     "output_type": "execute_result"
    }
   ],
   "source": [
    "get_ratings(ted[\"ratings_LIST\"][0])"
   ]
  },
  {
   "cell_type": "markdown",
   "metadata": {},
   "source": [
    "#### Question 7.3. Let's modify the function to return the vote count."
   ]
  },
  {
   "cell_type": "code",
   "execution_count": 77,
   "metadata": {},
   "outputs": [],
   "source": [
    "def get_vote_count(list_of_dictionaries):\n",
    "    return list_of_dictionaries[0][\"count\"]"
   ]
  },
  {
   "cell_type": "markdown",
   "metadata": {},
   "source": [
    "#### Quesion 7.4. Let's pass it a list, and it returns a value from the first dictionary in the list"
   ]
  },
  {
   "cell_type": "code",
   "execution_count": 78,
   "metadata": {},
   "outputs": [
    {
     "data": {
      "text/plain": [
       "19645"
      ]
     },
     "execution_count": 78,
     "metadata": {},
     "output_type": "execute_result"
    }
   ],
   "source": [
    "get_vote_count(ted\n",
    "               .ratings_LIST\n",
    "               [0]\n",
    "              )"
   ]
  },
  {
   "cell_type": "markdown",
   "metadata": {},
   "source": [
    "#### Question 7.5. Let's modify the function to get the sum of count"
   ]
  },
  {
   "cell_type": "code",
   "execution_count": 79,
   "metadata": {},
   "outputs": [],
   "source": [
    "def get_sum_of_count(list_of_dict):\n",
    "    count = 0\n",
    "    for i in list_of_dict:\n",
    "        count = count + i[\"count\"]\n",
    "    return count"
   ]
  },
  {
   "cell_type": "markdown",
   "metadata": {},
   "source": [
    "> Does the result look about right? Please check."
   ]
  },
  {
   "cell_type": "code",
   "execution_count": 80,
   "metadata": {},
   "outputs": [
    {
     "data": {
      "text/plain": [
       "93850"
      ]
     },
     "execution_count": 80,
     "metadata": {},
     "output_type": "execute_result"
    }
   ],
   "source": [
    "get_sum_of_count(ted.ratings_LIST[0]\n",
    "                )"
   ]
  },
  {
   "cell_type": "markdown",
   "metadata": {},
   "source": [
    "> Let's apply it to every element in the Series"
   ]
  },
  {
   "cell_type": "code",
   "execution_count": 81,
   "metadata": {},
   "outputs": [
    {
     "data": {
      "text/plain": [
       "96      14904\n",
       "0       93850\n",
       "644      9129\n",
       "201     70665\n",
       "1787     2756\n",
       "        ...  \n",
       "2407      161\n",
       "2528       68\n",
       "2542      181\n",
       "2501       97\n",
       "2534      221\n",
       "Name: ratings_LIST, Length: 2550, dtype: int64"
      ]
     },
     "execution_count": 81,
     "metadata": {},
     "output_type": "execute_result"
    }
   ],
   "source": [
    "(ted\n",
    "     [\"ratings_LIST\"]\n",
    "    .apply(get_sum_of_count)\n",
    ")"
   ]
  },
  {
   "cell_type": "markdown",
   "metadata": {},
   "source": [
    "> #### <font color = \"blue\"> Alternative here is to use a `generator expression`</font>\n",
    "\n",
    "> #### <font color = \"red\"> Please check the following for more details </font>\n",
    "> - `Think Python`: https://greenteapress.com/thinkpython2/thinkpython2.pdf\n",
    "    - *Chapter 19*: The Goodies\n",
    "        - *Section 3*: Generator expressions"
   ]
  },
  {
   "cell_type": "code",
   "execution_count": 82,
   "metadata": {},
   "outputs": [
    {
     "data": {
      "text/plain": [
       "True"
      ]
     },
     "execution_count": 82,
     "metadata": {},
     "output_type": "execute_result"
    }
   ],
   "source": [
    "sum(i[\"count\"] for i in ted.ratings_LIST[0]\n",
    "   ) == 93850"
   ]
  },
  {
   "cell_type": "markdown",
   "metadata": {},
   "source": [
    "> Try to use `lambda` to apply this method"
   ]
  },
  {
   "cell_type": "code",
   "execution_count": 83,
   "metadata": {},
   "outputs": [],
   "source": [
    "ted[\"sum_of_count\"] =\\\n",
    "(\n",
    "    ted\n",
    "    [\"ratings_LIST\"]\n",
    "    .apply(get_sum_of_count)\n",
    ")"
   ]
  },
  {
   "cell_type": "code",
   "execution_count": 84,
   "metadata": {},
   "outputs": [
    {
     "data": {
      "text/plain": [
       "96      14904\n",
       "0       93850\n",
       "644      9129\n",
       "201     70665\n",
       "1787     2756\n",
       "        ...  \n",
       "2407      161\n",
       "2528       68\n",
       "2542      181\n",
       "2501       97\n",
       "2534      221\n",
       "Name: ratings_LIST, Length: 2550, dtype: int64"
      ]
     },
     "execution_count": 84,
     "metadata": {},
     "output_type": "execute_result"
    }
   ],
   "source": [
    "(\n",
    "    ted\n",
    "    .ratings_LIST\n",
    "    .apply(lambda x: sum(i[\"count\"] for i in x)\n",
    "          )\n",
    ")"
   ]
  },
  {
   "cell_type": "markdown",
   "metadata": {},
   "source": [
    "> Another alternative is to use `pd.DataFrame()`"
   ]
  },
  {
   "cell_type": "code",
   "execution_count": 85,
   "metadata": {},
   "outputs": [
    {
     "data": {
      "text/plain": [
       "93850"
      ]
     },
     "execution_count": 85,
     "metadata": {},
     "output_type": "execute_result"
    }
   ],
   "source": [
    "(\n",
    "    pd\n",
    "    .DataFrame(ted\n",
    "               .ratings_LIST[0]\n",
    "              )\n",
    "    [\"count\"]\n",
    "    .sum()\n",
    ")"
   ]
  },
  {
   "cell_type": "markdown",
   "metadata": {},
   "source": [
    "> use `lambda` to apply this method"
   ]
  },
  {
   "cell_type": "code",
   "execution_count": 86,
   "metadata": {},
   "outputs": [
    {
     "data": {
      "text/plain": [
       "96      14904\n",
       "0       93850\n",
       "644      9129\n",
       "201     70665\n",
       "1787     2756\n",
       "        ...  \n",
       "2407      161\n",
       "2528       68\n",
       "2542      181\n",
       "2501       97\n",
       "2534      221\n",
       "Name: ratings_LIST, Length: 2550, dtype: int64"
      ]
     },
     "execution_count": 86,
     "metadata": {},
     "output_type": "execute_result"
    }
   ],
   "source": [
    "(\n",
    "    ted\n",
    "    [\"ratings_LIST\"]\n",
    "    .apply(lambda x: pd\n",
    "                     .DataFrame(x)\n",
    "                     [\"count\"]\n",
    "                     .sum()\n",
    "          )\n",
    ")"
   ]
  },
  {
   "cell_type": "markdown",
   "metadata": {},
   "source": [
    "> Things to consider:\n",
    "\n",
    "- Write your code in small chunks\n",
    "\n",
    "- Check your work as you move forward\n",
    "\n",
    "- `lambda` is best for simple functions"
   ]
  },
  {
   "cell_type": "markdown",
   "metadata": {},
   "source": [
    "### Let's find: \n",
    "#### ***which occupations deliver the funniest TED talks on average?***\n",
    "\n",
    "- for each talk, calculate the most frequent rating\n",
    "- for each talk, clean the occupation data so that there's only one occupation per talk"
   ]
  },
  {
   "cell_type": "markdown",
   "metadata": {},
   "source": [
    "##### You might want to count the number of funny ratings"
   ]
  },
  {
   "cell_type": "code",
   "execution_count": 87,
   "metadata": {},
   "outputs": [
    {
     "data": {
      "text/plain": [
       "96     [{'id': 3, 'name': 'Courageous', 'count': 3236...\n",
       "0      [{'id': 7, 'name': 'Funny', 'count': 19645}, {...\n",
       "644    [{'id': 8, 'name': 'Informative', 'count': 923...\n",
       "Name: ratings_LIST, dtype: object"
      ]
     },
     "execution_count": 87,
     "metadata": {},
     "output_type": "execute_result"
    }
   ],
   "source": [
    "ted[\"ratings_LIST\"].head(3)"
   ]
  },
  {
   "cell_type": "markdown",
   "metadata": {},
   "source": [
    "> \"Funny\" is not always the first dictionary in the list."
   ]
  },
  {
   "cell_type": "markdown",
   "metadata": {},
   "source": [
    "#### Please check ratings (not ratings_list) to see if \"Funny\" is always a rating type"
   ]
  },
  {
   "cell_type": "code",
   "execution_count": 88,
   "metadata": {},
   "outputs": [
    {
     "data": {
      "text/plain": [
       "ratings\n",
       "True    2550\n",
       "Name: count, dtype: int64"
      ]
     },
     "execution_count": 88,
     "metadata": {},
     "output_type": "execute_result"
    }
   ],
   "source": [
    "(\n",
    "    ted\n",
    "    .ratings\n",
    "    .str\n",
    "    .contains(\"Funny\")\n",
    "    .value_counts()\n",
    ")"
   ]
  },
  {
   "cell_type": "markdown",
   "metadata": {},
   "source": [
    "### Question 8. Let's write a custom function that gives us a `dictionary` that lists `talks` containing `funny` rating."
   ]
  },
  {
   "cell_type": "code",
   "execution_count": 89,
   "metadata": {},
   "outputs": [],
   "source": [
    "def get_dict_funny(df: pd.DataFrame):\n",
    "    \n",
    "    subset_DF =\\\n",
    "        (df\n",
    "            .loc[ : , [\"title\", \"ratings_LIST\"]\n",
    "                ]\n",
    "        )\n",
    "    \n",
    "    interim_dict = {}\n",
    "    \n",
    "    for p, q in subset_DF.iterrows():\n",
    "        \n",
    "        title = q[\"title\"]\n",
    "        \n",
    "        ratings_dict = q[\"ratings_LIST\"]\n",
    "        \n",
    "        for i in ratings_dict:\n",
    "            \n",
    "            if i[\"name\"].lower() == \"funny\" and i[\"count\"] > 0:\n",
    "                \n",
    "                interim_dict[title] = i\n",
    "\n",
    "    return interim_dict"
   ]
  },
  {
   "cell_type": "code",
   "execution_count": 90,
   "metadata": {},
   "outputs": [],
   "source": [
    "funny_ratings_DICT = get_dict_funny(ted)"
   ]
  },
  {
   "cell_type": "code",
   "execution_count": 91,
   "metadata": {},
   "outputs": [],
   "source": [
    "funny_ratings_DF =\\\n",
    "(pd\n",
    "    .DataFrame(funny_ratings_DICT)\n",
    ")"
   ]
  },
  {
   "cell_type": "code",
   "execution_count": 92,
   "metadata": {},
   "outputs": [
    {
     "data": {
      "text/html": [
       "<div>\n",
       "<style scoped>\n",
       "    .dataframe tbody tr th:only-of-type {\n",
       "        vertical-align: middle;\n",
       "    }\n",
       "\n",
       "    .dataframe tbody tr th {\n",
       "        vertical-align: top;\n",
       "    }\n",
       "\n",
       "    .dataframe thead th {\n",
       "        text-align: right;\n",
       "    }\n",
       "</style>\n",
       "<table border=\"1\" class=\"dataframe\">\n",
       "  <thead>\n",
       "    <tr style=\"text-align: right;\">\n",
       "      <th></th>\n",
       "      <th>Militant atheism</th>\n",
       "      <th>Do schools kill creativity?</th>\n",
       "      <th>Science can answer moral questions</th>\n",
       "      <th>My stroke of insight</th>\n",
       "      <th>How do you explain consciousness?</th>\n",
       "      <th>Taking imagination seriously</th>\n",
       "      <th>On reading the Koran</th>\n",
       "      <th>Your body language may shape who you are</th>\n",
       "      <th>The danger of science denial</th>\n",
       "      <th>How great leaders inspire action</th>\n",
       "      <th>...</th>\n",
       "      <th>How digital DNA could help you make better health choices</th>\n",
       "      <th>A simple new blood test that can catch cancer early</th>\n",
       "      <th>\"St. James Infirmary Blues\"</th>\n",
       "      <th>Smelfies, and other experiments in synthetic biology</th>\n",
       "      <th>A dance to honor Mother Earth</th>\n",
       "      <th>The most Martian place on Earth</th>\n",
       "      <th>\"Turceasca\"</th>\n",
       "      <th>Living sculptures that stand for history's truths</th>\n",
       "      <th>The stories behind The New Yorker's iconic covers</th>\n",
       "      <th>What it feels like to see Earth from space</th>\n",
       "    </tr>\n",
       "  </thead>\n",
       "  <tbody>\n",
       "    <tr>\n",
       "      <th>id</th>\n",
       "      <td>7</td>\n",
       "      <td>7</td>\n",
       "      <td>7</td>\n",
       "      <td>7</td>\n",
       "      <td>7</td>\n",
       "      <td>7</td>\n",
       "      <td>7</td>\n",
       "      <td>7</td>\n",
       "      <td>7</td>\n",
       "      <td>7</td>\n",
       "      <td>...</td>\n",
       "      <td>7</td>\n",
       "      <td>7</td>\n",
       "      <td>7</td>\n",
       "      <td>7</td>\n",
       "      <td>7</td>\n",
       "      <td>7</td>\n",
       "      <td>7</td>\n",
       "      <td>7</td>\n",
       "      <td>7</td>\n",
       "      <td>7</td>\n",
       "    </tr>\n",
       "    <tr>\n",
       "      <th>name</th>\n",
       "      <td>Funny</td>\n",
       "      <td>Funny</td>\n",
       "      <td>Funny</td>\n",
       "      <td>Funny</td>\n",
       "      <td>Funny</td>\n",
       "      <td>Funny</td>\n",
       "      <td>Funny</td>\n",
       "      <td>Funny</td>\n",
       "      <td>Funny</td>\n",
       "      <td>Funny</td>\n",
       "      <td>...</td>\n",
       "      <td>Funny</td>\n",
       "      <td>Funny</td>\n",
       "      <td>Funny</td>\n",
       "      <td>Funny</td>\n",
       "      <td>Funny</td>\n",
       "      <td>Funny</td>\n",
       "      <td>Funny</td>\n",
       "      <td>Funny</td>\n",
       "      <td>Funny</td>\n",
       "      <td>Funny</td>\n",
       "    </tr>\n",
       "    <tr>\n",
       "      <th>count</th>\n",
       "      <td>1203</td>\n",
       "      <td>19645</td>\n",
       "      <td>100</td>\n",
       "      <td>966</td>\n",
       "      <td>16</td>\n",
       "      <td>16</td>\n",
       "      <td>202</td>\n",
       "      <td>938</td>\n",
       "      <td>76</td>\n",
       "      <td>390</td>\n",
       "      <td>...</td>\n",
       "      <td>3</td>\n",
       "      <td>3</td>\n",
       "      <td>6</td>\n",
       "      <td>70</td>\n",
       "      <td>3</td>\n",
       "      <td>20</td>\n",
       "      <td>5</td>\n",
       "      <td>6</td>\n",
       "      <td>10</td>\n",
       "      <td>4</td>\n",
       "    </tr>\n",
       "  </tbody>\n",
       "</table>\n",
       "<p>3 rows × 2477 columns</p>\n",
       "</div>"
      ],
      "text/plain": [
       "      Militant atheism Do schools kill creativity?  \\\n",
       "id                   7                           7   \n",
       "name             Funny                       Funny   \n",
       "count             1203                       19645   \n",
       "\n",
       "      Science can answer moral questions My stroke of insight  \\\n",
       "id                                     7                    7   \n",
       "name                               Funny                Funny   \n",
       "count                                100                  966   \n",
       "\n",
       "      How do you explain consciousness? Taking imagination seriously  \\\n",
       "id                                    7                            7   \n",
       "name                              Funny                        Funny   \n",
       "count                                16                           16   \n",
       "\n",
       "      On reading the Koran Your body language may shape who you are  \\\n",
       "id                       7                                        7   \n",
       "name                 Funny                                    Funny   \n",
       "count                  202                                      938   \n",
       "\n",
       "      The danger of science denial How great leaders inspire action  ...  \\\n",
       "id                               7                                7  ...   \n",
       "name                         Funny                            Funny  ...   \n",
       "count                           76                              390  ...   \n",
       "\n",
       "      How digital DNA could help you make better health choices  \\\n",
       "id                                                     7          \n",
       "name                                               Funny          \n",
       "count                                                  3          \n",
       "\n",
       "      A simple new blood test that can catch cancer early  \\\n",
       "id                                                     7    \n",
       "name                                               Funny    \n",
       "count                                                  3    \n",
       "\n",
       "      \"St. James Infirmary Blues\"  \\\n",
       "id                              7   \n",
       "name                        Funny   \n",
       "count                           6   \n",
       "\n",
       "      Smelfies, and other experiments in synthetic biology  \\\n",
       "id                                                     7     \n",
       "name                                               Funny     \n",
       "count                                                 70     \n",
       "\n",
       "      A dance to honor Mother Earth The most Martian place on Earth  \\\n",
       "id                                7                               7   \n",
       "name                          Funny                           Funny   \n",
       "count                             3                              20   \n",
       "\n",
       "      \"Turceasca\" Living sculptures that stand for history's truths  \\\n",
       "id              7                                                 7   \n",
       "name        Funny                                             Funny   \n",
       "count           5                                                 6   \n",
       "\n",
       "      The stories behind The New Yorker's iconic covers  \\\n",
       "id                                                    7   \n",
       "name                                              Funny   \n",
       "count                                                10   \n",
       "\n",
       "      What it feels like to see Earth from space  \n",
       "id                                             7  \n",
       "name                                       Funny  \n",
       "count                                          4  \n",
       "\n",
       "[3 rows x 2477 columns]"
      ]
     },
     "execution_count": 92,
     "metadata": {},
     "output_type": "execute_result"
    }
   ],
   "source": [
    "funny_ratings_DF"
   ]
  },
  {
   "cell_type": "code",
   "execution_count": 93,
   "metadata": {},
   "outputs": [
    {
     "data": {
      "text/html": [
       "<div>\n",
       "<style scoped>\n",
       "    .dataframe tbody tr th:only-of-type {\n",
       "        vertical-align: middle;\n",
       "    }\n",
       "\n",
       "    .dataframe tbody tr th {\n",
       "        vertical-align: top;\n",
       "    }\n",
       "\n",
       "    .dataframe thead th {\n",
       "        text-align: right;\n",
       "    }\n",
       "</style>\n",
       "<table border=\"1\" class=\"dataframe\">\n",
       "  <thead>\n",
       "    <tr style=\"text-align: right;\">\n",
       "      <th></th>\n",
       "      <th>id</th>\n",
       "      <th>name</th>\n",
       "      <th>count</th>\n",
       "    </tr>\n",
       "  </thead>\n",
       "  <tbody>\n",
       "    <tr>\n",
       "      <th>Militant atheism</th>\n",
       "      <td>7</td>\n",
       "      <td>Funny</td>\n",
       "      <td>1203</td>\n",
       "    </tr>\n",
       "    <tr>\n",
       "      <th>Do schools kill creativity?</th>\n",
       "      <td>7</td>\n",
       "      <td>Funny</td>\n",
       "      <td>19645</td>\n",
       "    </tr>\n",
       "    <tr>\n",
       "      <th>Science can answer moral questions</th>\n",
       "      <td>7</td>\n",
       "      <td>Funny</td>\n",
       "      <td>100</td>\n",
       "    </tr>\n",
       "    <tr>\n",
       "      <th>My stroke of insight</th>\n",
       "      <td>7</td>\n",
       "      <td>Funny</td>\n",
       "      <td>966</td>\n",
       "    </tr>\n",
       "    <tr>\n",
       "      <th>How do you explain consciousness?</th>\n",
       "      <td>7</td>\n",
       "      <td>Funny</td>\n",
       "      <td>16</td>\n",
       "    </tr>\n",
       "    <tr>\n",
       "      <th>...</th>\n",
       "      <td>...</td>\n",
       "      <td>...</td>\n",
       "      <td>...</td>\n",
       "    </tr>\n",
       "    <tr>\n",
       "      <th>The most Martian place on Earth</th>\n",
       "      <td>7</td>\n",
       "      <td>Funny</td>\n",
       "      <td>20</td>\n",
       "    </tr>\n",
       "    <tr>\n",
       "      <th>\"Turceasca\"</th>\n",
       "      <td>7</td>\n",
       "      <td>Funny</td>\n",
       "      <td>5</td>\n",
       "    </tr>\n",
       "    <tr>\n",
       "      <th>Living sculptures that stand for history's truths</th>\n",
       "      <td>7</td>\n",
       "      <td>Funny</td>\n",
       "      <td>6</td>\n",
       "    </tr>\n",
       "    <tr>\n",
       "      <th>The stories behind The New Yorker's iconic covers</th>\n",
       "      <td>7</td>\n",
       "      <td>Funny</td>\n",
       "      <td>10</td>\n",
       "    </tr>\n",
       "    <tr>\n",
       "      <th>What it feels like to see Earth from space</th>\n",
       "      <td>7</td>\n",
       "      <td>Funny</td>\n",
       "      <td>4</td>\n",
       "    </tr>\n",
       "  </tbody>\n",
       "</table>\n",
       "<p>2477 rows × 3 columns</p>\n",
       "</div>"
      ],
      "text/plain": [
       "                                                  id   name  count\n",
       "Militant atheism                                   7  Funny   1203\n",
       "Do schools kill creativity?                        7  Funny  19645\n",
       "Science can answer moral questions                 7  Funny    100\n",
       "My stroke of insight                               7  Funny    966\n",
       "How do you explain consciousness?                  7  Funny     16\n",
       "...                                               ..    ...    ...\n",
       "The most Martian place on Earth                    7  Funny     20\n",
       "\"Turceasca\"                                        7  Funny      5\n",
       "Living sculptures that stand for history's truths  7  Funny      6\n",
       "The stories behind The New Yorker's iconic covers  7  Funny     10\n",
       "What it feels like to see Earth from space         7  Funny      4\n",
       "\n",
       "[2477 rows x 3 columns]"
      ]
     },
     "execution_count": 93,
     "metadata": {},
     "output_type": "execute_result"
    }
   ],
   "source": [
    "funny_ratings_DF.T"
   ]
  },
  {
   "cell_type": "markdown",
   "metadata": {},
   "source": [
    "> Then, you might want to examine a record in which \"Funny\" is not the first dictionary"
   ]
  },
  {
   "cell_type": "code",
   "execution_count": 94,
   "metadata": {},
   "outputs": [],
   "source": [
    "def get_funny_rating(list_of_d):\n",
    "    for i in list_of_d:\n",
    "        if i[\"name\"] == \"Funny\":\n",
    "            return i[\"count\"]"
   ]
  },
  {
   "cell_type": "markdown",
   "metadata": {},
   "source": [
    "> Let's check that the function works."
   ]
  },
  {
   "cell_type": "markdown",
   "metadata": {},
   "source": [
    "> Let's apply it to every element in the Series."
   ]
  },
  {
   "cell_type": "code",
   "execution_count": 95,
   "metadata": {},
   "outputs": [],
   "source": [
    "ted[\"ratings_Funny\"] =\\\n",
    "    (ted\n",
    "        .ratings_LIST\n",
    "        .apply(get_funny_rating)\n",
    "    )"
   ]
  },
  {
   "cell_type": "code",
   "execution_count": 96,
   "metadata": {},
   "outputs": [
    {
     "data": {
      "text/html": [
       "<div>\n",
       "<style scoped>\n",
       "    .dataframe tbody tr th:only-of-type {\n",
       "        vertical-align: middle;\n",
       "    }\n",
       "\n",
       "    .dataframe tbody tr th {\n",
       "        vertical-align: top;\n",
       "    }\n",
       "\n",
       "    .dataframe thead th {\n",
       "        text-align: right;\n",
       "    }\n",
       "</style>\n",
       "<table border=\"1\" class=\"dataframe\">\n",
       "  <thead>\n",
       "    <tr style=\"text-align: right;\">\n",
       "      <th></th>\n",
       "      <th>ratings_Funny</th>\n",
       "    </tr>\n",
       "  </thead>\n",
       "  <tbody>\n",
       "    <tr>\n",
       "      <th>96</th>\n",
       "      <td>1203</td>\n",
       "    </tr>\n",
       "    <tr>\n",
       "      <th>0</th>\n",
       "      <td>19645</td>\n",
       "    </tr>\n",
       "    <tr>\n",
       "      <th>644</th>\n",
       "      <td>100</td>\n",
       "    </tr>\n",
       "    <tr>\n",
       "      <th>201</th>\n",
       "      <td>966</td>\n",
       "    </tr>\n",
       "    <tr>\n",
       "      <th>1787</th>\n",
       "      <td>16</td>\n",
       "    </tr>\n",
       "    <tr>\n",
       "      <th>...</th>\n",
       "      <td>...</td>\n",
       "    </tr>\n",
       "    <tr>\n",
       "      <th>2407</th>\n",
       "      <td>5</td>\n",
       "    </tr>\n",
       "    <tr>\n",
       "      <th>2528</th>\n",
       "      <td>0</td>\n",
       "    </tr>\n",
       "    <tr>\n",
       "      <th>2542</th>\n",
       "      <td>6</td>\n",
       "    </tr>\n",
       "    <tr>\n",
       "      <th>2501</th>\n",
       "      <td>10</td>\n",
       "    </tr>\n",
       "    <tr>\n",
       "      <th>2534</th>\n",
       "      <td>4</td>\n",
       "    </tr>\n",
       "  </tbody>\n",
       "</table>\n",
       "<p>2550 rows × 1 columns</p>\n",
       "</div>"
      ],
      "text/plain": [
       "      ratings_Funny\n",
       "96             1203\n",
       "0             19645\n",
       "644             100\n",
       "201             966\n",
       "1787             16\n",
       "...             ...\n",
       "2407              5\n",
       "2528              0\n",
       "2542              6\n",
       "2501             10\n",
       "2534              4\n",
       "\n",
       "[2550 rows x 1 columns]"
      ]
     },
     "execution_count": 96,
     "metadata": {},
     "output_type": "execute_result"
    }
   ],
   "source": [
    "ted[[\"ratings_Funny\"]]"
   ]
  },
  {
   "cell_type": "markdown",
   "metadata": {},
   "source": [
    "> Do check for `missing values`."
   ]
  },
  {
   "cell_type": "code",
   "execution_count": 97,
   "metadata": {},
   "outputs": [
    {
     "data": {
      "text/plain": [
       "0"
      ]
     },
     "execution_count": 97,
     "metadata": {},
     "output_type": "execute_result"
    }
   ],
   "source": [
    "(\n",
    "ted\n",
    ".ratings_Funny\n",
    ".isna()\n",
    ".sum()\n",
    ")"
   ]
  },
  {
   "cell_type": "markdown",
   "metadata": {},
   "source": [
    "##### Now, let's calculate the percentage of ratings that are funny"
   ]
  },
  {
   "cell_type": "code",
   "execution_count": 98,
   "metadata": {},
   "outputs": [
    {
     "data": {
      "text/plain": [
       "Index(['comments', 'description', 'duration', 'event', 'film_date',\n",
       "       'languages', 'main_speaker', 'name', 'num_speaker', 'published_date',\n",
       "       'ratings', 'related_talks', 'speaker_occupation', 'tags', 'title',\n",
       "       'url', 'views', 'comments_per_view', 'film_date_CLEANED',\n",
       "       'ratings_LIST', 'sum_of_count', 'ratings_Funny'],\n",
       "      dtype='object')"
      ]
     },
     "execution_count": 98,
     "metadata": {},
     "output_type": "execute_result"
    }
   ],
   "source": [
    "ted.columns"
   ]
  },
  {
   "cell_type": "code",
   "execution_count": 99,
   "metadata": {},
   "outputs": [],
   "source": [
    "ted[\"percent_Funny\"] =\\\n",
    "    ted[\"ratings_Funny\"] / ted[\"sum_of_count\"] * 100"
   ]
  },
  {
   "cell_type": "code",
   "execution_count": 100,
   "metadata": {},
   "outputs": [
    {
     "data": {
      "text/html": [
       "<div>\n",
       "<style scoped>\n",
       "    .dataframe tbody tr th:only-of-type {\n",
       "        vertical-align: middle;\n",
       "    }\n",
       "\n",
       "    .dataframe tbody tr th {\n",
       "        vertical-align: top;\n",
       "    }\n",
       "\n",
       "    .dataframe thead th {\n",
       "        text-align: right;\n",
       "    }\n",
       "</style>\n",
       "<table border=\"1\" class=\"dataframe\">\n",
       "  <thead>\n",
       "    <tr style=\"text-align: right;\">\n",
       "      <th></th>\n",
       "      <th>percent_Funny</th>\n",
       "    </tr>\n",
       "  </thead>\n",
       "  <tbody>\n",
       "    <tr>\n",
       "      <th>96</th>\n",
       "      <td>8.071659</td>\n",
       "    </tr>\n",
       "    <tr>\n",
       "      <th>0</th>\n",
       "      <td>20.932339</td>\n",
       "    </tr>\n",
       "    <tr>\n",
       "      <th>644</th>\n",
       "      <td>1.095410</td>\n",
       "    </tr>\n",
       "    <tr>\n",
       "      <th>201</th>\n",
       "      <td>1.367013</td>\n",
       "    </tr>\n",
       "    <tr>\n",
       "      <th>1787</th>\n",
       "      <td>0.580552</td>\n",
       "    </tr>\n",
       "    <tr>\n",
       "      <th>...</th>\n",
       "      <td>...</td>\n",
       "    </tr>\n",
       "    <tr>\n",
       "      <th>2407</th>\n",
       "      <td>3.105590</td>\n",
       "    </tr>\n",
       "    <tr>\n",
       "      <th>2528</th>\n",
       "      <td>0.000000</td>\n",
       "    </tr>\n",
       "    <tr>\n",
       "      <th>2542</th>\n",
       "      <td>3.314917</td>\n",
       "    </tr>\n",
       "    <tr>\n",
       "      <th>2501</th>\n",
       "      <td>10.309278</td>\n",
       "    </tr>\n",
       "    <tr>\n",
       "      <th>2534</th>\n",
       "      <td>1.809955</td>\n",
       "    </tr>\n",
       "  </tbody>\n",
       "</table>\n",
       "<p>2550 rows × 1 columns</p>\n",
       "</div>"
      ],
      "text/plain": [
       "      percent_Funny\n",
       "96         8.071659\n",
       "0         20.932339\n",
       "644        1.095410\n",
       "201        1.367013\n",
       "1787       0.580552\n",
       "...             ...\n",
       "2407       3.105590\n",
       "2528       0.000000\n",
       "2542       3.314917\n",
       "2501      10.309278\n",
       "2534       1.809955\n",
       "\n",
       "[2550 rows x 1 columns]"
      ]
     },
     "execution_count": 100,
     "metadata": {},
     "output_type": "execute_result"
    }
   ],
   "source": [
    "ted[[\"percent_Funny\"]]"
   ]
  },
  {
   "cell_type": "markdown",
   "metadata": {},
   "source": [
    "> Let's do some \"gut check\" here that this calculation makes sense by examining the occupations of the funniest talks"
   ]
  },
  {
   "cell_type": "code",
   "execution_count": 101,
   "metadata": {},
   "outputs": [
    {
     "data": {
      "text/plain": [
       "1147                     Aid worker\n",
       "1357          Data Commons Advocate\n",
       "612                        Sculptor\n",
       "322                       Filmmaker\n",
       "2294            Immigration scholar\n",
       "                   ...             \n",
       "2114            Comedian and writer\n",
       "173                        Investor\n",
       "747                        Comedian\n",
       "1398                       Comedian\n",
       "685     Actor, comedian, playwright\n",
       "Name: speaker_occupation, Length: 2550, dtype: object"
      ]
     },
     "execution_count": 101,
     "metadata": {},
     "output_type": "execute_result"
    }
   ],
   "source": [
    "(\n",
    "ted\n",
    "    .sort_values(\"percent_Funny\")\n",
    "    .speaker_occupation\n",
    ")"
   ]
  },
  {
   "cell_type": "markdown",
   "metadata": {},
   "source": [
    "> Let's examine the occupations of the least funny talks."
   ]
  },
  {
   "cell_type": "code",
   "execution_count": 102,
   "metadata": {},
   "outputs": [
    {
     "data": {
      "text/plain": [
       "speaker_occupation\n",
       " Chairman of the Cordoba Initiative    0.0\n",
       "Political scientist and journalist     0.0\n",
       "HIV/AIDS fighter                       0.0\n",
       "Author, thinker                        0.0\n",
       "Aid worker                             0.0\n",
       "Name: percent_Funny, dtype: float64"
      ]
     },
     "execution_count": 102,
     "metadata": {},
     "output_type": "execute_result"
    }
   ],
   "source": [
    "(\n",
    "ted\n",
    "    .groupby(\"speaker_occupation\")\n",
    "    [\"percent_Funny\"]\n",
    "    .mean()\n",
    "    .sort_values()\n",
    "    .head()\n",
    ")"
   ]
  },
  {
   "cell_type": "markdown",
   "metadata": {},
   "source": [
    "### Question 9. It would be funny (pun inteded here) to analyze the funny rate by occupation :) Let's calculate the mean funny rate for each job."
   ]
  },
  {
   "cell_type": "code",
   "execution_count": 103,
   "metadata": {},
   "outputs": [
    {
     "data": {
      "text/plain": [
       "speaker_occupation\n",
       "Comedian                       51.245669\n",
       "Actor, writer                  51.515152\n",
       "Actor, comedian, playwright    55.810687\n",
       "Jugglers                       56.682825\n",
       "Comedian and writer            60.208534\n",
       "Name: percent_Funny, dtype: float64"
      ]
     },
     "execution_count": 103,
     "metadata": {},
     "output_type": "execute_result"
    }
   ],
   "source": [
    "(\n",
    "    ted\n",
    "    .groupby(\"speaker_occupation\")\n",
    "    .percent_Funny\n",
    "    .mean()\n",
    "    .sort_values()\n",
    "    .tail()\n",
    ")"
   ]
  },
  {
   "cell_type": "markdown",
   "metadata": {},
   "source": [
    "##### Note that most of the occupations have a sample size of 1"
   ]
  },
  {
   "cell_type": "code",
   "execution_count": 104,
   "metadata": {},
   "outputs": [
    {
     "data": {
      "text/plain": [
       "speaker_occupation\n",
       "Writer                         45\n",
       "Artist                         34\n",
       "Designer                       34\n",
       "Journalist                     33\n",
       "Entrepreneur                   31\n",
       "                               ..\n",
       "Sci-fi author                   1\n",
       "Environmental economist         1\n",
       "Neural stem cell researcher     1\n",
       "Dancer and choreographer        1\n",
       "Art editor                      1\n",
       "Name: count, Length: 1458, dtype: int64"
      ]
     },
     "execution_count": 104,
     "metadata": {},
     "output_type": "execute_result"
    }
   ],
   "source": [
    "occupations =\\\n",
    "(    ted\n",
    "     [\"speaker_occupation\"]\n",
    "    .value_counts()\n",
    ")\n",
    "\n",
    "occupations"
   ]
  },
  {
   "cell_type": "markdown",
   "metadata": {},
   "source": [
    "### Question 10. Let's start looking at `occupations` that are well-represented in the dataset. Let's count how many times each job appears"
   ]
  },
  {
   "cell_type": "markdown",
   "metadata": {},
   "source": [
    "##### `value_counts()` outputs a pandas Series, thus we can use pandas to manipulate the output"
   ]
  },
  {
   "cell_type": "code",
   "execution_count": 105,
   "metadata": {},
   "outputs": [],
   "source": [
    "usual_occupations =\\\n",
    "(    occupations[occupations >= 5]\n",
    "    .index)"
   ]
  },
  {
   "cell_type": "code",
   "execution_count": 106,
   "metadata": {},
   "outputs": [
    {
     "data": {
      "text/plain": [
       "Index(['Writer', 'Artist', 'Designer', 'Journalist', 'Entrepreneur',\n",
       "       'Architect', 'Inventor', 'Psychologist', 'Photographer', 'Filmmaker',\n",
       "       'Neuroscientist', 'Author', 'Economist', 'Educator', 'Roboticist',\n",
       "       'Philosopher', 'Biologist', 'Physicist', 'Musician', 'Marine biologist',\n",
       "       'Activist', 'Global health expert; data visionary', 'Technologist',\n",
       "       'Singer/songwriter', 'Poet', 'Graphic designer', 'Oceanographer',\n",
       "       'Behavioral economist', 'Historian', 'Astronomer', 'Philanthropist',\n",
       "       'Computer scientist', 'Engineer', 'Futurist', 'Social psychologist',\n",
       "       'Novelist', 'Mathematician', 'Astrophysicist', 'Reporter',\n",
       "       'Singer-songwriter', 'Photojournalist', 'Climate advocate',\n",
       "       'Legal activist', 'Writer, activist', 'Techno-illusionist',\n",
       "       'Performance poet, multimedia artist', 'Social entrepreneur',\n",
       "       'Comedian', 'Evolutionary biologist', 'Researcher', 'Surgeon', 'Chef',\n",
       "       'Producer', 'Paleontologist', 'Data scientist',\n",
       "       'Environmentalist, futurist', 'Game designer', 'Social Media Theorist',\n",
       "       'Musician, activist', 'Sculptor', 'Science writer', 'Cartoonist',\n",
       "       'Chemist', 'Tech visionary', 'Sound consultant',\n",
       "       'Investor and advocate for moral leadership', 'Physician', 'Violinist'],\n",
       "      dtype='object', name='speaker_occupation')"
      ]
     },
     "execution_count": 106,
     "metadata": {},
     "output_type": "execute_result"
    }
   ],
   "source": [
    "usual_occupations"
   ]
  },
  {
   "cell_type": "markdown",
   "metadata": {},
   "source": [
    "##### Let's take a look at jobs which appear at least 5 times"
   ]
  },
  {
   "cell_type": "code",
   "execution_count": 107,
   "metadata": {},
   "outputs": [],
   "source": [
    "# See Above"
   ]
  },
  {
   "cell_type": "markdown",
   "metadata": {},
   "source": [
    "> Let's save the index of this Series"
   ]
  },
  {
   "cell_type": "code",
   "execution_count": 108,
   "metadata": {},
   "outputs": [],
   "source": [
    "# See Above"
   ]
  },
  {
   "cell_type": "markdown",
   "metadata": {},
   "source": [
    "##### Now, re-analyze the funny rate by occupation (for top jobs only)"
   ]
  },
  {
   "cell_type": "markdown",
   "metadata": {},
   "source": [
    "> Let's filter DataFrame to include only those jobs."
   ]
  },
  {
   "cell_type": "code",
   "execution_count": 109,
   "metadata": {},
   "outputs": [
    {
     "data": {
      "text/html": [
       "<div>\n",
       "<style scoped>\n",
       "    .dataframe tbody tr th:only-of-type {\n",
       "        vertical-align: middle;\n",
       "    }\n",
       "\n",
       "    .dataframe tbody tr th {\n",
       "        vertical-align: top;\n",
       "    }\n",
       "\n",
       "    .dataframe thead th {\n",
       "        text-align: right;\n",
       "    }\n",
       "</style>\n",
       "<table border=\"1\" class=\"dataframe\">\n",
       "  <thead>\n",
       "    <tr style=\"text-align: right;\">\n",
       "      <th></th>\n",
       "      <th>comments</th>\n",
       "      <th>description</th>\n",
       "      <th>duration</th>\n",
       "      <th>event</th>\n",
       "      <th>film_date</th>\n",
       "      <th>languages</th>\n",
       "      <th>main_speaker</th>\n",
       "      <th>name</th>\n",
       "      <th>num_speaker</th>\n",
       "      <th>published_date</th>\n",
       "      <th>...</th>\n",
       "      <th>tags</th>\n",
       "      <th>title</th>\n",
       "      <th>url</th>\n",
       "      <th>views</th>\n",
       "      <th>comments_per_view</th>\n",
       "      <th>film_date_CLEANED</th>\n",
       "      <th>ratings_LIST</th>\n",
       "      <th>sum_of_count</th>\n",
       "      <th>ratings_Funny</th>\n",
       "      <th>percent_Funny</th>\n",
       "    </tr>\n",
       "  </thead>\n",
       "  <tbody>\n",
       "    <tr>\n",
       "      <th>96</th>\n",
       "      <td>6404</td>\n",
       "      <td>Richard Dawkins urges all atheists to openly s...</td>\n",
       "      <td>1750</td>\n",
       "      <td>TED2002</td>\n",
       "      <td>1012608000</td>\n",
       "      <td>42</td>\n",
       "      <td>Richard Dawkins</td>\n",
       "      <td>Richard Dawkins: Militant atheism</td>\n",
       "      <td>1</td>\n",
       "      <td>1176689220</td>\n",
       "      <td>...</td>\n",
       "      <td>['God', 'atheism', 'culture', 'religion', 'sci...</td>\n",
       "      <td>Militant atheism</td>\n",
       "      <td>https://www.ted.com/talks/richard_dawkins_on_m...</td>\n",
       "      <td>4374792</td>\n",
       "      <td>0.001464</td>\n",
       "      <td>2002-02-02</td>\n",
       "      <td>[{'id': 3, 'name': 'Courageous', 'count': 3236...</td>\n",
       "      <td>14904</td>\n",
       "      <td>1203</td>\n",
       "      <td>8.071659</td>\n",
       "    </tr>\n",
       "    <tr>\n",
       "      <th>1787</th>\n",
       "      <td>2673</td>\n",
       "      <td>Our consciousness is a fundamental aspect of o...</td>\n",
       "      <td>1117</td>\n",
       "      <td>TED2014</td>\n",
       "      <td>1395100800</td>\n",
       "      <td>33</td>\n",
       "      <td>David Chalmers</td>\n",
       "      <td>David Chalmers: How do you explain consciousness?</td>\n",
       "      <td>1</td>\n",
       "      <td>1405350484</td>\n",
       "      <td>...</td>\n",
       "      <td>['brain', 'consciousness', 'neuroscience', 'ph...</td>\n",
       "      <td>How do you explain consciousness?</td>\n",
       "      <td>https://www.ted.com/talks/david_chalmers_how_d...</td>\n",
       "      <td>2162764</td>\n",
       "      <td>0.001236</td>\n",
       "      <td>2014-03-18</td>\n",
       "      <td>[{'id': 25, 'name': 'OK', 'count': 280}, {'id'...</td>\n",
       "      <td>2756</td>\n",
       "      <td>16</td>\n",
       "      <td>0.580552</td>\n",
       "    </tr>\n",
       "    <tr>\n",
       "      <th>954</th>\n",
       "      <td>2492</td>\n",
       "      <td>Janet Echelman found her true voice as an arti...</td>\n",
       "      <td>566</td>\n",
       "      <td>TED2011</td>\n",
       "      <td>1299110400</td>\n",
       "      <td>35</td>\n",
       "      <td>Janet Echelman</td>\n",
       "      <td>Janet Echelman: Taking imagination seriously</td>\n",
       "      <td>1</td>\n",
       "      <td>1307489760</td>\n",
       "      <td>...</td>\n",
       "      <td>['art', 'cities', 'culture', 'data', 'design',...</td>\n",
       "      <td>Taking imagination seriously</td>\n",
       "      <td>https://www.ted.com/talks/janet_echelman</td>\n",
       "      <td>1832930</td>\n",
       "      <td>0.001360</td>\n",
       "      <td>2011-03-03</td>\n",
       "      <td>[{'id': 23, 'name': 'Jaw-dropping', 'count': 3...</td>\n",
       "      <td>4158</td>\n",
       "      <td>16</td>\n",
       "      <td>0.384800</td>\n",
       "    </tr>\n",
       "    <tr>\n",
       "      <th>1346</th>\n",
       "      <td>2290</td>\n",
       "      <td>Body language affects how others see us, but i...</td>\n",
       "      <td>1262</td>\n",
       "      <td>TEDGlobal 2012</td>\n",
       "      <td>1340668800</td>\n",
       "      <td>51</td>\n",
       "      <td>Amy Cuddy</td>\n",
       "      <td>Amy Cuddy: Your body language may shape who yo...</td>\n",
       "      <td>1</td>\n",
       "      <td>1349103608</td>\n",
       "      <td>...</td>\n",
       "      <td>['body language', 'brain', 'business', 'psycho...</td>\n",
       "      <td>Your body language may shape who you are</td>\n",
       "      <td>https://www.ted.com/talks/amy_cuddy_your_body_...</td>\n",
       "      <td>43155405</td>\n",
       "      <td>0.000053</td>\n",
       "      <td>2012-06-26</td>\n",
       "      <td>[{'id': 23, 'name': 'Jaw-dropping', 'count': 3...</td>\n",
       "      <td>65968</td>\n",
       "      <td>938</td>\n",
       "      <td>1.421902</td>\n",
       "    </tr>\n",
       "    <tr>\n",
       "      <th>661</th>\n",
       "      <td>2272</td>\n",
       "      <td>Vaccine-autism claims, \"Frankenfood\" bans, the...</td>\n",
       "      <td>1141</td>\n",
       "      <td>TED2010</td>\n",
       "      <td>1265846400</td>\n",
       "      <td>31</td>\n",
       "      <td>Michael Specter</td>\n",
       "      <td>Michael Specter: The danger of science denial</td>\n",
       "      <td>1</td>\n",
       "      <td>1271065080</td>\n",
       "      <td>...</td>\n",
       "      <td>['global issues', 'medicine', 'religion', 'sci...</td>\n",
       "      <td>The danger of science denial</td>\n",
       "      <td>https://www.ted.com/talks/michael_specter_the_...</td>\n",
       "      <td>1838628</td>\n",
       "      <td>0.001236</td>\n",
       "      <td>2010-02-11</td>\n",
       "      <td>[{'id': 3, 'name': 'Courageous', 'count': 702}...</td>\n",
       "      <td>5629</td>\n",
       "      <td>76</td>\n",
       "      <td>1.350151</td>\n",
       "    </tr>\n",
       "    <tr>\n",
       "      <th>...</th>\n",
       "      <td>...</td>\n",
       "      <td>...</td>\n",
       "      <td>...</td>\n",
       "      <td>...</td>\n",
       "      <td>...</td>\n",
       "      <td>...</td>\n",
       "      <td>...</td>\n",
       "      <td>...</td>\n",
       "      <td>...</td>\n",
       "      <td>...</td>\n",
       "      <td>...</td>\n",
       "      <td>...</td>\n",
       "      <td>...</td>\n",
       "      <td>...</td>\n",
       "      <td>...</td>\n",
       "      <td>...</td>\n",
       "      <td>...</td>\n",
       "      <td>...</td>\n",
       "      <td>...</td>\n",
       "      <td>...</td>\n",
       "      <td>...</td>\n",
       "    </tr>\n",
       "    <tr>\n",
       "      <th>2535</th>\n",
       "      <td>8</td>\n",
       "      <td>Underneath every shiny new megacity, there's o...</td>\n",
       "      <td>723</td>\n",
       "      <td>TEDGlobal 2017</td>\n",
       "      <td>1503792000</td>\n",
       "      <td>4</td>\n",
       "      <td>OluTimehin Adegbeye</td>\n",
       "      <td>OluTimehin Adegbeye: Who belongs in a city?</td>\n",
       "      <td>1</td>\n",
       "      <td>1504882266</td>\n",
       "      <td>...</td>\n",
       "      <td>['Africa', 'activism', 'cities', 'government',...</td>\n",
       "      <td>Who belongs in a city?</td>\n",
       "      <td>https://www.ted.com/talks/olutimehin_adegbeye_...</td>\n",
       "      <td>707788</td>\n",
       "      <td>0.000011</td>\n",
       "      <td>2017-08-27</td>\n",
       "      <td>[{'id': 3, 'name': 'Courageous', 'count': 77},...</td>\n",
       "      <td>431</td>\n",
       "      <td>19</td>\n",
       "      <td>4.408353</td>\n",
       "    </tr>\n",
       "    <tr>\n",
       "      <th>2549</th>\n",
       "      <td>8</td>\n",
       "      <td>With more than half of the world population li...</td>\n",
       "      <td>519</td>\n",
       "      <td>TED2017</td>\n",
       "      <td>1492992000</td>\n",
       "      <td>1</td>\n",
       "      <td>Karoliina Korppoo</td>\n",
       "      <td>Karoliina Korppoo: How a video game might help...</td>\n",
       "      <td>1</td>\n",
       "      <td>1506092422</td>\n",
       "      <td>...</td>\n",
       "      <td>['cities', 'design', 'future', 'infrastructure...</td>\n",
       "      <td>How a video game might help us build better ci...</td>\n",
       "      <td>https://www.ted.com/talks/karoliina_korppoo_ho...</td>\n",
       "      <td>391721</td>\n",
       "      <td>0.000020</td>\n",
       "      <td>2017-04-24</td>\n",
       "      <td>[{'id': 21, 'name': 'Unconvincing', 'count': 2...</td>\n",
       "      <td>142</td>\n",
       "      <td>0</td>\n",
       "      <td>0.000000</td>\n",
       "    </tr>\n",
       "    <tr>\n",
       "      <th>2538</th>\n",
       "      <td>7</td>\n",
       "      <td>Each year, one in seven large corporations com...</td>\n",
       "      <td>808</td>\n",
       "      <td>TEDxZurich</td>\n",
       "      <td>1478822400</td>\n",
       "      <td>1</td>\n",
       "      <td>Alexander Wagner</td>\n",
       "      <td>Alexander Wagner: What really motivates people...</td>\n",
       "      <td>1</td>\n",
       "      <td>1505246451</td>\n",
       "      <td>...</td>\n",
       "      <td>['TEDx', 'business', 'corruption', 'economics'...</td>\n",
       "      <td>What really motivates people to be honest in b...</td>\n",
       "      <td>https://www.ted.com/talks/alexander_wagner_wha...</td>\n",
       "      <td>621431</td>\n",
       "      <td>0.000011</td>\n",
       "      <td>2016-11-11</td>\n",
       "      <td>[{'id': 10, 'name': 'Inspiring', 'count': 50},...</td>\n",
       "      <td>231</td>\n",
       "      <td>5</td>\n",
       "      <td>2.164502</td>\n",
       "    </tr>\n",
       "    <tr>\n",
       "      <th>2542</th>\n",
       "      <td>3</td>\n",
       "      <td>In the century-old statues that occupy Cape To...</td>\n",
       "      <td>795</td>\n",
       "      <td>TEDGlobal 2017</td>\n",
       "      <td>1503792000</td>\n",
       "      <td>1</td>\n",
       "      <td>Sethembile Msezane</td>\n",
       "      <td>Sethembile Msezane: Living sculptures that sta...</td>\n",
       "      <td>1</td>\n",
       "      <td>1505488093</td>\n",
       "      <td>...</td>\n",
       "      <td>['Africa', 'activism', 'art', 'community', 'hi...</td>\n",
       "      <td>Living sculptures that stand for history's truths</td>\n",
       "      <td>https://www.ted.com/talks/sethembile_msezane_l...</td>\n",
       "      <td>542088</td>\n",
       "      <td>0.000006</td>\n",
       "      <td>2017-08-27</td>\n",
       "      <td>[{'id': 1, 'name': 'Beautiful', 'count': 41}, ...</td>\n",
       "      <td>181</td>\n",
       "      <td>6</td>\n",
       "      <td>3.314917</td>\n",
       "    </tr>\n",
       "    <tr>\n",
       "      <th>2534</th>\n",
       "      <td>2</td>\n",
       "      <td>What the astronauts felt when they saw Earth f...</td>\n",
       "      <td>725</td>\n",
       "      <td>TEDxSkoll</td>\n",
       "      <td>1491523200</td>\n",
       "      <td>1</td>\n",
       "      <td>Benjamin Grant</td>\n",
       "      <td>Benjamin Grant: What it feels like to see Eart...</td>\n",
       "      <td>1</td>\n",
       "      <td>1504814438</td>\n",
       "      <td>...</td>\n",
       "      <td>['TEDx', 'art', 'climate change', 'environment...</td>\n",
       "      <td>What it feels like to see Earth from space</td>\n",
       "      <td>https://www.ted.com/talks/benjamin_grant_what_...</td>\n",
       "      <td>646174</td>\n",
       "      <td>0.000003</td>\n",
       "      <td>2017-04-07</td>\n",
       "      <td>[{'id': 10, 'name': 'Inspiring', 'count': 46},...</td>\n",
       "      <td>221</td>\n",
       "      <td>4</td>\n",
       "      <td>1.809955</td>\n",
       "    </tr>\n",
       "  </tbody>\n",
       "</table>\n",
       "<p>786 rows × 23 columns</p>\n",
       "</div>"
      ],
      "text/plain": [
       "      comments                                        description  duration  \\\n",
       "96        6404  Richard Dawkins urges all atheists to openly s...      1750   \n",
       "1787      2673  Our consciousness is a fundamental aspect of o...      1117   \n",
       "954       2492  Janet Echelman found her true voice as an arti...       566   \n",
       "1346      2290  Body language affects how others see us, but i...      1262   \n",
       "661       2272  Vaccine-autism claims, \"Frankenfood\" bans, the...      1141   \n",
       "...        ...                                                ...       ...   \n",
       "2535         8  Underneath every shiny new megacity, there's o...       723   \n",
       "2549         8  With more than half of the world population li...       519   \n",
       "2538         7  Each year, one in seven large corporations com...       808   \n",
       "2542         3  In the century-old statues that occupy Cape To...       795   \n",
       "2534         2  What the astronauts felt when they saw Earth f...       725   \n",
       "\n",
       "               event   film_date  languages         main_speaker  \\\n",
       "96           TED2002  1012608000         42      Richard Dawkins   \n",
       "1787         TED2014  1395100800         33       David Chalmers   \n",
       "954          TED2011  1299110400         35       Janet Echelman   \n",
       "1346  TEDGlobal 2012  1340668800         51            Amy Cuddy   \n",
       "661          TED2010  1265846400         31      Michael Specter   \n",
       "...              ...         ...        ...                  ...   \n",
       "2535  TEDGlobal 2017  1503792000          4  OluTimehin Adegbeye   \n",
       "2549         TED2017  1492992000          1    Karoliina Korppoo   \n",
       "2538      TEDxZurich  1478822400          1     Alexander Wagner   \n",
       "2542  TEDGlobal 2017  1503792000          1   Sethembile Msezane   \n",
       "2534       TEDxSkoll  1491523200          1       Benjamin Grant   \n",
       "\n",
       "                                                   name  num_speaker  \\\n",
       "96                    Richard Dawkins: Militant atheism            1   \n",
       "1787  David Chalmers: How do you explain consciousness?            1   \n",
       "954        Janet Echelman: Taking imagination seriously            1   \n",
       "1346  Amy Cuddy: Your body language may shape who yo...            1   \n",
       "661       Michael Specter: The danger of science denial            1   \n",
       "...                                                 ...          ...   \n",
       "2535        OluTimehin Adegbeye: Who belongs in a city?            1   \n",
       "2549  Karoliina Korppoo: How a video game might help...            1   \n",
       "2538  Alexander Wagner: What really motivates people...            1   \n",
       "2542  Sethembile Msezane: Living sculptures that sta...            1   \n",
       "2534  Benjamin Grant: What it feels like to see Eart...            1   \n",
       "\n",
       "      published_date  ...                                               tags  \\\n",
       "96        1176689220  ...  ['God', 'atheism', 'culture', 'religion', 'sci...   \n",
       "1787      1405350484  ...  ['brain', 'consciousness', 'neuroscience', 'ph...   \n",
       "954       1307489760  ...  ['art', 'cities', 'culture', 'data', 'design',...   \n",
       "1346      1349103608  ...  ['body language', 'brain', 'business', 'psycho...   \n",
       "661       1271065080  ...  ['global issues', 'medicine', 'religion', 'sci...   \n",
       "...              ...  ...                                                ...   \n",
       "2535      1504882266  ...  ['Africa', 'activism', 'cities', 'government',...   \n",
       "2549      1506092422  ...  ['cities', 'design', 'future', 'infrastructure...   \n",
       "2538      1505246451  ...  ['TEDx', 'business', 'corruption', 'economics'...   \n",
       "2542      1505488093  ...  ['Africa', 'activism', 'art', 'community', 'hi...   \n",
       "2534      1504814438  ...  ['TEDx', 'art', 'climate change', 'environment...   \n",
       "\n",
       "                                                  title  \\\n",
       "96                                     Militant atheism   \n",
       "1787                  How do you explain consciousness?   \n",
       "954                        Taking imagination seriously   \n",
       "1346           Your body language may shape who you are   \n",
       "661                        The danger of science denial   \n",
       "...                                                 ...   \n",
       "2535                             Who belongs in a city?   \n",
       "2549  How a video game might help us build better ci...   \n",
       "2538  What really motivates people to be honest in b...   \n",
       "2542  Living sculptures that stand for history's truths   \n",
       "2534         What it feels like to see Earth from space   \n",
       "\n",
       "                                                    url     views  \\\n",
       "96    https://www.ted.com/talks/richard_dawkins_on_m...   4374792   \n",
       "1787  https://www.ted.com/talks/david_chalmers_how_d...   2162764   \n",
       "954            https://www.ted.com/talks/janet_echelman   1832930   \n",
       "1346  https://www.ted.com/talks/amy_cuddy_your_body_...  43155405   \n",
       "661   https://www.ted.com/talks/michael_specter_the_...   1838628   \n",
       "...                                                 ...       ...   \n",
       "2535  https://www.ted.com/talks/olutimehin_adegbeye_...    707788   \n",
       "2549  https://www.ted.com/talks/karoliina_korppoo_ho...    391721   \n",
       "2538  https://www.ted.com/talks/alexander_wagner_wha...    621431   \n",
       "2542  https://www.ted.com/talks/sethembile_msezane_l...    542088   \n",
       "2534  https://www.ted.com/talks/benjamin_grant_what_...    646174   \n",
       "\n",
       "     comments_per_view film_date_CLEANED  \\\n",
       "96            0.001464        2002-02-02   \n",
       "1787          0.001236        2014-03-18   \n",
       "954           0.001360        2011-03-03   \n",
       "1346          0.000053        2012-06-26   \n",
       "661           0.001236        2010-02-11   \n",
       "...                ...               ...   \n",
       "2535          0.000011        2017-08-27   \n",
       "2549          0.000020        2017-04-24   \n",
       "2538          0.000011        2016-11-11   \n",
       "2542          0.000006        2017-08-27   \n",
       "2534          0.000003        2017-04-07   \n",
       "\n",
       "                                           ratings_LIST  sum_of_count  \\\n",
       "96    [{'id': 3, 'name': 'Courageous', 'count': 3236...         14904   \n",
       "1787  [{'id': 25, 'name': 'OK', 'count': 280}, {'id'...          2756   \n",
       "954   [{'id': 23, 'name': 'Jaw-dropping', 'count': 3...          4158   \n",
       "1346  [{'id': 23, 'name': 'Jaw-dropping', 'count': 3...         65968   \n",
       "661   [{'id': 3, 'name': 'Courageous', 'count': 702}...          5629   \n",
       "...                                                 ...           ...   \n",
       "2535  [{'id': 3, 'name': 'Courageous', 'count': 77},...           431   \n",
       "2549  [{'id': 21, 'name': 'Unconvincing', 'count': 2...           142   \n",
       "2538  [{'id': 10, 'name': 'Inspiring', 'count': 50},...           231   \n",
       "2542  [{'id': 1, 'name': 'Beautiful', 'count': 41}, ...           181   \n",
       "2534  [{'id': 10, 'name': 'Inspiring', 'count': 46},...           221   \n",
       "\n",
       "     ratings_Funny percent_Funny  \n",
       "96            1203      8.071659  \n",
       "1787            16      0.580552  \n",
       "954             16      0.384800  \n",
       "1346           938      1.421902  \n",
       "661             76      1.350151  \n",
       "...            ...           ...  \n",
       "2535            19      4.408353  \n",
       "2549             0      0.000000  \n",
       "2538             5      2.164502  \n",
       "2542             6      3.314917  \n",
       "2534             4      1.809955  \n",
       "\n",
       "[786 rows x 23 columns]"
      ]
     },
     "execution_count": 109,
     "metadata": {},
     "output_type": "execute_result"
    }
   ],
   "source": [
    "usual_occupations_DF =\\\n",
    "    (ted\n",
    "        [ted\n",
    "            .speaker_occupation\n",
    "            .isin(usual_occupations)\n",
    "        ]\n",
    "    )\n",
    "\n",
    "usual_occupations_DF"
   ]
  },
  {
   "cell_type": "markdown",
   "metadata": {},
   "source": [
    "##### Let's re-do the previous groupby"
   ]
  },
  {
   "cell_type": "code",
   "execution_count": 110,
   "metadata": {},
   "outputs": [],
   "source": [
    "DF_to_report =\\\n",
    "(usual_occupations_DF \n",
    "    .groupby(\"speaker_occupation\")\n",
    "    [\"percent_Funny\"]\n",
    "    .mean()\n",
    "    .sort_values()\n",
    "    .to_frame()\n",
    ")"
   ]
  },
  {
   "cell_type": "code",
   "execution_count": 111,
   "metadata": {},
   "outputs": [
    {
     "data": {
      "text/html": [
       "<div>\n",
       "<style scoped>\n",
       "    .dataframe tbody tr th:only-of-type {\n",
       "        vertical-align: middle;\n",
       "    }\n",
       "\n",
       "    .dataframe tbody tr th {\n",
       "        vertical-align: top;\n",
       "    }\n",
       "\n",
       "    .dataframe thead th {\n",
       "        text-align: right;\n",
       "    }\n",
       "</style>\n",
       "<table border=\"1\" class=\"dataframe\">\n",
       "  <thead>\n",
       "    <tr style=\"text-align: right;\">\n",
       "      <th></th>\n",
       "      <th>percent_Funny</th>\n",
       "    </tr>\n",
       "    <tr>\n",
       "      <th>speaker_occupation</th>\n",
       "      <th></th>\n",
       "    </tr>\n",
       "  </thead>\n",
       "  <tbody>\n",
       "    <tr>\n",
       "      <th>Surgeon</th>\n",
       "      <td>0.246481</td>\n",
       "    </tr>\n",
       "    <tr>\n",
       "      <th>Physician</th>\n",
       "      <td>0.451497</td>\n",
       "    </tr>\n",
       "    <tr>\n",
       "      <th>Photojournalist</th>\n",
       "      <td>0.490822</td>\n",
       "    </tr>\n",
       "    <tr>\n",
       "      <th>Investor and advocate for moral leadership</th>\n",
       "      <td>0.519799</td>\n",
       "    </tr>\n",
       "    <tr>\n",
       "      <th>Photographer</th>\n",
       "      <td>0.715231</td>\n",
       "    </tr>\n",
       "    <tr>\n",
       "      <th>...</th>\n",
       "      <td>...</td>\n",
       "    </tr>\n",
       "    <tr>\n",
       "      <th>Data scientist</th>\n",
       "      <td>18.407640</td>\n",
       "    </tr>\n",
       "    <tr>\n",
       "      <th>Producer</th>\n",
       "      <td>20.253099</td>\n",
       "    </tr>\n",
       "    <tr>\n",
       "      <th>Singer/songwriter</th>\n",
       "      <td>25.220536</td>\n",
       "    </tr>\n",
       "    <tr>\n",
       "      <th>Performance poet, multimedia artist</th>\n",
       "      <td>30.646845</td>\n",
       "    </tr>\n",
       "    <tr>\n",
       "      <th>Comedian</th>\n",
       "      <td>51.245669</td>\n",
       "    </tr>\n",
       "  </tbody>\n",
       "</table>\n",
       "<p>68 rows × 1 columns</p>\n",
       "</div>"
      ],
      "text/plain": [
       "                                            percent_Funny\n",
       "speaker_occupation                                       \n",
       "Surgeon                                          0.246481\n",
       "Physician                                        0.451497\n",
       "Photojournalist                                  0.490822\n",
       "Investor and advocate for moral leadership       0.519799\n",
       "Photographer                                     0.715231\n",
       "...                                                   ...\n",
       "Data scientist                                  18.407640\n",
       "Producer                                        20.253099\n",
       "Singer/songwriter                               25.220536\n",
       "Performance poet, multimedia artist             30.646845\n",
       "Comedian                                        51.245669\n",
       "\n",
       "[68 rows x 1 columns]"
      ]
     },
     "execution_count": 111,
     "metadata": {},
     "output_type": "execute_result"
    }
   ],
   "source": [
    "DF_to_report"
   ]
  },
  {
   "cell_type": "code",
   "execution_count": 112,
   "metadata": {},
   "outputs": [],
   "source": [
    "def gift_for_document(value):\n",
    "    color = \"yellow\" if value in DF_to_report \\\n",
    "                                 .tail(5) \\\n",
    "                                 [\"percent_Funny\"] \\\n",
    "                                 .values \\\n",
    "                     else None\n",
    "    return \"background-color: %s\" % color    "
   ]
  },
  {
   "cell_type": "code",
   "execution_count": 114,
   "metadata": {},
   "outputs": [
    {
     "name": "stdout",
     "output_type": "stream",
     "text": [
      "Requirement already satisfied: jinja2 in /Users/sroh/opt/anaconda3/lib/python3.9/site-packages (3.1.2)\n",
      "Requirement already satisfied: MarkupSafe>=2.0 in /Users/sroh/opt/anaconda3/lib/python3.9/site-packages (from jinja2) (2.0.1)\n",
      "Note: you may need to restart the kernel to use updated packages.\n"
     ]
    }
   ],
   "source": [
    "# Update your package jinja2\n",
    "\n",
    "pip install --upgrade jinja2"
   ]
  },
  {
   "cell_type": "code",
   "execution_count": 115,
   "metadata": {},
   "outputs": [
    {
     "data": {
      "text/html": [
       "<style type=\"text/css\">\n",
       "#T_cb631_row0_col0, #T_cb631_row1_col0, #T_cb631_row2_col0, #T_cb631_row3_col0, #T_cb631_row4_col0 {\n",
       "  background-color: yellow;\n",
       "}\n",
       "#T_cb631_row5_col0, #T_cb631_row6_col0, #T_cb631_row7_col0, #T_cb631_row8_col0, #T_cb631_row9_col0, #T_cb631_row10_col0, #T_cb631_row11_col0, #T_cb631_row12_col0, #T_cb631_row13_col0, #T_cb631_row14_col0, #T_cb631_row15_col0, #T_cb631_row16_col0, #T_cb631_row17_col0, #T_cb631_row18_col0, #T_cb631_row19_col0, #T_cb631_row20_col0, #T_cb631_row21_col0, #T_cb631_row22_col0, #T_cb631_row23_col0, #T_cb631_row24_col0, #T_cb631_row25_col0, #T_cb631_row26_col0, #T_cb631_row27_col0, #T_cb631_row28_col0, #T_cb631_row29_col0, #T_cb631_row30_col0, #T_cb631_row31_col0, #T_cb631_row32_col0, #T_cb631_row33_col0, #T_cb631_row34_col0, #T_cb631_row35_col0, #T_cb631_row36_col0, #T_cb631_row37_col0, #T_cb631_row38_col0, #T_cb631_row39_col0, #T_cb631_row40_col0, #T_cb631_row41_col0, #T_cb631_row42_col0, #T_cb631_row43_col0, #T_cb631_row44_col0, #T_cb631_row45_col0, #T_cb631_row46_col0, #T_cb631_row47_col0, #T_cb631_row48_col0, #T_cb631_row49_col0, #T_cb631_row50_col0, #T_cb631_row51_col0, #T_cb631_row52_col0, #T_cb631_row53_col0, #T_cb631_row54_col0, #T_cb631_row55_col0, #T_cb631_row56_col0, #T_cb631_row57_col0, #T_cb631_row58_col0, #T_cb631_row59_col0, #T_cb631_row60_col0, #T_cb631_row61_col0, #T_cb631_row62_col0, #T_cb631_row63_col0, #T_cb631_row64_col0, #T_cb631_row65_col0, #T_cb631_row66_col0, #T_cb631_row67_col0 {\n",
       "  background-color: None;\n",
       "}\n",
       "</style>\n",
       "<table id=\"T_cb631\">\n",
       "  <thead>\n",
       "    <tr>\n",
       "      <th class=\"blank level0\" >&nbsp;</th>\n",
       "      <th id=\"T_cb631_level0_col0\" class=\"col_heading level0 col0\" >percent_Funny</th>\n",
       "    </tr>\n",
       "    <tr>\n",
       "      <th class=\"index_name level0\" >speaker_occupation</th>\n",
       "      <th class=\"blank col0\" >&nbsp;</th>\n",
       "    </tr>\n",
       "  </thead>\n",
       "  <tbody>\n",
       "    <tr>\n",
       "      <th id=\"T_cb631_level0_row0\" class=\"row_heading level0 row0\" >Comedian</th>\n",
       "      <td id=\"T_cb631_row0_col0\" class=\"data row0 col0\" >51.245669</td>\n",
       "    </tr>\n",
       "    <tr>\n",
       "      <th id=\"T_cb631_level0_row1\" class=\"row_heading level0 row1\" >Performance poet, multimedia artist</th>\n",
       "      <td id=\"T_cb631_row1_col0\" class=\"data row1 col0\" >30.646845</td>\n",
       "    </tr>\n",
       "    <tr>\n",
       "      <th id=\"T_cb631_level0_row2\" class=\"row_heading level0 row2\" >Singer/songwriter</th>\n",
       "      <td id=\"T_cb631_row2_col0\" class=\"data row2 col0\" >25.220536</td>\n",
       "    </tr>\n",
       "    <tr>\n",
       "      <th id=\"T_cb631_level0_row3\" class=\"row_heading level0 row3\" >Producer</th>\n",
       "      <td id=\"T_cb631_row3_col0\" class=\"data row3 col0\" >20.253099</td>\n",
       "    </tr>\n",
       "    <tr>\n",
       "      <th id=\"T_cb631_level0_row4\" class=\"row_heading level0 row4\" >Data scientist</th>\n",
       "      <td id=\"T_cb631_row4_col0\" class=\"data row4 col0\" >18.407640</td>\n",
       "    </tr>\n",
       "    <tr>\n",
       "      <th id=\"T_cb631_level0_row5\" class=\"row_heading level0 row5\" >Cartoonist</th>\n",
       "      <td id=\"T_cb631_row5_col0\" class=\"data row5 col0\" >16.212013</td>\n",
       "    </tr>\n",
       "    <tr>\n",
       "      <th id=\"T_cb631_level0_row6\" class=\"row_heading level0 row6\" >Techno-illusionist</th>\n",
       "      <td id=\"T_cb631_row6_col0\" class=\"data row6 col0\" >15.217063</td>\n",
       "    </tr>\n",
       "    <tr>\n",
       "      <th id=\"T_cb631_level0_row7\" class=\"row_heading level0 row7\" >Graphic designer</th>\n",
       "      <td id=\"T_cb631_row7_col0\" class=\"data row7 col0\" >13.571768</td>\n",
       "    </tr>\n",
       "    <tr>\n",
       "      <th id=\"T_cb631_level0_row8\" class=\"row_heading level0 row8\" >Poet</th>\n",
       "      <td id=\"T_cb631_row8_col0\" class=\"data row8 col0\" >10.739805</td>\n",
       "    </tr>\n",
       "    <tr>\n",
       "      <th id=\"T_cb631_level0_row9\" class=\"row_heading level0 row9\" >Global health expert; data visionary</th>\n",
       "      <td id=\"T_cb631_row9_col0\" class=\"data row9 col0\" >9.030615</td>\n",
       "    </tr>\n",
       "    <tr>\n",
       "      <th id=\"T_cb631_level0_row10\" class=\"row_heading level0 row10\" >Artist</th>\n",
       "      <td id=\"T_cb631_row10_col0\" class=\"data row10 col0\" >7.893946</td>\n",
       "    </tr>\n",
       "    <tr>\n",
       "      <th id=\"T_cb631_level0_row11\" class=\"row_heading level0 row11\" >Author</th>\n",
       "      <td id=\"T_cb631_row11_col0\" class=\"data row11 col0\" >7.550805</td>\n",
       "    </tr>\n",
       "    <tr>\n",
       "      <th id=\"T_cb631_level0_row12\" class=\"row_heading level0 row12\" >Entrepreneur</th>\n",
       "      <td id=\"T_cb631_row12_col0\" class=\"data row12 col0\" >7.329459</td>\n",
       "    </tr>\n",
       "    <tr>\n",
       "      <th id=\"T_cb631_level0_row13\" class=\"row_heading level0 row13\" >Novelist</th>\n",
       "      <td id=\"T_cb631_row13_col0\" class=\"data row13 col0\" >7.087614</td>\n",
       "    </tr>\n",
       "    <tr>\n",
       "      <th id=\"T_cb631_level0_row14\" class=\"row_heading level0 row14\" >Evolutionary biologist</th>\n",
       "      <td id=\"T_cb631_row14_col0\" class=\"data row14 col0\" >6.915703</td>\n",
       "    </tr>\n",
       "    <tr>\n",
       "      <th id=\"T_cb631_level0_row15\" class=\"row_heading level0 row15\" >Reporter</th>\n",
       "      <td id=\"T_cb631_row15_col0\" class=\"data row15 col0\" >6.624967</td>\n",
       "    </tr>\n",
       "    <tr>\n",
       "      <th id=\"T_cb631_level0_row16\" class=\"row_heading level0 row16\" >Game designer</th>\n",
       "      <td id=\"T_cb631_row16_col0\" class=\"data row16 col0\" >6.231705</td>\n",
       "    </tr>\n",
       "    <tr>\n",
       "      <th id=\"T_cb631_level0_row17\" class=\"row_heading level0 row17\" >Writer</th>\n",
       "      <td id=\"T_cb631_row17_col0\" class=\"data row17 col0\" >6.074487</td>\n",
       "    </tr>\n",
       "    <tr>\n",
       "      <th id=\"T_cb631_level0_row18\" class=\"row_heading level0 row18\" >Designer</th>\n",
       "      <td id=\"T_cb631_row18_col0\" class=\"data row18 col0\" >5.928725</td>\n",
       "    </tr>\n",
       "    <tr>\n",
       "      <th id=\"T_cb631_level0_row19\" class=\"row_heading level0 row19\" >Science writer</th>\n",
       "      <td id=\"T_cb631_row19_col0\" class=\"data row19 col0\" >5.599252</td>\n",
       "    </tr>\n",
       "    <tr>\n",
       "      <th id=\"T_cb631_level0_row20\" class=\"row_heading level0 row20\" >Chef</th>\n",
       "      <td id=\"T_cb631_row20_col0\" class=\"data row20 col0\" >5.420749</td>\n",
       "    </tr>\n",
       "    <tr>\n",
       "      <th id=\"T_cb631_level0_row21\" class=\"row_heading level0 row21\" >Technologist</th>\n",
       "      <td id=\"T_cb631_row21_col0\" class=\"data row21 col0\" >5.096521</td>\n",
       "    </tr>\n",
       "    <tr>\n",
       "      <th id=\"T_cb631_level0_row22\" class=\"row_heading level0 row22\" >Behavioral economist</th>\n",
       "      <td id=\"T_cb631_row22_col0\" class=\"data row22 col0\" >5.045966</td>\n",
       "    </tr>\n",
       "    <tr>\n",
       "      <th id=\"T_cb631_level0_row23\" class=\"row_heading level0 row23\" >Futurist</th>\n",
       "      <td id=\"T_cb631_row23_col0\" class=\"data row23 col0\" >5.045961</td>\n",
       "    </tr>\n",
       "    <tr>\n",
       "      <th id=\"T_cb631_level0_row24\" class=\"row_heading level0 row24\" >Filmmaker</th>\n",
       "      <td id=\"T_cb631_row24_col0\" class=\"data row24 col0\" >4.860319</td>\n",
       "    </tr>\n",
       "    <tr>\n",
       "      <th id=\"T_cb631_level0_row25\" class=\"row_heading level0 row25\" >Physicist</th>\n",
       "      <td id=\"T_cb631_row25_col0\" class=\"data row25 col0\" >4.630240</td>\n",
       "    </tr>\n",
       "    <tr>\n",
       "      <th id=\"T_cb631_level0_row26\" class=\"row_heading level0 row26\" >Musician</th>\n",
       "      <td id=\"T_cb631_row26_col0\" class=\"data row26 col0\" >4.533570</td>\n",
       "    </tr>\n",
       "    <tr>\n",
       "      <th id=\"T_cb631_level0_row27\" class=\"row_heading level0 row27\" >Psychologist</th>\n",
       "      <td id=\"T_cb631_row27_col0\" class=\"data row27 col0\" >4.498352</td>\n",
       "    </tr>\n",
       "    <tr>\n",
       "      <th id=\"T_cb631_level0_row28\" class=\"row_heading level0 row28\" >Astronomer</th>\n",
       "      <td id=\"T_cb631_row28_col0\" class=\"data row28 col0\" >4.458129</td>\n",
       "    </tr>\n",
       "    <tr>\n",
       "      <th id=\"T_cb631_level0_row29\" class=\"row_heading level0 row29\" >Roboticist</th>\n",
       "      <td id=\"T_cb631_row29_col0\" class=\"data row29 col0\" >4.277742</td>\n",
       "    </tr>\n",
       "    <tr>\n",
       "      <th id=\"T_cb631_level0_row30\" class=\"row_heading level0 row30\" >Marine biologist</th>\n",
       "      <td id=\"T_cb631_row30_col0\" class=\"data row30 col0\" >4.005929</td>\n",
       "    </tr>\n",
       "    <tr>\n",
       "      <th id=\"T_cb631_level0_row31\" class=\"row_heading level0 row31\" >Researcher</th>\n",
       "      <td id=\"T_cb631_row31_col0\" class=\"data row31 col0\" >3.908621</td>\n",
       "    </tr>\n",
       "    <tr>\n",
       "      <th id=\"T_cb631_level0_row32\" class=\"row_heading level0 row32\" >Educator</th>\n",
       "      <td id=\"T_cb631_row32_col0\" class=\"data row32 col0\" >3.514136</td>\n",
       "    </tr>\n",
       "    <tr>\n",
       "      <th id=\"T_cb631_level0_row33\" class=\"row_heading level0 row33\" >Climate advocate</th>\n",
       "      <td id=\"T_cb631_row33_col0\" class=\"data row33 col0\" >3.498261</td>\n",
       "    </tr>\n",
       "    <tr>\n",
       "      <th id=\"T_cb631_level0_row34\" class=\"row_heading level0 row34\" >Mathematician</th>\n",
       "      <td id=\"T_cb631_row34_col0\" class=\"data row34 col0\" >3.473942</td>\n",
       "    </tr>\n",
       "    <tr>\n",
       "      <th id=\"T_cb631_level0_row35\" class=\"row_heading level0 row35\" >Philosopher</th>\n",
       "      <td id=\"T_cb631_row35_col0\" class=\"data row35 col0\" >3.381746</td>\n",
       "    </tr>\n",
       "    <tr>\n",
       "      <th id=\"T_cb631_level0_row36\" class=\"row_heading level0 row36\" >Neuroscientist</th>\n",
       "      <td id=\"T_cb631_row36_col0\" class=\"data row36 col0\" >3.217015</td>\n",
       "    </tr>\n",
       "    <tr>\n",
       "      <th id=\"T_cb631_level0_row37\" class=\"row_heading level0 row37\" >Biologist</th>\n",
       "      <td id=\"T_cb631_row37_col0\" class=\"data row37 col0\" >3.196505</td>\n",
       "    </tr>\n",
       "    <tr>\n",
       "      <th id=\"T_cb631_level0_row38\" class=\"row_heading level0 row38\" >Engineer</th>\n",
       "      <td id=\"T_cb631_row38_col0\" class=\"data row38 col0\" >3.171096</td>\n",
       "    </tr>\n",
       "    <tr>\n",
       "      <th id=\"T_cb631_level0_row39\" class=\"row_heading level0 row39\" >Architect</th>\n",
       "      <td id=\"T_cb631_row39_col0\" class=\"data row39 col0\" >3.057900</td>\n",
       "    </tr>\n",
       "    <tr>\n",
       "      <th id=\"T_cb631_level0_row40\" class=\"row_heading level0 row40\" >Computer scientist</th>\n",
       "      <td id=\"T_cb631_row40_col0\" class=\"data row40 col0\" >2.907042</td>\n",
       "    </tr>\n",
       "    <tr>\n",
       "      <th id=\"T_cb631_level0_row41\" class=\"row_heading level0 row41\" >Journalist</th>\n",
       "      <td id=\"T_cb631_row41_col0\" class=\"data row41 col0\" >2.799666</td>\n",
       "    </tr>\n",
       "    <tr>\n",
       "      <th id=\"T_cb631_level0_row42\" class=\"row_heading level0 row42\" >Writer, activist</th>\n",
       "      <td id=\"T_cb631_row42_col0\" class=\"data row42 col0\" >2.666478</td>\n",
       "    </tr>\n",
       "    <tr>\n",
       "      <th id=\"T_cb631_level0_row43\" class=\"row_heading level0 row43\" >Economist</th>\n",
       "      <td id=\"T_cb631_row43_col0\" class=\"data row43 col0\" >2.548773</td>\n",
       "    </tr>\n",
       "    <tr>\n",
       "      <th id=\"T_cb631_level0_row44\" class=\"row_heading level0 row44\" >Musician, activist</th>\n",
       "      <td id=\"T_cb631_row44_col0\" class=\"data row44 col0\" >2.339462</td>\n",
       "    </tr>\n",
       "    <tr>\n",
       "      <th id=\"T_cb631_level0_row45\" class=\"row_heading level0 row45\" >Historian</th>\n",
       "      <td id=\"T_cb631_row45_col0\" class=\"data row45 col0\" >2.321510</td>\n",
       "    </tr>\n",
       "    <tr>\n",
       "      <th id=\"T_cb631_level0_row46\" class=\"row_heading level0 row46\" >Legal activist</th>\n",
       "      <td id=\"T_cb631_row46_col0\" class=\"data row46 col0\" >2.230313</td>\n",
       "    </tr>\n",
       "    <tr>\n",
       "      <th id=\"T_cb631_level0_row47\" class=\"row_heading level0 row47\" >Sound consultant</th>\n",
       "      <td id=\"T_cb631_row47_col0\" class=\"data row47 col0\" >2.201079</td>\n",
       "    </tr>\n",
       "    <tr>\n",
       "      <th id=\"T_cb631_level0_row48\" class=\"row_heading level0 row48\" >Inventor</th>\n",
       "      <td id=\"T_cb631_row48_col0\" class=\"data row48 col0\" >2.180143</td>\n",
       "    </tr>\n",
       "    <tr>\n",
       "      <th id=\"T_cb631_level0_row49\" class=\"row_heading level0 row49\" >Social entrepreneur</th>\n",
       "      <td id=\"T_cb631_row49_col0\" class=\"data row49 col0\" >1.792103</td>\n",
       "    </tr>\n",
       "    <tr>\n",
       "      <th id=\"T_cb631_level0_row50\" class=\"row_heading level0 row50\" >Social Media Theorist</th>\n",
       "      <td id=\"T_cb631_row50_col0\" class=\"data row50 col0\" >1.745024</td>\n",
       "    </tr>\n",
       "    <tr>\n",
       "      <th id=\"T_cb631_level0_row51\" class=\"row_heading level0 row51\" >Sculptor</th>\n",
       "      <td id=\"T_cb631_row51_col0\" class=\"data row51 col0\" >1.696025</td>\n",
       "    </tr>\n",
       "    <tr>\n",
       "      <th id=\"T_cb631_level0_row52\" class=\"row_heading level0 row52\" >Tech visionary</th>\n",
       "      <td id=\"T_cb631_row52_col0\" class=\"data row52 col0\" >1.665425</td>\n",
       "    </tr>\n",
       "    <tr>\n",
       "      <th id=\"T_cb631_level0_row53\" class=\"row_heading level0 row53\" >Social psychologist</th>\n",
       "      <td id=\"T_cb631_row53_col0\" class=\"data row53 col0\" >1.588745</td>\n",
       "    </tr>\n",
       "    <tr>\n",
       "      <th id=\"T_cb631_level0_row54\" class=\"row_heading level0 row54\" >Paleontologist</th>\n",
       "      <td id=\"T_cb631_row54_col0\" class=\"data row54 col0\" >1.578005</td>\n",
       "    </tr>\n",
       "    <tr>\n",
       "      <th id=\"T_cb631_level0_row55\" class=\"row_heading level0 row55\" >Oceanographer</th>\n",
       "      <td id=\"T_cb631_row55_col0\" class=\"data row55 col0\" >1.459611</td>\n",
       "    </tr>\n",
       "    <tr>\n",
       "      <th id=\"T_cb631_level0_row56\" class=\"row_heading level0 row56\" >Astrophysicist</th>\n",
       "      <td id=\"T_cb631_row56_col0\" class=\"data row56 col0\" >1.314661</td>\n",
       "    </tr>\n",
       "    <tr>\n",
       "      <th id=\"T_cb631_level0_row57\" class=\"row_heading level0 row57\" >Activist</th>\n",
       "      <td id=\"T_cb631_row57_col0\" class=\"data row57 col0\" >1.253936</td>\n",
       "    </tr>\n",
       "    <tr>\n",
       "      <th id=\"T_cb631_level0_row58\" class=\"row_heading level0 row58\" >Philanthropist</th>\n",
       "      <td id=\"T_cb631_row58_col0\" class=\"data row58 col0\" >1.252212</td>\n",
       "    </tr>\n",
       "    <tr>\n",
       "      <th id=\"T_cb631_level0_row59\" class=\"row_heading level0 row59\" >Chemist</th>\n",
       "      <td id=\"T_cb631_row59_col0\" class=\"data row59 col0\" >1.096972</td>\n",
       "    </tr>\n",
       "    <tr>\n",
       "      <th id=\"T_cb631_level0_row60\" class=\"row_heading level0 row60\" >Singer-songwriter</th>\n",
       "      <td id=\"T_cb631_row60_col0\" class=\"data row60 col0\" >1.059666</td>\n",
       "    </tr>\n",
       "    <tr>\n",
       "      <th id=\"T_cb631_level0_row61\" class=\"row_heading level0 row61\" >Violinist</th>\n",
       "      <td id=\"T_cb631_row61_col0\" class=\"data row61 col0\" >0.953357</td>\n",
       "    </tr>\n",
       "    <tr>\n",
       "      <th id=\"T_cb631_level0_row62\" class=\"row_heading level0 row62\" >Environmentalist, futurist</th>\n",
       "      <td id=\"T_cb631_row62_col0\" class=\"data row62 col0\" >0.731698</td>\n",
       "    </tr>\n",
       "    <tr>\n",
       "      <th id=\"T_cb631_level0_row63\" class=\"row_heading level0 row63\" >Photographer</th>\n",
       "      <td id=\"T_cb631_row63_col0\" class=\"data row63 col0\" >0.715231</td>\n",
       "    </tr>\n",
       "    <tr>\n",
       "      <th id=\"T_cb631_level0_row64\" class=\"row_heading level0 row64\" >Investor and advocate for moral leadership</th>\n",
       "      <td id=\"T_cb631_row64_col0\" class=\"data row64 col0\" >0.519799</td>\n",
       "    </tr>\n",
       "    <tr>\n",
       "      <th id=\"T_cb631_level0_row65\" class=\"row_heading level0 row65\" >Photojournalist</th>\n",
       "      <td id=\"T_cb631_row65_col0\" class=\"data row65 col0\" >0.490822</td>\n",
       "    </tr>\n",
       "    <tr>\n",
       "      <th id=\"T_cb631_level0_row66\" class=\"row_heading level0 row66\" >Physician</th>\n",
       "      <td id=\"T_cb631_row66_col0\" class=\"data row66 col0\" >0.451497</td>\n",
       "    </tr>\n",
       "    <tr>\n",
       "      <th id=\"T_cb631_level0_row67\" class=\"row_heading level0 row67\" >Surgeon</th>\n",
       "      <td id=\"T_cb631_row67_col0\" class=\"data row67 col0\" >0.246481</td>\n",
       "    </tr>\n",
       "  </tbody>\n",
       "</table>\n"
      ],
      "text/plain": [
       "<pandas.io.formats.style.Styler at 0x7fc533784820>"
      ]
     },
     "execution_count": 115,
     "metadata": {},
     "output_type": "execute_result"
    }
   ],
   "source": [
    "# Voila :)\n",
    "\n",
    "(DF_to_report\n",
    "    .sort_values(by = \"percent_Funny\",\n",
    "                 ascending = False)\n",
    "    .style\n",
    "    .applymap(gift_for_document)\n",
    ")"
   ]
  },
  {
   "cell_type": "markdown",
   "metadata": {},
   "source": [
    "> ### <font color = \"blue\"> Please consider the following, when using `pandas`: </font>\n",
    "\n",
    "- Check your assumptions about your data\n",
    "- Check whether your results are reasonable\n",
    "- Take advantage of the fact that pandas operations often output a DataFrame or a Series\n",
    "- Watch out for small sample sizes\n",
    "- Consider the impact of missing data\n",
    "\n",
    "> ### <font color = \"blue\"> As you could find from me as well as from the dataset, `data scientists are relatively funny` :) </font>\n"
   ]
  },
  {
   "cell_type": "markdown",
   "metadata": {},
   "source": [
    "### <font color=\"green\">\"Thank you for putting your efforts into the exercise problem sets 😊\"</font>"
   ]
  }
 ],
 "metadata": {
  "kernelspec": {
   "display_name": "Python 3 (ipykernel)",
   "language": "python",
   "name": "python3"
  },
  "language_info": {
   "codemirror_mode": {
    "name": "ipython",
    "version": 3
   },
   "file_extension": ".py",
   "mimetype": "text/x-python",
   "name": "python",
   "nbconvert_exporter": "python",
   "pygments_lexer": "ipython3",
   "version": "3.11.3"
  }
 },
 "nbformat": 4,
 "nbformat_minor": 2
}
