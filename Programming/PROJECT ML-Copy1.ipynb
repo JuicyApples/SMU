{
 "cells": [
  {
   "cell_type": "code",
   "execution_count": 1,
   "id": "1ab78184-8424-4b19-8a33-b2d37aae97f9",
   "metadata": {},
   "outputs": [],
   "source": [
    "import numpy as np\n",
    "import pandas as pd\n",
    "\n",
    "import matplotlib.pyplot as plt\n",
    "import matplotlib as mpl\n",
    "\n",
    "from pandas_datareader import data as pdr\n",
    "\n",
    "import datetime as dt\n",
    "import yfinance as yf\n",
    "\n",
    "(\n",
    "    yf.pdr_override()\n",
    ")\n",
    "\n",
    "import warnings\n",
    "warnings.filterwarnings('ignore')"
   ]
  },
  {
   "cell_type": "code",
   "execution_count": 2,
   "id": "2af2b492-84d5-4d04-b89b-fdda26fdc6ac",
   "metadata": {},
   "outputs": [],
   "source": [
    "np.set_printoptions(precision = 3)\n",
    "\n",
    "plt.style.use(\"ggplot\")\n",
    "\n",
    "mpl.rcParams[\"axes.grid\"] = True\n",
    "mpl.rcParams[\"grid.color\"] = \"grey\"\n",
    "mpl.rcParams[\"grid.alpha\"] = 0.25\n",
    "\n",
    "mpl.rcParams[\"axes.facecolor\"] = \"white\"\n",
    "\n",
    "mpl.rcParams[\"legend.fontsize\"] = 14\n",
    "\n",
    "%matplotlib inline"
   ]
  },
  {
   "cell_type": "code",
   "execution_count": 3,
   "id": "467173eb-efec-48e9-8e49-b86cab54efe4",
   "metadata": {},
   "outputs": [],
   "source": [
    "# Loading Algorithm\n",
    "\n",
    "from sklearn.linear_model import LinearRegression\n",
    "\n",
    "# Regularization\n",
    "from sklearn.linear_model import Lasso\n",
    "from sklearn.linear_model import ElasticNet\n",
    "\n",
    "# Decision Tree\n",
    "from sklearn.tree import DecisionTreeRegressor\n",
    "\n",
    "# ENSEMBLE\n",
    "\n",
    "## Bagging\n",
    "from sklearn.ensemble import RandomForestRegressor\n",
    "from sklearn.ensemble import ExtraTreesRegressor\n",
    "\n",
    "## Boosting\n",
    "from sklearn.ensemble import AdaBoostRegressor\n",
    "from sklearn.ensemble import GradientBoostingRegressor\n",
    "\n",
    "# Support Vector Machine\n",
    "from sklearn.svm import SVR\n",
    "\n",
    "# K-Nearest Neighbor\n",
    "from sklearn.neighbors import KNeighborsRegressor\n",
    "\n",
    "# Multi-layer Perceptron (Neural Networks)\n",
    "from sklearn.neural_network import MLPRegressor\n",
    "\n",
    "# for data split\n",
    "from sklearn.model_selection import train_test_split\n",
    "\n",
    "# for cross-validation\n",
    "from sklearn.model_selection import cross_val_score\n",
    "from sklearn.model_selection import KFold\n",
    "from sklearn.model_selection import GridSearchCV\n",
    "\n",
    "# for assessment\n",
    "from sklearn.metrics import mean_squared_error\n",
    "\n",
    "# for Feature Selection\n",
    "from sklearn.feature_selection import chi2, f_regression\n",
    "from sklearn.feature_selection import SelectKBest\n",
    "\n",
    "# for time series models\n",
    "import statsmodels.tsa.arima.model as stats\n",
    "import statsmodels.api as sm\n",
    "\n",
    "#for data preparation and visualization\n",
    "from pandas.plotting import scatter_matrix\n",
    "\n",
    "# for Pre-processing (Feature Engineering)\n",
    "from sklearn.preprocessing import StandardScaler\n",
    "\n",
    "# assumption checks for Time-Series\n",
    "from statsmodels.graphics.tsaplots import plot_acf"
   ]
  },
  {
   "cell_type": "code",
   "execution_count": 4,
   "id": "ea5af8e3-96c0-411c-9a61-3dac6658a86e",
   "metadata": {},
   "outputs": [],
   "source": [
    "# Datetime\n",
    "start = dt.datetime(2004, 11, 1)\n",
    "end = dt.datetime(2023, 10, 31)"
   ]
  },
  {
   "cell_type": "code",
   "execution_count": 5,
   "id": "e0302e6e-9bc6-4c60-bc7e-00239adf95a6",
   "metadata": {},
   "outputs": [
    {
     "name": "stdout",
     "output_type": "stream",
     "text": [
      "[*********************100%%**********************]  1 of 1 completed\n"
     ]
    }
   ],
   "source": [
    "# SPY Data\n",
    "data = pdr.get_data_yahoo(\"SPY\",start,end)"
   ]
  },
  {
   "cell_type": "code",
   "execution_count": 6,
   "id": "5a0e294d-c4b3-416c-af8a-137f14e3d31b",
   "metadata": {},
   "outputs": [],
   "source": [
    "# Extract daily returns and other relevant features\n",
    "data['returns'] = data['Adj Close'].pct_change()\n",
    "data['ma_50'] = data['Adj Close'].rolling(window=50).mean()\n",
    "data['ma_200'] = data['Adj Close'].rolling(window=200).mean()\n",
    "data['momentum'] = data['Adj Close'].diff(12)\n",
    "data['volatility'] = data['Adj Close'].rolling(window=20).std()"
   ]
  },
  {
   "cell_type": "code",
   "execution_count": 7,
   "id": "1d2bbb0d-ecd1-4aa3-b49a-0c903d9aeed4",
   "metadata": {},
   "outputs": [],
   "source": [
    "data.dropna(inplace=True)"
   ]
  },
  {
   "cell_type": "code",
   "execution_count": 8,
   "id": "13eedb96-177d-4088-85d8-42e589a67ee3",
   "metadata": {},
   "outputs": [],
   "source": [
    "from sklearn.model_selection import train_test_split\n",
    "\n",
    "# Split data into training and testing sets\n",
    "X_train, X_test, y_train, y_test = train_test_split(data[['returns', 'ma_50', 'ma_200', 'momentum', 'volatility']], data['Close'], test_size=0.2, random_state=42)"
   ]
  },
  {
   "cell_type": "code",
   "execution_count": 9,
   "id": "e6cfa4ae-2cce-49db-9aff-b315aa3839b0",
   "metadata": {},
   "outputs": [
    {
     "data": {
      "text/html": [
       "<style>#sk-container-id-1 {color: black;}#sk-container-id-1 pre{padding: 0;}#sk-container-id-1 div.sk-toggleable {background-color: white;}#sk-container-id-1 label.sk-toggleable__label {cursor: pointer;display: block;width: 100%;margin-bottom: 0;padding: 0.3em;box-sizing: border-box;text-align: center;}#sk-container-id-1 label.sk-toggleable__label-arrow:before {content: \"▸\";float: left;margin-right: 0.25em;color: #696969;}#sk-container-id-1 label.sk-toggleable__label-arrow:hover:before {color: black;}#sk-container-id-1 div.sk-estimator:hover label.sk-toggleable__label-arrow:before {color: black;}#sk-container-id-1 div.sk-toggleable__content {max-height: 0;max-width: 0;overflow: hidden;text-align: left;background-color: #f0f8ff;}#sk-container-id-1 div.sk-toggleable__content pre {margin: 0.2em;color: black;border-radius: 0.25em;background-color: #f0f8ff;}#sk-container-id-1 input.sk-toggleable__control:checked~div.sk-toggleable__content {max-height: 200px;max-width: 100%;overflow: auto;}#sk-container-id-1 input.sk-toggleable__control:checked~label.sk-toggleable__label-arrow:before {content: \"▾\";}#sk-container-id-1 div.sk-estimator input.sk-toggleable__control:checked~label.sk-toggleable__label {background-color: #d4ebff;}#sk-container-id-1 div.sk-label input.sk-toggleable__control:checked~label.sk-toggleable__label {background-color: #d4ebff;}#sk-container-id-1 input.sk-hidden--visually {border: 0;clip: rect(1px 1px 1px 1px);clip: rect(1px, 1px, 1px, 1px);height: 1px;margin: -1px;overflow: hidden;padding: 0;position: absolute;width: 1px;}#sk-container-id-1 div.sk-estimator {font-family: monospace;background-color: #f0f8ff;border: 1px dotted black;border-radius: 0.25em;box-sizing: border-box;margin-bottom: 0.5em;}#sk-container-id-1 div.sk-estimator:hover {background-color: #d4ebff;}#sk-container-id-1 div.sk-parallel-item::after {content: \"\";width: 100%;border-bottom: 1px solid gray;flex-grow: 1;}#sk-container-id-1 div.sk-label:hover label.sk-toggleable__label {background-color: #d4ebff;}#sk-container-id-1 div.sk-serial::before {content: \"\";position: absolute;border-left: 1px solid gray;box-sizing: border-box;top: 0;bottom: 0;left: 50%;z-index: 0;}#sk-container-id-1 div.sk-serial {display: flex;flex-direction: column;align-items: center;background-color: white;padding-right: 0.2em;padding-left: 0.2em;position: relative;}#sk-container-id-1 div.sk-item {position: relative;z-index: 1;}#sk-container-id-1 div.sk-parallel {display: flex;align-items: stretch;justify-content: center;background-color: white;position: relative;}#sk-container-id-1 div.sk-item::before, #sk-container-id-1 div.sk-parallel-item::before {content: \"\";position: absolute;border-left: 1px solid gray;box-sizing: border-box;top: 0;bottom: 0;left: 50%;z-index: -1;}#sk-container-id-1 div.sk-parallel-item {display: flex;flex-direction: column;z-index: 1;position: relative;background-color: white;}#sk-container-id-1 div.sk-parallel-item:first-child::after {align-self: flex-end;width: 50%;}#sk-container-id-1 div.sk-parallel-item:last-child::after {align-self: flex-start;width: 50%;}#sk-container-id-1 div.sk-parallel-item:only-child::after {width: 0;}#sk-container-id-1 div.sk-dashed-wrapped {border: 1px dashed gray;margin: 0 0.4em 0.5em 0.4em;box-sizing: border-box;padding-bottom: 0.4em;background-color: white;}#sk-container-id-1 div.sk-label label {font-family: monospace;font-weight: bold;display: inline-block;line-height: 1.2em;}#sk-container-id-1 div.sk-label-container {text-align: center;}#sk-container-id-1 div.sk-container {/* jupyter's `normalize.less` sets `[hidden] { display: none; }` but bootstrap.min.css set `[hidden] { display: none !important; }` so we also need the `!important` here to be able to override the default hidden behavior on the sphinx rendered scikit-learn.org. See: https://github.com/scikit-learn/scikit-learn/issues/21755 */display: inline-block !important;position: relative;}#sk-container-id-1 div.sk-text-repr-fallback {display: none;}</style><div id=\"sk-container-id-1\" class=\"sk-top-container\"><div class=\"sk-text-repr-fallback\"><pre>Lasso(alpha=0.1, random_state=42)</pre><b>In a Jupyter environment, please rerun this cell to show the HTML representation or trust the notebook. <br />On GitHub, the HTML representation is unable to render, please try loading this page with nbviewer.org.</b></div><div class=\"sk-container\" hidden><div class=\"sk-item\"><div class=\"sk-estimator sk-toggleable\"><input class=\"sk-toggleable__control sk-hidden--visually\" id=\"sk-estimator-id-1\" type=\"checkbox\" checked><label for=\"sk-estimator-id-1\" class=\"sk-toggleable__label sk-toggleable__label-arrow\">Lasso</label><div class=\"sk-toggleable__content\"><pre>Lasso(alpha=0.1, random_state=42)</pre></div></div></div></div></div>"
      ],
      "text/plain": [
       "Lasso(alpha=0.1, random_state=42)"
      ]
     },
     "execution_count": 9,
     "metadata": {},
     "output_type": "execute_result"
    }
   ],
   "source": [
    "from sklearn.linear_model import Lasso\n",
    "\n",
    "# Train Lasso regression model on training data\n",
    "lasso = Lasso(alpha=0.1, random_state=42)\n",
    "lasso.fit(X_train, y_train)"
   ]
  },
  {
   "cell_type": "code",
   "execution_count": 10,
   "id": "5982686c-cb4c-41b5-8fc2-de0454cac0a9",
   "metadata": {},
   "outputs": [],
   "source": [
    "# Make predictions on testing data\n",
    "y_pred = lasso.predict(X_test)"
   ]
  },
  {
   "cell_type": "code",
   "execution_count": 11,
   "id": "d1fc59d9-f4b2-40d7-b90d-bc9ec5caeed0",
   "metadata": {},
   "outputs": [],
   "source": [
    "# Calculate performance metrics\n",
    "mae = np.mean(np.abs(y_test - y_pred))\n",
    "mse = np.mean((y_test - y_pred) ** 2)"
   ]
  },
  {
   "cell_type": "code",
   "execution_count": 12,
   "id": "b0242368-878e-4d33-b832-fd9dc1a21312",
   "metadata": {},
   "outputs": [
    {
     "name": "stdout",
     "output_type": "stream",
     "text": [
      "Mean absolute error: 5.444873951282946\n",
      "Mean squared error: 52.49374396006014\n",
      "Benchmark return: 218.7196293438794\n"
     ]
    }
   ],
   "source": [
    "# Compare performance to benchmark\n",
    "benchmark = np.mean(y_test)\n",
    "print('Mean absolute error:', mae)\n",
    "print('Mean squared error:', mse)\n",
    "print('Benchmark return:', benchmark)"
   ]
  },
  {
   "cell_type": "code",
   "execution_count": 13,
   "id": "47156325-8fa4-48f7-9316-38ee2ca29594",
   "metadata": {},
   "outputs": [
    {
     "data": {
      "text/plain": [
       "Date\n",
       "2010-06-03    110.709999\n",
       "2021-03-01    389.579987\n",
       "2010-04-29    120.860001\n",
       "2006-01-09    128.770004\n",
       "2021-01-13    379.790009\n",
       "                 ...    \n",
       "2012-06-11    131.410004\n",
       "2021-05-11    414.209991\n",
       "2012-10-11    143.360001\n",
       "2020-06-22    310.619995\n",
       "2006-07-12    126.050003\n",
       "Name: Close, Length: 917, dtype: float64"
      ]
     },
     "execution_count": 13,
     "metadata": {},
     "output_type": "execute_result"
    }
   ],
   "source": [
    "y_test"
   ]
  },
  {
   "cell_type": "code",
   "execution_count": 18,
   "id": "07bb044a-957c-448d-aaad-03282edd9d47",
   "metadata": {},
   "outputs": [],
   "source": [
    "y_pred = pd.Series(y_pred)"
   ]
  },
  {
   "cell_type": "code",
   "execution_count": 19,
   "id": "0c1062b0-7024-41f6-9300-c2850d0d09ac",
   "metadata": {},
   "outputs": [
    {
     "data": {
      "text/plain": [
       "[<matplotlib.lines.Line2D at 0x18d97c8eed0>]"
      ]
     },
     "execution_count": 19,
     "metadata": {},
     "output_type": "execute_result"
    },
    {
     "data": {
      "image/png": "[encoded data removed]",
      "text/plain": [
       "<Figure size 640x480 with 1 Axes>"
      ]
     },
     "metadata": {},
     "output_type": "display_data"
    }
   ],
   "source": [
    "plt.plot(y_pred)"
   ]
  },
  {
   "cell_type": "code",
   "execution_count": 15,
   "id": "d4c0b340-3b1e-4581-9688-ff763d36e41f",
   "metadata": {},
   "outputs": [
    {
     "ename": "AttributeError",
     "evalue": "module 'numpy' has no attribute 'index_array'",
     "output_type": "error",
     "traceback": [
      "\u001b[1;31m---------------------------------------------------------------------------\u001b[0m",
      "\u001b[1;31mAttributeError\u001b[0m                            Traceback (most recent call last)",
      "Cell \u001b[1;32mIn[15], line 1\u001b[0m\n\u001b[1;32m----> 1\u001b[0m y_pred \u001b[38;5;241m=\u001b[39m \u001b[43mnp\u001b[49m\u001b[38;5;241;43m.\u001b[39;49m\u001b[43mindex_array\u001b[49m(y_pred, y_test\u001b[38;5;241m.\u001b[39mindex)\n",
      "File \u001b[1;32m~\\OneDrive\\Desktop\\python\\Lib\\site-packages\\numpy\\__init__.py:347\u001b[0m, in \u001b[0;36m__getattr__\u001b[1;34m(attr)\u001b[0m\n\u001b[0;32m    344\u001b[0m     \u001b[38;5;124m\"\u001b[39m\u001b[38;5;124mRemoved in NumPy 1.25.0\u001b[39m\u001b[38;5;124m\"\u001b[39m\n\u001b[0;32m    345\u001b[0m     \u001b[38;5;28;01mraise\u001b[39;00m \u001b[38;5;167;01mRuntimeError\u001b[39;00m(\u001b[38;5;124m\"\u001b[39m\u001b[38;5;124mTester was removed in NumPy 1.25.\u001b[39m\u001b[38;5;124m\"\u001b[39m)\n\u001b[1;32m--> 347\u001b[0m \u001b[38;5;28;01mraise\u001b[39;00m \u001b[38;5;167;01mAttributeError\u001b[39;00m(\u001b[38;5;124m\"\u001b[39m\u001b[38;5;124mmodule \u001b[39m\u001b[38;5;132;01m{!r}\u001b[39;00m\u001b[38;5;124m has no attribute \u001b[39m\u001b[38;5;124m\"\u001b[39m\n\u001b[0;32m    348\u001b[0m                      \u001b[38;5;124m\"\u001b[39m\u001b[38;5;132;01m{!r}\u001b[39;00m\u001b[38;5;124m\"\u001b[39m\u001b[38;5;241m.\u001b[39mformat(\u001b[38;5;18m__name__\u001b[39m, attr))\n",
      "\u001b[1;31mAttributeError\u001b[0m: module 'numpy' has no attribute 'index_array'"
     ]
    }
   ],
   "source": [
    "y_pred = np.index_array(y_pred, y_test.index)"
   ]
  },
  {
   "cell_type": "code",
   "execution_count": null,
   "id": "bd00f4df-3f05-4680-81e2-74303a58634b",
   "metadata": {},
   "outputs": [],
   "source": [
    "# Get the indices of the sorted values\n",
    "sorted_indices = np.argsort(y_test)\n",
    "\n",
    "# Sort the y_test and y_pred arrays by index\n",
    "y_test = y_test[sorted_indices]\n",
    "y_pred = y_pred[sorted_indices]"
   ]
  },
  {
   "cell_type": "code",
   "execution_count": null,
   "id": "1ac19e79-48e7-4484-884f-0cd1ca36cecd",
   "metadata": {},
   "outputs": [],
   "source": [
    "plt.plot(y_test, label='Actual')\n",
    "plt.plot(y_pred, label='Predicted')\n",
    "plt.legend()\n",
    "plt.show()"
   ]
  },
  {
   "cell_type": "code",
   "execution_count": null,
   "id": "a01d08d3-0d65-41b6-8264-ff779568d6f3",
   "metadata": {},
   "outputs": [],
   "source": [
    "# Customize the plot\n",
    "plt.title('S&P 500 Index Predictions')\n",
    "plt.xlabel('Date')\n",
    "plt.ylabel('Index Value')\n",
    "plt.grid(True)\n",
    "plt.show()"
   ]
  }
 ],
 "metadata": {
  "kernelspec": {
   "display_name": "Python 3 (ipykernel)",
   "language": "python",
   "name": "python3"
  },
  "language_info": {
   "codemirror_mode": {
    "name": "ipython",
    "version": 3
   },
   "file_extension": ".py",
   "mimetype": "text/x-python",
   "name": "python",
   "nbconvert_exporter": "python",
   "pygments_lexer": "ipython3",
   "version": "3.12.0"
  }
 },
 "nbformat": 4,
 "nbformat_minor": 5
}
