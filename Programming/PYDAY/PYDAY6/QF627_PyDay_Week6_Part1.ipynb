{
 "cells": [
  {
   "cell_type": "markdown",
   "id": "5c9d8723",
   "metadata": {},
   "source": [
    "# QF 627 Programming and Computational Finance\n",
    "## `Py`Day Week `6` | Part `1`"
   ]
  },
  {
   "cell_type": "markdown",
   "id": "119eeb42",
   "metadata": {},
   "source": [
    "### A Quick Scraper for FRED"
   ]
  },
  {
   "cell_type": "code",
   "execution_count": 1,
   "id": "4ddcbcc3",
   "metadata": {},
   "outputs": [
    {
     "name": "stdout",
     "output_type": "stream",
     "text": [
      "Requirement already satisfied: beautifulsoup4 in /Users/sroh/anaconda3/lib/python3.10/site-packages (4.11.1)\r\n",
      "Requirement already satisfied: soupsieve>1.2 in /Users/sroh/anaconda3/lib/python3.10/site-packages (from beautifulsoup4) (2.3.2.post1)\r\n"
     ]
    }
   ],
   "source": [
    "!pip install beautifulsoup4"
   ]
  },
  {
   "cell_type": "code",
   "execution_count": 2,
   "id": "43e8f795",
   "metadata": {},
   "outputs": [],
   "source": [
    "import requests\n",
    "\n",
    "from bs4 import BeautifulSoup"
   ]
  },
  {
   "cell_type": "code",
   "execution_count": 3,
   "id": "64eebede",
   "metadata": {},
   "outputs": [],
   "source": [
    "import requests\n",
    "from bs4 import BeautifulSoup\n",
    "\n",
    "def obtain_fred_metadata(series_id):\n",
    "    url = f\"https://fred.stlouisfed.org/series/{series_id}\"\n",
    "    \n",
    "    response = requests.get(url)\n",
    "    \n",
    "    soup = BeautifulSoup(response.text, \"html.parser\")\n",
    "\n",
    "    # Extracting the description\n",
    "    description_tag = soup.find(\"meta\", {\"name\": \"description\"}\n",
    "                               )\n",
    "    if description_tag:\n",
    "        return description_tag[\"content\"]\n",
    "    return None"
   ]
  },
  {
   "cell_type": "code",
   "execution_count": 4,
   "id": "f65c6dfa",
   "metadata": {},
   "outputs": [],
   "source": [
    "#notes-content > p.series-notes.mb-2"
   ]
  },
  {
   "cell_type": "code",
   "execution_count": 5,
   "id": "cbfbf5f6",
   "metadata": {},
   "outputs": [
    {
     "data": {
      "text/plain": [
       "'Graph and download economic data for Japanese Yen to U.S. Dollar Spot Exchange Rate (DEXJPUS) from 1971-01-04 to 2023-09-22 about Japan, exchange rate, currency, rate, and USA.'"
      ]
     },
     "execution_count": 5,
     "metadata": {},
     "output_type": "execute_result"
    }
   ],
   "source": [
    "obtain_fred_metadata(\"DEXJPUS\")"
   ]
  },
  {
   "cell_type": "markdown",
   "id": "7d462345",
   "metadata": {},
   "source": [
    "### Causal Inference and Econometric Methods: `Synthetic Control`"
   ]
  },
  {
   "cell_type": "code",
   "execution_count": 6,
   "id": "1acbe3a5",
   "metadata": {},
   "outputs": [],
   "source": [
    "import pandas as pd\n",
    "import numpy as np\n",
    "\n",
    "from matplotlib import pyplot as plt\n",
    "\n",
    "import seaborn as sns\n",
    "\n",
    "import statsmodels.formula.api as smf\n",
    "\n",
    "from matplotlib import style\n",
    "\n",
    "style.use(\"ggplot\")\n",
    "\n",
    "import matplotlib as mpl\n",
    "\n",
    "mpl.rcParams[\"grid.color\"] = \"grey\"\n",
    "mpl.rcParams[\"axes.facecolor\"] = \"white\""
   ]
  },
  {
   "cell_type": "markdown",
   "id": "5a2e5cdd",
   "metadata": {},
   "source": [
    "### IMPORT"
   ]
  },
  {
   "cell_type": "code",
   "execution_count": 7,
   "id": "776aca5f",
   "metadata": {},
   "outputs": [],
   "source": [
    "smoking =\\\n",
    "(\n",
    "    pd\n",
    "    .read_csv(\"tobacco.csv\")\n",
    ")"
   ]
  },
  {
   "cell_type": "code",
   "execution_count": 8,
   "id": "519b1bea",
   "metadata": {},
   "outputs": [
    {
     "name": "stdout",
     "output_type": "stream",
     "text": [
      "<class 'pandas.core.frame.DataFrame'>\n",
      "RangeIndex: 1209 entries, 0 to 1208\n",
      "Data columns (total 6 columns):\n",
      " #   Column           Non-Null Count  Dtype  \n",
      "---  ------           --------------  -----  \n",
      " 0   state            1209 non-null   int64  \n",
      " 1   year             1209 non-null   int64  \n",
      " 2   cigsale          1209 non-null   float64\n",
      " 3   retprice         1209 non-null   float64\n",
      " 4   california       1209 non-null   bool   \n",
      " 5   after_treatment  1209 non-null   bool   \n",
      "dtypes: bool(2), float64(2), int64(2)\n",
      "memory usage: 40.3 KB\n"
     ]
    }
   ],
   "source": [
    "smoking.info()"
   ]
  },
  {
   "cell_type": "code",
   "execution_count": 9,
   "id": "efbfd849",
   "metadata": {},
   "outputs": [
    {
     "data": {
      "text/plain": [
       "state              0\n",
       "year               0\n",
       "cigsale            0\n",
       "retprice           0\n",
       "california         0\n",
       "after_treatment    0\n",
       "dtype: int64"
      ]
     },
     "execution_count": 9,
     "metadata": {},
     "output_type": "execute_result"
    }
   ],
   "source": [
    "smoking \\\n",
    "    .isnull() \\\n",
    "    .sum()"
   ]
  },
  {
   "cell_type": "code",
   "execution_count": 10,
   "id": "440691c2",
   "metadata": {},
   "outputs": [
    {
     "data": {
      "text/html": [
       "<div>\n",
       "<style scoped>\n",
       "    .dataframe tbody tr th:only-of-type {\n",
       "        vertical-align: middle;\n",
       "    }\n",
       "\n",
       "    .dataframe tbody tr th {\n",
       "        vertical-align: top;\n",
       "    }\n",
       "\n",
       "    .dataframe thead th {\n",
       "        text-align: right;\n",
       "    }\n",
       "</style>\n",
       "<table border=\"1\" class=\"dataframe\">\n",
       "  <thead>\n",
       "    <tr style=\"text-align: right;\">\n",
       "      <th></th>\n",
       "      <th>state</th>\n",
       "      <th>year</th>\n",
       "      <th>cigsale</th>\n",
       "      <th>retprice</th>\n",
       "      <th>california</th>\n",
       "      <th>after_treatment</th>\n",
       "    </tr>\n",
       "  </thead>\n",
       "  <tbody>\n",
       "    <tr>\n",
       "      <th>0</th>\n",
       "      <td>1</td>\n",
       "      <td>1970</td>\n",
       "      <td>89.800003</td>\n",
       "      <td>39.599998</td>\n",
       "      <td>False</td>\n",
       "      <td>False</td>\n",
       "    </tr>\n",
       "    <tr>\n",
       "      <th>1</th>\n",
       "      <td>1</td>\n",
       "      <td>1971</td>\n",
       "      <td>95.400002</td>\n",
       "      <td>42.700001</td>\n",
       "      <td>False</td>\n",
       "      <td>False</td>\n",
       "    </tr>\n",
       "    <tr>\n",
       "      <th>2</th>\n",
       "      <td>1</td>\n",
       "      <td>1972</td>\n",
       "      <td>101.099998</td>\n",
       "      <td>42.299999</td>\n",
       "      <td>False</td>\n",
       "      <td>False</td>\n",
       "    </tr>\n",
       "    <tr>\n",
       "      <th>3</th>\n",
       "      <td>1</td>\n",
       "      <td>1973</td>\n",
       "      <td>102.900002</td>\n",
       "      <td>42.099998</td>\n",
       "      <td>False</td>\n",
       "      <td>False</td>\n",
       "    </tr>\n",
       "    <tr>\n",
       "      <th>4</th>\n",
       "      <td>1</td>\n",
       "      <td>1974</td>\n",
       "      <td>108.199997</td>\n",
       "      <td>43.099998</td>\n",
       "      <td>False</td>\n",
       "      <td>False</td>\n",
       "    </tr>\n",
       "  </tbody>\n",
       "</table>\n",
       "</div>"
      ],
      "text/plain": [
       "   state  year     cigsale   retprice  california  after_treatment\n",
       "0      1  1970   89.800003  39.599998       False            False\n",
       "1      1  1971   95.400002  42.700001       False            False\n",
       "2      1  1972  101.099998  42.299999       False            False\n",
       "3      1  1973  102.900002  42.099998       False            False\n",
       "4      1  1974  108.199997  43.099998       False            False"
      ]
     },
     "execution_count": 10,
     "metadata": {},
     "output_type": "execute_result"
    }
   ],
   "source": [
    "smoking.head()"
   ]
  },
  {
   "cell_type": "code",
   "execution_count": 11,
   "id": "7c072ddd",
   "metadata": {},
   "outputs": [
    {
     "data": {
      "text/html": [
       "<div>\n",
       "<style scoped>\n",
       "    .dataframe tbody tr th:only-of-type {\n",
       "        vertical-align: middle;\n",
       "    }\n",
       "\n",
       "    .dataframe tbody tr th {\n",
       "        vertical-align: top;\n",
       "    }\n",
       "\n",
       "    .dataframe thead th {\n",
       "        text-align: right;\n",
       "    }\n",
       "</style>\n",
       "<table border=\"1\" class=\"dataframe\">\n",
       "  <thead>\n",
       "    <tr style=\"text-align: right;\">\n",
       "      <th></th>\n",
       "      <th>state</th>\n",
       "      <th>year</th>\n",
       "      <th>cigsale</th>\n",
       "      <th>retprice</th>\n",
       "      <th>california</th>\n",
       "      <th>after_treatment</th>\n",
       "    </tr>\n",
       "  </thead>\n",
       "  <tbody>\n",
       "    <tr>\n",
       "      <th>1204</th>\n",
       "      <td>39</td>\n",
       "      <td>1996</td>\n",
       "      <td>110.300003</td>\n",
       "      <td>162.500000</td>\n",
       "      <td>False</td>\n",
       "      <td>True</td>\n",
       "    </tr>\n",
       "    <tr>\n",
       "      <th>1205</th>\n",
       "      <td>39</td>\n",
       "      <td>1997</td>\n",
       "      <td>108.800003</td>\n",
       "      <td>164.100006</td>\n",
       "      <td>False</td>\n",
       "      <td>True</td>\n",
       "    </tr>\n",
       "    <tr>\n",
       "      <th>1206</th>\n",
       "      <td>39</td>\n",
       "      <td>1998</td>\n",
       "      <td>102.900002</td>\n",
       "      <td>168.800003</td>\n",
       "      <td>False</td>\n",
       "      <td>True</td>\n",
       "    </tr>\n",
       "    <tr>\n",
       "      <th>1207</th>\n",
       "      <td>39</td>\n",
       "      <td>1999</td>\n",
       "      <td>104.800003</td>\n",
       "      <td>189.600006</td>\n",
       "      <td>False</td>\n",
       "      <td>True</td>\n",
       "    </tr>\n",
       "    <tr>\n",
       "      <th>1208</th>\n",
       "      <td>39</td>\n",
       "      <td>2000</td>\n",
       "      <td>90.500000</td>\n",
       "      <td>267.100006</td>\n",
       "      <td>False</td>\n",
       "      <td>True</td>\n",
       "    </tr>\n",
       "  </tbody>\n",
       "</table>\n",
       "</div>"
      ],
      "text/plain": [
       "      state  year     cigsale    retprice  california  after_treatment\n",
       "1204     39  1996  110.300003  162.500000       False             True\n",
       "1205     39  1997  108.800003  164.100006       False             True\n",
       "1206     39  1998  102.900002  168.800003       False             True\n",
       "1207     39  1999  104.800003  189.600006       False             True\n",
       "1208     39  2000   90.500000  267.100006       False             True"
      ]
     },
     "execution_count": 11,
     "metadata": {},
     "output_type": "execute_result"
    }
   ],
   "source": [
    "smoking.tail()"
   ]
  },
  {
   "cell_type": "markdown",
   "id": "60e56558",
   "metadata": {},
   "source": [
    "### WRANGLE"
   ]
  },
  {
   "cell_type": "code",
   "execution_count": 12,
   "id": "d1b80f1f",
   "metadata": {},
   "outputs": [
    {
     "data": {
      "text/html": [
       "<div>\n",
       "<style scoped>\n",
       "    .dataframe tbody tr th:only-of-type {\n",
       "        vertical-align: middle;\n",
       "    }\n",
       "\n",
       "    .dataframe tbody tr th {\n",
       "        vertical-align: top;\n",
       "    }\n",
       "\n",
       "    .dataframe thead th {\n",
       "        text-align: right;\n",
       "    }\n",
       "</style>\n",
       "<table border=\"1\" class=\"dataframe\">\n",
       "  <thead>\n",
       "    <tr style=\"text-align: right;\">\n",
       "      <th></th>\n",
       "      <th>state</th>\n",
       "      <th>year</th>\n",
       "      <th>cigsale</th>\n",
       "      <th>retprice</th>\n",
       "      <th>california</th>\n",
       "      <th>after_treatment</th>\n",
       "    </tr>\n",
       "  </thead>\n",
       "  <tbody>\n",
       "    <tr>\n",
       "      <th>62</th>\n",
       "      <td>3</td>\n",
       "      <td>1970</td>\n",
       "      <td>123.000000</td>\n",
       "      <td>38.799999</td>\n",
       "      <td>True</td>\n",
       "      <td>False</td>\n",
       "    </tr>\n",
       "    <tr>\n",
       "      <th>63</th>\n",
       "      <td>3</td>\n",
       "      <td>1971</td>\n",
       "      <td>121.000000</td>\n",
       "      <td>39.700001</td>\n",
       "      <td>True</td>\n",
       "      <td>False</td>\n",
       "    </tr>\n",
       "    <tr>\n",
       "      <th>64</th>\n",
       "      <td>3</td>\n",
       "      <td>1972</td>\n",
       "      <td>123.500000</td>\n",
       "      <td>39.900002</td>\n",
       "      <td>True</td>\n",
       "      <td>False</td>\n",
       "    </tr>\n",
       "    <tr>\n",
       "      <th>65</th>\n",
       "      <td>3</td>\n",
       "      <td>1973</td>\n",
       "      <td>124.400002</td>\n",
       "      <td>39.900002</td>\n",
       "      <td>True</td>\n",
       "      <td>False</td>\n",
       "    </tr>\n",
       "    <tr>\n",
       "      <th>66</th>\n",
       "      <td>3</td>\n",
       "      <td>1974</td>\n",
       "      <td>126.699997</td>\n",
       "      <td>41.900002</td>\n",
       "      <td>True</td>\n",
       "      <td>False</td>\n",
       "    </tr>\n",
       "  </tbody>\n",
       "</table>\n",
       "</div>"
      ],
      "text/plain": [
       "    state  year     cigsale   retprice  california  after_treatment\n",
       "62      3  1970  123.000000  38.799999        True            False\n",
       "63      3  1971  121.000000  39.700001        True            False\n",
       "64      3  1972  123.500000  39.900002        True            False\n",
       "65      3  1973  124.400002  39.900002        True            False\n",
       "66      3  1974  126.699997  41.900002        True            False"
      ]
     },
     "execution_count": 12,
     "metadata": {},
     "output_type": "execute_result"
    }
   ],
   "source": [
    "smoking \\\n",
    "    .query(\"california\") \\\n",
    "    .head()"
   ]
  },
  {
   "cell_type": "markdown",
   "id": "3777ae1f",
   "metadata": {},
   "source": [
    "### EDA"
   ]
  },
  {
   "cell_type": "code",
   "execution_count": 13,
   "id": "f718988f",
   "metadata": {},
   "outputs": [
    {
     "data": {
      "image/png": "[encoded data removed]",
      "text/plain": [
       "<Figure size 1200x600 with 1 Axes>"
      ]
     },
     "metadata": {},
     "output_type": "display_data"
    }
   ],
   "source": [
    "ax =\\\n",
    "    plt \\\n",
    "    .subplot(1, 1, 1)\n",
    "\n",
    "(\n",
    "    smoking\n",
    "    .assign(california = np\n",
    "                         .where(smoking[\"california\"],\n",
    "                                \"California\", \"Other States\")\n",
    "           )\n",
    "    .groupby([\"year\", \"california\"]\n",
    "            )\n",
    "    [\"cigsale\"] # variable of interest\n",
    "    .mean() \n",
    "    .reset_index() \n",
    "    .pivot(index = \"year\",\n",
    "           columns = \"california\",\n",
    "           values = \"cigsale\")\n",
    "    .plot(ax = ax,\n",
    "          figsize = [12, 6]\n",
    "         )\n",
    ")\n",
    "\n",
    "plt \\\n",
    "    .vlines(x = 1988,\n",
    "            ymin = 40,\n",
    "            ymax = 140,\n",
    "            linestyle = \"-.\",\n",
    "            label = \"policy implementation\")\n",
    "\n",
    "plt \\\n",
    "    .title(\"Gaps in per-capita cigarette sales per packs\")\n",
    "\n",
    "plt.legend();"
   ]
  },
  {
   "cell_type": "markdown",
   "id": "1e6aa08f",
   "metadata": {},
   "source": [
    "### Building a Counterfactual: A Synthetic Control"
   ]
  },
  {
   "cell_type": "code",
   "execution_count": 14,
   "id": "d09ee3d8",
   "metadata": {},
   "outputs": [
    {
     "data": {
      "text/plain": [
       "Index(['state', 'year', 'cigsale', 'retprice', 'california',\n",
       "       'after_treatment'],\n",
       "      dtype='object')"
      ]
     },
     "execution_count": 14,
     "metadata": {},
     "output_type": "execute_result"
    }
   ],
   "source": [
    "smoking.columns"
   ]
  },
  {
   "cell_type": "code",
   "execution_count": 15,
   "id": "331dab33",
   "metadata": {},
   "outputs": [],
   "source": [
    "key_variables = [\"cigsale\", \"retprice\"]"
   ]
  },
  {
   "cell_type": "code",
   "execution_count": 16,
   "id": "a096ef46",
   "metadata": {},
   "outputs": [
    {
     "data": {
      "text/html": [
       "<div>\n",
       "<style scoped>\n",
       "    .dataframe tbody tr th:only-of-type {\n",
       "        vertical-align: middle;\n",
       "    }\n",
       "\n",
       "    .dataframe tbody tr th {\n",
       "        vertical-align: top;\n",
       "    }\n",
       "\n",
       "    .dataframe thead th {\n",
       "        text-align: right;\n",
       "    }\n",
       "</style>\n",
       "<table border=\"1\" class=\"dataframe\">\n",
       "  <thead>\n",
       "    <tr style=\"text-align: right;\">\n",
       "      <th></th>\n",
       "      <th>state</th>\n",
       "      <th>year</th>\n",
       "      <th>cigsale</th>\n",
       "      <th>retprice</th>\n",
       "      <th>california</th>\n",
       "      <th>after_treatment</th>\n",
       "    </tr>\n",
       "  </thead>\n",
       "  <tbody>\n",
       "    <tr>\n",
       "      <th>1204</th>\n",
       "      <td>39</td>\n",
       "      <td>1996</td>\n",
       "      <td>110.300003</td>\n",
       "      <td>162.500000</td>\n",
       "      <td>False</td>\n",
       "      <td>True</td>\n",
       "    </tr>\n",
       "    <tr>\n",
       "      <th>1205</th>\n",
       "      <td>39</td>\n",
       "      <td>1997</td>\n",
       "      <td>108.800003</td>\n",
       "      <td>164.100006</td>\n",
       "      <td>False</td>\n",
       "      <td>True</td>\n",
       "    </tr>\n",
       "    <tr>\n",
       "      <th>1206</th>\n",
       "      <td>39</td>\n",
       "      <td>1998</td>\n",
       "      <td>102.900002</td>\n",
       "      <td>168.800003</td>\n",
       "      <td>False</td>\n",
       "      <td>True</td>\n",
       "    </tr>\n",
       "    <tr>\n",
       "      <th>1207</th>\n",
       "      <td>39</td>\n",
       "      <td>1999</td>\n",
       "      <td>104.800003</td>\n",
       "      <td>189.600006</td>\n",
       "      <td>False</td>\n",
       "      <td>True</td>\n",
       "    </tr>\n",
       "    <tr>\n",
       "      <th>1208</th>\n",
       "      <td>39</td>\n",
       "      <td>2000</td>\n",
       "      <td>90.500000</td>\n",
       "      <td>267.100006</td>\n",
       "      <td>False</td>\n",
       "      <td>True</td>\n",
       "    </tr>\n",
       "  </tbody>\n",
       "</table>\n",
       "</div>"
      ],
      "text/plain": [
       "      state  year     cigsale    retprice  california  after_treatment\n",
       "1204     39  1996  110.300003  162.500000       False             True\n",
       "1205     39  1997  108.800003  164.100006       False             True\n",
       "1206     39  1998  102.900002  168.800003       False             True\n",
       "1207     39  1999  104.800003  189.600006       False             True\n",
       "1208     39  2000   90.500000  267.100006       False             True"
      ]
     },
     "execution_count": 16,
     "metadata": {},
     "output_type": "execute_result"
    }
   ],
   "source": [
    "smoking.tail()"
   ]
  },
  {
   "cell_type": "code",
   "execution_count": 17,
   "id": "0c1e9a63",
   "metadata": {},
   "outputs": [],
   "source": [
    "inverted_DF =\\\n",
    "(\n",
    "    smoking\n",
    "    .query(\"~after_treatment\") # we want to obtain data before the event was implemented\n",
    "    .pivot(index = \"state\",\n",
    "           columns = \"year\")\n",
    "    [key_variables] # operations\n",
    "    .T\n",
    ")"
   ]
  },
  {
   "cell_type": "code",
   "execution_count": 18,
   "id": "31e64986",
   "metadata": {},
   "outputs": [
    {
     "name": "stdout",
     "output_type": "stream",
     "text": [
      "state                 1           2           3           4           5    \n",
      "        year                                                               \n",
      "cigsale 1970   89.800003  100.300003  123.000000  124.800003  120.000000  \\\n",
      "        1971   95.400002  104.099998  121.000000  125.500000  117.599998   \n",
      "        1972  101.099998  103.900002  123.500000  134.300003  110.800003   \n",
      "        1973  102.900002  108.000000  124.400002  137.899994  109.300003   \n",
      "        1974  108.199997  109.699997  126.699997  132.800003  112.400002   \n",
      "\n",
      "state                 6           7           8           9           10  ...   \n",
      "        year                                                              ...   \n",
      "cigsale 1970  155.000000  109.900002  102.400002  124.800003  134.600006  ...  \\\n",
      "        1971  161.100006  115.699997  108.500000  125.599998  139.300003  ...   \n",
      "        1972  156.300003  117.000000  126.099998  126.599998  149.199997  ...   \n",
      "        1973  154.699997  119.800003  121.800003  124.400002  156.000000  ...   \n",
      "        1974  151.300003  123.699997  125.599998  131.899994  159.600006  ...   \n",
      "\n",
      "state                 30          31          32          33         34   \n",
      "        year                                                              \n",
      "cigsale 1970  103.599998   92.699997   99.800003  106.400002  65.500000  \\\n",
      "        1971  115.000000   96.699997  106.300003  108.900002  67.699997   \n",
      "        1972  118.699997  103.000000  111.500000  108.599998  71.300003   \n",
      "        1973  125.500000  103.500000  109.699997  110.400002  72.699997   \n",
      "        1974  129.699997  108.400002  114.800003  114.699997  75.599998   \n",
      "\n",
      "state                 35          36          37          38          39  \n",
      "        year                                                              \n",
      "cigsale 1970  122.599998  124.300003  114.500000  106.400002  132.199997  \n",
      "        1971  124.400002  128.399994  111.500000  105.400002  131.699997  \n",
      "        1972  138.000000  137.000000  117.500000  108.800003  140.000000  \n",
      "        1973  146.800003  143.100006  116.599998  109.500000  141.199997  \n",
      "        1974  151.800003  149.600006  119.900002  111.800003  145.800003  \n",
      "\n",
      "[5 rows x 39 columns]\n",
      "state                  1           2           3           4           5    \n",
      "         year                                                               \n",
      "retprice 1984   90.800003   93.599998   94.900002   83.400002  113.500000  \\\n",
      "         1985   99.000000   98.500000   98.000000   93.099998  118.599998   \n",
      "         1986  103.000000  103.599998  104.400002   95.099998  118.500000   \n",
      "         1987  110.000000  113.000000  103.900002  108.599998  122.699997   \n",
      "         1988  114.400002  119.900002  117.400002  116.000000  129.699997   \n",
      "\n",
      "state                  6           7           8           9           10   \n",
      "         year                                                               \n",
      "retprice 1984   91.099998   86.800003   88.500000   89.599998   85.199997  \\\n",
      "         1985   98.699997   90.699997   97.599998   96.699997   88.800003   \n",
      "         1986  105.199997  100.099998   99.900002  108.400002   93.599998   \n",
      "         1987  111.400002  103.900002  107.099998  116.199997  100.099998   \n",
      "         1988  119.300003  109.199997  121.900002  124.099998  109.300003   \n",
      "\n",
      "state          ...         30          31          32          33          34   \n",
      "         year  ...                                                              \n",
      "retprice 1984  ...  81.300003   89.800003   88.300003   93.800003   95.300003  \\\n",
      "         1985  ...  83.000000   92.300003   92.500000  102.099998  104.599998   \n",
      "         1986  ...  88.699997  108.500000   98.800003  105.500000  103.500000   \n",
      "         1987  ...  95.300003  113.699997  103.500000  114.400002  108.599998   \n",
      "         1988  ...  99.900002  124.699997  112.099998  128.000000  122.900002   \n",
      "\n",
      "state                  35          36          37          38          39  \n",
      "         year                                                              \n",
      "retprice 1984   90.599998   76.000000   97.199997  100.800003   81.699997  \n",
      "         1985   95.500000   83.599998  103.199997  106.800003   87.400002  \n",
      "         1986  104.900002   91.300003  104.099998  110.800003   97.800003  \n",
      "         1987  113.800003   94.599998  112.800003  116.300003  102.699997  \n",
      "         1988  123.699997  102.099998  122.199997  128.600006  112.900002  \n",
      "\n",
      "[5 rows x 39 columns]\n"
     ]
    }
   ],
   "source": [
    "print(inverted_DF.head());print(inverted_DF.tail())"
   ]
  },
  {
   "cell_type": "code",
   "execution_count": 19,
   "id": "ccb1fe35",
   "metadata": {},
   "outputs": [
    {
     "data": {
      "text/html": [
       "<div>\n",
       "<style scoped>\n",
       "    .dataframe tbody tr th:only-of-type {\n",
       "        vertical-align: middle;\n",
       "    }\n",
       "\n",
       "    .dataframe tbody tr th {\n",
       "        vertical-align: top;\n",
       "    }\n",
       "\n",
       "    .dataframe thead th {\n",
       "        text-align: right;\n",
       "    }\n",
       "</style>\n",
       "<table border=\"1\" class=\"dataframe\">\n",
       "  <thead>\n",
       "    <tr style=\"text-align: right;\">\n",
       "      <th></th>\n",
       "      <th>state</th>\n",
       "      <th>1</th>\n",
       "      <th>2</th>\n",
       "      <th>3</th>\n",
       "      <th>4</th>\n",
       "      <th>5</th>\n",
       "      <th>6</th>\n",
       "      <th>7</th>\n",
       "      <th>8</th>\n",
       "      <th>9</th>\n",
       "      <th>10</th>\n",
       "      <th>...</th>\n",
       "      <th>30</th>\n",
       "      <th>31</th>\n",
       "      <th>32</th>\n",
       "      <th>33</th>\n",
       "      <th>34</th>\n",
       "      <th>35</th>\n",
       "      <th>36</th>\n",
       "      <th>37</th>\n",
       "      <th>38</th>\n",
       "      <th>39</th>\n",
       "    </tr>\n",
       "    <tr>\n",
       "      <th></th>\n",
       "      <th>year</th>\n",
       "      <th></th>\n",
       "      <th></th>\n",
       "      <th></th>\n",
       "      <th></th>\n",
       "      <th></th>\n",
       "      <th></th>\n",
       "      <th></th>\n",
       "      <th></th>\n",
       "      <th></th>\n",
       "      <th></th>\n",
       "      <th></th>\n",
       "      <th></th>\n",
       "      <th></th>\n",
       "      <th></th>\n",
       "      <th></th>\n",
       "      <th></th>\n",
       "      <th></th>\n",
       "      <th></th>\n",
       "      <th></th>\n",
       "      <th></th>\n",
       "      <th></th>\n",
       "    </tr>\n",
       "  </thead>\n",
       "  <tbody>\n",
       "    <tr>\n",
       "      <th rowspan=\"5\" valign=\"top\">cigsale</th>\n",
       "      <th>1970</th>\n",
       "      <td>89.800003</td>\n",
       "      <td>100.300003</td>\n",
       "      <td>123.000000</td>\n",
       "      <td>124.800003</td>\n",
       "      <td>120.000000</td>\n",
       "      <td>155.000000</td>\n",
       "      <td>109.900002</td>\n",
       "      <td>102.400002</td>\n",
       "      <td>124.800003</td>\n",
       "      <td>134.600006</td>\n",
       "      <td>...</td>\n",
       "      <td>103.599998</td>\n",
       "      <td>92.699997</td>\n",
       "      <td>99.800003</td>\n",
       "      <td>106.400002</td>\n",
       "      <td>65.500000</td>\n",
       "      <td>122.599998</td>\n",
       "      <td>124.300003</td>\n",
       "      <td>114.500000</td>\n",
       "      <td>106.400002</td>\n",
       "      <td>132.199997</td>\n",
       "    </tr>\n",
       "    <tr>\n",
       "      <th>1971</th>\n",
       "      <td>95.400002</td>\n",
       "      <td>104.099998</td>\n",
       "      <td>121.000000</td>\n",
       "      <td>125.500000</td>\n",
       "      <td>117.599998</td>\n",
       "      <td>161.100006</td>\n",
       "      <td>115.699997</td>\n",
       "      <td>108.500000</td>\n",
       "      <td>125.599998</td>\n",
       "      <td>139.300003</td>\n",
       "      <td>...</td>\n",
       "      <td>115.000000</td>\n",
       "      <td>96.699997</td>\n",
       "      <td>106.300003</td>\n",
       "      <td>108.900002</td>\n",
       "      <td>67.699997</td>\n",
       "      <td>124.400002</td>\n",
       "      <td>128.399994</td>\n",
       "      <td>111.500000</td>\n",
       "      <td>105.400002</td>\n",
       "      <td>131.699997</td>\n",
       "    </tr>\n",
       "    <tr>\n",
       "      <th>1972</th>\n",
       "      <td>101.099998</td>\n",
       "      <td>103.900002</td>\n",
       "      <td>123.500000</td>\n",
       "      <td>134.300003</td>\n",
       "      <td>110.800003</td>\n",
       "      <td>156.300003</td>\n",
       "      <td>117.000000</td>\n",
       "      <td>126.099998</td>\n",
       "      <td>126.599998</td>\n",
       "      <td>149.199997</td>\n",
       "      <td>...</td>\n",
       "      <td>118.699997</td>\n",
       "      <td>103.000000</td>\n",
       "      <td>111.500000</td>\n",
       "      <td>108.599998</td>\n",
       "      <td>71.300003</td>\n",
       "      <td>138.000000</td>\n",
       "      <td>137.000000</td>\n",
       "      <td>117.500000</td>\n",
       "      <td>108.800003</td>\n",
       "      <td>140.000000</td>\n",
       "    </tr>\n",
       "    <tr>\n",
       "      <th>1973</th>\n",
       "      <td>102.900002</td>\n",
       "      <td>108.000000</td>\n",
       "      <td>124.400002</td>\n",
       "      <td>137.899994</td>\n",
       "      <td>109.300003</td>\n",
       "      <td>154.699997</td>\n",
       "      <td>119.800003</td>\n",
       "      <td>121.800003</td>\n",
       "      <td>124.400002</td>\n",
       "      <td>156.000000</td>\n",
       "      <td>...</td>\n",
       "      <td>125.500000</td>\n",
       "      <td>103.500000</td>\n",
       "      <td>109.699997</td>\n",
       "      <td>110.400002</td>\n",
       "      <td>72.699997</td>\n",
       "      <td>146.800003</td>\n",
       "      <td>143.100006</td>\n",
       "      <td>116.599998</td>\n",
       "      <td>109.500000</td>\n",
       "      <td>141.199997</td>\n",
       "    </tr>\n",
       "    <tr>\n",
       "      <th>1974</th>\n",
       "      <td>108.199997</td>\n",
       "      <td>109.699997</td>\n",
       "      <td>126.699997</td>\n",
       "      <td>132.800003</td>\n",
       "      <td>112.400002</td>\n",
       "      <td>151.300003</td>\n",
       "      <td>123.699997</td>\n",
       "      <td>125.599998</td>\n",
       "      <td>131.899994</td>\n",
       "      <td>159.600006</td>\n",
       "      <td>...</td>\n",
       "      <td>129.699997</td>\n",
       "      <td>108.400002</td>\n",
       "      <td>114.800003</td>\n",
       "      <td>114.699997</td>\n",
       "      <td>75.599998</td>\n",
       "      <td>151.800003</td>\n",
       "      <td>149.600006</td>\n",
       "      <td>119.900002</td>\n",
       "      <td>111.800003</td>\n",
       "      <td>145.800003</td>\n",
       "    </tr>\n",
       "  </tbody>\n",
       "</table>\n",
       "<p>5 rows × 39 columns</p>\n",
       "</div>"
      ],
      "text/plain": [
       "state                 1           2           3           4           5    \n",
       "        year                                                               \n",
       "cigsale 1970   89.800003  100.300003  123.000000  124.800003  120.000000  \\\n",
       "        1971   95.400002  104.099998  121.000000  125.500000  117.599998   \n",
       "        1972  101.099998  103.900002  123.500000  134.300003  110.800003   \n",
       "        1973  102.900002  108.000000  124.400002  137.899994  109.300003   \n",
       "        1974  108.199997  109.699997  126.699997  132.800003  112.400002   \n",
       "\n",
       "state                 6           7           8           9           10  ...   \n",
       "        year                                                              ...   \n",
       "cigsale 1970  155.000000  109.900002  102.400002  124.800003  134.600006  ...  \\\n",
       "        1971  161.100006  115.699997  108.500000  125.599998  139.300003  ...   \n",
       "        1972  156.300003  117.000000  126.099998  126.599998  149.199997  ...   \n",
       "        1973  154.699997  119.800003  121.800003  124.400002  156.000000  ...   \n",
       "        1974  151.300003  123.699997  125.599998  131.899994  159.600006  ...   \n",
       "\n",
       "state                 30          31          32          33         34   \n",
       "        year                                                              \n",
       "cigsale 1970  103.599998   92.699997   99.800003  106.400002  65.500000  \\\n",
       "        1971  115.000000   96.699997  106.300003  108.900002  67.699997   \n",
       "        1972  118.699997  103.000000  111.500000  108.599998  71.300003   \n",
       "        1973  125.500000  103.500000  109.699997  110.400002  72.699997   \n",
       "        1974  129.699997  108.400002  114.800003  114.699997  75.599998   \n",
       "\n",
       "state                 35          36          37          38          39  \n",
       "        year                                                              \n",
       "cigsale 1970  122.599998  124.300003  114.500000  106.400002  132.199997  \n",
       "        1971  124.400002  128.399994  111.500000  105.400002  131.699997  \n",
       "        1972  138.000000  137.000000  117.500000  108.800003  140.000000  \n",
       "        1973  146.800003  143.100006  116.599998  109.500000  141.199997  \n",
       "        1974  151.800003  149.600006  119.900002  111.800003  145.800003  \n",
       "\n",
       "[5 rows x 39 columns]"
      ]
     },
     "execution_count": 19,
     "metadata": {},
     "output_type": "execute_result"
    }
   ],
   "source": [
    "inverted_DF.head()"
   ]
  },
  {
   "cell_type": "code",
   "execution_count": 20,
   "id": "34590d97",
   "metadata": {},
   "outputs": [],
   "source": [
    "from sklearn.linear_model import LinearRegression"
   ]
  },
  {
   "cell_type": "code",
   "execution_count": 21,
   "id": "f46e33f2",
   "metadata": {},
   "outputs": [],
   "source": [
    "y =\\\n",
    "    inverted_DF[3] \\\n",
    "    .values"
   ]
  },
  {
   "cell_type": "code",
   "execution_count": 22,
   "id": "d730e6f2",
   "metadata": {},
   "outputs": [
    {
     "data": {
      "text/plain": [
       "array([123.        , 121.        , 123.5       , 124.40000153,\n",
       "       126.69999695, 127.09999847, 128.        , 126.40000153,\n",
       "       126.09999847, 121.90000153, 120.19999695, 118.59999847,\n",
       "       115.40000153, 110.80000305, 104.80000305, 102.80000305,\n",
       "        99.69999695,  97.5       ,  90.09999847,  38.79999924,\n",
       "        39.70000076,  39.90000153,  39.90000153,  41.90000153,\n",
       "        45.        ,  48.29999924,  49.        ,  58.70000076,\n",
       "        60.09999847,  62.09999847,  66.40000153,  72.80000305,\n",
       "        84.90000153,  94.90000153,  98.        , 104.40000153,\n",
       "       103.90000153, 117.40000153])"
      ]
     },
     "execution_count": 22,
     "metadata": {},
     "output_type": "execute_result"
    }
   ],
   "source": [
    "y"
   ]
  },
  {
   "cell_type": "code",
   "execution_count": 23,
   "id": "e060cedc",
   "metadata": {},
   "outputs": [],
   "source": [
    "# x = other states (DF)\n",
    "\n",
    "x =\\\n",
    "(\n",
    "    inverted_DF\n",
    "    .drop(columns = 3)\n",
    "    .values\n",
    ")"
   ]
  },
  {
   "cell_type": "code",
   "execution_count": 24,
   "id": "dee1a104",
   "metadata": {},
   "outputs": [
    {
     "data": {
      "text/plain": [
       "array([[ 89.80000305, 100.30000305, 124.80000305, ..., 114.5       ,\n",
       "        106.40000153, 132.19999695],\n",
       "       [ 95.40000153, 104.09999847, 125.5       , ..., 111.5       ,\n",
       "        105.40000153, 131.69999695],\n",
       "       [101.09999847, 103.90000153, 134.30000305, ..., 117.5       ,\n",
       "        108.80000305, 140.        ],\n",
       "       ...,\n",
       "       [103.        , 103.59999847,  95.09999847, ..., 104.09999847,\n",
       "        110.80000305,  97.80000305],\n",
       "       [110.        , 113.        , 108.59999847, ..., 112.80000305,\n",
       "        116.30000305, 102.69999695],\n",
       "       [114.40000153, 119.90000153, 116.        , ..., 122.19999695,\n",
       "        128.6000061 , 112.90000153]])"
      ]
     },
     "execution_count": 24,
     "metadata": {},
     "output_type": "execute_result"
    }
   ],
   "source": [
    "x"
   ]
  },
  {
   "cell_type": "code",
   "execution_count": 25,
   "id": "15d2193d",
   "metadata": {},
   "outputs": [],
   "source": [
    "weights_of_ols =\\\n",
    "(\n",
    "    LinearRegression(fit_intercept = False)\n",
    "    .fit(x, y)\n",
    "    .coef_\n",
    ")"
   ]
  },
  {
   "cell_type": "code",
   "execution_count": 26,
   "id": "a9157582",
   "metadata": {},
   "outputs": [
    {
     "data": {
      "text/plain": [
       "True"
      ]
     },
     "execution_count": 26,
     "metadata": {},
     "output_type": "execute_result"
    }
   ],
   "source": [
    "len(weights_of_ols) == 39 - 1"
   ]
  },
  {
   "cell_type": "code",
   "execution_count": 27,
   "id": "56f37b11",
   "metadata": {},
   "outputs": [],
   "source": [
    "synthetic_california_ols =\\\n",
    "(\n",
    "    smoking\n",
    "    .query(\"~california\")\n",
    "    .pivot(index = \"year\",\n",
    "           columns = \"state\")\n",
    "    [\"cigsale\"]\n",
    "    .values\n",
    "    .dot(weights_of_ols)\n",
    ")"
   ]
  },
  {
   "cell_type": "code",
   "execution_count": 28,
   "id": "3a7b8501",
   "metadata": {},
   "outputs": [
    {
     "data": {
      "image/png": "[encoded data removed]",
      "text/plain": [
       "<Figure size 640x480 with 1 Axes>"
      ]
     },
     "metadata": {},
     "output_type": "display_data"
    }
   ],
   "source": [
    "# Target with Event (Intervention)\n",
    "\n",
    "(\n",
    "    plt\n",
    "    .plot(smoking.query(\"california\")[\"year\"],\n",
    "          smoking.query(\"california\")[\"cigsale\"],\n",
    "          label = \"California\")\n",
    ")\n",
    "\n",
    "# Counterfactual (Control): Synthetic California based on Other States\n",
    "\n",
    "(\n",
    "    plt\n",
    "    .plot(smoking.query(\"california\")[\"year\"],\n",
    "          synthetic_california_ols,\n",
    "          label = \"Synthetic Control (Counterfactual)\")\n",
    ")\n",
    "\n",
    "\n",
    "plt \\\n",
    "    .vlines(x = 1988,\n",
    "            ymin = 40,\n",
    "            ymax = 140,\n",
    "            linestyle = \"-.\",\n",
    "            label = \"policy implementation\")\n",
    "\n",
    "plt \\\n",
    "    .title(\"Gaps in per-capita cigarette sales per packs\")\n",
    "\n",
    "plt.legend();"
   ]
  },
  {
   "cell_type": "code",
   "execution_count": 29,
   "id": "cea8ca86",
   "metadata": {},
   "outputs": [],
   "source": [
    "from scipy.optimize import fmin_slsqp"
   ]
  },
  {
   "cell_type": "code",
   "execution_count": 30,
   "id": "6a991bcb",
   "metadata": {},
   "outputs": [],
   "source": [
    "from typing import List\n",
    "from operator import add\n",
    "from toolz import partial, reduce"
   ]
  },
  {
   "cell_type": "code",
   "execution_count": 31,
   "id": "e805e02f",
   "metadata": {},
   "outputs": [],
   "source": [
    "def loss_w(W, X, y) -> float:\n",
    "    return np.sqrt(np.mean((y - X.dot(W))**2)\n",
    "                          )"
   ]
  },
  {
   "cell_type": "code",
   "execution_count": 32,
   "id": "fc502233",
   "metadata": {},
   "outputs": [],
   "source": [
    "def obtain_w(X, y):\n",
    "    \n",
    "    w_start = [1/X.shape[1]] * X.shape[1]\n",
    "    \n",
    "    weights =\\\n",
    "        fmin_slsqp(partial(loss_w, X = X, y = y),\n",
    "                   np.array(w_start),\n",
    "                   f_eqcons = lambda x: np.sum(x) - 1,\n",
    "                   bounds = [(0.0, 1.0)] * len(w_start),\n",
    "                   disp = False)\n",
    "    return weights"
   ]
  },
  {
   "cell_type": "code",
   "execution_count": 33,
   "id": "e3adbe2e",
   "metadata": {},
   "outputs": [],
   "source": [
    "realistic_california_weights = obtain_w(x, y)"
   ]
  },
  {
   "cell_type": "code",
   "execution_count": 34,
   "id": "b4e773a8",
   "metadata": {},
   "outputs": [],
   "source": [
    "# True (More realistic Counterfactual): What would have happened (without policy)\n",
    "\n",
    "synthetic_california_with_realistic_weights =\\\n",
    "(\n",
    "    smoking\n",
    "    .query(\"~california\")\n",
    "    .pivot(index = \"year\",\n",
    "           columns = \"state\")\n",
    "    [\"cigsale\"]\n",
    "    .values # ()\n",
    "    .dot(realistic_california_weights)\n",
    ")"
   ]
  },
  {
   "cell_type": "code",
   "execution_count": 35,
   "id": "cbf3e807",
   "metadata": {},
   "outputs": [
    {
     "data": {
      "text/plain": [
       "array([116.37738088, 119.29341336, 125.46488162, 124.01126516,\n",
       "       125.00610865, 126.12812193, 128.40416472, 126.33354829,\n",
       "       125.65842478, 122.57699531, 121.02481027, 120.79008431,\n",
       "       115.81667701, 112.72157966, 104.13403042, 103.31383473,\n",
       "       101.67828382, 100.31140359,  92.6041438 ,  89.97954326,\n",
       "        84.47435543,  80.4163098 ,  80.45152514,  79.60028843,\n",
       "        79.11292836,  77.89062047,  77.22867226,  77.49826222,\n",
       "        75.00565125,  73.8354918 ,  66.43015823])"
      ]
     },
     "execution_count": 35,
     "metadata": {},
     "output_type": "execute_result"
    }
   ],
   "source": [
    "synthetic_california_with_realistic_weights"
   ]
  },
  {
   "cell_type": "code",
   "execution_count": 36,
   "id": "9671932b",
   "metadata": {},
   "outputs": [
    {
     "data": {
      "image/png": "[encoded data removed]",
      "text/plain": [
       "<Figure size 640x480 with 1 Axes>"
      ]
     },
     "metadata": {},
     "output_type": "display_data"
    }
   ],
   "source": [
    "# Target with Event (Intervention)\n",
    "\n",
    "(\n",
    "    plt\n",
    "    .plot(smoking.query(\"california\")[\"year\"],\n",
    "          smoking.query(\"california\")[\"cigsale\"],\n",
    "          label = \"California\")\n",
    ")\n",
    "\n",
    "# Counterfactual (Control): Synthetic California based on Other States\n",
    "\n",
    "(\n",
    "    plt\n",
    "    .plot(smoking.query(\"california\")[\"year\"],\n",
    "          synthetic_california_with_realistic_weights,\n",
    "          label = \"Synthetic Control (Counterfactual)\")\n",
    ")\n",
    "\n",
    "\n",
    "plt \\\n",
    "    .vlines(x = 1988,\n",
    "            ymin = 40,\n",
    "            ymax = 140,\n",
    "            linestyle = \"-.\",\n",
    "            label = \"policy implementation\")\n",
    "\n",
    "plt \\\n",
    "    .title(\"Realistic Synthetic Control\\nGaps in per-capita cigarette sales per packs\")\n",
    "\n",
    "plt.legend();"
   ]
  },
  {
   "cell_type": "markdown",
   "id": "91630e02",
   "metadata": {},
   "source": [
    "### For Reporting, Please USE This :)"
   ]
  },
  {
   "cell_type": "code",
   "execution_count": 37,
   "id": "3a83d6a3",
   "metadata": {},
   "outputs": [
    {
     "data": {
      "image/png": "[encoded data removed]",
      "text/plain": [
       "<Figure size 1000x600 with 1 Axes>"
      ]
     },
     "metadata": {},
     "output_type": "display_data"
    }
   ],
   "source": [
    "plt.figure(figsize = [10, 6]\n",
    "          )\n",
    "\n",
    "plt \\\n",
    "    .plot(smoking.query(\"california\")[\"year\"],\n",
    "          smoking.query(\"california\")[\"cigsale\"] - synthetic_california_with_realistic_weights,\n",
    "          label = \"Policy Effects\")\n",
    "\n",
    "plt \\\n",
    "    .vlines(x = 1988,\n",
    "            ymin = -30,\n",
    "            ymax = 20,\n",
    "            linestyle = \"-.\",\n",
    "            label = \"Policy Implementation\",\n",
    "            colors = \"green\")\n",
    "\n",
    "plt \\\n",
    "    .hlines(y = 0,\n",
    "            xmin = 1970,\n",
    "            xmax = 2000,\n",
    "            colors = \"purple\")\n",
    "\n",
    "plt.ylabel(\"Effects of policy on per-capital tobacco sales per packs\")\n",
    "\n",
    "plt.title(\"Nothing can stop us :)\")\n",
    "\n",
    "plt.legend();"
   ]
  },
  {
   "cell_type": "markdown",
   "id": "8a139eff",
   "metadata": {},
   "source": [
    "> Team, it was great seeing you tonight at `Py`Day! Wishing you a hap`PY` October &#128578;"
   ]
  }
 ],
 "metadata": {
  "kernelspec": {
   "display_name": "Python 3 (ipykernel)",
   "language": "python",
   "name": "python3"
  },
  "language_info": {
   "codemirror_mode": {
    "name": "ipython",
    "version": 3
   },
   "file_extension": ".py",
   "mimetype": "text/x-python",
   "name": "python",
   "nbconvert_exporter": "python",
   "pygments_lexer": "ipython3",
   "version": "3.10.9"
  }
 },
 "nbformat": 4,
 "nbformat_minor": 5
}
