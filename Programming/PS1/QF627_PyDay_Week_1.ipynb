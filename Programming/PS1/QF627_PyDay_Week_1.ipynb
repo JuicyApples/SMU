{
 "cells": [
  {
   "cell_type": "markdown",
   "id": "9f15eabd",
   "metadata": {},
   "source": [
    "# QF 627 Programming and Computational Finance\n",
    "## `Py`Day Week `1`"
   ]
  },
  {
   "cell_type": "markdown",
   "id": "66c0767a",
   "metadata": {},
   "source": [
    "### How can you visually represent components of an equation?"
   ]
  },
  {
   "cell_type": "code",
   "execution_count": 1,
   "id": "eb57db2f",
   "metadata": {},
   "outputs": [],
   "source": [
    "import numpy as np\n",
    "import matplotlib.pyplot as plt"
   ]
  },
  {
   "cell_type": "code",
   "execution_count": 2,
   "id": "498545e3",
   "metadata": {},
   "outputs": [
    {
     "name": "stdout",
     "output_type": "stream",
     "text": [
      "Variable   Type      Data/Info\n",
      "------------------------------\n",
      "np         module    <module 'numpy' from '/Us<...>kages/numpy/__init__.py'>\n",
      "plt        module    <module 'matplotlib.pyplo<...>es/matplotlib/pyplot.py'>\n"
     ]
    }
   ],
   "source": [
    "%whos"
   ]
  },
  {
   "cell_type": "code",
   "execution_count": 3,
   "id": "53b327ef",
   "metadata": {},
   "outputs": [],
   "source": [
    "N =\\\n",
    "(\n",
    "    np\n",
    "    .linspace(1, 100, 400)\n",
    ")\n",
    "\n",
    "Y =\\\n",
    "    1 / np.sqrt(N)"
   ]
  },
  {
   "cell_type": "code",
   "execution_count": 4,
   "id": "180fe06c",
   "metadata": {},
   "outputs": [
    {
     "name": "stdout",
     "output_type": "stream",
     "text": [
      "[  1.           1.2481203    1.4962406    1.7443609    1.9924812\n",
      "   2.2406015    2.4887218    2.73684211   2.98496241   3.23308271\n",
      "   3.48120301   3.72932331   3.97744361   4.22556391   4.47368421\n",
      "   4.72180451   4.96992481   5.21804511   5.46616541   5.71428571\n",
      "   5.96240602   6.21052632   6.45864662   6.70676692   6.95488722\n",
      "   7.20300752   7.45112782   7.69924812   7.94736842   8.19548872\n",
      "   8.44360902   8.69172932   8.93984962   9.18796992   9.43609023\n",
      "   9.68421053   9.93233083  10.18045113  10.42857143  10.67669173\n",
      "  10.92481203  11.17293233  11.42105263  11.66917293  11.91729323\n",
      "  12.16541353  12.41353383  12.66165414  12.90977444  13.15789474\n",
      "  13.40601504  13.65413534  13.90225564  14.15037594  14.39849624\n",
      "  14.64661654  14.89473684  15.14285714  15.39097744  15.63909774\n",
      "  15.88721805  16.13533835  16.38345865  16.63157895  16.87969925\n",
      "  17.12781955  17.37593985  17.62406015  17.87218045  18.12030075\n",
      "  18.36842105  18.61654135  18.86466165  19.11278195  19.36090226\n",
      "  19.60902256  19.85714286  20.10526316  20.35338346  20.60150376\n",
      "  20.84962406  21.09774436  21.34586466  21.59398496  21.84210526\n",
      "  22.09022556  22.33834586  22.58646617  22.83458647  23.08270677\n",
      "  23.33082707  23.57894737  23.82706767  24.07518797  24.32330827\n",
      "  24.57142857  24.81954887  25.06766917  25.31578947  25.56390977\n",
      "  25.81203008  26.06015038  26.30827068  26.55639098  26.80451128\n",
      "  27.05263158  27.30075188  27.54887218  27.79699248  28.04511278\n",
      "  28.29323308  28.54135338  28.78947368  29.03759398  29.28571429\n",
      "  29.53383459  29.78195489  30.03007519  30.27819549  30.52631579\n",
      "  30.77443609  31.02255639  31.27067669  31.51879699  31.76691729\n",
      "  32.01503759  32.26315789  32.5112782   32.7593985   33.0075188\n",
      "  33.2556391   33.5037594   33.7518797   34.          34.2481203\n",
      "  34.4962406   34.7443609   34.9924812   35.2406015   35.4887218\n",
      "  35.73684211  35.98496241  36.23308271  36.48120301  36.72932331\n",
      "  36.97744361  37.22556391  37.47368421  37.72180451  37.96992481\n",
      "  38.21804511  38.46616541  38.71428571  38.96240602  39.21052632\n",
      "  39.45864662  39.70676692  39.95488722  40.20300752  40.45112782\n",
      "  40.69924812  40.94736842  41.19548872  41.44360902  41.69172932\n",
      "  41.93984962  42.18796992  42.43609023  42.68421053  42.93233083\n",
      "  43.18045113  43.42857143  43.67669173  43.92481203  44.17293233\n",
      "  44.42105263  44.66917293  44.91729323  45.16541353  45.41353383\n",
      "  45.66165414  45.90977444  46.15789474  46.40601504  46.65413534\n",
      "  46.90225564  47.15037594  47.39849624  47.64661654  47.89473684\n",
      "  48.14285714  48.39097744  48.63909774  48.88721805  49.13533835\n",
      "  49.38345865  49.63157895  49.87969925  50.12781955  50.37593985\n",
      "  50.62406015  50.87218045  51.12030075  51.36842105  51.61654135\n",
      "  51.86466165  52.11278195  52.36090226  52.60902256  52.85714286\n",
      "  53.10526316  53.35338346  53.60150376  53.84962406  54.09774436\n",
      "  54.34586466  54.59398496  54.84210526  55.09022556  55.33834586\n",
      "  55.58646617  55.83458647  56.08270677  56.33082707  56.57894737\n",
      "  56.82706767  57.07518797  57.32330827  57.57142857  57.81954887\n",
      "  58.06766917  58.31578947  58.56390977  58.81203008  59.06015038\n",
      "  59.30827068  59.55639098  59.80451128  60.05263158  60.30075188\n",
      "  60.54887218  60.79699248  61.04511278  61.29323308  61.54135338\n",
      "  61.78947368  62.03759398  62.28571429  62.53383459  62.78195489\n",
      "  63.03007519  63.27819549  63.52631579  63.77443609  64.02255639\n",
      "  64.27067669  64.51879699  64.76691729  65.01503759  65.26315789\n",
      "  65.5112782   65.7593985   66.0075188   66.2556391   66.5037594\n",
      "  66.7518797   67.          67.2481203   67.4962406   67.7443609\n",
      "  67.9924812   68.2406015   68.4887218   68.73684211  68.98496241\n",
      "  69.23308271  69.48120301  69.72932331  69.97744361  70.22556391\n",
      "  70.47368421  70.72180451  70.96992481  71.21804511  71.46616541\n",
      "  71.71428571  71.96240602  72.21052632  72.45864662  72.70676692\n",
      "  72.95488722  73.20300752  73.45112782  73.69924812  73.94736842\n",
      "  74.19548872  74.44360902  74.69172932  74.93984962  75.18796992\n",
      "  75.43609023  75.68421053  75.93233083  76.18045113  76.42857143\n",
      "  76.67669173  76.92481203  77.17293233  77.42105263  77.66917293\n",
      "  77.91729323  78.16541353  78.41353383  78.66165414  78.90977444\n",
      "  79.15789474  79.40601504  79.65413534  79.90225564  80.15037594\n",
      "  80.39849624  80.64661654  80.89473684  81.14285714  81.39097744\n",
      "  81.63909774  81.88721805  82.13533835  82.38345865  82.63157895\n",
      "  82.87969925  83.12781955  83.37593985  83.62406015  83.87218045\n",
      "  84.12030075  84.36842105  84.61654135  84.86466165  85.11278195\n",
      "  85.36090226  85.60902256  85.85714286  86.10526316  86.35338346\n",
      "  86.60150376  86.84962406  87.09774436  87.34586466  87.59398496\n",
      "  87.84210526  88.09022556  88.33834586  88.58646617  88.83458647\n",
      "  89.08270677  89.33082707  89.57894737  89.82706767  90.07518797\n",
      "  90.32330827  90.57142857  90.81954887  91.06766917  91.31578947\n",
      "  91.56390977  91.81203008  92.06015038  92.30827068  92.55639098\n",
      "  92.80451128  93.05263158  93.30075188  93.54887218  93.79699248\n",
      "  94.04511278  94.29323308  94.54135338  94.78947368  95.03759398\n",
      "  95.28571429  95.53383459  95.78195489  96.03007519  96.27819549\n",
      "  96.52631579  96.77443609  97.02255639  97.27067669  97.51879699\n",
      "  97.76691729  98.01503759  98.26315789  98.5112782   98.7593985\n",
      "  99.0075188   99.2556391   99.5037594   99.7518797  100.        ]\n",
      "[1.         0.89510045 0.81752169 0.75714983 0.70843969 0.66806341\n",
      " 0.63388697 0.60447052 0.57880272 0.55614955 0.53596364 0.51782735\n",
      " 0.50141576 0.48647179 0.47278897 0.46019935 0.4485647  0.43777009\n",
      " 0.42771907 0.41833001 0.40953331 0.40126917 0.39348596 0.38613876\n",
      " 0.37918832 0.37260018 0.36634392 0.36039258 0.35472217 0.34931125\n",
      " 0.34414062 0.33919302 0.33445284 0.329906   0.3255397  0.32134229\n",
      " 0.31730317 0.31341263 0.30966177 0.30604243 0.30254711 0.29916888\n",
      " 0.29590134 0.29273858 0.28967511 0.28670585 0.28382607 0.28103135\n",
      " 0.2783176  0.27568098 0.27311789 0.27062499 0.26819913 0.26583736\n",
      " 0.2635369  0.26129515 0.25910965 0.25697808 0.25489828 0.25286816\n",
      " 0.25088579 0.24894933 0.24705702 0.24520722 0.24339836 0.24162895\n",
      " 0.23989757 0.23820288 0.23654361 0.23491854 0.23332651 0.23176641\n",
      " 0.2302372  0.22873786 0.22726743 0.225825   0.2244097  0.22302067\n",
      " 0.22165712 0.22031828 0.21900341 0.21771181 0.21644279 0.21519571\n",
      " 0.21396993 0.21276487 0.21157994 0.21041459 0.20926829 0.20814052\n",
      " 0.20703079 0.20593862 0.20486355 0.20380515 0.20276299 0.20173665\n",
      " 0.20072574 0.19972987 0.19874868 0.19778182 0.19682892 0.19588967\n",
      " 0.19496374 0.19405082 0.1931506  0.19226279 0.19138712 0.1905233\n",
      " 0.18967107 0.18883018 0.18800037 0.18718141 0.18637306 0.18557509\n",
      " 0.18478729 0.18400943 0.18324131 0.18248274 0.18173351 0.18099343\n",
      " 0.18026232 0.17953999 0.17882629 0.17812102 0.17742404 0.17673517\n",
      " 0.17605427 0.17538118 0.17471574 0.17405783 0.17340729 0.17276399\n",
      " 0.1721278  0.17149859 0.17087622 0.17026058 0.16965155 0.16904901\n",
      " 0.16845284 0.16786294 0.16727919 0.16670149 0.16612973 0.16556381\n",
      " 0.16500364 0.16444912 0.16390015 0.16335664 0.16281851 0.16228565\n",
      " 0.161758   0.16123546 0.16071795 0.16020539 0.1596977  0.15919481\n",
      " 0.15869664 0.15820312 0.15771417 0.15722974 0.15674973 0.1562741\n",
      " 0.15580277 0.15533568 0.15487276 0.15441396 0.15395921 0.15350846\n",
      " 0.15306164 0.15261871 0.15217959 0.15174424 0.15131261 0.15088464\n",
      " 0.15046029 0.15003949 0.1496222  0.14920838 0.14879797 0.14839093\n",
      " 0.14798721 0.14758677 0.14718956 0.14679554 0.14640467 0.1460169\n",
      " 0.1456322  0.14525053 0.14487184 0.14449609 0.14412326 0.14375329\n",
      " 0.14338616 0.14302183 0.14266026 0.14230142 0.14194528 0.14159179\n",
      " 0.14124094 0.14089268 0.14054698 0.14020381 0.13986315 0.13952496\n",
      " 0.1391892  0.13885586 0.13852491 0.13819631 0.13787003 0.13754606\n",
      " 0.13722436 0.13690491 0.13658768 0.13627264 0.13595977 0.13564905\n",
      " 0.13534045 0.13503394 0.13472951 0.13442713 0.13412677 0.13382842\n",
      " 0.13353205 0.13323764 0.13294517 0.13265462 0.13236596 0.13207918\n",
      " 0.13179426 0.13151117 0.1312299  0.13095043 0.13067273 0.13039679\n",
      " 0.1301226  0.12985012 0.12957935 0.12931027 0.12904286 0.1287771\n",
      " 0.12851297 0.12825047 0.12798956 0.12773024 0.12747249 0.1272163\n",
      " 0.12696164 0.12670851 0.12645688 0.12620675 0.1259581  0.12571091\n",
      " 0.12546517 0.12522086 0.12497798 0.1247365  0.12449642 0.12425772\n",
      " 0.12402039 0.12378441 0.12354978 0.12331647 0.12308448 0.12285379\n",
      " 0.1226244  0.12239629 0.12216944 0.12194386 0.12171951 0.1214964\n",
      " 0.12127452 0.12105384 0.12083437 0.12061608 0.12039897 0.12018303\n",
      " 0.11996825 0.11975462 0.11954212 0.11933075 0.1191205  0.11891136\n",
      " 0.11870331 0.11849635 0.11829047 0.11808566 0.11788191 0.11767921\n",
      " 0.11747755 0.11727693 0.11707733 0.11687874 0.11668117 0.11648459\n",
      " 0.116289   0.11609439 0.11590076 0.11570809 0.11551639 0.11532563\n",
      " 0.11513581 0.11494692 0.11475897 0.11457193 0.1143858  0.11420058\n",
      " 0.11401626 0.11383282 0.11365027 0.11346859 0.11328778 0.11310783\n",
      " 0.11292874 0.1127505  0.11257309 0.11239652 0.11222078 0.11204587\n",
      " 0.11187176 0.11169847 0.11152598 0.11135428 0.11118338 0.11101326\n",
      " 0.11084392 0.11067535 0.11050755 0.11034051 0.11017422 0.11000869\n",
      " 0.10984389 0.10967984 0.10951652 0.10935392 0.10919205 0.1090309\n",
      " 0.10887046 0.10871072 0.10855168 0.10839334 0.10823569 0.10807873\n",
      " 0.10792245 0.10776684 0.10761191 0.10745764 0.10730403 0.10715108\n",
      " 0.10699878 0.10684713 0.10669612 0.10654575 0.10639602 0.10624691\n",
      " 0.10609843 0.10595057 0.10580333 0.1056567  0.10551067 0.10536525\n",
      " 0.10522043 0.10507621 0.10493257 0.10478953 0.10464707 0.10450518\n",
      " 0.10436388 0.10422314 0.10408297 0.10394337 0.10380433 0.10366584\n",
      " 0.10352791 0.10339052 0.10325368 0.10311738 0.10298162 0.1028464\n",
      " 0.10271171 0.10257754 0.1024439  0.10231078 0.10217818 0.10204609\n",
      " 0.10191451 0.10178344 0.10165288 0.10152281 0.10139325 0.10126418\n",
      " 0.1011356  0.10100751 0.1008799  0.10075278 0.10062613 0.10049997\n",
      " 0.10037427 0.10024905 0.10012429 0.1       ]\n"
     ]
    }
   ],
   "source": [
    "print(N);print(Y)"
   ]
  },
  {
   "cell_type": "code",
   "execution_count": 5,
   "id": "36a7190c",
   "metadata": {},
   "outputs": [
    {
     "data": {
      "image/png": "[encoded data removed]",
      "text/plain": [
       "<Figure size 720x432 with 1 Axes>"
      ]
     },
     "metadata": {
      "needs_background": "light"
     },
     "output_type": "display_data"
    }
   ],
   "source": [
    "plt.figure(figsize = [10, 6]\n",
    "          )\n",
    "\n",
    "plt.plot(N, Y,\n",
    "         label = r\"$f(n) = \\frac{1}{\\sqrt{n}}$\")\n",
    "\n",
    "plt.title(r\"Plot of $f(n) = \\frac{1}{\\sqrt{n}}$\")\n",
    "\n",
    "plt.xlabel(\"n\")\n",
    "plt.ylabel(\"f(n)\")\n",
    "plt.legend()\n",
    "plt.grid(True)\n",
    "\n",
    "plt.show()"
   ]
  },
  {
   "cell_type": "markdown",
   "id": "a0c81651",
   "metadata": {},
   "source": [
    "### Confounders vs. Colliders ???"
   ]
  },
  {
   "cell_type": "code",
   "execution_count": 6,
   "id": "9a381d3c",
   "metadata": {},
   "outputs": [],
   "source": [
    "# Let's buils a simulated data set\n",
    "\n",
    "np.random.seed(23082601)\n",
    "\n",
    "N = 2000\n",
    "\n",
    "x = np.random.normal(size = N)\n",
    "\n",
    "y = 0.4 * x + np.random.normal(size = N)\n",
    "\n",
    "# 0.4 = true average treatment effects"
   ]
  },
  {
   "cell_type": "code",
   "execution_count": 7,
   "id": "e763adc7",
   "metadata": {},
   "outputs": [],
   "source": [
    "data =\\\n",
    "    {\"x\": x,\n",
    "     \"y\": y}"
   ]
  },
  {
   "cell_type": "code",
   "execution_count": 8,
   "id": "bbc23dd1",
   "metadata": {},
   "outputs": [
    {
     "data": {
      "text/plain": [
       "dict"
      ]
     },
     "execution_count": 8,
     "metadata": {},
     "output_type": "execute_result"
    }
   ],
   "source": [
    "type(data)"
   ]
  },
  {
   "cell_type": "code",
   "execution_count": 9,
   "id": "3bfa4791",
   "metadata": {},
   "outputs": [],
   "source": [
    "import statsmodels.formula.api as smf"
   ]
  },
  {
   "cell_type": "code",
   "execution_count": 10,
   "id": "0bd3010f",
   "metadata": {},
   "outputs": [
    {
     "name": "stdout",
     "output_type": "stream",
     "text": [
      "Variable   Type       Data/Info\n",
      "-------------------------------\n",
      "N          int        2000\n",
      "Y          ndarray    400: 400 elems, type `float64`, 3200 bytes\n",
      "data       dict       n=2\n",
      "np         module     <module 'numpy' from '/Us<...>kages/numpy/__init__.py'>\n",
      "plt        module     <module 'matplotlib.pyplo<...>es/matplotlib/pyplot.py'>\n",
      "smf        module     <module 'statsmodels.form<...>tsmodels/formula/api.py'>\n",
      "x          ndarray    2000: 2000 elems, type `float64`, 16000 bytes\n",
      "y          ndarray    2000: 2000 elems, type `float64`, 16000 bytes\n"
     ]
    }
   ],
   "source": [
    "%whos"
   ]
  },
  {
   "cell_type": "code",
   "execution_count": 11,
   "id": "fdd10a51",
   "metadata": {},
   "outputs": [
    {
     "data": {
      "text/plain": [
       "-2"
      ]
     },
     "execution_count": 11,
     "metadata": {},
     "output_type": "execute_result"
    }
   ],
   "source": [
    "~1"
   ]
  },
  {
   "cell_type": "code",
   "execution_count": 12,
   "id": "727f2150",
   "metadata": {},
   "outputs": [
    {
     "data": {
      "text/plain": [
       "-1"
      ]
     },
     "execution_count": 12,
     "metadata": {},
     "output_type": "execute_result"
    }
   ],
   "source": [
    "~0"
   ]
  },
  {
   "cell_type": "code",
   "execution_count": 13,
   "id": "a1bea3a6",
   "metadata": {},
   "outputs": [
    {
     "data": {
      "text/plain": [
       "-2"
      ]
     },
     "execution_count": 13,
     "metadata": {},
     "output_type": "execute_result"
    }
   ],
   "source": [
    "~True"
   ]
  },
  {
   "cell_type": "code",
   "execution_count": 14,
   "id": "f1ae7c73",
   "metadata": {},
   "outputs": [
    {
     "data": {
      "text/plain": [
       "-1"
      ]
     },
     "execution_count": 14,
     "metadata": {},
     "output_type": "execute_result"
    }
   ],
   "source": [
    "~False"
   ]
  },
  {
   "cell_type": "code",
   "execution_count": 15,
   "id": "3449986c",
   "metadata": {},
   "outputs": [
    {
     "name": "stdout",
     "output_type": "stream",
     "text": [
      "==============================================================================\n",
      "                 coef    std err          t      P>|t|      [0.025      0.975]\n",
      "------------------------------------------------------------------------------\n",
      "Intercept     -0.0201      0.022     -0.896      0.370      -0.064       0.024\n",
      "x              0.3980      0.022     17.943      0.000       0.355       0.442\n",
      "==============================================================================\n"
     ]
    }
   ],
   "source": [
    "correct_model =\\\n",
    "(\n",
    "    smf\n",
    "    .ols(\"y ~ x\",\n",
    "         data = data) \n",
    "    .fit()\n",
    ")\n",
    "\n",
    "print(correct_model\n",
    "      .summary()\n",
    "      .tables[1]\n",
    "     )"
   ]
  },
  {
   "cell_type": "markdown",
   "id": "deae7205",
   "metadata": {},
   "source": [
    "#### A Case for Confounders"
   ]
  },
  {
   "cell_type": "code",
   "execution_count": 16,
   "id": "b6f691a0",
   "metadata": {},
   "outputs": [],
   "source": [
    "# The real-world; Defined Question: b-hat question"
   ]
  },
  {
   "cell_type": "code",
   "execution_count": 17,
   "id": "a133f3e5",
   "metadata": {},
   "outputs": [],
   "source": [
    "np.random.seed(23082502)\n",
    "\n",
    "N = 2000\n",
    "\n",
    "confounder = np.random.normal(size = N)\n",
    "\n",
    "x = 0.50 * confounder + np.random.normal(size = N)\n",
    "\n",
    "y = 0.40 * x + 0.30 * confounder + np.random.normal(size = N) "
   ]
  },
  {
   "cell_type": "code",
   "execution_count": 18,
   "id": "5af4ceee",
   "metadata": {},
   "outputs": [],
   "source": [
    "data =\\\n",
    "    {\"x\": x,\n",
    "     \"y\": y,\n",
    "     \"confounder\": confounder}"
   ]
  },
  {
   "cell_type": "code",
   "execution_count": 19,
   "id": "ebee135c",
   "metadata": {},
   "outputs": [],
   "source": [
    "import pandas as pd"
   ]
  },
  {
   "cell_type": "code",
   "execution_count": 20,
   "id": "6505dd62",
   "metadata": {},
   "outputs": [
    {
     "data": {
      "text/html": [
       "<div>\n",
       "<style scoped>\n",
       "    .dataframe tbody tr th:only-of-type {\n",
       "        vertical-align: middle;\n",
       "    }\n",
       "\n",
       "    .dataframe tbody tr th {\n",
       "        vertical-align: top;\n",
       "    }\n",
       "\n",
       "    .dataframe thead th {\n",
       "        text-align: right;\n",
       "    }\n",
       "</style>\n",
       "<table border=\"1\" class=\"dataframe\">\n",
       "  <thead>\n",
       "    <tr style=\"text-align: right;\">\n",
       "      <th></th>\n",
       "      <th>x</th>\n",
       "      <th>y</th>\n",
       "      <th>confounder</th>\n",
       "    </tr>\n",
       "  </thead>\n",
       "  <tbody>\n",
       "    <tr>\n",
       "      <th>0</th>\n",
       "      <td>-0.161576</td>\n",
       "      <td>-0.659686</td>\n",
       "      <td>-0.443225</td>\n",
       "    </tr>\n",
       "    <tr>\n",
       "      <th>1</th>\n",
       "      <td>1.174343</td>\n",
       "      <td>0.921717</td>\n",
       "      <td>1.051660</td>\n",
       "    </tr>\n",
       "    <tr>\n",
       "      <th>2</th>\n",
       "      <td>0.719572</td>\n",
       "      <td>1.767428</td>\n",
       "      <td>1.568203</td>\n",
       "    </tr>\n",
       "    <tr>\n",
       "      <th>3</th>\n",
       "      <td>-0.643940</td>\n",
       "      <td>-0.525411</td>\n",
       "      <td>1.030198</td>\n",
       "    </tr>\n",
       "    <tr>\n",
       "      <th>4</th>\n",
       "      <td>-0.680004</td>\n",
       "      <td>-2.526188</td>\n",
       "      <td>0.165393</td>\n",
       "    </tr>\n",
       "    <tr>\n",
       "      <th>...</th>\n",
       "      <td>...</td>\n",
       "      <td>...</td>\n",
       "      <td>...</td>\n",
       "    </tr>\n",
       "    <tr>\n",
       "      <th>1995</th>\n",
       "      <td>-1.340106</td>\n",
       "      <td>-1.969901</td>\n",
       "      <td>-1.506838</td>\n",
       "    </tr>\n",
       "    <tr>\n",
       "      <th>1996</th>\n",
       "      <td>-0.702327</td>\n",
       "      <td>1.070637</td>\n",
       "      <td>0.740956</td>\n",
       "    </tr>\n",
       "    <tr>\n",
       "      <th>1997</th>\n",
       "      <td>-1.276713</td>\n",
       "      <td>-0.736637</td>\n",
       "      <td>-0.420210</td>\n",
       "    </tr>\n",
       "    <tr>\n",
       "      <th>1998</th>\n",
       "      <td>-0.230440</td>\n",
       "      <td>1.886882</td>\n",
       "      <td>1.137707</td>\n",
       "    </tr>\n",
       "    <tr>\n",
       "      <th>1999</th>\n",
       "      <td>-0.279689</td>\n",
       "      <td>0.240303</td>\n",
       "      <td>0.123392</td>\n",
       "    </tr>\n",
       "  </tbody>\n",
       "</table>\n",
       "<p>2000 rows × 3 columns</p>\n",
       "</div>"
      ],
      "text/plain": [
       "             x         y  confounder\n",
       "0    -0.161576 -0.659686   -0.443225\n",
       "1     1.174343  0.921717    1.051660\n",
       "2     0.719572  1.767428    1.568203\n",
       "3    -0.643940 -0.525411    1.030198\n",
       "4    -0.680004 -2.526188    0.165393\n",
       "...        ...       ...         ...\n",
       "1995 -1.340106 -1.969901   -1.506838\n",
       "1996 -0.702327  1.070637    0.740956\n",
       "1997 -1.276713 -0.736637   -0.420210\n",
       "1998 -0.230440  1.886882    1.137707\n",
       "1999 -0.279689  0.240303    0.123392\n",
       "\n",
       "[2000 rows x 3 columns]"
      ]
     },
     "execution_count": 20,
     "metadata": {},
     "output_type": "execute_result"
    }
   ],
   "source": [
    "pd \\\n",
    "    .DataFrame(data)"
   ]
  },
  {
   "cell_type": "code",
   "execution_count": 21,
   "id": "4aeb2552",
   "metadata": {},
   "outputs": [
    {
     "name": "stdout",
     "output_type": "stream",
     "text": [
      "==============================================================================\n",
      "                 coef    std err          t      P>|t|      [0.025      0.975]\n",
      "------------------------------------------------------------------------------\n",
      "Intercept      0.0294      0.023      1.282      0.200      -0.016       0.074\n",
      "x              0.5329      0.021     25.324      0.000       0.492       0.574\n",
      "==============================================================================\n"
     ]
    }
   ],
   "source": [
    "# This model will fall prey to omission variable bias.\n",
    "model_without_confounder =\\\n",
    "(\n",
    "    smf\n",
    "    .ols(formula = \"y ~ x\",\n",
    "         data = data)\n",
    "    .fit()\n",
    ")\n",
    "\n",
    "print(model_without_confounder\n",
    "      .summary()\n",
    "      .tables[1]\n",
    "     )"
   ]
  },
  {
   "cell_type": "code",
   "execution_count": 22,
   "id": "9b7cc138",
   "metadata": {},
   "outputs": [
    {
     "name": "stdout",
     "output_type": "stream",
     "text": [
      "<statsmodels.regression.linear_model.RegressionResultsWrapper object at 0x7fb939d03a60>\n",
      "==============================================================================\n",
      "                 coef    std err          t      P>|t|      [0.025      0.975]\n",
      "------------------------------------------------------------------------------\n",
      "Intercept      0.0322      0.022      1.451      0.147      -0.011       0.076\n",
      "x              0.4082      0.023     17.729      0.000       0.363       0.453\n",
      "confounder     0.2919      0.025     11.633      0.000       0.243       0.341\n",
      "==============================================================================\n"
     ]
    }
   ],
   "source": [
    "valid_model_controlling_for_confounder =\\\n",
    "(\n",
    "    smf\n",
    "    .ols(formula = \"y ~ x + confounder\",\n",
    "         data = data)\n",
    "    .fit()\n",
    ")\n",
    "\n",
    "print(valid_model_controlling_for_confounder)\n",
    "\n",
    "print(valid_model_controlling_for_confounder\n",
    "      .summary()\n",
    "      .tables[1]\n",
    "     )"
   ]
  },
  {
   "cell_type": "markdown",
   "id": "de217189",
   "metadata": {},
   "source": [
    "#### A Case for Colliders"
   ]
  },
  {
   "cell_type": "code",
   "execution_count": 23,
   "id": "ef9eb60d",
   "metadata": {},
   "outputs": [],
   "source": [
    "np.random.seed(23082603)\n",
    "\n",
    "N = 2000\n",
    "\n",
    "X_financial_health = np.random.normal(size = N)\n",
    "\n",
    "Y_stock_return = 0.10 * X_financial_health + np.random.normal(size = N)\n",
    "\n",
    "COLLIDER_leverage = 1.20 * X_financial_health + 0.60 * Y_stock_return + np.random.normal(size = N)"
   ]
  },
  {
   "cell_type": "code",
   "execution_count": 24,
   "id": "06c26e56",
   "metadata": {},
   "outputs": [],
   "source": [
    "data_with_COLLIDER =\\\n",
    "(\n",
    "    pd\n",
    "    .DataFrame(\n",
    "    {\n",
    "        \"X_financial_health\": X_financial_health,\n",
    "        \"Y_stock_return\": Y_stock_return,\n",
    "        \"COLLIDER_leverage\": COLLIDER_leverage\n",
    "    }\n",
    "    )\n",
    ")"
   ]
  },
  {
   "cell_type": "code",
   "execution_count": 25,
   "id": "0ac8d6b4",
   "metadata": {},
   "outputs": [
    {
     "data": {
      "text/html": [
       "<div>\n",
       "<style scoped>\n",
       "    .dataframe tbody tr th:only-of-type {\n",
       "        vertical-align: middle;\n",
       "    }\n",
       "\n",
       "    .dataframe tbody tr th {\n",
       "        vertical-align: top;\n",
       "    }\n",
       "\n",
       "    .dataframe thead th {\n",
       "        text-align: right;\n",
       "    }\n",
       "</style>\n",
       "<table border=\"1\" class=\"dataframe\">\n",
       "  <thead>\n",
       "    <tr style=\"text-align: right;\">\n",
       "      <th></th>\n",
       "      <th>X_financial_health</th>\n",
       "      <th>Y_stock_return</th>\n",
       "      <th>COLLIDER_leverage</th>\n",
       "    </tr>\n",
       "  </thead>\n",
       "  <tbody>\n",
       "    <tr>\n",
       "      <th>0</th>\n",
       "      <td>-1.603470</td>\n",
       "      <td>0.776567</td>\n",
       "      <td>-3.398866</td>\n",
       "    </tr>\n",
       "    <tr>\n",
       "      <th>1</th>\n",
       "      <td>0.014000</td>\n",
       "      <td>1.029779</td>\n",
       "      <td>0.097561</td>\n",
       "    </tr>\n",
       "    <tr>\n",
       "      <th>2</th>\n",
       "      <td>0.103805</td>\n",
       "      <td>2.220847</td>\n",
       "      <td>1.613957</td>\n",
       "    </tr>\n",
       "    <tr>\n",
       "      <th>3</th>\n",
       "      <td>-0.746349</td>\n",
       "      <td>-0.716504</td>\n",
       "      <td>-2.540918</td>\n",
       "    </tr>\n",
       "    <tr>\n",
       "      <th>4</th>\n",
       "      <td>-0.721821</td>\n",
       "      <td>0.036329</td>\n",
       "      <td>0.384351</td>\n",
       "    </tr>\n",
       "    <tr>\n",
       "      <th>...</th>\n",
       "      <td>...</td>\n",
       "      <td>...</td>\n",
       "      <td>...</td>\n",
       "    </tr>\n",
       "    <tr>\n",
       "      <th>1995</th>\n",
       "      <td>-1.953223</td>\n",
       "      <td>-1.104014</td>\n",
       "      <td>-3.654528</td>\n",
       "    </tr>\n",
       "    <tr>\n",
       "      <th>1996</th>\n",
       "      <td>-0.128386</td>\n",
       "      <td>1.743880</td>\n",
       "      <td>4.076628</td>\n",
       "    </tr>\n",
       "    <tr>\n",
       "      <th>1997</th>\n",
       "      <td>0.983471</td>\n",
       "      <td>0.914076</td>\n",
       "      <td>0.265910</td>\n",
       "    </tr>\n",
       "    <tr>\n",
       "      <th>1998</th>\n",
       "      <td>0.421471</td>\n",
       "      <td>0.263710</td>\n",
       "      <td>-0.536191</td>\n",
       "    </tr>\n",
       "    <tr>\n",
       "      <th>1999</th>\n",
       "      <td>-0.319490</td>\n",
       "      <td>-1.440711</td>\n",
       "      <td>-1.640824</td>\n",
       "    </tr>\n",
       "  </tbody>\n",
       "</table>\n",
       "<p>2000 rows × 3 columns</p>\n",
       "</div>"
      ],
      "text/plain": [
       "      X_financial_health  Y_stock_return  COLLIDER_leverage\n",
       "0              -1.603470        0.776567          -3.398866\n",
       "1               0.014000        1.029779           0.097561\n",
       "2               0.103805        2.220847           1.613957\n",
       "3              -0.746349       -0.716504          -2.540918\n",
       "4              -0.721821        0.036329           0.384351\n",
       "...                  ...             ...                ...\n",
       "1995           -1.953223       -1.104014          -3.654528\n",
       "1996           -0.128386        1.743880           4.076628\n",
       "1997            0.983471        0.914076           0.265910\n",
       "1998            0.421471        0.263710          -0.536191\n",
       "1999           -0.319490       -1.440711          -1.640824\n",
       "\n",
       "[2000 rows x 3 columns]"
      ]
     },
     "execution_count": 25,
     "metadata": {},
     "output_type": "execute_result"
    }
   ],
   "source": [
    "data_with_COLLIDER"
   ]
  },
  {
   "cell_type": "code",
   "execution_count": 26,
   "id": "9096ee5a",
   "metadata": {},
   "outputs": [
    {
     "data": {
      "text/html": [
       "<div>\n",
       "<style scoped>\n",
       "    .dataframe tbody tr th:only-of-type {\n",
       "        vertical-align: middle;\n",
       "    }\n",
       "\n",
       "    .dataframe tbody tr th {\n",
       "        vertical-align: top;\n",
       "    }\n",
       "\n",
       "    .dataframe thead th {\n",
       "        text-align: right;\n",
       "    }\n",
       "</style>\n",
       "<table border=\"1\" class=\"dataframe\">\n",
       "  <thead>\n",
       "    <tr style=\"text-align: right;\">\n",
       "      <th></th>\n",
       "      <th>X_financial_health</th>\n",
       "      <th>Y_stock_return</th>\n",
       "      <th>COLLIDER_leverage</th>\n",
       "    </tr>\n",
       "  </thead>\n",
       "  <tbody>\n",
       "    <tr>\n",
       "      <th>X_financial_health</th>\n",
       "      <td>1.00</td>\n",
       "      <td>0.14</td>\n",
       "      <td>0.74</td>\n",
       "    </tr>\n",
       "    <tr>\n",
       "      <th>Y_stock_return</th>\n",
       "      <td>0.14</td>\n",
       "      <td>1.00</td>\n",
       "      <td>0.44</td>\n",
       "    </tr>\n",
       "    <tr>\n",
       "      <th>COLLIDER_leverage</th>\n",
       "      <td>0.74</td>\n",
       "      <td>0.44</td>\n",
       "      <td>1.00</td>\n",
       "    </tr>\n",
       "  </tbody>\n",
       "</table>\n",
       "</div>"
      ],
      "text/plain": [
       "                    X_financial_health  Y_stock_return  COLLIDER_leverage\n",
       "X_financial_health                1.00            0.14               0.74\n",
       "Y_stock_return                    0.14            1.00               0.44\n",
       "COLLIDER_leverage                 0.74            0.44               1.00"
      ]
     },
     "execution_count": 26,
     "metadata": {},
     "output_type": "execute_result"
    }
   ],
   "source": [
    "(\n",
    "    data_with_COLLIDER\n",
    "    .corr()\n",
    "    .round(2)\n",
    ")"
   ]
  },
  {
   "cell_type": "code",
   "execution_count": 27,
   "id": "a096447b",
   "metadata": {},
   "outputs": [],
   "source": [
    "model_with_endogeneous_selection_bias =\\\n",
    "(\n",
    "    smf\n",
    "    .ols(formula = \"Y_stock_return ~ X_financial_health + COLLIDER_leverage\",\n",
    "         data = data_with_COLLIDER)\n",
    "    .fit()\n",
    ")"
   ]
  },
  {
   "cell_type": "code",
   "execution_count": 28,
   "id": "8a0f3146",
   "metadata": {},
   "outputs": [
    {
     "name": "stdout",
     "output_type": "stream",
     "text": [
      "======================================================================================\n",
      "                         coef    std err          t      P>|t|      [0.025      0.975]\n",
      "--------------------------------------------------------------------------------------\n",
      "Intercept              0.0009      0.019      0.048      0.962      -0.037       0.039\n",
      "X_financial_health    -0.4239      0.028    -14.886      0.000      -0.480      -0.368\n",
      "COLLIDER_leverage      0.4400      0.017     26.664      0.000       0.408       0.472\n",
      "======================================================================================\n"
     ]
    }
   ],
   "source": [
    "print(model_with_endogeneous_selection_bias\n",
    "      .summary()\n",
    "      .tables[1]\n",
    "     )"
   ]
  },
  {
   "cell_type": "code",
   "execution_count": 29,
   "id": "ebc7073e",
   "metadata": {},
   "outputs": [],
   "source": [
    "valid_model =\\\n",
    "(\n",
    "    smf\n",
    "    .ols(formula = \"Y_stock_return ~ X_financial_health\",\n",
    "         data = data_with_COLLIDER)\n",
    "    .fit()\n",
    ")\n",
    "\n",
    "# True Effects of B = 0.10"
   ]
  },
  {
   "cell_type": "code",
   "execution_count": 30,
   "id": "871c3836",
   "metadata": {},
   "outputs": [
    {
     "name": "stdout",
     "output_type": "stream",
     "text": [
      "======================================================================================\n",
      "                         coef    std err          t      P>|t|      [0.025      0.975]\n",
      "--------------------------------------------------------------------------------------\n",
      "Intercept             -0.0085      0.022     -0.380      0.704      -0.052       0.035\n",
      "X_financial_health     0.1386      0.022      6.222      0.000       0.095       0.182\n",
      "======================================================================================\n"
     ]
    }
   ],
   "source": [
    "print(valid_model\n",
    "      .summary()\n",
    "      .tables[1])"
   ]
  },
  {
   "cell_type": "markdown",
   "id": "a4c69bb9",
   "metadata": {},
   "source": [
    "`Thank you for working with the script 👍`"
   ]
  }
 ],
 "metadata": {
  "kernelspec": {
   "display_name": "Python 3 (ipykernel)",
   "language": "python",
   "name": "python3"
  },
  "language_info": {
   "codemirror_mode": {
    "name": "ipython",
    "version": 3
   },
   "file_extension": ".py",
   "mimetype": "text/x-python",
   "name": "python",
   "nbconvert_exporter": "python",
   "pygments_lexer": "ipython3",
   "version": "3.11.3"
  }
 },
 "nbformat": 4,
 "nbformat_minor": 5
}
