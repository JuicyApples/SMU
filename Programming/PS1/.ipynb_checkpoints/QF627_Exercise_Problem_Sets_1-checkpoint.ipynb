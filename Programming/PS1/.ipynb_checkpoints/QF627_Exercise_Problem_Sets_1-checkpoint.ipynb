{
 "cells": [
  {
   "cell_type": "markdown",
   "metadata": {},
   "source": [
    "# QF 627 Programming and Computational Finance\n",
    "## Problem-Sets for Exercise 1 | `Questions`"
   ]
  },
  {
   "cell_type": "markdown",
   "metadata": {},
   "source": [
    "> For your further exercise, let's analyze a dataset about [TED talks](https://www.ted.com/talks) using `pandas` and `matplotlib` libraries."
   ]
  },
  {
   "cell_type": "markdown",
   "metadata": {},
   "source": [
    "### <font color = green> Activation of necessary libraries. </font>"
   ]
  },
  {
   "cell_type": "code",
   "execution_count": 1,
   "metadata": {},
   "outputs": [],
   "source": [
    "import matplotlib as mpl\n",
    "import matplotlib.pyplot as plt\n",
    "import numpy as np\n",
    "import pandas as pd\n",
    "import IPython"
   ]
  },
  {
   "cell_type": "markdown",
   "metadata": {},
   "source": [
    "### <font color = \"blue\"> `IMPORT` your dataset: `ted.csv`. </font>"
   ]
  },
  {
   "cell_type": "code",
   "execution_count": 2,
   "metadata": {},
   "outputs": [],
   "source": [
    "data = pd \\\n",
    "    .read_csv(\"ted.csv\")"
   ]
  },
  {
   "cell_type": "markdown",
   "metadata": {
    "scrolled": false
   },
   "source": [
    "> #### Print the imported dataframe. Each row (data points) represents a single talk (unit of observation)."
   ]
  },
  {
   "cell_type": "code",
   "execution_count": 3,
   "metadata": {
    "scrolled": false
   },
   "outputs": [
    {
     "data": {
      "text/html": [
       "<div>\n",
       "<style scoped>\n",
       "    .dataframe tbody tr th:only-of-type {\n",
       "        vertical-align: middle;\n",
       "    }\n",
       "\n",
       "    .dataframe tbody tr th {\n",
       "        vertical-align: top;\n",
       "    }\n",
       "\n",
       "    .dataframe thead th {\n",
       "        text-align: right;\n",
       "    }\n",
       "</style>\n",
       "<table border=\"1\" class=\"dataframe\">\n",
       "  <thead>\n",
       "    <tr style=\"text-align: right;\">\n",
       "      <th></th>\n",
       "      <th>comments</th>\n",
       "      <th>description</th>\n",
       "      <th>duration</th>\n",
       "      <th>event</th>\n",
       "      <th>film_date</th>\n",
       "      <th>languages</th>\n",
       "      <th>main_speaker</th>\n",
       "      <th>name</th>\n",
       "      <th>num_speaker</th>\n",
       "      <th>published_date</th>\n",
       "      <th>ratings</th>\n",
       "      <th>related_talks</th>\n",
       "      <th>speaker_occupation</th>\n",
       "      <th>tags</th>\n",
       "      <th>title</th>\n",
       "      <th>url</th>\n",
       "      <th>views</th>\n",
       "    </tr>\n",
       "  </thead>\n",
       "  <tbody>\n",
       "    <tr>\n",
       "      <th>0</th>\n",
       "      <td>4553</td>\n",
       "      <td>Sir Ken Robinson makes an entertaining and pro...</td>\n",
       "      <td>1164</td>\n",
       "      <td>TED2006</td>\n",
       "      <td>1140825600</td>\n",
       "      <td>60</td>\n",
       "      <td>Ken Robinson</td>\n",
       "      <td>Ken Robinson: Do schools kill creativity?</td>\n",
       "      <td>1</td>\n",
       "      <td>1151367060</td>\n",
       "      <td>[{'id': 7, 'name': 'Funny', 'count': 19645}, {...</td>\n",
       "      <td>[{'id': 865, 'hero': 'https://pe.tedcdn.com/im...</td>\n",
       "      <td>Author/educator</td>\n",
       "      <td>['children', 'creativity', 'culture', 'dance',...</td>\n",
       "      <td>Do schools kill creativity?</td>\n",
       "      <td>https://www.ted.com/talks/ken_robinson_says_sc...</td>\n",
       "      <td>47227110</td>\n",
       "    </tr>\n",
       "    <tr>\n",
       "      <th>1</th>\n",
       "      <td>265</td>\n",
       "      <td>With the same humor and humanity he exuded in ...</td>\n",
       "      <td>977</td>\n",
       "      <td>TED2006</td>\n",
       "      <td>1140825600</td>\n",
       "      <td>43</td>\n",
       "      <td>Al Gore</td>\n",
       "      <td>Al Gore: Averting the climate crisis</td>\n",
       "      <td>1</td>\n",
       "      <td>1151367060</td>\n",
       "      <td>[{'id': 7, 'name': 'Funny', 'count': 544}, {'i...</td>\n",
       "      <td>[{'id': 243, 'hero': 'https://pe.tedcdn.com/im...</td>\n",
       "      <td>Climate advocate</td>\n",
       "      <td>['alternative energy', 'cars', 'climate change...</td>\n",
       "      <td>Averting the climate crisis</td>\n",
       "      <td>https://www.ted.com/talks/al_gore_on_averting_...</td>\n",
       "      <td>3200520</td>\n",
       "    </tr>\n",
       "    <tr>\n",
       "      <th>2</th>\n",
       "      <td>124</td>\n",
       "      <td>New York Times columnist David Pogue takes aim...</td>\n",
       "      <td>1286</td>\n",
       "      <td>TED2006</td>\n",
       "      <td>1140739200</td>\n",
       "      <td>26</td>\n",
       "      <td>David Pogue</td>\n",
       "      <td>David Pogue: Simplicity sells</td>\n",
       "      <td>1</td>\n",
       "      <td>1151367060</td>\n",
       "      <td>[{'id': 7, 'name': 'Funny', 'count': 964}, {'i...</td>\n",
       "      <td>[{'id': 1725, 'hero': 'https://pe.tedcdn.com/i...</td>\n",
       "      <td>Technology columnist</td>\n",
       "      <td>['computers', 'entertainment', 'interface desi...</td>\n",
       "      <td>Simplicity sells</td>\n",
       "      <td>https://www.ted.com/talks/david_pogue_says_sim...</td>\n",
       "      <td>1636292</td>\n",
       "    </tr>\n",
       "    <tr>\n",
       "      <th>3</th>\n",
       "      <td>200</td>\n",
       "      <td>In an emotionally charged talk, MacArthur-winn...</td>\n",
       "      <td>1116</td>\n",
       "      <td>TED2006</td>\n",
       "      <td>1140912000</td>\n",
       "      <td>35</td>\n",
       "      <td>Majora Carter</td>\n",
       "      <td>Majora Carter: Greening the ghetto</td>\n",
       "      <td>1</td>\n",
       "      <td>1151367060</td>\n",
       "      <td>[{'id': 3, 'name': 'Courageous', 'count': 760}...</td>\n",
       "      <td>[{'id': 1041, 'hero': 'https://pe.tedcdn.com/i...</td>\n",
       "      <td>Activist for environmental justice</td>\n",
       "      <td>['MacArthur grant', 'activism', 'business', 'c...</td>\n",
       "      <td>Greening the ghetto</td>\n",
       "      <td>https://www.ted.com/talks/majora_carter_s_tale...</td>\n",
       "      <td>1697550</td>\n",
       "    </tr>\n",
       "    <tr>\n",
       "      <th>4</th>\n",
       "      <td>593</td>\n",
       "      <td>You've never seen data presented like this. Wi...</td>\n",
       "      <td>1190</td>\n",
       "      <td>TED2006</td>\n",
       "      <td>1140566400</td>\n",
       "      <td>48</td>\n",
       "      <td>Hans Rosling</td>\n",
       "      <td>Hans Rosling: The best stats you've ever seen</td>\n",
       "      <td>1</td>\n",
       "      <td>1151440680</td>\n",
       "      <td>[{'id': 9, 'name': 'Ingenious', 'count': 3202}...</td>\n",
       "      <td>[{'id': 2056, 'hero': 'https://pe.tedcdn.com/i...</td>\n",
       "      <td>Global health expert; data visionary</td>\n",
       "      <td>['Africa', 'Asia', 'Google', 'demo', 'economic...</td>\n",
       "      <td>The best stats you've ever seen</td>\n",
       "      <td>https://www.ted.com/talks/hans_rosling_shows_t...</td>\n",
       "      <td>12005869</td>\n",
       "    </tr>\n",
       "  </tbody>\n",
       "</table>\n",
       "</div>"
      ],
      "text/plain": [
       "   comments                                        description  duration  \\\n",
       "0      4553  Sir Ken Robinson makes an entertaining and pro...      1164   \n",
       "1       265  With the same humor and humanity he exuded in ...       977   \n",
       "2       124  New York Times columnist David Pogue takes aim...      1286   \n",
       "3       200  In an emotionally charged talk, MacArthur-winn...      1116   \n",
       "4       593  You've never seen data presented like this. Wi...      1190   \n",
       "\n",
       "     event   film_date  languages   main_speaker  \\\n",
       "0  TED2006  1140825600         60   Ken Robinson   \n",
       "1  TED2006  1140825600         43        Al Gore   \n",
       "2  TED2006  1140739200         26    David Pogue   \n",
       "3  TED2006  1140912000         35  Majora Carter   \n",
       "4  TED2006  1140566400         48   Hans Rosling   \n",
       "\n",
       "                                            name  num_speaker  published_date  \\\n",
       "0      Ken Robinson: Do schools kill creativity?            1      1151367060   \n",
       "1           Al Gore: Averting the climate crisis            1      1151367060   \n",
       "2                  David Pogue: Simplicity sells            1      1151367060   \n",
       "3             Majora Carter: Greening the ghetto            1      1151367060   \n",
       "4  Hans Rosling: The best stats you've ever seen            1      1151440680   \n",
       "\n",
       "                                             ratings  \\\n",
       "0  [{'id': 7, 'name': 'Funny', 'count': 19645}, {...   \n",
       "1  [{'id': 7, 'name': 'Funny', 'count': 544}, {'i...   \n",
       "2  [{'id': 7, 'name': 'Funny', 'count': 964}, {'i...   \n",
       "3  [{'id': 3, 'name': 'Courageous', 'count': 760}...   \n",
       "4  [{'id': 9, 'name': 'Ingenious', 'count': 3202}...   \n",
       "\n",
       "                                       related_talks  \\\n",
       "0  [{'id': 865, 'hero': 'https://pe.tedcdn.com/im...   \n",
       "1  [{'id': 243, 'hero': 'https://pe.tedcdn.com/im...   \n",
       "2  [{'id': 1725, 'hero': 'https://pe.tedcdn.com/i...   \n",
       "3  [{'id': 1041, 'hero': 'https://pe.tedcdn.com/i...   \n",
       "4  [{'id': 2056, 'hero': 'https://pe.tedcdn.com/i...   \n",
       "\n",
       "                     speaker_occupation  \\\n",
       "0                       Author/educator   \n",
       "1                      Climate advocate   \n",
       "2                  Technology columnist   \n",
       "3    Activist for environmental justice   \n",
       "4  Global health expert; data visionary   \n",
       "\n",
       "                                                tags  \\\n",
       "0  ['children', 'creativity', 'culture', 'dance',...   \n",
       "1  ['alternative energy', 'cars', 'climate change...   \n",
       "2  ['computers', 'entertainment', 'interface desi...   \n",
       "3  ['MacArthur grant', 'activism', 'business', 'c...   \n",
       "4  ['Africa', 'Asia', 'Google', 'demo', 'economic...   \n",
       "\n",
       "                             title  \\\n",
       "0      Do schools kill creativity?   \n",
       "1      Averting the climate crisis   \n",
       "2                 Simplicity sells   \n",
       "3              Greening the ghetto   \n",
       "4  The best stats you've ever seen   \n",
       "\n",
       "                                                 url     views  \n",
       "0  https://www.ted.com/talks/ken_robinson_says_sc...  47227110  \n",
       "1  https://www.ted.com/talks/al_gore_on_averting_...   3200520  \n",
       "2  https://www.ted.com/talks/david_pogue_says_sim...   1636292  \n",
       "3  https://www.ted.com/talks/majora_carter_s_tale...   1697550  \n",
       "4  https://www.ted.com/talks/hans_rosling_shows_t...  12005869  "
      ]
     },
     "execution_count": 3,
     "metadata": {},
     "output_type": "execute_result"
    }
   ],
   "source": [
    "data.head()"
   ]
  },
  {
   "cell_type": "markdown",
   "metadata": {},
   "source": [
    "### Question 1. How would you check the number of rows and columns?"
   ]
  },
  {
   "cell_type": "code",
   "execution_count": 4,
   "metadata": {},
   "outputs": [
    {
     "data": {
      "text/plain": [
       "(2550, 17)"
      ]
     },
     "execution_count": 4,
     "metadata": {},
     "output_type": "execute_result"
    }
   ],
   "source": [
    "data.shape"
   ]
  },
  {
   "cell_type": "markdown",
   "metadata": {},
   "source": [
    "> Note that `object columns` are usually `strings`, but can also be arbitrary Python objects such as `lists` and `dictionaries`.\n",
    "\n",
    "> #### <font color = \"red\"> See **Chapter 12 and 13** of `The Coder's Apprentice` for more details. </font>"
   ]
  },
  {
   "cell_type": "markdown",
   "metadata": {},
   "source": [
    "### Question 2. How would you count the number of missing values in each column?"
   ]
  },
  {
   "cell_type": "code",
   "execution_count": 5,
   "metadata": {},
   "outputs": [
    {
     "data": {
      "text/plain": [
       "comments              0\n",
       "description           0\n",
       "duration              0\n",
       "event                 0\n",
       "film_date             0\n",
       "languages             0\n",
       "main_speaker          0\n",
       "name                  0\n",
       "num_speaker           0\n",
       "published_date        0\n",
       "ratings               0\n",
       "related_talks         0\n",
       "speaker_occupation    6\n",
       "tags                  0\n",
       "title                 0\n",
       "url                   0\n",
       "views                 0\n",
       "dtype: int64"
      ]
     },
     "execution_count": 5,
     "metadata": {},
     "output_type": "execute_result"
    }
   ],
   "source": [
    "data.isnull().sum()"
   ]
  },
  {
   "cell_type": "markdown",
   "metadata": {},
   "source": [
    "### Question 3.1. Which talks give rise to the most online discussion? First, please sort by the number of first-level comments (though note that this is `biased in favor of older talks`)."
   ]
  },
  {
   "cell_type": "code",
   "execution_count": 6,
   "metadata": {},
   "outputs": [
    {
     "data": {
      "text/html": [
       "<div>\n",
       "<style scoped>\n",
       "    .dataframe tbody tr th:only-of-type {\n",
       "        vertical-align: middle;\n",
       "    }\n",
       "\n",
       "    .dataframe tbody tr th {\n",
       "        vertical-align: top;\n",
       "    }\n",
       "\n",
       "    .dataframe thead th {\n",
       "        text-align: right;\n",
       "    }\n",
       "</style>\n",
       "<table border=\"1\" class=\"dataframe\">\n",
       "  <thead>\n",
       "    <tr style=\"text-align: right;\">\n",
       "      <th></th>\n",
       "      <th>comments</th>\n",
       "      <th>description</th>\n",
       "      <th>duration</th>\n",
       "      <th>event</th>\n",
       "      <th>film_date</th>\n",
       "      <th>languages</th>\n",
       "      <th>main_speaker</th>\n",
       "      <th>name</th>\n",
       "      <th>num_speaker</th>\n",
       "      <th>published_date</th>\n",
       "      <th>ratings</th>\n",
       "      <th>related_talks</th>\n",
       "      <th>speaker_occupation</th>\n",
       "      <th>tags</th>\n",
       "      <th>title</th>\n",
       "      <th>url</th>\n",
       "      <th>views</th>\n",
       "    </tr>\n",
       "  </thead>\n",
       "  <tbody>\n",
       "    <tr>\n",
       "      <th>96</th>\n",
       "      <td>6404</td>\n",
       "      <td>Richard Dawkins urges all atheists to openly s...</td>\n",
       "      <td>1750</td>\n",
       "      <td>TED2002</td>\n",
       "      <td>1012608000</td>\n",
       "      <td>42</td>\n",
       "      <td>Richard Dawkins</td>\n",
       "      <td>Richard Dawkins: Militant atheism</td>\n",
       "      <td>1</td>\n",
       "      <td>1176689220</td>\n",
       "      <td>[{'id': 3, 'name': 'Courageous', 'count': 3236...</td>\n",
       "      <td>[{'id': 86, 'hero': 'https://pe.tedcdn.com/ima...</td>\n",
       "      <td>Evolutionary biologist</td>\n",
       "      <td>['God', 'atheism', 'culture', 'religion', 'sci...</td>\n",
       "      <td>Militant atheism</td>\n",
       "      <td>https://www.ted.com/talks/richard_dawkins_on_m...</td>\n",
       "      <td>4374792</td>\n",
       "    </tr>\n",
       "    <tr>\n",
       "      <th>0</th>\n",
       "      <td>4553</td>\n",
       "      <td>Sir Ken Robinson makes an entertaining and pro...</td>\n",
       "      <td>1164</td>\n",
       "      <td>TED2006</td>\n",
       "      <td>1140825600</td>\n",
       "      <td>60</td>\n",
       "      <td>Ken Robinson</td>\n",
       "      <td>Ken Robinson: Do schools kill creativity?</td>\n",
       "      <td>1</td>\n",
       "      <td>1151367060</td>\n",
       "      <td>[{'id': 7, 'name': 'Funny', 'count': 19645}, {...</td>\n",
       "      <td>[{'id': 865, 'hero': 'https://pe.tedcdn.com/im...</td>\n",
       "      <td>Author/educator</td>\n",
       "      <td>['children', 'creativity', 'culture', 'dance',...</td>\n",
       "      <td>Do schools kill creativity?</td>\n",
       "      <td>https://www.ted.com/talks/ken_robinson_says_sc...</td>\n",
       "      <td>47227110</td>\n",
       "    </tr>\n",
       "    <tr>\n",
       "      <th>644</th>\n",
       "      <td>3356</td>\n",
       "      <td>Questions of good and evil, right and wrong ar...</td>\n",
       "      <td>1386</td>\n",
       "      <td>TED2010</td>\n",
       "      <td>1265846400</td>\n",
       "      <td>39</td>\n",
       "      <td>Sam Harris</td>\n",
       "      <td>Sam Harris: Science can answer moral questions</td>\n",
       "      <td>1</td>\n",
       "      <td>1269249180</td>\n",
       "      <td>[{'id': 8, 'name': 'Informative', 'count': 923...</td>\n",
       "      <td>[{'id': 666, 'hero': 'https://pe.tedcdn.com/im...</td>\n",
       "      <td>Neuroscientist, philosopher</td>\n",
       "      <td>['culture', 'evolutionary psychology', 'global...</td>\n",
       "      <td>Science can answer moral questions</td>\n",
       "      <td>https://www.ted.com/talks/sam_harris_science_c...</td>\n",
       "      <td>3433437</td>\n",
       "    </tr>\n",
       "    <tr>\n",
       "      <th>201</th>\n",
       "      <td>2877</td>\n",
       "      <td>Jill Bolte Taylor got a research opportunity f...</td>\n",
       "      <td>1099</td>\n",
       "      <td>TED2008</td>\n",
       "      <td>1204070400</td>\n",
       "      <td>49</td>\n",
       "      <td>Jill Bolte Taylor</td>\n",
       "      <td>Jill Bolte Taylor: My stroke of insight</td>\n",
       "      <td>1</td>\n",
       "      <td>1205284200</td>\n",
       "      <td>[{'id': 22, 'name': 'Fascinating', 'count': 14...</td>\n",
       "      <td>[{'id': 184, 'hero': 'https://pe.tedcdn.com/im...</td>\n",
       "      <td>Neuroanatomist</td>\n",
       "      <td>['biology', 'brain', 'consciousness', 'global ...</td>\n",
       "      <td>My stroke of insight</td>\n",
       "      <td>https://www.ted.com/talks/jill_bolte_taylor_s_...</td>\n",
       "      <td>21190883</td>\n",
       "    </tr>\n",
       "    <tr>\n",
       "      <th>1787</th>\n",
       "      <td>2673</td>\n",
       "      <td>Our consciousness is a fundamental aspect of o...</td>\n",
       "      <td>1117</td>\n",
       "      <td>TED2014</td>\n",
       "      <td>1395100800</td>\n",
       "      <td>33</td>\n",
       "      <td>David Chalmers</td>\n",
       "      <td>David Chalmers: How do you explain consciousness?</td>\n",
       "      <td>1</td>\n",
       "      <td>1405350484</td>\n",
       "      <td>[{'id': 25, 'name': 'OK', 'count': 280}, {'id'...</td>\n",
       "      <td>[{'id': 1308, 'hero': 'https://pe.tedcdn.com/i...</td>\n",
       "      <td>Philosopher</td>\n",
       "      <td>['brain', 'consciousness', 'neuroscience', 'ph...</td>\n",
       "      <td>How do you explain consciousness?</td>\n",
       "      <td>https://www.ted.com/talks/david_chalmers_how_d...</td>\n",
       "      <td>2162764</td>\n",
       "    </tr>\n",
       "    <tr>\n",
       "      <th>...</th>\n",
       "      <td>...</td>\n",
       "      <td>...</td>\n",
       "      <td>...</td>\n",
       "      <td>...</td>\n",
       "      <td>...</td>\n",
       "      <td>...</td>\n",
       "      <td>...</td>\n",
       "      <td>...</td>\n",
       "      <td>...</td>\n",
       "      <td>...</td>\n",
       "      <td>...</td>\n",
       "      <td>...</td>\n",
       "      <td>...</td>\n",
       "      <td>...</td>\n",
       "      <td>...</td>\n",
       "      <td>...</td>\n",
       "      <td>...</td>\n",
       "    </tr>\n",
       "    <tr>\n",
       "      <th>2407</th>\n",
       "      <td>5</td>\n",
       "      <td>Grammy-winning Silk Road Ensemble display thei...</td>\n",
       "      <td>389</td>\n",
       "      <td>TED2016</td>\n",
       "      <td>1455494400</td>\n",
       "      <td>0</td>\n",
       "      <td>Silk Road Ensemble</td>\n",
       "      <td>Silk Road Ensemble: \"Turceasca\"</td>\n",
       "      <td>1</td>\n",
       "      <td>1489759215</td>\n",
       "      <td>[{'id': 1, 'name': 'Beautiful', 'count': 80}, ...</td>\n",
       "      <td>[{'id': 2611, 'hero': 'https://pe.tedcdn.com/i...</td>\n",
       "      <td>Musical explorers</td>\n",
       "      <td>['art', 'live music', 'music', 'performance']</td>\n",
       "      <td>\"Turceasca\"</td>\n",
       "      <td>https://www.ted.com/talks/silk_road_ensemble_t...</td>\n",
       "      <td>640734</td>\n",
       "    </tr>\n",
       "    <tr>\n",
       "      <th>2528</th>\n",
       "      <td>3</td>\n",
       "      <td>Digital archaeologist Chance Coughenour is usi...</td>\n",
       "      <td>717</td>\n",
       "      <td>TEDxHamburg</td>\n",
       "      <td>1465344000</td>\n",
       "      <td>5</td>\n",
       "      <td>Chance Coughenour</td>\n",
       "      <td>Chance Coughenour: How your pictures can help ...</td>\n",
       "      <td>1</td>\n",
       "      <td>1504209631</td>\n",
       "      <td>[{'id': 9, 'name': 'Ingenious', 'count': 16}, ...</td>\n",
       "      <td>[{'id': 2673, 'hero': 'https://pe.tedcdn.com/i...</td>\n",
       "      <td>Digital archaeologist</td>\n",
       "      <td>['TEDx', 'ancient world', 'archaeology', 'cons...</td>\n",
       "      <td>How your pictures can help reclaim lost history</td>\n",
       "      <td>https://www.ted.com/talks/chance_coughenour_ho...</td>\n",
       "      <td>539207</td>\n",
       "    </tr>\n",
       "    <tr>\n",
       "      <th>2542</th>\n",
       "      <td>3</td>\n",
       "      <td>In the century-old statues that occupy Cape To...</td>\n",
       "      <td>795</td>\n",
       "      <td>TEDGlobal 2017</td>\n",
       "      <td>1503792000</td>\n",
       "      <td>1</td>\n",
       "      <td>Sethembile Msezane</td>\n",
       "      <td>Sethembile Msezane: Living sculptures that sta...</td>\n",
       "      <td>1</td>\n",
       "      <td>1505488093</td>\n",
       "      <td>[{'id': 1, 'name': 'Beautiful', 'count': 41}, ...</td>\n",
       "      <td>[{'id': 2873, 'hero': 'https://pe.tedcdn.com/i...</td>\n",
       "      <td>Artist</td>\n",
       "      <td>['Africa', 'activism', 'art', 'community', 'hi...</td>\n",
       "      <td>Living sculptures that stand for history's truths</td>\n",
       "      <td>https://www.ted.com/talks/sethembile_msezane_l...</td>\n",
       "      <td>542088</td>\n",
       "    </tr>\n",
       "    <tr>\n",
       "      <th>2501</th>\n",
       "      <td>3</td>\n",
       "      <td>Meet Françoise Mouly, The New Yorker's art dir...</td>\n",
       "      <td>509</td>\n",
       "      <td>TEDNYC</td>\n",
       "      <td>1488931200</td>\n",
       "      <td>12</td>\n",
       "      <td>Françoise Mouly</td>\n",
       "      <td>Françoise Mouly: The stories behind The New Yo...</td>\n",
       "      <td>1</td>\n",
       "      <td>1501770244</td>\n",
       "      <td>[{'id': 7, 'name': 'Funny', 'count': 10}, {'id...</td>\n",
       "      <td>[{'id': 2479, 'hero': 'https://pe.tedcdn.com/i...</td>\n",
       "      <td>Art editor</td>\n",
       "      <td>['TEDNYC', 'art', 'creativity', 'culture', 'de...</td>\n",
       "      <td>The stories behind The New Yorker's iconic covers</td>\n",
       "      <td>https://www.ted.com/talks/francoise_mouly_the_...</td>\n",
       "      <td>839040</td>\n",
       "    </tr>\n",
       "    <tr>\n",
       "      <th>2534</th>\n",
       "      <td>2</td>\n",
       "      <td>What the astronauts felt when they saw Earth f...</td>\n",
       "      <td>725</td>\n",
       "      <td>TEDxSkoll</td>\n",
       "      <td>1491523200</td>\n",
       "      <td>1</td>\n",
       "      <td>Benjamin Grant</td>\n",
       "      <td>Benjamin Grant: What it feels like to see Eart...</td>\n",
       "      <td>1</td>\n",
       "      <td>1504814438</td>\n",
       "      <td>[{'id': 10, 'name': 'Inspiring', 'count': 46},...</td>\n",
       "      <td>[{'id': 2511, 'hero': 'https://pe.tedcdn.com/i...</td>\n",
       "      <td>Author</td>\n",
       "      <td>['TEDx', 'art', 'climate change', 'environment...</td>\n",
       "      <td>What it feels like to see Earth from space</td>\n",
       "      <td>https://www.ted.com/talks/benjamin_grant_what_...</td>\n",
       "      <td>646174</td>\n",
       "    </tr>\n",
       "  </tbody>\n",
       "</table>\n",
       "<p>2550 rows × 17 columns</p>\n",
       "</div>"
      ],
      "text/plain": [
       "      comments                                        description  duration  \\\n",
       "96        6404  Richard Dawkins urges all atheists to openly s...      1750   \n",
       "0         4553  Sir Ken Robinson makes an entertaining and pro...      1164   \n",
       "644       3356  Questions of good and evil, right and wrong ar...      1386   \n",
       "201       2877  Jill Bolte Taylor got a research opportunity f...      1099   \n",
       "1787      2673  Our consciousness is a fundamental aspect of o...      1117   \n",
       "...        ...                                                ...       ...   \n",
       "2407         5  Grammy-winning Silk Road Ensemble display thei...       389   \n",
       "2528         3  Digital archaeologist Chance Coughenour is usi...       717   \n",
       "2542         3  In the century-old statues that occupy Cape To...       795   \n",
       "2501         3  Meet Françoise Mouly, The New Yorker's art dir...       509   \n",
       "2534         2  What the astronauts felt when they saw Earth f...       725   \n",
       "\n",
       "               event   film_date  languages         main_speaker  \\\n",
       "96           TED2002  1012608000         42      Richard Dawkins   \n",
       "0            TED2006  1140825600         60         Ken Robinson   \n",
       "644          TED2010  1265846400         39           Sam Harris   \n",
       "201          TED2008  1204070400         49    Jill Bolte Taylor   \n",
       "1787         TED2014  1395100800         33       David Chalmers   \n",
       "...              ...         ...        ...                  ...   \n",
       "2407         TED2016  1455494400          0   Silk Road Ensemble   \n",
       "2528     TEDxHamburg  1465344000          5    Chance Coughenour   \n",
       "2542  TEDGlobal 2017  1503792000          1   Sethembile Msezane   \n",
       "2501          TEDNYC  1488931200         12      Françoise Mouly   \n",
       "2534       TEDxSkoll  1491523200          1       Benjamin Grant   \n",
       "\n",
       "                                                   name  num_speaker  \\\n",
       "96                    Richard Dawkins: Militant atheism            1   \n",
       "0             Ken Robinson: Do schools kill creativity?            1   \n",
       "644      Sam Harris: Science can answer moral questions            1   \n",
       "201             Jill Bolte Taylor: My stroke of insight            1   \n",
       "1787  David Chalmers: How do you explain consciousness?            1   \n",
       "...                                                 ...          ...   \n",
       "2407                    Silk Road Ensemble: \"Turceasca\"            1   \n",
       "2528  Chance Coughenour: How your pictures can help ...            1   \n",
       "2542  Sethembile Msezane: Living sculptures that sta...            1   \n",
       "2501  Françoise Mouly: The stories behind The New Yo...            1   \n",
       "2534  Benjamin Grant: What it feels like to see Eart...            1   \n",
       "\n",
       "      published_date                                            ratings  \\\n",
       "96        1176689220  [{'id': 3, 'name': 'Courageous', 'count': 3236...   \n",
       "0         1151367060  [{'id': 7, 'name': 'Funny', 'count': 19645}, {...   \n",
       "644       1269249180  [{'id': 8, 'name': 'Informative', 'count': 923...   \n",
       "201       1205284200  [{'id': 22, 'name': 'Fascinating', 'count': 14...   \n",
       "1787      1405350484  [{'id': 25, 'name': 'OK', 'count': 280}, {'id'...   \n",
       "...              ...                                                ...   \n",
       "2407      1489759215  [{'id': 1, 'name': 'Beautiful', 'count': 80}, ...   \n",
       "2528      1504209631  [{'id': 9, 'name': 'Ingenious', 'count': 16}, ...   \n",
       "2542      1505488093  [{'id': 1, 'name': 'Beautiful', 'count': 41}, ...   \n",
       "2501      1501770244  [{'id': 7, 'name': 'Funny', 'count': 10}, {'id...   \n",
       "2534      1504814438  [{'id': 10, 'name': 'Inspiring', 'count': 46},...   \n",
       "\n",
       "                                          related_talks  \\\n",
       "96    [{'id': 86, 'hero': 'https://pe.tedcdn.com/ima...   \n",
       "0     [{'id': 865, 'hero': 'https://pe.tedcdn.com/im...   \n",
       "644   [{'id': 666, 'hero': 'https://pe.tedcdn.com/im...   \n",
       "201   [{'id': 184, 'hero': 'https://pe.tedcdn.com/im...   \n",
       "1787  [{'id': 1308, 'hero': 'https://pe.tedcdn.com/i...   \n",
       "...                                                 ...   \n",
       "2407  [{'id': 2611, 'hero': 'https://pe.tedcdn.com/i...   \n",
       "2528  [{'id': 2673, 'hero': 'https://pe.tedcdn.com/i...   \n",
       "2542  [{'id': 2873, 'hero': 'https://pe.tedcdn.com/i...   \n",
       "2501  [{'id': 2479, 'hero': 'https://pe.tedcdn.com/i...   \n",
       "2534  [{'id': 2511, 'hero': 'https://pe.tedcdn.com/i...   \n",
       "\n",
       "               speaker_occupation  \\\n",
       "96         Evolutionary biologist   \n",
       "0                 Author/educator   \n",
       "644   Neuroscientist, philosopher   \n",
       "201                Neuroanatomist   \n",
       "1787                  Philosopher   \n",
       "...                           ...   \n",
       "2407            Musical explorers   \n",
       "2528        Digital archaeologist   \n",
       "2542                       Artist   \n",
       "2501                   Art editor   \n",
       "2534                       Author   \n",
       "\n",
       "                                                   tags  \\\n",
       "96    ['God', 'atheism', 'culture', 'religion', 'sci...   \n",
       "0     ['children', 'creativity', 'culture', 'dance',...   \n",
       "644   ['culture', 'evolutionary psychology', 'global...   \n",
       "201   ['biology', 'brain', 'consciousness', 'global ...   \n",
       "1787  ['brain', 'consciousness', 'neuroscience', 'ph...   \n",
       "...                                                 ...   \n",
       "2407      ['art', 'live music', 'music', 'performance']   \n",
       "2528  ['TEDx', 'ancient world', 'archaeology', 'cons...   \n",
       "2542  ['Africa', 'activism', 'art', 'community', 'hi...   \n",
       "2501  ['TEDNYC', 'art', 'creativity', 'culture', 'de...   \n",
       "2534  ['TEDx', 'art', 'climate change', 'environment...   \n",
       "\n",
       "                                                  title  \\\n",
       "96                                     Militant atheism   \n",
       "0                           Do schools kill creativity?   \n",
       "644                  Science can answer moral questions   \n",
       "201                                My stroke of insight   \n",
       "1787                  How do you explain consciousness?   \n",
       "...                                                 ...   \n",
       "2407                                        \"Turceasca\"   \n",
       "2528    How your pictures can help reclaim lost history   \n",
       "2542  Living sculptures that stand for history's truths   \n",
       "2501  The stories behind The New Yorker's iconic covers   \n",
       "2534         What it feels like to see Earth from space   \n",
       "\n",
       "                                                    url     views  \n",
       "96    https://www.ted.com/talks/richard_dawkins_on_m...   4374792  \n",
       "0     https://www.ted.com/talks/ken_robinson_says_sc...  47227110  \n",
       "644   https://www.ted.com/talks/sam_harris_science_c...   3433437  \n",
       "201   https://www.ted.com/talks/jill_bolte_taylor_s_...  21190883  \n",
       "1787  https://www.ted.com/talks/david_chalmers_how_d...   2162764  \n",
       "...                                                 ...       ...  \n",
       "2407  https://www.ted.com/talks/silk_road_ensemble_t...    640734  \n",
       "2528  https://www.ted.com/talks/chance_coughenour_ho...    539207  \n",
       "2542  https://www.ted.com/talks/sethembile_msezane_l...    542088  \n",
       "2501  https://www.ted.com/talks/francoise_mouly_the_...    839040  \n",
       "2534  https://www.ted.com/talks/benjamin_grant_what_...    646174  \n",
       "\n",
       "[2550 rows x 17 columns]"
      ]
     },
     "execution_count": 6,
     "metadata": {},
     "output_type": "execute_result"
    }
   ],
   "source": [
    "data.sort_values(by = \"comments\",\n",
    "                ascending = False)"
   ]
  },
  {
   "cell_type": "markdown",
   "metadata": {},
   "source": [
    "#### Question 3.2. Please `correct for the bias` in favor of older talks `by calculating the number of comments per view`."
   ]
  },
  {
   "cell_type": "code",
   "execution_count": 7,
   "metadata": {},
   "outputs": [],
   "source": [
    "data[\"CPV\"] = data[\"comments\"] / data[\"views\"]"
   ]
  },
  {
   "cell_type": "code",
   "execution_count": 8,
   "metadata": {},
   "outputs": [
    {
     "data": {
      "text/html": [
       "<div>\n",
       "<style scoped>\n",
       "    .dataframe tbody tr th:only-of-type {\n",
       "        vertical-align: middle;\n",
       "    }\n",
       "\n",
       "    .dataframe tbody tr th {\n",
       "        vertical-align: top;\n",
       "    }\n",
       "\n",
       "    .dataframe thead th {\n",
       "        text-align: right;\n",
       "    }\n",
       "</style>\n",
       "<table border=\"1\" class=\"dataframe\">\n",
       "  <thead>\n",
       "    <tr style=\"text-align: right;\">\n",
       "      <th></th>\n",
       "      <th>comments</th>\n",
       "      <th>description</th>\n",
       "      <th>duration</th>\n",
       "      <th>event</th>\n",
       "      <th>film_date</th>\n",
       "      <th>languages</th>\n",
       "      <th>main_speaker</th>\n",
       "      <th>name</th>\n",
       "      <th>num_speaker</th>\n",
       "      <th>published_date</th>\n",
       "      <th>ratings</th>\n",
       "      <th>related_talks</th>\n",
       "      <th>speaker_occupation</th>\n",
       "      <th>tags</th>\n",
       "      <th>title</th>\n",
       "      <th>url</th>\n",
       "      <th>views</th>\n",
       "      <th>CPV</th>\n",
       "    </tr>\n",
       "  </thead>\n",
       "  <tbody>\n",
       "    <tr>\n",
       "      <th>744</th>\n",
       "      <td>649</td>\n",
       "      <td>Hours before New York lawmakers rejected a key...</td>\n",
       "      <td>453</td>\n",
       "      <td>New York State Senate</td>\n",
       "      <td>1259712000</td>\n",
       "      <td>0</td>\n",
       "      <td>Diane J. Savino</td>\n",
       "      <td>Diane J. Savino: The case for same-sex marriage</td>\n",
       "      <td>1</td>\n",
       "      <td>1282062180</td>\n",
       "      <td>[{'id': 25, 'name': 'OK', 'count': 100}, {'id'...</td>\n",
       "      <td>[{'id': 217, 'hero': 'https://pe.tedcdn.com/im...</td>\n",
       "      <td>Senator</td>\n",
       "      <td>['God', 'LGBT', 'culture', 'government', 'law'...</td>\n",
       "      <td>The case for same-sex marriage</td>\n",
       "      <td>https://www.ted.com/talks/diane_j_savino_the_c...</td>\n",
       "      <td>292395</td>\n",
       "      <td>0.002220</td>\n",
       "    </tr>\n",
       "    <tr>\n",
       "      <th>803</th>\n",
       "      <td>834</td>\n",
       "      <td>David Bismark demos a new system for voting th...</td>\n",
       "      <td>422</td>\n",
       "      <td>TEDGlobal 2010</td>\n",
       "      <td>1279065600</td>\n",
       "      <td>36</td>\n",
       "      <td>David Bismark</td>\n",
       "      <td>David Bismark: E-voting without fraud</td>\n",
       "      <td>1</td>\n",
       "      <td>1288685640</td>\n",
       "      <td>[{'id': 25, 'name': 'OK', 'count': 111}, {'id'...</td>\n",
       "      <td>[{'id': 803, 'hero': 'https://pe.tedcdn.com/im...</td>\n",
       "      <td>Voting system designer</td>\n",
       "      <td>['culture', 'democracy', 'design', 'global iss...</td>\n",
       "      <td>E-voting without fraud</td>\n",
       "      <td>https://www.ted.com/talks/david_bismark_e_voti...</td>\n",
       "      <td>543551</td>\n",
       "      <td>0.001534</td>\n",
       "    </tr>\n",
       "    <tr>\n",
       "      <th>96</th>\n",
       "      <td>6404</td>\n",
       "      <td>Richard Dawkins urges all atheists to openly s...</td>\n",
       "      <td>1750</td>\n",
       "      <td>TED2002</td>\n",
       "      <td>1012608000</td>\n",
       "      <td>42</td>\n",
       "      <td>Richard Dawkins</td>\n",
       "      <td>Richard Dawkins: Militant atheism</td>\n",
       "      <td>1</td>\n",
       "      <td>1176689220</td>\n",
       "      <td>[{'id': 3, 'name': 'Courageous', 'count': 3236...</td>\n",
       "      <td>[{'id': 86, 'hero': 'https://pe.tedcdn.com/ima...</td>\n",
       "      <td>Evolutionary biologist</td>\n",
       "      <td>['God', 'atheism', 'culture', 'religion', 'sci...</td>\n",
       "      <td>Militant atheism</td>\n",
       "      <td>https://www.ted.com/talks/richard_dawkins_on_m...</td>\n",
       "      <td>4374792</td>\n",
       "      <td>0.001464</td>\n",
       "    </tr>\n",
       "    <tr>\n",
       "      <th>694</th>\n",
       "      <td>1502</td>\n",
       "      <td>Filmmaker Sharmeen Obaid-Chinoy takes on a ter...</td>\n",
       "      <td>489</td>\n",
       "      <td>TED2010</td>\n",
       "      <td>1265760000</td>\n",
       "      <td>32</td>\n",
       "      <td>Sharmeen Obaid-Chinoy</td>\n",
       "      <td>Sharmeen Obaid-Chinoy: Inside a school for sui...</td>\n",
       "      <td>1</td>\n",
       "      <td>1274865960</td>\n",
       "      <td>[{'id': 23, 'name': 'Jaw-dropping', 'count': 3...</td>\n",
       "      <td>[{'id': 171, 'hero': 'https://pe.tedcdn.com/im...</td>\n",
       "      <td>Filmmaker</td>\n",
       "      <td>['TED Fellows', 'children', 'culture', 'film',...</td>\n",
       "      <td>Inside a school for suicide bombers</td>\n",
       "      <td>https://www.ted.com/talks/sharmeen_obaid_chino...</td>\n",
       "      <td>1057238</td>\n",
       "      <td>0.001421</td>\n",
       "    </tr>\n",
       "    <tr>\n",
       "      <th>954</th>\n",
       "      <td>2492</td>\n",
       "      <td>Janet Echelman found her true voice as an arti...</td>\n",
       "      <td>566</td>\n",
       "      <td>TED2011</td>\n",
       "      <td>1299110400</td>\n",
       "      <td>35</td>\n",
       "      <td>Janet Echelman</td>\n",
       "      <td>Janet Echelman: Taking imagination seriously</td>\n",
       "      <td>1</td>\n",
       "      <td>1307489760</td>\n",
       "      <td>[{'id': 23, 'name': 'Jaw-dropping', 'count': 3...</td>\n",
       "      <td>[{'id': 453, 'hero': 'https://pe.tedcdn.com/im...</td>\n",
       "      <td>Artist</td>\n",
       "      <td>['art', 'cities', 'culture', 'data', 'design',...</td>\n",
       "      <td>Taking imagination seriously</td>\n",
       "      <td>https://www.ted.com/talks/janet_echelman</td>\n",
       "      <td>1832930</td>\n",
       "      <td>0.001360</td>\n",
       "    </tr>\n",
       "    <tr>\n",
       "      <th>...</th>\n",
       "      <td>...</td>\n",
       "      <td>...</td>\n",
       "      <td>...</td>\n",
       "      <td>...</td>\n",
       "      <td>...</td>\n",
       "      <td>...</td>\n",
       "      <td>...</td>\n",
       "      <td>...</td>\n",
       "      <td>...</td>\n",
       "      <td>...</td>\n",
       "      <td>...</td>\n",
       "      <td>...</td>\n",
       "      <td>...</td>\n",
       "      <td>...</td>\n",
       "      <td>...</td>\n",
       "      <td>...</td>\n",
       "      <td>...</td>\n",
       "      <td>...</td>\n",
       "    </tr>\n",
       "    <tr>\n",
       "      <th>2494</th>\n",
       "      <td>7</td>\n",
       "      <td>Jimmy Lin is developing technologies to catch ...</td>\n",
       "      <td>730</td>\n",
       "      <td>TED2017</td>\n",
       "      <td>1492992000</td>\n",
       "      <td>10</td>\n",
       "      <td>Jimmy Lin</td>\n",
       "      <td>Jimmy Lin: A simple new blood test that can ca...</td>\n",
       "      <td>1</td>\n",
       "      <td>1500994384</td>\n",
       "      <td>[{'id': 1, 'name': 'Beautiful', 'count': 7}, {...</td>\n",
       "      <td>[{'id': 2498, 'hero': 'https://pe.tedcdn.com/i...</td>\n",
       "      <td>Geneticist</td>\n",
       "      <td>['DNA', 'TED Fellows', 'biology', 'cancer', 'd...</td>\n",
       "      <td>A simple new blood test that can catch cancer ...</td>\n",
       "      <td>https://www.ted.com/talks/jimmy_lin_a_simple_n...</td>\n",
       "      <td>1005506</td>\n",
       "      <td>0.000007</td>\n",
       "    </tr>\n",
       "    <tr>\n",
       "      <th>2528</th>\n",
       "      <td>3</td>\n",
       "      <td>Digital archaeologist Chance Coughenour is usi...</td>\n",
       "      <td>717</td>\n",
       "      <td>TEDxHamburg</td>\n",
       "      <td>1465344000</td>\n",
       "      <td>5</td>\n",
       "      <td>Chance Coughenour</td>\n",
       "      <td>Chance Coughenour: How your pictures can help ...</td>\n",
       "      <td>1</td>\n",
       "      <td>1504209631</td>\n",
       "      <td>[{'id': 9, 'name': 'Ingenious', 'count': 16}, ...</td>\n",
       "      <td>[{'id': 2673, 'hero': 'https://pe.tedcdn.com/i...</td>\n",
       "      <td>Digital archaeologist</td>\n",
       "      <td>['TEDx', 'ancient world', 'archaeology', 'cons...</td>\n",
       "      <td>How your pictures can help reclaim lost history</td>\n",
       "      <td>https://www.ted.com/talks/chance_coughenour_ho...</td>\n",
       "      <td>539207</td>\n",
       "      <td>0.000006</td>\n",
       "    </tr>\n",
       "    <tr>\n",
       "      <th>2542</th>\n",
       "      <td>3</td>\n",
       "      <td>In the century-old statues that occupy Cape To...</td>\n",
       "      <td>795</td>\n",
       "      <td>TEDGlobal 2017</td>\n",
       "      <td>1503792000</td>\n",
       "      <td>1</td>\n",
       "      <td>Sethembile Msezane</td>\n",
       "      <td>Sethembile Msezane: Living sculptures that sta...</td>\n",
       "      <td>1</td>\n",
       "      <td>1505488093</td>\n",
       "      <td>[{'id': 1, 'name': 'Beautiful', 'count': 41}, ...</td>\n",
       "      <td>[{'id': 2873, 'hero': 'https://pe.tedcdn.com/i...</td>\n",
       "      <td>Artist</td>\n",
       "      <td>['Africa', 'activism', 'art', 'community', 'hi...</td>\n",
       "      <td>Living sculptures that stand for history's truths</td>\n",
       "      <td>https://www.ted.com/talks/sethembile_msezane_l...</td>\n",
       "      <td>542088</td>\n",
       "      <td>0.000006</td>\n",
       "    </tr>\n",
       "    <tr>\n",
       "      <th>2501</th>\n",
       "      <td>3</td>\n",
       "      <td>Meet Françoise Mouly, The New Yorker's art dir...</td>\n",
       "      <td>509</td>\n",
       "      <td>TEDNYC</td>\n",
       "      <td>1488931200</td>\n",
       "      <td>12</td>\n",
       "      <td>Françoise Mouly</td>\n",
       "      <td>Françoise Mouly: The stories behind The New Yo...</td>\n",
       "      <td>1</td>\n",
       "      <td>1501770244</td>\n",
       "      <td>[{'id': 7, 'name': 'Funny', 'count': 10}, {'id...</td>\n",
       "      <td>[{'id': 2479, 'hero': 'https://pe.tedcdn.com/i...</td>\n",
       "      <td>Art editor</td>\n",
       "      <td>['TEDNYC', 'art', 'creativity', 'culture', 'de...</td>\n",
       "      <td>The stories behind The New Yorker's iconic covers</td>\n",
       "      <td>https://www.ted.com/talks/francoise_mouly_the_...</td>\n",
       "      <td>839040</td>\n",
       "      <td>0.000004</td>\n",
       "    </tr>\n",
       "    <tr>\n",
       "      <th>2534</th>\n",
       "      <td>2</td>\n",
       "      <td>What the astronauts felt when they saw Earth f...</td>\n",
       "      <td>725</td>\n",
       "      <td>TEDxSkoll</td>\n",
       "      <td>1491523200</td>\n",
       "      <td>1</td>\n",
       "      <td>Benjamin Grant</td>\n",
       "      <td>Benjamin Grant: What it feels like to see Eart...</td>\n",
       "      <td>1</td>\n",
       "      <td>1504814438</td>\n",
       "      <td>[{'id': 10, 'name': 'Inspiring', 'count': 46},...</td>\n",
       "      <td>[{'id': 2511, 'hero': 'https://pe.tedcdn.com/i...</td>\n",
       "      <td>Author</td>\n",
       "      <td>['TEDx', 'art', 'climate change', 'environment...</td>\n",
       "      <td>What it feels like to see Earth from space</td>\n",
       "      <td>https://www.ted.com/talks/benjamin_grant_what_...</td>\n",
       "      <td>646174</td>\n",
       "      <td>0.000003</td>\n",
       "    </tr>\n",
       "  </tbody>\n",
       "</table>\n",
       "<p>2550 rows × 18 columns</p>\n",
       "</div>"
      ],
      "text/plain": [
       "      comments                                        description  duration  \\\n",
       "744        649  Hours before New York lawmakers rejected a key...       453   \n",
       "803        834  David Bismark demos a new system for voting th...       422   \n",
       "96        6404  Richard Dawkins urges all atheists to openly s...      1750   \n",
       "694       1502  Filmmaker Sharmeen Obaid-Chinoy takes on a ter...       489   \n",
       "954       2492  Janet Echelman found her true voice as an arti...       566   \n",
       "...        ...                                                ...       ...   \n",
       "2494         7  Jimmy Lin is developing technologies to catch ...       730   \n",
       "2528         3  Digital archaeologist Chance Coughenour is usi...       717   \n",
       "2542         3  In the century-old statues that occupy Cape To...       795   \n",
       "2501         3  Meet Françoise Mouly, The New Yorker's art dir...       509   \n",
       "2534         2  What the astronauts felt when they saw Earth f...       725   \n",
       "\n",
       "                      event   film_date  languages           main_speaker  \\\n",
       "744   New York State Senate  1259712000          0        Diane J. Savino   \n",
       "803          TEDGlobal 2010  1279065600         36          David Bismark   \n",
       "96                  TED2002  1012608000         42        Richard Dawkins   \n",
       "694                 TED2010  1265760000         32  Sharmeen Obaid-Chinoy   \n",
       "954                 TED2011  1299110400         35         Janet Echelman   \n",
       "...                     ...         ...        ...                    ...   \n",
       "2494                TED2017  1492992000         10              Jimmy Lin   \n",
       "2528            TEDxHamburg  1465344000          5      Chance Coughenour   \n",
       "2542         TEDGlobal 2017  1503792000          1     Sethembile Msezane   \n",
       "2501                 TEDNYC  1488931200         12        Françoise Mouly   \n",
       "2534              TEDxSkoll  1491523200          1         Benjamin Grant   \n",
       "\n",
       "                                                   name  num_speaker  \\\n",
       "744     Diane J. Savino: The case for same-sex marriage            1   \n",
       "803               David Bismark: E-voting without fraud            1   \n",
       "96                    Richard Dawkins: Militant atheism            1   \n",
       "694   Sharmeen Obaid-Chinoy: Inside a school for sui...            1   \n",
       "954        Janet Echelman: Taking imagination seriously            1   \n",
       "...                                                 ...          ...   \n",
       "2494  Jimmy Lin: A simple new blood test that can ca...            1   \n",
       "2528  Chance Coughenour: How your pictures can help ...            1   \n",
       "2542  Sethembile Msezane: Living sculptures that sta...            1   \n",
       "2501  Françoise Mouly: The stories behind The New Yo...            1   \n",
       "2534  Benjamin Grant: What it feels like to see Eart...            1   \n",
       "\n",
       "      published_date                                            ratings  \\\n",
       "744       1282062180  [{'id': 25, 'name': 'OK', 'count': 100}, {'id'...   \n",
       "803       1288685640  [{'id': 25, 'name': 'OK', 'count': 111}, {'id'...   \n",
       "96        1176689220  [{'id': 3, 'name': 'Courageous', 'count': 3236...   \n",
       "694       1274865960  [{'id': 23, 'name': 'Jaw-dropping', 'count': 3...   \n",
       "954       1307489760  [{'id': 23, 'name': 'Jaw-dropping', 'count': 3...   \n",
       "...              ...                                                ...   \n",
       "2494      1500994384  [{'id': 1, 'name': 'Beautiful', 'count': 7}, {...   \n",
       "2528      1504209631  [{'id': 9, 'name': 'Ingenious', 'count': 16}, ...   \n",
       "2542      1505488093  [{'id': 1, 'name': 'Beautiful', 'count': 41}, ...   \n",
       "2501      1501770244  [{'id': 7, 'name': 'Funny', 'count': 10}, {'id...   \n",
       "2534      1504814438  [{'id': 10, 'name': 'Inspiring', 'count': 46},...   \n",
       "\n",
       "                                          related_talks  \\\n",
       "744   [{'id': 217, 'hero': 'https://pe.tedcdn.com/im...   \n",
       "803   [{'id': 803, 'hero': 'https://pe.tedcdn.com/im...   \n",
       "96    [{'id': 86, 'hero': 'https://pe.tedcdn.com/ima...   \n",
       "694   [{'id': 171, 'hero': 'https://pe.tedcdn.com/im...   \n",
       "954   [{'id': 453, 'hero': 'https://pe.tedcdn.com/im...   \n",
       "...                                                 ...   \n",
       "2494  [{'id': 2498, 'hero': 'https://pe.tedcdn.com/i...   \n",
       "2528  [{'id': 2673, 'hero': 'https://pe.tedcdn.com/i...   \n",
       "2542  [{'id': 2873, 'hero': 'https://pe.tedcdn.com/i...   \n",
       "2501  [{'id': 2479, 'hero': 'https://pe.tedcdn.com/i...   \n",
       "2534  [{'id': 2511, 'hero': 'https://pe.tedcdn.com/i...   \n",
       "\n",
       "          speaker_occupation  \\\n",
       "744                  Senator   \n",
       "803   Voting system designer   \n",
       "96    Evolutionary biologist   \n",
       "694                Filmmaker   \n",
       "954                   Artist   \n",
       "...                      ...   \n",
       "2494              Geneticist   \n",
       "2528   Digital archaeologist   \n",
       "2542                  Artist   \n",
       "2501              Art editor   \n",
       "2534                  Author   \n",
       "\n",
       "                                                   tags  \\\n",
       "744   ['God', 'LGBT', 'culture', 'government', 'law'...   \n",
       "803   ['culture', 'democracy', 'design', 'global iss...   \n",
       "96    ['God', 'atheism', 'culture', 'religion', 'sci...   \n",
       "694   ['TED Fellows', 'children', 'culture', 'film',...   \n",
       "954   ['art', 'cities', 'culture', 'data', 'design',...   \n",
       "...                                                 ...   \n",
       "2494  ['DNA', 'TED Fellows', 'biology', 'cancer', 'd...   \n",
       "2528  ['TEDx', 'ancient world', 'archaeology', 'cons...   \n",
       "2542  ['Africa', 'activism', 'art', 'community', 'hi...   \n",
       "2501  ['TEDNYC', 'art', 'creativity', 'culture', 'de...   \n",
       "2534  ['TEDx', 'art', 'climate change', 'environment...   \n",
       "\n",
       "                                                  title  \\\n",
       "744                      The case for same-sex marriage   \n",
       "803                              E-voting without fraud   \n",
       "96                                     Militant atheism   \n",
       "694                 Inside a school for suicide bombers   \n",
       "954                        Taking imagination seriously   \n",
       "...                                                 ...   \n",
       "2494  A simple new blood test that can catch cancer ...   \n",
       "2528    How your pictures can help reclaim lost history   \n",
       "2542  Living sculptures that stand for history's truths   \n",
       "2501  The stories behind The New Yorker's iconic covers   \n",
       "2534         What it feels like to see Earth from space   \n",
       "\n",
       "                                                    url    views       CPV  \n",
       "744   https://www.ted.com/talks/diane_j_savino_the_c...   292395  0.002220  \n",
       "803   https://www.ted.com/talks/david_bismark_e_voti...   543551  0.001534  \n",
       "96    https://www.ted.com/talks/richard_dawkins_on_m...  4374792  0.001464  \n",
       "694   https://www.ted.com/talks/sharmeen_obaid_chino...  1057238  0.001421  \n",
       "954            https://www.ted.com/talks/janet_echelman  1832930  0.001360  \n",
       "...                                                 ...      ...       ...  \n",
       "2494  https://www.ted.com/talks/jimmy_lin_a_simple_n...  1005506  0.000007  \n",
       "2528  https://www.ted.com/talks/chance_coughenour_ho...   539207  0.000006  \n",
       "2542  https://www.ted.com/talks/sethembile_msezane_l...   542088  0.000006  \n",
       "2501  https://www.ted.com/talks/francoise_mouly_the_...   839040  0.000004  \n",
       "2534  https://www.ted.com/talks/benjamin_grant_what_...   646174  0.000003  \n",
       "\n",
       "[2550 rows x 18 columns]"
      ]
     },
     "execution_count": 8,
     "metadata": {},
     "output_type": "execute_result"
    }
   ],
   "source": [
    "data.sort_values(by = \"CPV\",\n",
    "                ascending = False)"
   ]
  },
  {
   "cell_type": "markdown",
   "metadata": {},
   "source": [
    "> #### You will find that, for every view of the same-sex marriage talk, there are 0.002 comments."
   ]
  },
  {
   "cell_type": "markdown",
   "metadata": {},
   "source": [
    "#### Question 3.3. Please make this more interpretable by `inverting` the calculation."
   ]
  },
  {
   "cell_type": "code",
   "execution_count": 9,
   "metadata": {},
   "outputs": [],
   "source": [
    "data[\"CPV\"] = 1 / data[\"CPV\"]"
   ]
  },
  {
   "cell_type": "code",
   "execution_count": 10,
   "metadata": {},
   "outputs": [
    {
     "data": {
      "text/html": [
       "<div>\n",
       "<style scoped>\n",
       "    .dataframe tbody tr th:only-of-type {\n",
       "        vertical-align: middle;\n",
       "    }\n",
       "\n",
       "    .dataframe tbody tr th {\n",
       "        vertical-align: top;\n",
       "    }\n",
       "\n",
       "    .dataframe thead th {\n",
       "        text-align: right;\n",
       "    }\n",
       "</style>\n",
       "<table border=\"1\" class=\"dataframe\">\n",
       "  <thead>\n",
       "    <tr style=\"text-align: right;\">\n",
       "      <th></th>\n",
       "      <th>comments</th>\n",
       "      <th>description</th>\n",
       "      <th>duration</th>\n",
       "      <th>event</th>\n",
       "      <th>film_date</th>\n",
       "      <th>languages</th>\n",
       "      <th>main_speaker</th>\n",
       "      <th>name</th>\n",
       "      <th>num_speaker</th>\n",
       "      <th>published_date</th>\n",
       "      <th>ratings</th>\n",
       "      <th>related_talks</th>\n",
       "      <th>speaker_occupation</th>\n",
       "      <th>tags</th>\n",
       "      <th>title</th>\n",
       "      <th>url</th>\n",
       "      <th>views</th>\n",
       "      <th>CPV</th>\n",
       "    </tr>\n",
       "  </thead>\n",
       "  <tbody>\n",
       "    <tr>\n",
       "      <th>744</th>\n",
       "      <td>649</td>\n",
       "      <td>Hours before New York lawmakers rejected a key...</td>\n",
       "      <td>453</td>\n",
       "      <td>New York State Senate</td>\n",
       "      <td>1259712000</td>\n",
       "      <td>0</td>\n",
       "      <td>Diane J. Savino</td>\n",
       "      <td>Diane J. Savino: The case for same-sex marriage</td>\n",
       "      <td>1</td>\n",
       "      <td>1282062180</td>\n",
       "      <td>[{'id': 25, 'name': 'OK', 'count': 100}, {'id'...</td>\n",
       "      <td>[{'id': 217, 'hero': 'https://pe.tedcdn.com/im...</td>\n",
       "      <td>Senator</td>\n",
       "      <td>['God', 'LGBT', 'culture', 'government', 'law'...</td>\n",
       "      <td>The case for same-sex marriage</td>\n",
       "      <td>https://www.ted.com/talks/diane_j_savino_the_c...</td>\n",
       "      <td>292395</td>\n",
       "      <td>450.531587</td>\n",
       "    </tr>\n",
       "    <tr>\n",
       "      <th>803</th>\n",
       "      <td>834</td>\n",
       "      <td>David Bismark demos a new system for voting th...</td>\n",
       "      <td>422</td>\n",
       "      <td>TEDGlobal 2010</td>\n",
       "      <td>1279065600</td>\n",
       "      <td>36</td>\n",
       "      <td>David Bismark</td>\n",
       "      <td>David Bismark: E-voting without fraud</td>\n",
       "      <td>1</td>\n",
       "      <td>1288685640</td>\n",
       "      <td>[{'id': 25, 'name': 'OK', 'count': 111}, {'id'...</td>\n",
       "      <td>[{'id': 803, 'hero': 'https://pe.tedcdn.com/im...</td>\n",
       "      <td>Voting system designer</td>\n",
       "      <td>['culture', 'democracy', 'design', 'global iss...</td>\n",
       "      <td>E-voting without fraud</td>\n",
       "      <td>https://www.ted.com/talks/david_bismark_e_voti...</td>\n",
       "      <td>543551</td>\n",
       "      <td>651.739808</td>\n",
       "    </tr>\n",
       "    <tr>\n",
       "      <th>96</th>\n",
       "      <td>6404</td>\n",
       "      <td>Richard Dawkins urges all atheists to openly s...</td>\n",
       "      <td>1750</td>\n",
       "      <td>TED2002</td>\n",
       "      <td>1012608000</td>\n",
       "      <td>42</td>\n",
       "      <td>Richard Dawkins</td>\n",
       "      <td>Richard Dawkins: Militant atheism</td>\n",
       "      <td>1</td>\n",
       "      <td>1176689220</td>\n",
       "      <td>[{'id': 3, 'name': 'Courageous', 'count': 3236...</td>\n",
       "      <td>[{'id': 86, 'hero': 'https://pe.tedcdn.com/ima...</td>\n",
       "      <td>Evolutionary biologist</td>\n",
       "      <td>['God', 'atheism', 'culture', 'religion', 'sci...</td>\n",
       "      <td>Militant atheism</td>\n",
       "      <td>https://www.ted.com/talks/richard_dawkins_on_m...</td>\n",
       "      <td>4374792</td>\n",
       "      <td>683.134291</td>\n",
       "    </tr>\n",
       "    <tr>\n",
       "      <th>694</th>\n",
       "      <td>1502</td>\n",
       "      <td>Filmmaker Sharmeen Obaid-Chinoy takes on a ter...</td>\n",
       "      <td>489</td>\n",
       "      <td>TED2010</td>\n",
       "      <td>1265760000</td>\n",
       "      <td>32</td>\n",
       "      <td>Sharmeen Obaid-Chinoy</td>\n",
       "      <td>Sharmeen Obaid-Chinoy: Inside a school for sui...</td>\n",
       "      <td>1</td>\n",
       "      <td>1274865960</td>\n",
       "      <td>[{'id': 23, 'name': 'Jaw-dropping', 'count': 3...</td>\n",
       "      <td>[{'id': 171, 'hero': 'https://pe.tedcdn.com/im...</td>\n",
       "      <td>Filmmaker</td>\n",
       "      <td>['TED Fellows', 'children', 'culture', 'film',...</td>\n",
       "      <td>Inside a school for suicide bombers</td>\n",
       "      <td>https://www.ted.com/talks/sharmeen_obaid_chino...</td>\n",
       "      <td>1057238</td>\n",
       "      <td>703.886818</td>\n",
       "    </tr>\n",
       "    <tr>\n",
       "      <th>954</th>\n",
       "      <td>2492</td>\n",
       "      <td>Janet Echelman found her true voice as an arti...</td>\n",
       "      <td>566</td>\n",
       "      <td>TED2011</td>\n",
       "      <td>1299110400</td>\n",
       "      <td>35</td>\n",
       "      <td>Janet Echelman</td>\n",
       "      <td>Janet Echelman: Taking imagination seriously</td>\n",
       "      <td>1</td>\n",
       "      <td>1307489760</td>\n",
       "      <td>[{'id': 23, 'name': 'Jaw-dropping', 'count': 3...</td>\n",
       "      <td>[{'id': 453, 'hero': 'https://pe.tedcdn.com/im...</td>\n",
       "      <td>Artist</td>\n",
       "      <td>['art', 'cities', 'culture', 'data', 'design',...</td>\n",
       "      <td>Taking imagination seriously</td>\n",
       "      <td>https://www.ted.com/talks/janet_echelman</td>\n",
       "      <td>1832930</td>\n",
       "      <td>735.525682</td>\n",
       "    </tr>\n",
       "    <tr>\n",
       "      <th>...</th>\n",
       "      <td>...</td>\n",
       "      <td>...</td>\n",
       "      <td>...</td>\n",
       "      <td>...</td>\n",
       "      <td>...</td>\n",
       "      <td>...</td>\n",
       "      <td>...</td>\n",
       "      <td>...</td>\n",
       "      <td>...</td>\n",
       "      <td>...</td>\n",
       "      <td>...</td>\n",
       "      <td>...</td>\n",
       "      <td>...</td>\n",
       "      <td>...</td>\n",
       "      <td>...</td>\n",
       "      <td>...</td>\n",
       "      <td>...</td>\n",
       "      <td>...</td>\n",
       "    </tr>\n",
       "    <tr>\n",
       "      <th>2494</th>\n",
       "      <td>7</td>\n",
       "      <td>Jimmy Lin is developing technologies to catch ...</td>\n",
       "      <td>730</td>\n",
       "      <td>TED2017</td>\n",
       "      <td>1492992000</td>\n",
       "      <td>10</td>\n",
       "      <td>Jimmy Lin</td>\n",
       "      <td>Jimmy Lin: A simple new blood test that can ca...</td>\n",
       "      <td>1</td>\n",
       "      <td>1500994384</td>\n",
       "      <td>[{'id': 1, 'name': 'Beautiful', 'count': 7}, {...</td>\n",
       "      <td>[{'id': 2498, 'hero': 'https://pe.tedcdn.com/i...</td>\n",
       "      <td>Geneticist</td>\n",
       "      <td>['DNA', 'TED Fellows', 'biology', 'cancer', 'd...</td>\n",
       "      <td>A simple new blood test that can catch cancer ...</td>\n",
       "      <td>https://www.ted.com/talks/jimmy_lin_a_simple_n...</td>\n",
       "      <td>1005506</td>\n",
       "      <td>143643.714286</td>\n",
       "    </tr>\n",
       "    <tr>\n",
       "      <th>2528</th>\n",
       "      <td>3</td>\n",
       "      <td>Digital archaeologist Chance Coughenour is usi...</td>\n",
       "      <td>717</td>\n",
       "      <td>TEDxHamburg</td>\n",
       "      <td>1465344000</td>\n",
       "      <td>5</td>\n",
       "      <td>Chance Coughenour</td>\n",
       "      <td>Chance Coughenour: How your pictures can help ...</td>\n",
       "      <td>1</td>\n",
       "      <td>1504209631</td>\n",
       "      <td>[{'id': 9, 'name': 'Ingenious', 'count': 16}, ...</td>\n",
       "      <td>[{'id': 2673, 'hero': 'https://pe.tedcdn.com/i...</td>\n",
       "      <td>Digital archaeologist</td>\n",
       "      <td>['TEDx', 'ancient world', 'archaeology', 'cons...</td>\n",
       "      <td>How your pictures can help reclaim lost history</td>\n",
       "      <td>https://www.ted.com/talks/chance_coughenour_ho...</td>\n",
       "      <td>539207</td>\n",
       "      <td>179735.666667</td>\n",
       "    </tr>\n",
       "    <tr>\n",
       "      <th>2542</th>\n",
       "      <td>3</td>\n",
       "      <td>In the century-old statues that occupy Cape To...</td>\n",
       "      <td>795</td>\n",
       "      <td>TEDGlobal 2017</td>\n",
       "      <td>1503792000</td>\n",
       "      <td>1</td>\n",
       "      <td>Sethembile Msezane</td>\n",
       "      <td>Sethembile Msezane: Living sculptures that sta...</td>\n",
       "      <td>1</td>\n",
       "      <td>1505488093</td>\n",
       "      <td>[{'id': 1, 'name': 'Beautiful', 'count': 41}, ...</td>\n",
       "      <td>[{'id': 2873, 'hero': 'https://pe.tedcdn.com/i...</td>\n",
       "      <td>Artist</td>\n",
       "      <td>['Africa', 'activism', 'art', 'community', 'hi...</td>\n",
       "      <td>Living sculptures that stand for history's truths</td>\n",
       "      <td>https://www.ted.com/talks/sethembile_msezane_l...</td>\n",
       "      <td>542088</td>\n",
       "      <td>180696.000000</td>\n",
       "    </tr>\n",
       "    <tr>\n",
       "      <th>2501</th>\n",
       "      <td>3</td>\n",
       "      <td>Meet Françoise Mouly, The New Yorker's art dir...</td>\n",
       "      <td>509</td>\n",
       "      <td>TEDNYC</td>\n",
       "      <td>1488931200</td>\n",
       "      <td>12</td>\n",
       "      <td>Françoise Mouly</td>\n",
       "      <td>Françoise Mouly: The stories behind The New Yo...</td>\n",
       "      <td>1</td>\n",
       "      <td>1501770244</td>\n",
       "      <td>[{'id': 7, 'name': 'Funny', 'count': 10}, {'id...</td>\n",
       "      <td>[{'id': 2479, 'hero': 'https://pe.tedcdn.com/i...</td>\n",
       "      <td>Art editor</td>\n",
       "      <td>['TEDNYC', 'art', 'creativity', 'culture', 'de...</td>\n",
       "      <td>The stories behind The New Yorker's iconic covers</td>\n",
       "      <td>https://www.ted.com/talks/francoise_mouly_the_...</td>\n",
       "      <td>839040</td>\n",
       "      <td>279680.000000</td>\n",
       "    </tr>\n",
       "    <tr>\n",
       "      <th>2534</th>\n",
       "      <td>2</td>\n",
       "      <td>What the astronauts felt when they saw Earth f...</td>\n",
       "      <td>725</td>\n",
       "      <td>TEDxSkoll</td>\n",
       "      <td>1491523200</td>\n",
       "      <td>1</td>\n",
       "      <td>Benjamin Grant</td>\n",
       "      <td>Benjamin Grant: What it feels like to see Eart...</td>\n",
       "      <td>1</td>\n",
       "      <td>1504814438</td>\n",
       "      <td>[{'id': 10, 'name': 'Inspiring', 'count': 46},...</td>\n",
       "      <td>[{'id': 2511, 'hero': 'https://pe.tedcdn.com/i...</td>\n",
       "      <td>Author</td>\n",
       "      <td>['TEDx', 'art', 'climate change', 'environment...</td>\n",
       "      <td>What it feels like to see Earth from space</td>\n",
       "      <td>https://www.ted.com/talks/benjamin_grant_what_...</td>\n",
       "      <td>646174</td>\n",
       "      <td>323087.000000</td>\n",
       "    </tr>\n",
       "  </tbody>\n",
       "</table>\n",
       "<p>2550 rows × 18 columns</p>\n",
       "</div>"
      ],
      "text/plain": [
       "      comments                                        description  duration  \\\n",
       "744        649  Hours before New York lawmakers rejected a key...       453   \n",
       "803        834  David Bismark demos a new system for voting th...       422   \n",
       "96        6404  Richard Dawkins urges all atheists to openly s...      1750   \n",
       "694       1502  Filmmaker Sharmeen Obaid-Chinoy takes on a ter...       489   \n",
       "954       2492  Janet Echelman found her true voice as an arti...       566   \n",
       "...        ...                                                ...       ...   \n",
       "2494         7  Jimmy Lin is developing technologies to catch ...       730   \n",
       "2528         3  Digital archaeologist Chance Coughenour is usi...       717   \n",
       "2542         3  In the century-old statues that occupy Cape To...       795   \n",
       "2501         3  Meet Françoise Mouly, The New Yorker's art dir...       509   \n",
       "2534         2  What the astronauts felt when they saw Earth f...       725   \n",
       "\n",
       "                      event   film_date  languages           main_speaker  \\\n",
       "744   New York State Senate  1259712000          0        Diane J. Savino   \n",
       "803          TEDGlobal 2010  1279065600         36          David Bismark   \n",
       "96                  TED2002  1012608000         42        Richard Dawkins   \n",
       "694                 TED2010  1265760000         32  Sharmeen Obaid-Chinoy   \n",
       "954                 TED2011  1299110400         35         Janet Echelman   \n",
       "...                     ...         ...        ...                    ...   \n",
       "2494                TED2017  1492992000         10              Jimmy Lin   \n",
       "2528            TEDxHamburg  1465344000          5      Chance Coughenour   \n",
       "2542         TEDGlobal 2017  1503792000          1     Sethembile Msezane   \n",
       "2501                 TEDNYC  1488931200         12        Françoise Mouly   \n",
       "2534              TEDxSkoll  1491523200          1         Benjamin Grant   \n",
       "\n",
       "                                                   name  num_speaker  \\\n",
       "744     Diane J. Savino: The case for same-sex marriage            1   \n",
       "803               David Bismark: E-voting without fraud            1   \n",
       "96                    Richard Dawkins: Militant atheism            1   \n",
       "694   Sharmeen Obaid-Chinoy: Inside a school for sui...            1   \n",
       "954        Janet Echelman: Taking imagination seriously            1   \n",
       "...                                                 ...          ...   \n",
       "2494  Jimmy Lin: A simple new blood test that can ca...            1   \n",
       "2528  Chance Coughenour: How your pictures can help ...            1   \n",
       "2542  Sethembile Msezane: Living sculptures that sta...            1   \n",
       "2501  Françoise Mouly: The stories behind The New Yo...            1   \n",
       "2534  Benjamin Grant: What it feels like to see Eart...            1   \n",
       "\n",
       "      published_date                                            ratings  \\\n",
       "744       1282062180  [{'id': 25, 'name': 'OK', 'count': 100}, {'id'...   \n",
       "803       1288685640  [{'id': 25, 'name': 'OK', 'count': 111}, {'id'...   \n",
       "96        1176689220  [{'id': 3, 'name': 'Courageous', 'count': 3236...   \n",
       "694       1274865960  [{'id': 23, 'name': 'Jaw-dropping', 'count': 3...   \n",
       "954       1307489760  [{'id': 23, 'name': 'Jaw-dropping', 'count': 3...   \n",
       "...              ...                                                ...   \n",
       "2494      1500994384  [{'id': 1, 'name': 'Beautiful', 'count': 7}, {...   \n",
       "2528      1504209631  [{'id': 9, 'name': 'Ingenious', 'count': 16}, ...   \n",
       "2542      1505488093  [{'id': 1, 'name': 'Beautiful', 'count': 41}, ...   \n",
       "2501      1501770244  [{'id': 7, 'name': 'Funny', 'count': 10}, {'id...   \n",
       "2534      1504814438  [{'id': 10, 'name': 'Inspiring', 'count': 46},...   \n",
       "\n",
       "                                          related_talks  \\\n",
       "744   [{'id': 217, 'hero': 'https://pe.tedcdn.com/im...   \n",
       "803   [{'id': 803, 'hero': 'https://pe.tedcdn.com/im...   \n",
       "96    [{'id': 86, 'hero': 'https://pe.tedcdn.com/ima...   \n",
       "694   [{'id': 171, 'hero': 'https://pe.tedcdn.com/im...   \n",
       "954   [{'id': 453, 'hero': 'https://pe.tedcdn.com/im...   \n",
       "...                                                 ...   \n",
       "2494  [{'id': 2498, 'hero': 'https://pe.tedcdn.com/i...   \n",
       "2528  [{'id': 2673, 'hero': 'https://pe.tedcdn.com/i...   \n",
       "2542  [{'id': 2873, 'hero': 'https://pe.tedcdn.com/i...   \n",
       "2501  [{'id': 2479, 'hero': 'https://pe.tedcdn.com/i...   \n",
       "2534  [{'id': 2511, 'hero': 'https://pe.tedcdn.com/i...   \n",
       "\n",
       "          speaker_occupation  \\\n",
       "744                  Senator   \n",
       "803   Voting system designer   \n",
       "96    Evolutionary biologist   \n",
       "694                Filmmaker   \n",
       "954                   Artist   \n",
       "...                      ...   \n",
       "2494              Geneticist   \n",
       "2528   Digital archaeologist   \n",
       "2542                  Artist   \n",
       "2501              Art editor   \n",
       "2534                  Author   \n",
       "\n",
       "                                                   tags  \\\n",
       "744   ['God', 'LGBT', 'culture', 'government', 'law'...   \n",
       "803   ['culture', 'democracy', 'design', 'global iss...   \n",
       "96    ['God', 'atheism', 'culture', 'religion', 'sci...   \n",
       "694   ['TED Fellows', 'children', 'culture', 'film',...   \n",
       "954   ['art', 'cities', 'culture', 'data', 'design',...   \n",
       "...                                                 ...   \n",
       "2494  ['DNA', 'TED Fellows', 'biology', 'cancer', 'd...   \n",
       "2528  ['TEDx', 'ancient world', 'archaeology', 'cons...   \n",
       "2542  ['Africa', 'activism', 'art', 'community', 'hi...   \n",
       "2501  ['TEDNYC', 'art', 'creativity', 'culture', 'de...   \n",
       "2534  ['TEDx', 'art', 'climate change', 'environment...   \n",
       "\n",
       "                                                  title  \\\n",
       "744                      The case for same-sex marriage   \n",
       "803                              E-voting without fraud   \n",
       "96                                     Militant atheism   \n",
       "694                 Inside a school for suicide bombers   \n",
       "954                        Taking imagination seriously   \n",
       "...                                                 ...   \n",
       "2494  A simple new blood test that can catch cancer ...   \n",
       "2528    How your pictures can help reclaim lost history   \n",
       "2542  Living sculptures that stand for history's truths   \n",
       "2501  The stories behind The New Yorker's iconic covers   \n",
       "2534         What it feels like to see Earth from space   \n",
       "\n",
       "                                                    url    views  \\\n",
       "744   https://www.ted.com/talks/diane_j_savino_the_c...   292395   \n",
       "803   https://www.ted.com/talks/david_bismark_e_voti...   543551   \n",
       "96    https://www.ted.com/talks/richard_dawkins_on_m...  4374792   \n",
       "694   https://www.ted.com/talks/sharmeen_obaid_chino...  1057238   \n",
       "954            https://www.ted.com/talks/janet_echelman  1832930   \n",
       "...                                                 ...      ...   \n",
       "2494  https://www.ted.com/talks/jimmy_lin_a_simple_n...  1005506   \n",
       "2528  https://www.ted.com/talks/chance_coughenour_ho...   539207   \n",
       "2542  https://www.ted.com/talks/sethembile_msezane_l...   542088   \n",
       "2501  https://www.ted.com/talks/francoise_mouly_the_...   839040   \n",
       "2534  https://www.ted.com/talks/benjamin_grant_what_...   646174   \n",
       "\n",
       "                CPV  \n",
       "744      450.531587  \n",
       "803      651.739808  \n",
       "96       683.134291  \n",
       "694      703.886818  \n",
       "954      735.525682  \n",
       "...             ...  \n",
       "2494  143643.714286  \n",
       "2528  179735.666667  \n",
       "2542  180696.000000  \n",
       "2501  279680.000000  \n",
       "2534  323087.000000  \n",
       "\n",
       "[2550 rows x 18 columns]"
      ]
     },
     "execution_count": 10,
     "metadata": {},
     "output_type": "execute_result"
    }
   ],
   "source": [
    "data.sort_values(by = \"CPV\",\n",
    "                ascending = True)"
   ]
  },
  {
   "cell_type": "markdown",
   "metadata": {},
   "source": [
    "> Please consider the `limitations` and `biases` of your data, making your results understandable (`interpretable`)."
   ]
  },
  {
   "cell_type": "markdown",
   "metadata": {},
   "source": [
    "### <font color = \"blue\"> Let's `visualize` the distribution of comments </font>\n",
    "\n",
    "> #### <font color = \"red\"> See **Chapter 4** of `Python Data Science Handbook` for a quick reference for matplotlib </font>\n",
    "\n",
    "> #### <font color = \"red\"> For in-depth details, use https://matplotlib.org/stable/api/_as_gen/matplotlib.pyplot.html </font>"
   ]
  },
  {
   "cell_type": "markdown",
   "metadata": {},
   "source": [
    "#### Question 3.4. Please create a `Line chart`, but it seems NOT useful here."
   ]
  },
  {
   "cell_type": "code",
   "execution_count": 11,
   "metadata": {},
   "outputs": [
    {
     "data": {
      "text/plain": [
       "Text(0, 0.5, 'Comments')"
      ]
     },
     "execution_count": 11,
     "metadata": {},
     "output_type": "execute_result"
    },
    {
     "data": {
      "image/png": "[encoded data removed]",
      "text/plain": [
       "<Figure size 640x480 with 1 Axes>"
      ]
     },
     "metadata": {},
     "output_type": "display_data"
    }
   ],
   "source": [
    "x = data[\"views\"]\n",
    "y = data[\"comments\"]\n",
    "plt.plot(x,y)\n",
    "plt.xlabel(\"Views\")\n",
    "plt.ylabel(\"Comments\")"
   ]
  },
  {
   "cell_type": "markdown",
   "metadata": {},
   "source": [
    "#### Question 3.5. Please create a `Histogram`--it displays the frequency distribution of a single numeric variable."
   ]
  },
  {
   "cell_type": "code",
   "execution_count": 12,
   "metadata": {},
   "outputs": [
    {
     "data": {
      "text/plain": [
       "(array([2.194e+03, 2.540e+02, 6.600e+01, 1.300e+01, 9.000e+00, 3.000e+00,\n",
       "        2.000e+00, 4.000e+00, 2.000e+00, 0.000e+00, 1.000e+00, 0.000e+00,\n",
       "        0.000e+00, 0.000e+00, 1.000e+00, 0.000e+00, 0.000e+00, 0.000e+00,\n",
       "        0.000e+00, 1.000e+00]),\n",
       " array([2.0000e+00, 3.2210e+02, 6.4220e+02, 9.6230e+02, 1.2824e+03,\n",
       "        1.6025e+03, 1.9226e+03, 2.2427e+03, 2.5628e+03, 2.8829e+03,\n",
       "        3.2030e+03, 3.5231e+03, 3.8432e+03, 4.1633e+03, 4.4834e+03,\n",
       "        4.8035e+03, 5.1236e+03, 5.4437e+03, 5.7638e+03, 6.0839e+03,\n",
       "        6.4040e+03]),\n",
       " <BarContainer object of 20 artists>)"
      ]
     },
     "execution_count": 12,
     "metadata": {},
     "output_type": "execute_result"
    },
    {
     "data": {
      "image/png": "[encoded data removed]",
      "text/plain": [
       "<Figure size 640x480 with 1 Axes>"
      ]
     },
     "metadata": {},
     "output_type": "display_data"
    }
   ],
   "source": [
    "plt.hist(y,\n",
    "        bins = 20,\n",
    "        edgecolor = \"black\")"
   ]
  },
  {
   "cell_type": "markdown",
   "metadata": {},
   "source": [
    "#### Question 3.6. Please modify the plot to be more informative by setting a cut-off for inclusion (i.e., more than 1,000 comments)."
   ]
  },
  {
   "cell_type": "code",
   "execution_count": 13,
   "metadata": {},
   "outputs": [
    {
     "data": {
      "text/plain": [
       "(0.0, 1000.0)"
      ]
     },
     "execution_count": 13,
     "metadata": {},
     "output_type": "execute_result"
    },
    {
     "data": {
      "image/png": "[encoded data removed]",
      "text/plain": [
       "<Figure size 640x480 with 1 Axes>"
      ]
     },
     "metadata": {},
     "output_type": "display_data"
    }
   ],
   "source": [
    "plt.hist(y,\n",
    "        bins = 20,\n",
    "        edgecolor = \"black\")\n",
    "\n",
    "plt.xlim(0,1000)"
   ]
  },
  {
   "cell_type": "markdown",
   "metadata": {},
   "source": [
    ">  Now, before we move on, let's check how many observations we removed from the plot."
   ]
  },
  {
   "cell_type": "code",
   "execution_count": 14,
   "metadata": {},
   "outputs": [
    {
     "data": {
      "text/plain": [
       "31"
      ]
     },
     "execution_count": 14,
     "metadata": {},
     "output_type": "execute_result"
    }
   ],
   "source": [
    "observations = y > 1000\n",
    "observations.sum()"
   ]
  },
  {
   "cell_type": "markdown",
   "metadata": {},
   "source": [
    "### Question 4.1. Here's a question for an expansion of your vocabulary: please obtain the above using the query method.\n",
    "\n",
    "> #### <font color = \"red\"> Please check the following for more details </font> \n",
    "> - `Python Data Science Handbook`\n",
    "    - *Chapter 3*: Data Manipulation with Pandas\n",
    "        - *Section 12*: High-Performance Pandas: `eval()` and `query()` "
   ]
  },
  {
   "cell_type": "code",
   "execution_count": 15,
   "metadata": {},
   "outputs": [
    {
     "data": {
      "text/plain": [
       "(31, 18)"
      ]
     },
     "execution_count": 15,
     "metadata": {},
     "output_type": "execute_result"
    }
   ],
   "source": [
    "result = data.query(\"comments > 1000\")\n",
    "result.shape"
   ]
  },
  {
   "cell_type": "markdown",
   "metadata": {},
   "source": [
    "#### Question 4.2. Here's a question for yet another expansion of your vocabulary: please write this using the `loc` accessor.\n",
    "\n",
    "> #### <font color = \"red\"> Please check the following for more details on the differences between loc and iloc. \n",
    "    \n",
    "> - `** NOTE: You may ignore ix as it has been deprecated**` </font>\n",
    "\n",
    "> - `Python Data Science Handbook`\n",
    "    - *Chapter 3*: Data Manipulation with Pandas\n",
    "        - *Section 2*: Data Indexing and Selection\n",
    "            - *Subsection 3*: Indexers: loc, iloc, and ix"
   ]
  },
  {
   "cell_type": "code",
   "execution_count": 16,
   "metadata": {},
   "outputs": [
    {
     "name": "stderr",
     "output_type": "stream",
     "text": [
      "C:\\Users\\bryan\\AppData\\Local\\Temp\\ipykernel_13256\\2743807197.py:1: FutureWarning: The default value of numeric_only in DataFrame.sum is deprecated. In a future version, it will default to False. In addition, specifying 'numeric_only=None' is deprecated. Select only valid columns or specify the value of numeric_only to silence this warning.\n",
      "  data.loc[1000:].sum()\n"
     ]
    },
    {
     "data": {
      "text/plain": [
       "comments                                                     249898\n",
       "description       How do we find planets -- even habitable plane...\n",
       "duration                                                    1202457\n",
       "event             TEDGlobal 2011TEDGlobal 2011TED2011TEDGlobal 2...\n",
       "film_date                                             2162507500800\n",
       "languages                                                     41183\n",
       "main_speaker      Lucianne WalkowiczMarco TempestDan ArielySvant...\n",
       "name              Lucianne Walkowicz: Finding planets around oth...\n",
       "num_speaker                                                    1604\n",
       "published_date                                        2180433623586\n",
       "ratings           [{'id': 23, 'name': 'Jaw-dropping', 'count': 1...\n",
       "related_talks     [{'id': 920, 'hero': 'https://pe.tedcdn.com/im...\n",
       "tags              ['TED Fellows', 'exploration', 'science', 'tec...\n",
       "title             Finding planets around other starsThe magic of...\n",
       "url               https://www.ted.com/talks/lucianne_walkowicz_f...\n",
       "views                                                    2688464856\n",
       "CPV                                                 29677990.597997\n",
       "dtype: object"
      ]
     },
     "execution_count": 16,
     "metadata": {},
     "output_type": "execute_result"
    }
   ],
   "source": [
    "data.loc[1000:].sum()"
   ]
  },
  {
   "cell_type": "markdown",
   "metadata": {},
   "source": [
    "> Let's increase the number of bins (intervals) to see more detail."
   ]
  },
  {
   "cell_type": "code",
   "execution_count": 17,
   "metadata": {},
   "outputs": [
    {
     "data": {
      "text/plain": [
       "(0.0, 1000.0)"
      ]
     },
     "execution_count": 17,
     "metadata": {},
     "output_type": "execute_result"
    },
    {
     "data": {
      "image/png": "[encoded data removed]",
      "text/plain": [
       "<Figure size 640x480 with 1 Axes>"
      ]
     },
     "metadata": {},
     "output_type": "display_data"
    }
   ],
   "source": [
    "plt.hist(y,\n",
    "        bins = 40,\n",
    "        edgecolor = \"black\")\n",
    "\n",
    "plt.xlim(0,1000)"
   ]
  },
  {
   "cell_type": "markdown",
   "metadata": {},
   "source": [
    "#### Question 4.3. Please create a boxplot. Boxplot can also show distributions, but it's far less useful for concentrated distributions because of outliers."
   ]
  },
  {
   "cell_type": "code",
   "execution_count": 18,
   "metadata": {},
   "outputs": [
    {
     "data": {
      "text/plain": [
       "{'whiskers': [<matplotlib.lines.Line2D at 0x1b514cf7410>,\n",
       "  <matplotlib.lines.Line2D at 0x1b513bebf50>],\n",
       " 'caps': [<matplotlib.lines.Line2D at 0x1b513bfc850>,\n",
       "  <matplotlib.lines.Line2D at 0x1b513bfcf50>],\n",
       " 'boxes': [<matplotlib.lines.Line2D at 0x1b513bc5c90>],\n",
       " 'medians': [<matplotlib.lines.Line2D at 0x1b513bfd750>],\n",
       " 'fliers': [<matplotlib.lines.Line2D at 0x1b513bc4590>],\n",
       " 'means': []}"
      ]
     },
     "execution_count": 18,
     "metadata": {},
     "output_type": "execute_result"
    },
    {
     "data": {
      "image/png": "[encoded data removed]",
      "text/plain": [
       "<Figure size 640x480 with 1 Axes>"
      ]
     },
     "metadata": {},
     "output_type": "display_data"
    }
   ],
   "source": [
    "plt.boxplot(y)"
   ]
  },
  {
   "cell_type": "markdown",
   "metadata": {},
   "source": [
    "### <font color = \"blue\"> Let me reiterate learning pointers in an explicit manner so that you can keep this in mind. </font>\n",
    "\n",
    "1. `Choose your plot type` based on the question you are answering and the data type(s) you are working with\n",
    "2. `Use pandas one-liners` to iterate through plots quickly\n",
    "3. `Try modifying the plot defaults`\n",
    "\n",
    "> ***Yes, creating plots involves your decision-making***"
   ]
  },
  {
   "cell_type": "markdown",
   "metadata": {},
   "source": [
    "#### Question 4.4. Please plot the number of talks that took place each year."
   ]
  },
  {
   "cell_type": "markdown",
   "metadata": {},
   "source": [
    "> Let's calculate the average delay between filming and publishing."
   ]
  },
  {
   "cell_type": "code",
   "execution_count": 19,
   "metadata": {},
   "outputs": [
    {
     "data": {
      "text/plain": [
       "21597713.70352941"
      ]
     },
     "execution_count": 19,
     "metadata": {},
     "output_type": "execute_result"
    }
   ],
   "source": [
    "data[\"delay\"] = data[\"published_date\"] - data[\"film_date\"]\n",
    "data[\"delay\"].mean()"
   ]
  },
  {
   "cell_type": "markdown",
   "metadata": {},
   "source": [
    "> Okay. `event` column does not always include the year"
   ]
  },
  {
   "cell_type": "markdown",
   "metadata": {},
   "source": [
    "> Note that `film_date` denotes `Unix timestamp of the filming`. Have a look at it :)"
   ]
  },
  {
   "cell_type": "code",
   "execution_count": 20,
   "metadata": {},
   "outputs": [
    {
     "data": {
      "text/plain": [
       "0       1140825600\n",
       "1       1140825600\n",
       "2       1140739200\n",
       "3       1140912000\n",
       "4       1140566400\n",
       "           ...    \n",
       "2545    1496707200\n",
       "2546    1492992000\n",
       "2547    1492992000\n",
       "2548    1499472000\n",
       "2549    1492992000\n",
       "Name: film_date, Length: 2550, dtype: int64"
      ]
     },
     "execution_count": 20,
     "metadata": {},
     "output_type": "execute_result"
    }
   ],
   "source": [
    "data[\"film_date\"]"
   ]
  },
  {
   "cell_type": "markdown",
   "metadata": {},
   "source": [
    "> Results don't look right...\n",
    "\n",
    "> What would you do? You may use `to_datetime()`"
   ]
  },
  {
   "cell_type": "code",
   "execution_count": 21,
   "metadata": {},
   "outputs": [
    {
     "data": {
      "text/plain": [
       "0      1970-01-01 00:00:01.140825600\n",
       "1      1970-01-01 00:00:01.140825600\n",
       "2      1970-01-01 00:00:01.140739200\n",
       "3      1970-01-01 00:00:01.140912000\n",
       "4      1970-01-01 00:00:01.140566400\n",
       "                    ...             \n",
       "2545   1970-01-01 00:00:01.496707200\n",
       "2546   1970-01-01 00:00:01.492992000\n",
       "2547   1970-01-01 00:00:01.492992000\n",
       "2548   1970-01-01 00:00:01.499472000\n",
       "2549   1970-01-01 00:00:01.492992000\n",
       "Name: film_date, Length: 2550, dtype: datetime64[ns]"
      ]
     },
     "execution_count": 21,
     "metadata": {},
     "output_type": "execute_result"
    }
   ],
   "source": [
    "pd.to_datetime(data[\"film_date\"])"
   ]
  },
  {
   "cell_type": "markdown",
   "metadata": {},
   "source": [
    "> Still, it does NOT look fine..."
   ]
  },
  {
   "cell_type": "markdown",
   "metadata": {},
   "source": [
    "### <font color = \"red\"> For your information, [pandas documentation for `to_datetime`](https://pandas.pydata.org/pandas-docs/stable/reference/api/pandas.to_datetime.html) </font>"
   ]
  },
  {
   "cell_type": "markdown",
   "metadata": {},
   "source": [
    "> #### <font color = \"blue\"> Please use argument `unit` and set it at `\"s\"` </font>"
   ]
  },
  {
   "cell_type": "code",
   "execution_count": 22,
   "metadata": {},
   "outputs": [
    {
     "data": {
      "text/plain": [
       "0      2006-02-25\n",
       "1      2006-02-25\n",
       "2      2006-02-24\n",
       "3      2006-02-26\n",
       "4      2006-02-22\n",
       "          ...    \n",
       "2545   2017-06-06\n",
       "2546   2017-04-24\n",
       "2547   2017-04-24\n",
       "2548   2017-07-08\n",
       "2549   2017-04-24\n",
       "Name: film_datetime, Length: 2550, dtype: datetime64[ns]"
      ]
     },
     "execution_count": 22,
     "metadata": {},
     "output_type": "execute_result"
    }
   ],
   "source": [
    "data[\"film_datetime\"] = pd.to_datetime(data[\"film_date\"], unit = \"s\")\n",
    "data[\"film_datetime\"]"
   ]
  },
  {
   "cell_type": "markdown",
   "metadata": {
    "scrolled": false
   },
   "source": [
    "> You might want to check that event name matches film_datetime for a random sample: use, `sample()`"
   ]
  },
  {
   "cell_type": "code",
   "execution_count": 23,
   "metadata": {
    "scrolled": false
   },
   "outputs": [
    {
     "data": {
      "text/html": [
       "<div>\n",
       "<style scoped>\n",
       "    .dataframe tbody tr th:only-of-type {\n",
       "        vertical-align: middle;\n",
       "    }\n",
       "\n",
       "    .dataframe tbody tr th {\n",
       "        vertical-align: top;\n",
       "    }\n",
       "\n",
       "    .dataframe thead th {\n",
       "        text-align: right;\n",
       "    }\n",
       "</style>\n",
       "<table border=\"1\" class=\"dataframe\">\n",
       "  <thead>\n",
       "    <tr style=\"text-align: right;\">\n",
       "      <th></th>\n",
       "      <th>comments</th>\n",
       "      <th>description</th>\n",
       "      <th>duration</th>\n",
       "      <th>event</th>\n",
       "      <th>film_date</th>\n",
       "      <th>languages</th>\n",
       "      <th>main_speaker</th>\n",
       "      <th>name</th>\n",
       "      <th>num_speaker</th>\n",
       "      <th>published_date</th>\n",
       "      <th>ratings</th>\n",
       "      <th>related_talks</th>\n",
       "      <th>speaker_occupation</th>\n",
       "      <th>tags</th>\n",
       "      <th>title</th>\n",
       "      <th>url</th>\n",
       "      <th>views</th>\n",
       "      <th>CPV</th>\n",
       "      <th>delay</th>\n",
       "      <th>film_datetime</th>\n",
       "    </tr>\n",
       "  </thead>\n",
       "  <tbody>\n",
       "    <tr>\n",
       "      <th>228</th>\n",
       "      <td>211</td>\n",
       "      <td>Alisa Miller, head of Public Radio Internation...</td>\n",
       "      <td>269</td>\n",
       "      <td>TED2008</td>\n",
       "      <td>1204502400</td>\n",
       "      <td>49</td>\n",
       "      <td>Alisa Miller</td>\n",
       "      <td>Alisa Miller: How the news distorts our worldview</td>\n",
       "      <td>1</td>\n",
       "      <td>1210728900</td>\n",
       "      <td>[{'id': 3, 'name': 'Courageous', 'count': 199}...</td>\n",
       "      <td>[{'id': 92, 'hero': 'https://pe.tedcdn.com/ima...</td>\n",
       "      <td>CEO, Public Radio International (PRI)</td>\n",
       "      <td>['Google', 'business', 'economics', 'entertain...</td>\n",
       "      <td>How the news distorts our worldview</td>\n",
       "      <td>https://www.ted.com/talks/alisa_miller_shares_...</td>\n",
       "      <td>1888717</td>\n",
       "      <td>8951.265403</td>\n",
       "      <td>6226500</td>\n",
       "      <td>2008-03-03</td>\n",
       "    </tr>\n",
       "  </tbody>\n",
       "</table>\n",
       "</div>"
      ],
      "text/plain": [
       "     comments                                        description  duration  \\\n",
       "228       211  Alisa Miller, head of Public Radio Internation...       269   \n",
       "\n",
       "       event   film_date  languages  main_speaker  \\\n",
       "228  TED2008  1204502400         49  Alisa Miller   \n",
       "\n",
       "                                                  name  num_speaker  \\\n",
       "228  Alisa Miller: How the news distorts our worldview            1   \n",
       "\n",
       "     published_date                                            ratings  \\\n",
       "228      1210728900  [{'id': 3, 'name': 'Courageous', 'count': 199}...   \n",
       "\n",
       "                                         related_talks  \\\n",
       "228  [{'id': 92, 'hero': 'https://pe.tedcdn.com/ima...   \n",
       "\n",
       "                        speaker_occupation  \\\n",
       "228  CEO, Public Radio International (PRI)   \n",
       "\n",
       "                                                  tags  \\\n",
       "228  ['Google', 'business', 'economics', 'entertain...   \n",
       "\n",
       "                                   title  \\\n",
       "228  How the news distorts our worldview   \n",
       "\n",
       "                                                   url    views          CPV  \\\n",
       "228  https://www.ted.com/talks/alisa_miller_shares_...  1888717  8951.265403   \n",
       "\n",
       "       delay film_datetime  \n",
       "228  6226500    2008-03-03  "
      ]
     },
     "execution_count": 23,
     "metadata": {},
     "output_type": "execute_result"
    }
   ],
   "source": [
    "data.sample()"
   ]
  },
  {
   "cell_type": "markdown",
   "metadata": {},
   "source": [
    "> New column uses the datetime data type (this was an automatic conversion)"
   ]
  },
  {
   "cell_type": "markdown",
   "metadata": {},
   "source": [
    "##### `datetime` columns have convenient attributes under the `dt` namespace"
   ]
  },
  {
   "cell_type": "code",
   "execution_count": 24,
   "metadata": {},
   "outputs": [
    {
     "name": "stdout",
     "output_type": "stream",
     "text": [
      "<class 'pandas.core.frame.DataFrame'>\n",
      "RangeIndex: 2550 entries, 0 to 2549\n",
      "Data columns (total 20 columns):\n",
      " #   Column              Non-Null Count  Dtype         \n",
      "---  ------              --------------  -----         \n",
      " 0   comments            2550 non-null   int64         \n",
      " 1   description         2550 non-null   object        \n",
      " 2   duration            2550 non-null   int64         \n",
      " 3   event               2550 non-null   object        \n",
      " 4   film_date           2550 non-null   int64         \n",
      " 5   languages           2550 non-null   int64         \n",
      " 6   main_speaker        2550 non-null   object        \n",
      " 7   name                2550 non-null   object        \n",
      " 8   num_speaker         2550 non-null   int64         \n",
      " 9   published_date      2550 non-null   int64         \n",
      " 10  ratings             2550 non-null   object        \n",
      " 11  related_talks       2550 non-null   object        \n",
      " 12  speaker_occupation  2544 non-null   object        \n",
      " 13  tags                2550 non-null   object        \n",
      " 14  title               2550 non-null   object        \n",
      " 15  url                 2550 non-null   object        \n",
      " 16  views               2550 non-null   int64         \n",
      " 17  CPV                 2550 non-null   float64       \n",
      " 18  delay               2550 non-null   int64         \n",
      " 19  film_datetime       2550 non-null   datetime64[ns]\n",
      "dtypes: datetime64[ns](1), float64(1), int64(8), object(10)\n",
      "memory usage: 398.6+ KB\n"
     ]
    }
   ],
   "source": [
    "data.info()"
   ]
  },
  {
   "cell_type": "markdown",
   "metadata": {},
   "source": [
    "> This is similar to string methods under the str namespace"
   ]
  },
  {
   "cell_type": "markdown",
   "metadata": {},
   "source": [
    "okay thanks sir"
   ]
  },
  {
   "cell_type": "markdown",
   "metadata": {},
   "source": [
    "> Let's count the number of talks each year using value_counts()"
   ]
  },
  {
   "cell_type": "code",
   "execution_count": 25,
   "metadata": {},
   "outputs": [
    {
     "data": {
      "text/plain": [
       "0       2006\n",
       "1       2006\n",
       "2       2006\n",
       "3       2006\n",
       "4       2006\n",
       "        ... \n",
       "2545    2017\n",
       "2546    2017\n",
       "2547    2017\n",
       "2548    2017\n",
       "2549    2017\n",
       "Name: year, Length: 2550, dtype: int64"
      ]
     },
     "execution_count": 25,
     "metadata": {},
     "output_type": "execute_result"
    }
   ],
   "source": [
    "#column for year\n",
    "data[\"year\"] = data[\"film_datetime\"].dt.year\n",
    "data[\"year\"]"
   ]
  },
  {
   "cell_type": "code",
   "execution_count": 26,
   "metadata": {},
   "outputs": [
    {
     "data": {
      "text/plain": [
       "2013    270\n",
       "2011    270\n",
       "2010    267\n",
       "2012    267\n",
       "2016    246\n",
       "2015    239\n",
       "2014    237\n",
       "2009    232\n",
       "2007    114\n",
       "2017     98\n",
       "2008     84\n",
       "2005     66\n",
       "2006     50\n",
       "2004     33\n",
       "2003     33\n",
       "2002     27\n",
       "1998      6\n",
       "2001      5\n",
       "1983      1\n",
       "1972      1\n",
       "1990      1\n",
       "1994      1\n",
       "1984      1\n",
       "1991      1\n",
       "Name: year, dtype: int64"
      ]
     },
     "execution_count": 26,
     "metadata": {},
     "output_type": "execute_result"
    }
   ],
   "source": [
    "data[\"year\"].value_counts()"
   ]
  },
  {
   "cell_type": "markdown",
   "metadata": {},
   "source": [
    "##### Let's visualize."
   ]
  },
  {
   "cell_type": "code",
   "execution_count": 27,
   "metadata": {},
   "outputs": [
    {
     "data": {
      "text/plain": [
       "(24,)"
      ]
     },
     "execution_count": 27,
     "metadata": {},
     "output_type": "execute_result"
    }
   ],
   "source": [
    "data[\"year\"].value_counts().shape"
   ]
  },
  {
   "cell_type": "code",
   "execution_count": 28,
   "metadata": {},
   "outputs": [
    {
     "data": {
      "text/plain": [
       "(array([  1.,   0.,   0.,   0.,   0.,   0.,   0.,   0.,   0.,   0.,   0.,\n",
       "          1.,   1.,   0.,   0.,   0.,   0.,   0.,   0.,   1.,   1.,   0.,\n",
       "          0.,   1.,   0.,   0.,   0.,   6.,   0.,   0.,   5.,   0.,  27.,\n",
       "         33.,  33.,  66.,  50., 114.,  84., 232., 267., 270., 267., 270.,\n",
       "        237., 239., 246.,  98.]),\n",
       " array([1972.    , 1972.9375, 1973.875 , 1974.8125, 1975.75  , 1976.6875,\n",
       "        1977.625 , 1978.5625, 1979.5   , 1980.4375, 1981.375 , 1982.3125,\n",
       "        1983.25  , 1984.1875, 1985.125 , 1986.0625, 1987.    , 1987.9375,\n",
       "        1988.875 , 1989.8125, 1990.75  , 1991.6875, 1992.625 , 1993.5625,\n",
       "        1994.5   , 1995.4375, 1996.375 , 1997.3125, 1998.25  , 1999.1875,\n",
       "        2000.125 , 2001.0625, 2002.    , 2002.9375, 2003.875 , 2004.8125,\n",
       "        2005.75  , 2006.6875, 2007.625 , 2008.5625, 2009.5   , 2010.4375,\n",
       "        2011.375 , 2012.3125, 2013.25  , 2014.1875, 2015.125 , 2016.0625,\n",
       "        2017.    ]),\n",
       " <BarContainer object of 48 artists>)"
      ]
     },
     "execution_count": 28,
     "metadata": {},
     "output_type": "execute_result"
    },
    {
     "data": {
      "image/png": "[encoded data removed]",
      "text/plain": [
       "<Figure size 640x480 with 1 Axes>"
      ]
     },
     "metadata": {},
     "output_type": "display_data"
    }
   ],
   "source": [
    "plt.hist(data[\"year\"],\n",
    "        bins = 48,\n",
    "        edgecolor = 'black')"
   ]
  },
  {
   "cell_type": "markdown",
   "metadata": {},
   "source": [
    "> points are plotted and connected in the order you give them to pandas"
   ]
  },
  {
   "cell_type": "markdown",
   "metadata": {},
   "source": [
    "#### Question 4.5. Please sort the index before plotting"
   ]
  },
  {
   "cell_type": "code",
   "execution_count": 29,
   "metadata": {},
   "outputs": [
    {
     "data": {
      "text/plain": [
       "0       2006\n",
       "1       2006\n",
       "2       2006\n",
       "3       2006\n",
       "4       2006\n",
       "        ... \n",
       "2545    2017\n",
       "2546    2017\n",
       "2547    2017\n",
       "2548    2017\n",
       "2549    2017\n",
       "Name: year, Length: 2550, dtype: int64"
      ]
     },
     "execution_count": 29,
     "metadata": {},
     "output_type": "execute_result"
    }
   ],
   "source": [
    "data[\"year\"].sort_index()"
   ]
  },
  {
   "cell_type": "markdown",
   "metadata": {},
   "source": [
    "> Check your data to understand more about what this means :)"
   ]
  },
  {
   "cell_type": "code",
   "execution_count": null,
   "metadata": {
    "scrolled": true
   },
   "outputs": [],
   "source": []
  },
  {
   "cell_type": "markdown",
   "metadata": {
    "scrolled": true
   },
   "source": [
    "> Do note that we only have partial data for 2017"
   ]
  },
  {
   "cell_type": "markdown",
   "metadata": {},
   "source": [
    "Before we move forward, please consider the following:\n",
    "\n",
    "- Read the documentation of your dataset\n",
    "- Use the datetime data type for dates and times\n",
    "- Check your work as you proceed\n",
    "- Exclude data if it might not be relevant to your focal point of analysis"
   ]
  },
  {
   "cell_type": "markdown",
   "metadata": {},
   "source": [
    "### Question 5.1. What were the \"best\" events in TED talks' history to attend? Let's count the number of talks (great if you value variety, but they may not be great talks)"
   ]
  },
  {
   "cell_type": "code",
   "execution_count": 30,
   "metadata": {},
   "outputs": [
    {
     "data": {
      "text/html": [
       "<div>\n",
       "<style scoped>\n",
       "    .dataframe tbody tr th:only-of-type {\n",
       "        vertical-align: middle;\n",
       "    }\n",
       "\n",
       "    .dataframe tbody tr th {\n",
       "        vertical-align: top;\n",
       "    }\n",
       "\n",
       "    .dataframe thead th {\n",
       "        text-align: right;\n",
       "    }\n",
       "</style>\n",
       "<table border=\"1\" class=\"dataframe\">\n",
       "  <thead>\n",
       "    <tr style=\"text-align: right;\">\n",
       "      <th></th>\n",
       "      <th>comments</th>\n",
       "      <th>description</th>\n",
       "      <th>duration</th>\n",
       "      <th>event</th>\n",
       "      <th>film_date</th>\n",
       "      <th>languages</th>\n",
       "      <th>main_speaker</th>\n",
       "      <th>name</th>\n",
       "      <th>num_speaker</th>\n",
       "      <th>published_date</th>\n",
       "      <th>...</th>\n",
       "      <th>related_talks</th>\n",
       "      <th>speaker_occupation</th>\n",
       "      <th>tags</th>\n",
       "      <th>title</th>\n",
       "      <th>url</th>\n",
       "      <th>views</th>\n",
       "      <th>CPV</th>\n",
       "      <th>delay</th>\n",
       "      <th>film_datetime</th>\n",
       "      <th>year</th>\n",
       "    </tr>\n",
       "  </thead>\n",
       "  <tbody>\n",
       "    <tr>\n",
       "      <th>0</th>\n",
       "      <td>4553</td>\n",
       "      <td>Sir Ken Robinson makes an entertaining and pro...</td>\n",
       "      <td>1164</td>\n",
       "      <td>TED2006</td>\n",
       "      <td>1140825600</td>\n",
       "      <td>60</td>\n",
       "      <td>Ken Robinson</td>\n",
       "      <td>Ken Robinson: Do schools kill creativity?</td>\n",
       "      <td>1</td>\n",
       "      <td>1151367060</td>\n",
       "      <td>...</td>\n",
       "      <td>[{'id': 865, 'hero': 'https://pe.tedcdn.com/im...</td>\n",
       "      <td>Author/educator</td>\n",
       "      <td>['children', 'creativity', 'culture', 'dance',...</td>\n",
       "      <td>Do schools kill creativity?</td>\n",
       "      <td>https://www.ted.com/talks/ken_robinson_says_sc...</td>\n",
       "      <td>47227110</td>\n",
       "      <td>10372.745443</td>\n",
       "      <td>10541460</td>\n",
       "      <td>2006-02-25</td>\n",
       "      <td>2006</td>\n",
       "    </tr>\n",
       "    <tr>\n",
       "      <th>1</th>\n",
       "      <td>265</td>\n",
       "      <td>With the same humor and humanity he exuded in ...</td>\n",
       "      <td>977</td>\n",
       "      <td>TED2006</td>\n",
       "      <td>1140825600</td>\n",
       "      <td>43</td>\n",
       "      <td>Al Gore</td>\n",
       "      <td>Al Gore: Averting the climate crisis</td>\n",
       "      <td>1</td>\n",
       "      <td>1151367060</td>\n",
       "      <td>...</td>\n",
       "      <td>[{'id': 243, 'hero': 'https://pe.tedcdn.com/im...</td>\n",
       "      <td>Climate advocate</td>\n",
       "      <td>['alternative energy', 'cars', 'climate change...</td>\n",
       "      <td>Averting the climate crisis</td>\n",
       "      <td>https://www.ted.com/talks/al_gore_on_averting_...</td>\n",
       "      <td>3200520</td>\n",
       "      <td>12077.433962</td>\n",
       "      <td>10541460</td>\n",
       "      <td>2006-02-25</td>\n",
       "      <td>2006</td>\n",
       "    </tr>\n",
       "    <tr>\n",
       "      <th>2</th>\n",
       "      <td>124</td>\n",
       "      <td>New York Times columnist David Pogue takes aim...</td>\n",
       "      <td>1286</td>\n",
       "      <td>TED2006</td>\n",
       "      <td>1140739200</td>\n",
       "      <td>26</td>\n",
       "      <td>David Pogue</td>\n",
       "      <td>David Pogue: Simplicity sells</td>\n",
       "      <td>1</td>\n",
       "      <td>1151367060</td>\n",
       "      <td>...</td>\n",
       "      <td>[{'id': 1725, 'hero': 'https://pe.tedcdn.com/i...</td>\n",
       "      <td>Technology columnist</td>\n",
       "      <td>['computers', 'entertainment', 'interface desi...</td>\n",
       "      <td>Simplicity sells</td>\n",
       "      <td>https://www.ted.com/talks/david_pogue_says_sim...</td>\n",
       "      <td>1636292</td>\n",
       "      <td>13195.903226</td>\n",
       "      <td>10627860</td>\n",
       "      <td>2006-02-24</td>\n",
       "      <td>2006</td>\n",
       "    </tr>\n",
       "    <tr>\n",
       "      <th>3</th>\n",
       "      <td>200</td>\n",
       "      <td>In an emotionally charged talk, MacArthur-winn...</td>\n",
       "      <td>1116</td>\n",
       "      <td>TED2006</td>\n",
       "      <td>1140912000</td>\n",
       "      <td>35</td>\n",
       "      <td>Majora Carter</td>\n",
       "      <td>Majora Carter: Greening the ghetto</td>\n",
       "      <td>1</td>\n",
       "      <td>1151367060</td>\n",
       "      <td>...</td>\n",
       "      <td>[{'id': 1041, 'hero': 'https://pe.tedcdn.com/i...</td>\n",
       "      <td>Activist for environmental justice</td>\n",
       "      <td>['MacArthur grant', 'activism', 'business', 'c...</td>\n",
       "      <td>Greening the ghetto</td>\n",
       "      <td>https://www.ted.com/talks/majora_carter_s_tale...</td>\n",
       "      <td>1697550</td>\n",
       "      <td>8487.750000</td>\n",
       "      <td>10455060</td>\n",
       "      <td>2006-02-26</td>\n",
       "      <td>2006</td>\n",
       "    </tr>\n",
       "    <tr>\n",
       "      <th>4</th>\n",
       "      <td>593</td>\n",
       "      <td>You've never seen data presented like this. Wi...</td>\n",
       "      <td>1190</td>\n",
       "      <td>TED2006</td>\n",
       "      <td>1140566400</td>\n",
       "      <td>48</td>\n",
       "      <td>Hans Rosling</td>\n",
       "      <td>Hans Rosling: The best stats you've ever seen</td>\n",
       "      <td>1</td>\n",
       "      <td>1151440680</td>\n",
       "      <td>...</td>\n",
       "      <td>[{'id': 2056, 'hero': 'https://pe.tedcdn.com/i...</td>\n",
       "      <td>Global health expert; data visionary</td>\n",
       "      <td>['Africa', 'Asia', 'Google', 'demo', 'economic...</td>\n",
       "      <td>The best stats you've ever seen</td>\n",
       "      <td>https://www.ted.com/talks/hans_rosling_shows_t...</td>\n",
       "      <td>12005869</td>\n",
       "      <td>20245.984823</td>\n",
       "      <td>10874280</td>\n",
       "      <td>2006-02-22</td>\n",
       "      <td>2006</td>\n",
       "    </tr>\n",
       "  </tbody>\n",
       "</table>\n",
       "<p>5 rows × 21 columns</p>\n",
       "</div>"
      ],
      "text/plain": [
       "   comments                                        description  duration  \\\n",
       "0      4553  Sir Ken Robinson makes an entertaining and pro...      1164   \n",
       "1       265  With the same humor and humanity he exuded in ...       977   \n",
       "2       124  New York Times columnist David Pogue takes aim...      1286   \n",
       "3       200  In an emotionally charged talk, MacArthur-winn...      1116   \n",
       "4       593  You've never seen data presented like this. Wi...      1190   \n",
       "\n",
       "     event   film_date  languages   main_speaker  \\\n",
       "0  TED2006  1140825600         60   Ken Robinson   \n",
       "1  TED2006  1140825600         43        Al Gore   \n",
       "2  TED2006  1140739200         26    David Pogue   \n",
       "3  TED2006  1140912000         35  Majora Carter   \n",
       "4  TED2006  1140566400         48   Hans Rosling   \n",
       "\n",
       "                                            name  num_speaker  published_date  \\\n",
       "0      Ken Robinson: Do schools kill creativity?            1      1151367060   \n",
       "1           Al Gore: Averting the climate crisis            1      1151367060   \n",
       "2                  David Pogue: Simplicity sells            1      1151367060   \n",
       "3             Majora Carter: Greening the ghetto            1      1151367060   \n",
       "4  Hans Rosling: The best stats you've ever seen            1      1151440680   \n",
       "\n",
       "   ...                                      related_talks  \\\n",
       "0  ...  [{'id': 865, 'hero': 'https://pe.tedcdn.com/im...   \n",
       "1  ...  [{'id': 243, 'hero': 'https://pe.tedcdn.com/im...   \n",
       "2  ...  [{'id': 1725, 'hero': 'https://pe.tedcdn.com/i...   \n",
       "3  ...  [{'id': 1041, 'hero': 'https://pe.tedcdn.com/i...   \n",
       "4  ...  [{'id': 2056, 'hero': 'https://pe.tedcdn.com/i...   \n",
       "\n",
       "                     speaker_occupation  \\\n",
       "0                       Author/educator   \n",
       "1                      Climate advocate   \n",
       "2                  Technology columnist   \n",
       "3    Activist for environmental justice   \n",
       "4  Global health expert; data visionary   \n",
       "\n",
       "                                                tags  \\\n",
       "0  ['children', 'creativity', 'culture', 'dance',...   \n",
       "1  ['alternative energy', 'cars', 'climate change...   \n",
       "2  ['computers', 'entertainment', 'interface desi...   \n",
       "3  ['MacArthur grant', 'activism', 'business', 'c...   \n",
       "4  ['Africa', 'Asia', 'Google', 'demo', 'economic...   \n",
       "\n",
       "                             title  \\\n",
       "0      Do schools kill creativity?   \n",
       "1      Averting the climate crisis   \n",
       "2                 Simplicity sells   \n",
       "3              Greening the ghetto   \n",
       "4  The best stats you've ever seen   \n",
       "\n",
       "                                                 url     views           CPV  \\\n",
       "0  https://www.ted.com/talks/ken_robinson_says_sc...  47227110  10372.745443   \n",
       "1  https://www.ted.com/talks/al_gore_on_averting_...   3200520  12077.433962   \n",
       "2  https://www.ted.com/talks/david_pogue_says_sim...   1636292  13195.903226   \n",
       "3  https://www.ted.com/talks/majora_carter_s_tale...   1697550   8487.750000   \n",
       "4  https://www.ted.com/talks/hans_rosling_shows_t...  12005869  20245.984823   \n",
       "\n",
       "      delay  film_datetime  year  \n",
       "0  10541460     2006-02-25  2006  \n",
       "1  10541460     2006-02-25  2006  \n",
       "2  10627860     2006-02-24  2006  \n",
       "3  10455060     2006-02-26  2006  \n",
       "4  10874280     2006-02-22  2006  \n",
       "\n",
       "[5 rows x 21 columns]"
      ]
     },
     "execution_count": 30,
     "metadata": {},
     "output_type": "execute_result"
    }
   ],
   "source": [
    "data.head()"
   ]
  },
  {
   "cell_type": "code",
   "execution_count": 31,
   "metadata": {},
   "outputs": [
    {
     "name": "stderr",
     "output_type": "stream",
     "text": [
      "C:\\Users\\bryan\\AppData\\Local\\Temp\\ipykernel_13256\\2846159647.py:1: FutureWarning: The default value of numeric_only in DataFrameGroupBy.sum is deprecated. In a future version, numeric_only will default to False. Either specify numeric_only or select only columns which should be valid for the function.\n",
      "  events = data.groupby(by = \"event\").sum()\n"
     ]
    },
    {
     "data": {
      "text/html": [
       "<div>\n",
       "<style scoped>\n",
       "    .dataframe tbody tr th:only-of-type {\n",
       "        vertical-align: middle;\n",
       "    }\n",
       "\n",
       "    .dataframe tbody tr th {\n",
       "        vertical-align: top;\n",
       "    }\n",
       "\n",
       "    .dataframe thead th {\n",
       "        text-align: right;\n",
       "    }\n",
       "</style>\n",
       "<table border=\"1\" class=\"dataframe\">\n",
       "  <thead>\n",
       "    <tr style=\"text-align: right;\">\n",
       "      <th></th>\n",
       "      <th>comments</th>\n",
       "      <th>duration</th>\n",
       "      <th>film_date</th>\n",
       "      <th>languages</th>\n",
       "      <th>num_speaker</th>\n",
       "      <th>published_date</th>\n",
       "      <th>views</th>\n",
       "      <th>CPV</th>\n",
       "      <th>delay</th>\n",
       "      <th>year</th>\n",
       "    </tr>\n",
       "    <tr>\n",
       "      <th>event</th>\n",
       "      <th></th>\n",
       "      <th></th>\n",
       "      <th></th>\n",
       "      <th></th>\n",
       "      <th></th>\n",
       "      <th></th>\n",
       "      <th></th>\n",
       "      <th></th>\n",
       "      <th></th>\n",
       "      <th></th>\n",
       "    </tr>\n",
       "  </thead>\n",
       "  <tbody>\n",
       "    <tr>\n",
       "      <th>AORN Congress</th>\n",
       "      <td>87</td>\n",
       "      <td>510</td>\n",
       "      <td>1237024800</td>\n",
       "      <td>0</td>\n",
       "      <td>1</td>\n",
       "      <td>1263027540</td>\n",
       "      <td>149818</td>\n",
       "      <td>1722.045977</td>\n",
       "      <td>26002740</td>\n",
       "      <td>2009</td>\n",
       "    </tr>\n",
       "    <tr>\n",
       "      <th>Arbejdsglaede Live</th>\n",
       "      <td>258</td>\n",
       "      <td>1092</td>\n",
       "      <td>1241481600</td>\n",
       "      <td>22</td>\n",
       "      <td>1</td>\n",
       "      <td>1267802040</td>\n",
       "      <td>971594</td>\n",
       "      <td>3765.868217</td>\n",
       "      <td>26320440</td>\n",
       "      <td>2009</td>\n",
       "    </tr>\n",
       "    <tr>\n",
       "      <th>BBC TV</th>\n",
       "      <td>146</td>\n",
       "      <td>3955</td>\n",
       "      <td>426531600</td>\n",
       "      <td>0</td>\n",
       "      <td>1</td>\n",
       "      <td>1267631820</td>\n",
       "      <td>521974</td>\n",
       "      <td>3575.164384</td>\n",
       "      <td>841100220</td>\n",
       "      <td>1983</td>\n",
       "    </tr>\n",
       "    <tr>\n",
       "      <th>Bowery Poetry Club</th>\n",
       "      <td>177</td>\n",
       "      <td>182</td>\n",
       "      <td>1131805080</td>\n",
       "      <td>0</td>\n",
       "      <td>1</td>\n",
       "      <td>1264252560</td>\n",
       "      <td>676741</td>\n",
       "      <td>3823.395480</td>\n",
       "      <td>132447480</td>\n",
       "      <td>2005</td>\n",
       "    </tr>\n",
       "    <tr>\n",
       "      <th>Business Innovation Factory</th>\n",
       "      <td>264</td>\n",
       "      <td>3317</td>\n",
       "      <td>3765052800</td>\n",
       "      <td>49</td>\n",
       "      <td>3</td>\n",
       "      <td>3832642740</td>\n",
       "      <td>912258</td>\n",
       "      <td>11290.742305</td>\n",
       "      <td>67589940</td>\n",
       "      <td>6027</td>\n",
       "    </tr>\n",
       "    <tr>\n",
       "      <th>...</th>\n",
       "      <td>...</td>\n",
       "      <td>...</td>\n",
       "      <td>...</td>\n",
       "      <td>...</td>\n",
       "      <td>...</td>\n",
       "      <td>...</td>\n",
       "      <td>...</td>\n",
       "      <td>...</td>\n",
       "      <td>...</td>\n",
       "      <td>...</td>\n",
       "    </tr>\n",
       "    <tr>\n",
       "      <th>The Do Lectures</th>\n",
       "      <td>40</td>\n",
       "      <td>1690</td>\n",
       "      <td>1253232000</td>\n",
       "      <td>0</td>\n",
       "      <td>1</td>\n",
       "      <td>1285488000</td>\n",
       "      <td>112321</td>\n",
       "      <td>2808.025000</td>\n",
       "      <td>32256000</td>\n",
       "      <td>2009</td>\n",
       "    </tr>\n",
       "    <tr>\n",
       "      <th>Toronto Youth Corps</th>\n",
       "      <td>373</td>\n",
       "      <td>262</td>\n",
       "      <td>74649600</td>\n",
       "      <td>0</td>\n",
       "      <td>1</td>\n",
       "      <td>1273847820</td>\n",
       "      <td>1028630</td>\n",
       "      <td>2757.721180</td>\n",
       "      <td>1199198220</td>\n",
       "      <td>1972</td>\n",
       "    </tr>\n",
       "    <tr>\n",
       "      <th>University of California</th>\n",
       "      <td>121</td>\n",
       "      <td>8829</td>\n",
       "      <td>2087596800</td>\n",
       "      <td>0</td>\n",
       "      <td>2</td>\n",
       "      <td>2532243480</td>\n",
       "      <td>523663</td>\n",
       "      <td>7207.496535</td>\n",
       "      <td>444646680</td>\n",
       "      <td>4005</td>\n",
       "    </tr>\n",
       "    <tr>\n",
       "      <th>Web 2.0 Expo 2008</th>\n",
       "      <td>556</td>\n",
       "      <td>927</td>\n",
       "      <td>1221846540</td>\n",
       "      <td>0</td>\n",
       "      <td>1</td>\n",
       "      <td>1268412360</td>\n",
       "      <td>757791</td>\n",
       "      <td>1362.933453</td>\n",
       "      <td>46565820</td>\n",
       "      <td>2008</td>\n",
       "    </tr>\n",
       "    <tr>\n",
       "      <th>World Science Festival</th>\n",
       "      <td>321</td>\n",
       "      <td>184</td>\n",
       "      <td>1244592000</td>\n",
       "      <td>0</td>\n",
       "      <td>1</td>\n",
       "      <td>1267232400</td>\n",
       "      <td>3302312</td>\n",
       "      <td>10287.576324</td>\n",
       "      <td>22640400</td>\n",
       "      <td>2009</td>\n",
       "    </tr>\n",
       "  </tbody>\n",
       "</table>\n",
       "<p>355 rows × 10 columns</p>\n",
       "</div>"
      ],
      "text/plain": [
       "                             comments  duration   film_date  languages  \\\n",
       "event                                                                    \n",
       "AORN Congress                      87       510  1237024800          0   \n",
       "Arbejdsglaede Live                258      1092  1241481600         22   \n",
       "BBC TV                            146      3955   426531600          0   \n",
       "Bowery Poetry Club                177       182  1131805080          0   \n",
       "Business Innovation Factory       264      3317  3765052800         49   \n",
       "...                               ...       ...         ...        ...   \n",
       "The Do Lectures                    40      1690  1253232000          0   \n",
       "Toronto Youth Corps               373       262    74649600          0   \n",
       "University of California          121      8829  2087596800          0   \n",
       "Web 2.0 Expo 2008                 556       927  1221846540          0   \n",
       "World Science Festival            321       184  1244592000          0   \n",
       "\n",
       "                             num_speaker  published_date    views  \\\n",
       "event                                                               \n",
       "AORN Congress                          1      1263027540   149818   \n",
       "Arbejdsglaede Live                     1      1267802040   971594   \n",
       "BBC TV                                 1      1267631820   521974   \n",
       "Bowery Poetry Club                     1      1264252560   676741   \n",
       "Business Innovation Factory            3      3832642740   912258   \n",
       "...                                  ...             ...      ...   \n",
       "The Do Lectures                        1      1285488000   112321   \n",
       "Toronto Youth Corps                    1      1273847820  1028630   \n",
       "University of California               2      2532243480   523663   \n",
       "Web 2.0 Expo 2008                      1      1268412360   757791   \n",
       "World Science Festival                 1      1267232400  3302312   \n",
       "\n",
       "                                      CPV       delay  year  \n",
       "event                                                        \n",
       "AORN Congress                 1722.045977    26002740  2009  \n",
       "Arbejdsglaede Live            3765.868217    26320440  2009  \n",
       "BBC TV                        3575.164384   841100220  1983  \n",
       "Bowery Poetry Club            3823.395480   132447480  2005  \n",
       "Business Innovation Factory  11290.742305    67589940  6027  \n",
       "...                                   ...         ...   ...  \n",
       "The Do Lectures               2808.025000    32256000  2009  \n",
       "Toronto Youth Corps           2757.721180  1199198220  1972  \n",
       "University of California      7207.496535   444646680  4005  \n",
       "Web 2.0 Expo 2008             1362.933453    46565820  2008  \n",
       "World Science Festival       10287.576324    22640400  2009  \n",
       "\n",
       "[355 rows x 10 columns]"
      ]
     },
     "execution_count": 31,
     "metadata": {},
     "output_type": "execute_result"
    }
   ],
   "source": [
    "events = data.groupby(by = \"event\").sum()\n",
    "events"
   ]
  },
  {
   "cell_type": "markdown",
   "metadata": {},
   "source": [
    "#### Question 5.2. Let's use `views` as a proxy for `quality of talk`"
   ]
  },
  {
   "cell_type": "code",
   "execution_count": 32,
   "metadata": {},
   "outputs": [
    {
     "data": {
      "text/html": [
       "<div>\n",
       "<style scoped>\n",
       "    .dataframe tbody tr th:only-of-type {\n",
       "        vertical-align: middle;\n",
       "    }\n",
       "\n",
       "    .dataframe tbody tr th {\n",
       "        vertical-align: top;\n",
       "    }\n",
       "\n",
       "    .dataframe thead th {\n",
       "        text-align: right;\n",
       "    }\n",
       "</style>\n",
       "<table border=\"1\" class=\"dataframe\">\n",
       "  <thead>\n",
       "    <tr style=\"text-align: right;\">\n",
       "      <th></th>\n",
       "      <th>comments</th>\n",
       "      <th>duration</th>\n",
       "      <th>film_date</th>\n",
       "      <th>languages</th>\n",
       "      <th>num_speaker</th>\n",
       "      <th>published_date</th>\n",
       "      <th>views</th>\n",
       "      <th>CPV</th>\n",
       "      <th>delay</th>\n",
       "      <th>year</th>\n",
       "    </tr>\n",
       "    <tr>\n",
       "      <th>event</th>\n",
       "      <th></th>\n",
       "      <th></th>\n",
       "      <th></th>\n",
       "      <th></th>\n",
       "      <th></th>\n",
       "      <th></th>\n",
       "      <th></th>\n",
       "      <th></th>\n",
       "      <th></th>\n",
       "      <th></th>\n",
       "    </tr>\n",
       "  </thead>\n",
       "  <tbody>\n",
       "    <tr>\n",
       "      <th>TED2013</th>\n",
       "      <td>24548</td>\n",
       "      <td>55762</td>\n",
       "      <td>104880873600</td>\n",
       "      <td>2480</td>\n",
       "      <td>81</td>\n",
       "      <td>105597836848</td>\n",
       "      <td>177307937</td>\n",
       "      <td>6.747708e+05</td>\n",
       "      <td>716963248</td>\n",
       "      <td>155001</td>\n",
       "    </tr>\n",
       "    <tr>\n",
       "      <th>TED2014</th>\n",
       "      <td>15134</td>\n",
       "      <td>61971</td>\n",
       "      <td>117183110400</td>\n",
       "      <td>2505</td>\n",
       "      <td>85</td>\n",
       "      <td>117919516729</td>\n",
       "      <td>174121423</td>\n",
       "      <td>1.395182e+06</td>\n",
       "      <td>736406329</td>\n",
       "      <td>169176</td>\n",
       "    </tr>\n",
       "    <tr>\n",
       "      <th>TEDGlobal 2013</th>\n",
       "      <td>17715</td>\n",
       "      <td>51655</td>\n",
       "      <td>90504259200</td>\n",
       "      <td>2016</td>\n",
       "      <td>67</td>\n",
       "      <td>91287282051</td>\n",
       "      <td>170554736</td>\n",
       "      <td>7.722032e+05</td>\n",
       "      <td>783022851</td>\n",
       "      <td>132858</td>\n",
       "    </tr>\n",
       "    <tr>\n",
       "      <th>TED2015</th>\n",
       "      <td>10743</td>\n",
       "      <td>60684</td>\n",
       "      <td>106996982400</td>\n",
       "      <td>2222</td>\n",
       "      <td>78</td>\n",
       "      <td>107625785372</td>\n",
       "      <td>150826305</td>\n",
       "      <td>1.484459e+06</td>\n",
       "      <td>628802972</td>\n",
       "      <td>151125</td>\n",
       "    </tr>\n",
       "    <tr>\n",
       "      <th>TED2006</th>\n",
       "      <td>13433</td>\n",
       "      <td>44216</td>\n",
       "      <td>51298876800</td>\n",
       "      <td>1246</td>\n",
       "      <td>45</td>\n",
       "      <td>52943356080</td>\n",
       "      <td>147345533</td>\n",
       "      <td>5.424557e+05</td>\n",
       "      <td>1644479280</td>\n",
       "      <td>90270</td>\n",
       "    </tr>\n",
       "    <tr>\n",
       "      <th>...</th>\n",
       "      <td>...</td>\n",
       "      <td>...</td>\n",
       "      <td>...</td>\n",
       "      <td>...</td>\n",
       "      <td>...</td>\n",
       "      <td>...</td>\n",
       "      <td>...</td>\n",
       "      <td>...</td>\n",
       "      <td>...</td>\n",
       "      <td>...</td>\n",
       "    </tr>\n",
       "    <tr>\n",
       "      <th>TEDxNASA@SiliconValley</th>\n",
       "      <td>76</td>\n",
       "      <td>869</td>\n",
       "      <td>1313539200</td>\n",
       "      <td>20</td>\n",
       "      <td>1</td>\n",
       "      <td>1327157906</td>\n",
       "      <td>155895</td>\n",
       "      <td>2.051250e+03</td>\n",
       "      <td>13618706</td>\n",
       "      <td>2011</td>\n",
       "    </tr>\n",
       "    <tr>\n",
       "      <th>AORN Congress</th>\n",
       "      <td>87</td>\n",
       "      <td>510</td>\n",
       "      <td>1237024800</td>\n",
       "      <td>0</td>\n",
       "      <td>1</td>\n",
       "      <td>1263027540</td>\n",
       "      <td>149818</td>\n",
       "      <td>1.722046e+03</td>\n",
       "      <td>26002740</td>\n",
       "      <td>2009</td>\n",
       "    </tr>\n",
       "    <tr>\n",
       "      <th>TEDxWaterloo</th>\n",
       "      <td>118</td>\n",
       "      <td>982</td>\n",
       "      <td>1299110400</td>\n",
       "      <td>0</td>\n",
       "      <td>1</td>\n",
       "      <td>1321196864</td>\n",
       "      <td>138812</td>\n",
       "      <td>1.176373e+03</td>\n",
       "      <td>22086464</td>\n",
       "      <td>2011</td>\n",
       "    </tr>\n",
       "    <tr>\n",
       "      <th>TEDxIslay</th>\n",
       "      <td>70</td>\n",
       "      <td>1118</td>\n",
       "      <td>1303516800</td>\n",
       "      <td>0</td>\n",
       "      <td>1</td>\n",
       "      <td>1329058599</td>\n",
       "      <td>120274</td>\n",
       "      <td>1.718200e+03</td>\n",
       "      <td>25541799</td>\n",
       "      <td>2011</td>\n",
       "    </tr>\n",
       "    <tr>\n",
       "      <th>The Do Lectures</th>\n",
       "      <td>40</td>\n",
       "      <td>1690</td>\n",
       "      <td>1253232000</td>\n",
       "      <td>0</td>\n",
       "      <td>1</td>\n",
       "      <td>1285488000</td>\n",
       "      <td>112321</td>\n",
       "      <td>2.808025e+03</td>\n",
       "      <td>32256000</td>\n",
       "      <td>2009</td>\n",
       "    </tr>\n",
       "  </tbody>\n",
       "</table>\n",
       "<p>355 rows × 10 columns</p>\n",
       "</div>"
      ],
      "text/plain": [
       "                        comments  duration     film_date  languages  \\\n",
       "event                                                                 \n",
       "TED2013                    24548     55762  104880873600       2480   \n",
       "TED2014                    15134     61971  117183110400       2505   \n",
       "TEDGlobal 2013             17715     51655   90504259200       2016   \n",
       "TED2015                    10743     60684  106996982400       2222   \n",
       "TED2006                    13433     44216   51298876800       1246   \n",
       "...                          ...       ...           ...        ...   \n",
       "TEDxNASA@SiliconValley        76       869    1313539200         20   \n",
       "AORN Congress                 87       510    1237024800          0   \n",
       "TEDxWaterloo                 118       982    1299110400          0   \n",
       "TEDxIslay                     70      1118    1303516800          0   \n",
       "The Do Lectures               40      1690    1253232000          0   \n",
       "\n",
       "                        num_speaker  published_date      views           CPV  \\\n",
       "event                                                                          \n",
       "TED2013                          81    105597836848  177307937  6.747708e+05   \n",
       "TED2014                          85    117919516729  174121423  1.395182e+06   \n",
       "TEDGlobal 2013                   67     91287282051  170554736  7.722032e+05   \n",
       "TED2015                          78    107625785372  150826305  1.484459e+06   \n",
       "TED2006                          45     52943356080  147345533  5.424557e+05   \n",
       "...                             ...             ...        ...           ...   \n",
       "TEDxNASA@SiliconValley            1      1327157906     155895  2.051250e+03   \n",
       "AORN Congress                     1      1263027540     149818  1.722046e+03   \n",
       "TEDxWaterloo                      1      1321196864     138812  1.176373e+03   \n",
       "TEDxIslay                         1      1329058599     120274  1.718200e+03   \n",
       "The Do Lectures                   1      1285488000     112321  2.808025e+03   \n",
       "\n",
       "                             delay    year  \n",
       "event                                       \n",
       "TED2013                  716963248  155001  \n",
       "TED2014                  736406329  169176  \n",
       "TEDGlobal 2013           783022851  132858  \n",
       "TED2015                  628802972  151125  \n",
       "TED2006                 1644479280   90270  \n",
       "...                            ...     ...  \n",
       "TEDxNASA@SiliconValley    13618706    2011  \n",
       "AORN Congress             26002740    2009  \n",
       "TEDxWaterloo              22086464    2011  \n",
       "TEDxIslay                 25541799    2011  \n",
       "The Do Lectures           32256000    2009  \n",
       "\n",
       "[355 rows x 10 columns]"
      ]
     },
     "execution_count": 32,
     "metadata": {},
     "output_type": "execute_result"
    }
   ],
   "source": [
    "events.sort_values(by = \"views\",\n",
    "                  ascending = False)"
   ]
  },
  {
   "cell_type": "markdown",
   "metadata": {},
   "source": [
    "#### Question 5.3. Let's find the largest values, but we don't know how many talks are being averaged"
   ]
  },
  {
   "cell_type": "code",
   "execution_count": 33,
   "metadata": {},
   "outputs": [
    {
     "data": {
      "text/plain": [
       "177307937"
      ]
     },
     "execution_count": 33,
     "metadata": {},
     "output_type": "execute_result"
    }
   ],
   "source": [
    "events[\"views\"].max()"
   ]
  },
  {
   "cell_type": "markdown",
   "metadata": {},
   "source": [
    "#### Question 5.4. Let's show the number of talks along with the mean (events with the highest means had only 1 or 2 talks)"
   ]
  },
  {
   "cell_type": "code",
   "execution_count": 34,
   "metadata": {},
   "outputs": [
    {
     "data": {
      "text/html": [
       "<div>\n",
       "<style scoped>\n",
       "    .dataframe tbody tr th:only-of-type {\n",
       "        vertical-align: middle;\n",
       "    }\n",
       "\n",
       "    .dataframe tbody tr th {\n",
       "        vertical-align: top;\n",
       "    }\n",
       "\n",
       "    .dataframe thead th {\n",
       "        text-align: right;\n",
       "    }\n",
       "</style>\n",
       "<table border=\"1\" class=\"dataframe\">\n",
       "  <thead>\n",
       "    <tr style=\"text-align: right;\">\n",
       "      <th></th>\n",
       "      <th>comments</th>\n",
       "      <th>duration</th>\n",
       "      <th>film_date</th>\n",
       "      <th>languages</th>\n",
       "      <th>num_speaker</th>\n",
       "      <th>published_date</th>\n",
       "      <th>views</th>\n",
       "      <th>CPV</th>\n",
       "      <th>delay</th>\n",
       "      <th>year</th>\n",
       "      <th>mean_views</th>\n",
       "    </tr>\n",
       "    <tr>\n",
       "      <th>event</th>\n",
       "      <th></th>\n",
       "      <th></th>\n",
       "      <th></th>\n",
       "      <th></th>\n",
       "      <th></th>\n",
       "      <th></th>\n",
       "      <th></th>\n",
       "      <th></th>\n",
       "      <th></th>\n",
       "      <th></th>\n",
       "      <th></th>\n",
       "    </tr>\n",
       "  </thead>\n",
       "  <tbody>\n",
       "    <tr>\n",
       "      <th>TEDxPuget Sound</th>\n",
       "      <td>1930</td>\n",
       "      <td>1084</td>\n",
       "      <td>1253145600</td>\n",
       "      <td>45</td>\n",
       "      <td>1</td>\n",
       "      <td>1272965460</td>\n",
       "      <td>34309432</td>\n",
       "      <td>17776.907772</td>\n",
       "      <td>19819860</td>\n",
       "      <td>2009</td>\n",
       "      <td>34309432.0</td>\n",
       "    </tr>\n",
       "    <tr>\n",
       "      <th>TEDxHouston</th>\n",
       "      <td>2116</td>\n",
       "      <td>2296</td>\n",
       "      <td>2562624000</td>\n",
       "      <td>78</td>\n",
       "      <td>2</td>\n",
       "      <td>2583813688</td>\n",
       "      <td>32280501</td>\n",
       "      <td>22059.897164</td>\n",
       "      <td>21189688</td>\n",
       "      <td>4020</td>\n",
       "      <td>16140250.5</td>\n",
       "    </tr>\n",
       "    <tr>\n",
       "      <th>TEDxBloomington</th>\n",
       "      <td>1016</td>\n",
       "      <td>1464</td>\n",
       "      <td>2610144000</td>\n",
       "      <td>85</td>\n",
       "      <td>2</td>\n",
       "      <td>2649140669</td>\n",
       "      <td>18968519</td>\n",
       "      <td>32028.052129</td>\n",
       "      <td>38996669</td>\n",
       "      <td>4022</td>\n",
       "      <td>9484259.5</td>\n",
       "    </tr>\n",
       "    <tr>\n",
       "      <th>TEDxCreativeCoast</th>\n",
       "      <td>215</td>\n",
       "      <td>704</td>\n",
       "      <td>1430438400</td>\n",
       "      <td>39</td>\n",
       "      <td>1</td>\n",
       "      <td>1455639401</td>\n",
       "      <td>8444981</td>\n",
       "      <td>39278.981395</td>\n",
       "      <td>25201001</td>\n",
       "      <td>2015</td>\n",
       "      <td>8444981.0</td>\n",
       "    </tr>\n",
       "    <tr>\n",
       "      <th>TEDxNorrkoping</th>\n",
       "      <td>203</td>\n",
       "      <td>620</td>\n",
       "      <td>1415664000</td>\n",
       "      <td>41</td>\n",
       "      <td>1</td>\n",
       "      <td>1418832726</td>\n",
       "      <td>6569493</td>\n",
       "      <td>32362.034483</td>\n",
       "      <td>3168726</td>\n",
       "      <td>2014</td>\n",
       "      <td>6569493.0</td>\n",
       "    </tr>\n",
       "    <tr>\n",
       "      <th>...</th>\n",
       "      <td>...</td>\n",
       "      <td>...</td>\n",
       "      <td>...</td>\n",
       "      <td>...</td>\n",
       "      <td>...</td>\n",
       "      <td>...</td>\n",
       "      <td>...</td>\n",
       "      <td>...</td>\n",
       "      <td>...</td>\n",
       "      <td>...</td>\n",
       "      <td>...</td>\n",
       "    </tr>\n",
       "    <tr>\n",
       "      <th>TEDxNASA@SiliconValley</th>\n",
       "      <td>76</td>\n",
       "      <td>869</td>\n",
       "      <td>1313539200</td>\n",
       "      <td>20</td>\n",
       "      <td>1</td>\n",
       "      <td>1327157906</td>\n",
       "      <td>155895</td>\n",
       "      <td>2051.250000</td>\n",
       "      <td>13618706</td>\n",
       "      <td>2011</td>\n",
       "      <td>155895.0</td>\n",
       "    </tr>\n",
       "    <tr>\n",
       "      <th>AORN Congress</th>\n",
       "      <td>87</td>\n",
       "      <td>510</td>\n",
       "      <td>1237024800</td>\n",
       "      <td>0</td>\n",
       "      <td>1</td>\n",
       "      <td>1263027540</td>\n",
       "      <td>149818</td>\n",
       "      <td>1722.045977</td>\n",
       "      <td>26002740</td>\n",
       "      <td>2009</td>\n",
       "      <td>149818.0</td>\n",
       "    </tr>\n",
       "    <tr>\n",
       "      <th>TEDxWaterloo</th>\n",
       "      <td>118</td>\n",
       "      <td>982</td>\n",
       "      <td>1299110400</td>\n",
       "      <td>0</td>\n",
       "      <td>1</td>\n",
       "      <td>1321196864</td>\n",
       "      <td>138812</td>\n",
       "      <td>1176.372881</td>\n",
       "      <td>22086464</td>\n",
       "      <td>2011</td>\n",
       "      <td>138812.0</td>\n",
       "    </tr>\n",
       "    <tr>\n",
       "      <th>TEDxIslay</th>\n",
       "      <td>70</td>\n",
       "      <td>1118</td>\n",
       "      <td>1303516800</td>\n",
       "      <td>0</td>\n",
       "      <td>1</td>\n",
       "      <td>1329058599</td>\n",
       "      <td>120274</td>\n",
       "      <td>1718.200000</td>\n",
       "      <td>25541799</td>\n",
       "      <td>2011</td>\n",
       "      <td>120274.0</td>\n",
       "    </tr>\n",
       "    <tr>\n",
       "      <th>The Do Lectures</th>\n",
       "      <td>40</td>\n",
       "      <td>1690</td>\n",
       "      <td>1253232000</td>\n",
       "      <td>0</td>\n",
       "      <td>1</td>\n",
       "      <td>1285488000</td>\n",
       "      <td>112321</td>\n",
       "      <td>2808.025000</td>\n",
       "      <td>32256000</td>\n",
       "      <td>2009</td>\n",
       "      <td>112321.0</td>\n",
       "    </tr>\n",
       "  </tbody>\n",
       "</table>\n",
       "<p>355 rows × 11 columns</p>\n",
       "</div>"
      ],
      "text/plain": [
       "                        comments  duration   film_date  languages  \\\n",
       "event                                                               \n",
       "TEDxPuget Sound             1930      1084  1253145600         45   \n",
       "TEDxHouston                 2116      2296  2562624000         78   \n",
       "TEDxBloomington             1016      1464  2610144000         85   \n",
       "TEDxCreativeCoast            215       704  1430438400         39   \n",
       "TEDxNorrkoping               203       620  1415664000         41   \n",
       "...                          ...       ...         ...        ...   \n",
       "TEDxNASA@SiliconValley        76       869  1313539200         20   \n",
       "AORN Congress                 87       510  1237024800          0   \n",
       "TEDxWaterloo                 118       982  1299110400          0   \n",
       "TEDxIslay                     70      1118  1303516800          0   \n",
       "The Do Lectures               40      1690  1253232000          0   \n",
       "\n",
       "                        num_speaker  published_date     views           CPV  \\\n",
       "event                                                                         \n",
       "TEDxPuget Sound                   1      1272965460  34309432  17776.907772   \n",
       "TEDxHouston                       2      2583813688  32280501  22059.897164   \n",
       "TEDxBloomington                   2      2649140669  18968519  32028.052129   \n",
       "TEDxCreativeCoast                 1      1455639401   8444981  39278.981395   \n",
       "TEDxNorrkoping                    1      1418832726   6569493  32362.034483   \n",
       "...                             ...             ...       ...           ...   \n",
       "TEDxNASA@SiliconValley            1      1327157906    155895   2051.250000   \n",
       "AORN Congress                     1      1263027540    149818   1722.045977   \n",
       "TEDxWaterloo                      1      1321196864    138812   1176.372881   \n",
       "TEDxIslay                         1      1329058599    120274   1718.200000   \n",
       "The Do Lectures                   1      1285488000    112321   2808.025000   \n",
       "\n",
       "                           delay  year  mean_views  \n",
       "event                                               \n",
       "TEDxPuget Sound         19819860  2009  34309432.0  \n",
       "TEDxHouston             21189688  4020  16140250.5  \n",
       "TEDxBloomington         38996669  4022   9484259.5  \n",
       "TEDxCreativeCoast       25201001  2015   8444981.0  \n",
       "TEDxNorrkoping           3168726  2014   6569493.0  \n",
       "...                          ...   ...         ...  \n",
       "TEDxNASA@SiliconValley  13618706  2011    155895.0  \n",
       "AORN Congress           26002740  2009    149818.0  \n",
       "TEDxWaterloo            22086464  2011    138812.0  \n",
       "TEDxIslay               25541799  2011    120274.0  \n",
       "The Do Lectures         32256000  2009    112321.0  \n",
       "\n",
       "[355 rows x 11 columns]"
      ]
     },
     "execution_count": 34,
     "metadata": {},
     "output_type": "execute_result"
    }
   ],
   "source": [
    "events[\"mean_views\"] = events[\"views\"] / events [\"num_speaker\"]\n",
    "events.sort_values(by = \"mean_views\",\n",
    "                  ascending = False)"
   ]
  },
  {
   "cell_type": "markdown",
   "metadata": {},
   "source": [
    "#### Question 5.5. Let's calculate the total views per event"
   ]
  },
  {
   "cell_type": "code",
   "execution_count": 35,
   "metadata": {},
   "outputs": [
    {
     "data": {
      "text/html": [
       "<div>\n",
       "<style scoped>\n",
       "    .dataframe tbody tr th:only-of-type {\n",
       "        vertical-align: middle;\n",
       "    }\n",
       "\n",
       "    .dataframe tbody tr th {\n",
       "        vertical-align: top;\n",
       "    }\n",
       "\n",
       "    .dataframe thead th {\n",
       "        text-align: right;\n",
       "    }\n",
       "</style>\n",
       "<table border=\"1\" class=\"dataframe\">\n",
       "  <thead>\n",
       "    <tr style=\"text-align: right;\">\n",
       "      <th></th>\n",
       "      <th>comments</th>\n",
       "      <th>duration</th>\n",
       "      <th>film_date</th>\n",
       "      <th>languages</th>\n",
       "      <th>num_speaker</th>\n",
       "      <th>published_date</th>\n",
       "      <th>views</th>\n",
       "      <th>CPV</th>\n",
       "      <th>delay</th>\n",
       "      <th>year</th>\n",
       "    </tr>\n",
       "    <tr>\n",
       "      <th>event</th>\n",
       "      <th></th>\n",
       "      <th></th>\n",
       "      <th></th>\n",
       "      <th></th>\n",
       "      <th></th>\n",
       "      <th></th>\n",
       "      <th></th>\n",
       "      <th></th>\n",
       "      <th></th>\n",
       "      <th></th>\n",
       "    </tr>\n",
       "  </thead>\n",
       "  <tbody>\n",
       "    <tr>\n",
       "      <th>The Do Lectures</th>\n",
       "      <td>40</td>\n",
       "      <td>1690</td>\n",
       "      <td>1253232000</td>\n",
       "      <td>0</td>\n",
       "      <td>1</td>\n",
       "      <td>1285488000</td>\n",
       "      <td>112321</td>\n",
       "      <td>2.808025e+03</td>\n",
       "      <td>32256000</td>\n",
       "      <td>2009</td>\n",
       "    </tr>\n",
       "    <tr>\n",
       "      <th>TEDxIslay</th>\n",
       "      <td>70</td>\n",
       "      <td>1118</td>\n",
       "      <td>1303516800</td>\n",
       "      <td>0</td>\n",
       "      <td>1</td>\n",
       "      <td>1329058599</td>\n",
       "      <td>120274</td>\n",
       "      <td>1.718200e+03</td>\n",
       "      <td>25541799</td>\n",
       "      <td>2011</td>\n",
       "    </tr>\n",
       "    <tr>\n",
       "      <th>TEDxWaterloo</th>\n",
       "      <td>118</td>\n",
       "      <td>982</td>\n",
       "      <td>1299110400</td>\n",
       "      <td>0</td>\n",
       "      <td>1</td>\n",
       "      <td>1321196864</td>\n",
       "      <td>138812</td>\n",
       "      <td>1.176373e+03</td>\n",
       "      <td>22086464</td>\n",
       "      <td>2011</td>\n",
       "    </tr>\n",
       "    <tr>\n",
       "      <th>AORN Congress</th>\n",
       "      <td>87</td>\n",
       "      <td>510</td>\n",
       "      <td>1237024800</td>\n",
       "      <td>0</td>\n",
       "      <td>1</td>\n",
       "      <td>1263027540</td>\n",
       "      <td>149818</td>\n",
       "      <td>1.722046e+03</td>\n",
       "      <td>26002740</td>\n",
       "      <td>2009</td>\n",
       "    </tr>\n",
       "    <tr>\n",
       "      <th>TEDxNASA@SiliconValley</th>\n",
       "      <td>76</td>\n",
       "      <td>869</td>\n",
       "      <td>1313539200</td>\n",
       "      <td>20</td>\n",
       "      <td>1</td>\n",
       "      <td>1327157906</td>\n",
       "      <td>155895</td>\n",
       "      <td>2.051250e+03</td>\n",
       "      <td>13618706</td>\n",
       "      <td>2011</td>\n",
       "    </tr>\n",
       "    <tr>\n",
       "      <th>...</th>\n",
       "      <td>...</td>\n",
       "      <td>...</td>\n",
       "      <td>...</td>\n",
       "      <td>...</td>\n",
       "      <td>...</td>\n",
       "      <td>...</td>\n",
       "      <td>...</td>\n",
       "      <td>...</td>\n",
       "      <td>...</td>\n",
       "      <td>...</td>\n",
       "    </tr>\n",
       "    <tr>\n",
       "      <th>TED2006</th>\n",
       "      <td>13433</td>\n",
       "      <td>44216</td>\n",
       "      <td>51298876800</td>\n",
       "      <td>1246</td>\n",
       "      <td>45</td>\n",
       "      <td>52943356080</td>\n",
       "      <td>147345533</td>\n",
       "      <td>5.424557e+05</td>\n",
       "      <td>1644479280</td>\n",
       "      <td>90270</td>\n",
       "    </tr>\n",
       "    <tr>\n",
       "      <th>TED2015</th>\n",
       "      <td>10743</td>\n",
       "      <td>60684</td>\n",
       "      <td>106996982400</td>\n",
       "      <td>2222</td>\n",
       "      <td>78</td>\n",
       "      <td>107625785372</td>\n",
       "      <td>150826305</td>\n",
       "      <td>1.484459e+06</td>\n",
       "      <td>628802972</td>\n",
       "      <td>151125</td>\n",
       "    </tr>\n",
       "    <tr>\n",
       "      <th>TEDGlobal 2013</th>\n",
       "      <td>17715</td>\n",
       "      <td>51655</td>\n",
       "      <td>90504259200</td>\n",
       "      <td>2016</td>\n",
       "      <td>67</td>\n",
       "      <td>91287282051</td>\n",
       "      <td>170554736</td>\n",
       "      <td>7.722032e+05</td>\n",
       "      <td>783022851</td>\n",
       "      <td>132858</td>\n",
       "    </tr>\n",
       "    <tr>\n",
       "      <th>TED2014</th>\n",
       "      <td>15134</td>\n",
       "      <td>61971</td>\n",
       "      <td>117183110400</td>\n",
       "      <td>2505</td>\n",
       "      <td>85</td>\n",
       "      <td>117919516729</td>\n",
       "      <td>174121423</td>\n",
       "      <td>1.395182e+06</td>\n",
       "      <td>736406329</td>\n",
       "      <td>169176</td>\n",
       "    </tr>\n",
       "    <tr>\n",
       "      <th>TED2013</th>\n",
       "      <td>24548</td>\n",
       "      <td>55762</td>\n",
       "      <td>104880873600</td>\n",
       "      <td>2480</td>\n",
       "      <td>81</td>\n",
       "      <td>105597836848</td>\n",
       "      <td>177307937</td>\n",
       "      <td>6.747708e+05</td>\n",
       "      <td>716963248</td>\n",
       "      <td>155001</td>\n",
       "    </tr>\n",
       "  </tbody>\n",
       "</table>\n",
       "<p>355 rows × 10 columns</p>\n",
       "</div>"
      ],
      "text/plain": [
       "                        comments  duration     film_date  languages  \\\n",
       "event                                                                 \n",
       "The Do Lectures               40      1690    1253232000          0   \n",
       "TEDxIslay                     70      1118    1303516800          0   \n",
       "TEDxWaterloo                 118       982    1299110400          0   \n",
       "AORN Congress                 87       510    1237024800          0   \n",
       "TEDxNASA@SiliconValley        76       869    1313539200         20   \n",
       "...                          ...       ...           ...        ...   \n",
       "TED2006                    13433     44216   51298876800       1246   \n",
       "TED2015                    10743     60684  106996982400       2222   \n",
       "TEDGlobal 2013             17715     51655   90504259200       2016   \n",
       "TED2014                    15134     61971  117183110400       2505   \n",
       "TED2013                    24548     55762  104880873600       2480   \n",
       "\n",
       "                        num_speaker  published_date      views           CPV  \\\n",
       "event                                                                          \n",
       "The Do Lectures                   1      1285488000     112321  2.808025e+03   \n",
       "TEDxIslay                         1      1329058599     120274  1.718200e+03   \n",
       "TEDxWaterloo                      1      1321196864     138812  1.176373e+03   \n",
       "AORN Congress                     1      1263027540     149818  1.722046e+03   \n",
       "TEDxNASA@SiliconValley            1      1327157906     155895  2.051250e+03   \n",
       "...                             ...             ...        ...           ...   \n",
       "TED2006                          45     52943356080  147345533  5.424557e+05   \n",
       "TED2015                          78    107625785372  150826305  1.484459e+06   \n",
       "TEDGlobal 2013                   67     91287282051  170554736  7.722032e+05   \n",
       "TED2014                          85    117919516729  174121423  1.395182e+06   \n",
       "TED2013                          81    105597836848  177307937  6.747708e+05   \n",
       "\n",
       "                             delay    year  \n",
       "event                                       \n",
       "The Do Lectures           32256000    2009  \n",
       "TEDxIslay                 25541799    2011  \n",
       "TEDxWaterloo              22086464    2011  \n",
       "AORN Congress             26002740    2009  \n",
       "TEDxNASA@SiliconValley    13618706    2011  \n",
       "...                            ...     ...  \n",
       "TED2006                 1644479280   90270  \n",
       "TED2015                  628802972  151125  \n",
       "TEDGlobal 2013           783022851  132858  \n",
       "TED2014                  736406329  169176  \n",
       "TED2013                  716963248  155001  \n",
       "\n",
       "[355 rows x 10 columns]"
      ]
     },
     "execution_count": 35,
     "metadata": {},
     "output_type": "execute_result"
    }
   ],
   "source": [
    "vpe = data.groupby(\"event\").sum(\"views\")\n",
    "vpe.sort_values(\"views\")"
   ]
  },
  {
   "cell_type": "markdown",
   "metadata": {},
   "source": [
    "> #### <font color = \"blue\"> As you have seen, please... </font>\n",
    "\n",
    "- Think creatively for how you can use the data you have to answer your question\n",
    "- Watch out for small sample sizes"
   ]
  },
  {
   "cell_type": "markdown",
   "metadata": {},
   "source": [
    "### Now, let's take a look at ratings data"
   ]
  },
  {
   "cell_type": "markdown",
   "metadata": {},
   "source": [
    "> Previously, users could tag talks on the TED website (funny, inspiring, confusing, etc.)"
   ]
  },
  {
   "cell_type": "code",
   "execution_count": 36,
   "metadata": {},
   "outputs": [
    {
     "data": {
      "text/plain": [
       "0       [{'id': 7, 'name': 'Funny', 'count': 19645}, {...\n",
       "1       [{'id': 7, 'name': 'Funny', 'count': 544}, {'i...\n",
       "2       [{'id': 7, 'name': 'Funny', 'count': 964}, {'i...\n",
       "3       [{'id': 3, 'name': 'Courageous', 'count': 760}...\n",
       "4       [{'id': 9, 'name': 'Ingenious', 'count': 3202}...\n",
       "                              ...                        \n",
       "2545    [{'id': 3, 'name': 'Courageous', 'count': 24},...\n",
       "2546    [{'id': 22, 'name': 'Fascinating', 'count': 32...\n",
       "2547    [{'id': 1, 'name': 'Beautiful', 'count': 14}, ...\n",
       "2548    [{'id': 11, 'name': 'Longwinded', 'count': 3},...\n",
       "2549    [{'id': 21, 'name': 'Unconvincing', 'count': 2...\n",
       "Name: ratings, Length: 2550, dtype: object"
      ]
     },
     "execution_count": 36,
     "metadata": {},
     "output_type": "execute_result"
    }
   ],
   "source": [
    "data[\"ratings\"]"
   ]
  },
  {
   "cell_type": "markdown",
   "metadata": {},
   "source": [
    "> Think about two ways to examine the ratings data for the first talk"
   ]
  },
  {
   "cell_type": "code",
   "execution_count": 37,
   "metadata": {},
   "outputs": [
    {
     "data": {
      "text/plain": [
       "\"[{'id': 7, 'name': 'Funny', 'count': 19645}, {'id': 1, 'name': 'Beautiful', 'count': 4573}, {'id': 9, 'name': 'Ingenious', 'count': 6073}, {'id': 3, 'name': 'Courageous', 'count': 3253}, {'id': 11, 'name': 'Longwinded', 'count': 387}, {'id': 2, 'name': 'Confusing', 'count': 242}, {'id': 8, 'name': 'Informative', 'count': 7346}, {'id': 22, 'name': 'Fascinating', 'count': 10581}, {'id': 21, 'name': 'Unconvincing', 'count': 300}, {'id': 24, 'name': 'Persuasive', 'count': 10704}, {'id': 23, 'name': 'Jaw-dropping', 'count': 4439}, {'id': 25, 'name': 'OK', 'count': 1174}, {'id': 26, 'name': 'Obnoxious', 'count': 209}, {'id': 10, 'name': 'Inspiring', 'count': 24924}]\""
      ]
     },
     "execution_count": 37,
     "metadata": {},
     "output_type": "execute_result"
    }
   ],
   "source": [
    "data[\"ratings\"][0]"
   ]
  },
  {
   "cell_type": "markdown",
   "metadata": {},
   "source": [
    "> Okay, this is a string not a list."
   ]
  },
  {
   "cell_type": "code",
   "execution_count": 38,
   "metadata": {},
   "outputs": [
    {
     "data": {
      "text/plain": [
       "pandas.core.series.Series"
      ]
     },
     "execution_count": 38,
     "metadata": {},
     "output_type": "execute_result"
    }
   ],
   "source": [
    "type(data[\"ratings\"])"
   ]
  },
  {
   "cell_type": "markdown",
   "metadata": {},
   "source": [
    "### Let's convert this into something useful using Python's `ast` module (`Abstract Syntax Tree`)"
   ]
  },
  {
   "cell_type": "markdown",
   "metadata": {},
   "source": [
    "> `literal_eval()` allows you to evaluate a string containing a Python literal or container\n",
    "\n",
    "> #### <font color = \"red\"> See below for my guidance </font>"
   ]
  },
  {
   "cell_type": "markdown",
   "metadata": {},
   "source": [
    "```python\n",
    "# if you wish to unpack data\n",
    "    YOUR_DF[\"variable\"].apply(ast.literal_eval)\n",
    "\n",
    "# if you wish to access specific talk related data\n",
    "    YOUR_DF[\"variable\"].apply(ast.literal_eval)[0]\n",
    "\n",
    "# if you wish to access specific talk related observations within the data\n",
    "    YOUR_DF[\"variable\"].apply(ast.literal_eval)[0][0]\n",
    "\n",
    "# if you wish to access specific talk related observations with a particular attribute within the data\n",
    "    YOUR_DF[\"variable\"].apply(ast.literal_eval)[0][0][\"key\"]\n",
    "```"
   ]
  },
  {
   "cell_type": "markdown",
   "metadata": {},
   "source": [
    "> If you have a string representation of something, you can retrieve what it actually represents"
   ]
  },
  {
   "cell_type": "code",
   "execution_count": 39,
   "metadata": {},
   "outputs": [
    {
     "data": {
      "text/plain": [
       "[{'id': 7, 'name': 'Funny', 'count': 19645},\n",
       " {'id': 1, 'name': 'Beautiful', 'count': 4573},\n",
       " {'id': 9, 'name': 'Ingenious', 'count': 6073},\n",
       " {'id': 3, 'name': 'Courageous', 'count': 3253},\n",
       " {'id': 11, 'name': 'Longwinded', 'count': 387},\n",
       " {'id': 2, 'name': 'Confusing', 'count': 242},\n",
       " {'id': 8, 'name': 'Informative', 'count': 7346},\n",
       " {'id': 22, 'name': 'Fascinating', 'count': 10581},\n",
       " {'id': 21, 'name': 'Unconvincing', 'count': 300},\n",
       " {'id': 24, 'name': 'Persuasive', 'count': 10704},\n",
       " {'id': 23, 'name': 'Jaw-dropping', 'count': 4439},\n",
       " {'id': 25, 'name': 'OK', 'count': 1174},\n",
       " {'id': 26, 'name': 'Obnoxious', 'count': 209},\n",
       " {'id': 10, 'name': 'Inspiring', 'count': 24924}]"
      ]
     },
     "execution_count": 39,
     "metadata": {},
     "output_type": "execute_result"
    }
   ],
   "source": [
    "import ast\n",
    "data[\"ratings\"].apply(ast.literal_eval)[0]"
   ]
  },
  {
   "cell_type": "code",
   "execution_count": 40,
   "metadata": {},
   "outputs": [
    {
     "data": {
      "text/plain": [
       "{'id': 7, 'name': 'Funny', 'count': 19645}"
      ]
     },
     "execution_count": 40,
     "metadata": {},
     "output_type": "execute_result"
    }
   ],
   "source": [
    "data[\"ratings\"].apply(ast.literal_eval)[0][0]"
   ]
  },
  {
   "cell_type": "code",
   "execution_count": 41,
   "metadata": {},
   "outputs": [
    {
     "data": {
      "text/plain": [
       "'Funny'"
      ]
     },
     "execution_count": 41,
     "metadata": {},
     "output_type": "execute_result"
    }
   ],
   "source": [
    "data[\"ratings\"].apply(ast.literal_eval)[0][0][\"name\"]"
   ]
  },
  {
   "cell_type": "markdown",
   "metadata": {},
   "source": [
    "> Let's unpack the ratings data for the first talk"
   ]
  },
  {
   "cell_type": "code",
   "execution_count": 42,
   "metadata": {},
   "outputs": [
    {
     "data": {
      "text/plain": [
       "[{'id': 7, 'name': 'Funny', 'count': 19645},\n",
       " {'id': 1, 'name': 'Beautiful', 'count': 4573},\n",
       " {'id': 9, 'name': 'Ingenious', 'count': 6073},\n",
       " {'id': 3, 'name': 'Courageous', 'count': 3253},\n",
       " {'id': 11, 'name': 'Longwinded', 'count': 387},\n",
       " {'id': 2, 'name': 'Confusing', 'count': 242},\n",
       " {'id': 8, 'name': 'Informative', 'count': 7346},\n",
       " {'id': 22, 'name': 'Fascinating', 'count': 10581},\n",
       " {'id': 21, 'name': 'Unconvincing', 'count': 300},\n",
       " {'id': 24, 'name': 'Persuasive', 'count': 10704},\n",
       " {'id': 23, 'name': 'Jaw-dropping', 'count': 4439},\n",
       " {'id': 25, 'name': 'OK', 'count': 1174},\n",
       " {'id': 26, 'name': 'Obnoxious', 'count': 209},\n",
       " {'id': 10, 'name': 'Inspiring', 'count': 24924}]"
      ]
     },
     "execution_count": 42,
     "metadata": {},
     "output_type": "execute_result"
    }
   ],
   "source": [
    "rating_1 = data[\"ratings\"].apply(ast.literal_eval)[0]\n",
    "rating_1"
   ]
  },
  {
   "cell_type": "markdown",
   "metadata": {},
   "source": [
    "> Yes, now we have a list (of dictionaries)"
   ]
  },
  {
   "cell_type": "markdown",
   "metadata": {},
   "source": [
    "### Question 6. Let's define a function to convert an element in the ratings Series from string to list\n",
    "\n",
    "#### <font color = \"blue\"> USE `ast.literal_eval()` </font>"
   ]
  },
  {
   "cell_type": "code",
   "execution_count": 43,
   "metadata": {},
   "outputs": [
    {
     "data": {
      "text/plain": [
       "[{'id': 7, 'name': 'Funny', 'count': 19645},\n",
       " {'id': 1, 'name': 'Beautiful', 'count': 4573},\n",
       " {'id': 9, 'name': 'Ingenious', 'count': 6073},\n",
       " {'id': 3, 'name': 'Courageous', 'count': 3253},\n",
       " {'id': 11, 'name': 'Longwinded', 'count': 387},\n",
       " {'id': 2, 'name': 'Confusing', 'count': 242},\n",
       " {'id': 8, 'name': 'Informative', 'count': 7346},\n",
       " {'id': 22, 'name': 'Fascinating', 'count': 10581},\n",
       " {'id': 21, 'name': 'Unconvincing', 'count': 300},\n",
       " {'id': 24, 'name': 'Persuasive', 'count': 10704},\n",
       " {'id': 23, 'name': 'Jaw-dropping', 'count': 4439},\n",
       " {'id': 25, 'name': 'OK', 'count': 1174},\n",
       " {'id': 26, 'name': 'Obnoxious', 'count': 209},\n",
       " {'id': 10, 'name': 'Inspiring', 'count': 24924}]"
      ]
     },
     "execution_count": 43,
     "metadata": {},
     "output_type": "execute_result"
    }
   ],
   "source": [
    "rating_1 = data[\"ratings\"].apply(ast.literal_eval)[0]\n",
    "rating_1"
   ]
  },
  {
   "cell_type": "markdown",
   "metadata": {},
   "source": [
    "> Let's test our function"
   ]
  },
  {
   "cell_type": "code",
   "execution_count": 44,
   "metadata": {},
   "outputs": [
    {
     "data": {
      "text/plain": [
       "list"
      ]
     },
     "execution_count": 44,
     "metadata": {},
     "output_type": "execute_result"
    }
   ],
   "source": [
    "type(rating_1)"
   ]
  },
  {
   "cell_type": "code",
   "execution_count": 45,
   "metadata": {},
   "outputs": [
    {
     "data": {
      "text/plain": [
       "{'id': 7, 'name': 'Funny', 'count': 19645}"
      ]
     },
     "execution_count": 45,
     "metadata": {},
     "output_type": "execute_result"
    }
   ],
   "source": [
    "rating_1[0]"
   ]
  },
  {
   "cell_type": "code",
   "execution_count": 46,
   "metadata": {},
   "outputs": [
    {
     "data": {
      "text/plain": [
       "dict"
      ]
     },
     "execution_count": 46,
     "metadata": {},
     "output_type": "execute_result"
    }
   ],
   "source": [
    "type(rating_1[0])"
   ]
  },
  {
   "cell_type": "code",
   "execution_count": 56,
   "metadata": {},
   "outputs": [
    {
     "data": {
      "text/plain": [
       "'Funny'"
      ]
     },
     "execution_count": 56,
     "metadata": {},
     "output_type": "execute_result"
    }
   ],
   "source": [
    "rating_1[0][\"name\"]"
   ]
  },
  {
   "cell_type": "markdown",
   "metadata": {},
   "source": [
    "> Note that Series `apply` method applies a function to every element in a Series, returning a Series."
   ]
  },
  {
   "cell_type": "code",
   "execution_count": null,
   "metadata": {},
   "outputs": [],
   "source": []
  },
  {
   "cell_type": "markdown",
   "metadata": {},
   "source": [
    "> #### <font color = \"blue\"> `lambda` is a shorter alternative</blue>\n",
    "\n",
    "> #### <font color = \"red\">Please check the following for more details</font>\n",
    "> - `Coder's Apprentice`\n",
    "    - *Chapter 8*: Functions\n",
    "        - *Section 6*: Anonymous functions"
   ]
  },
  {
   "cell_type": "code",
   "execution_count": null,
   "metadata": {},
   "outputs": [],
   "source": [
    "f = lambda "
   ]
  },
  {
   "cell_type": "markdown",
   "metadata": {},
   "source": [
    "> An even shorter alternative is to apply the function directly (without lambda)"
   ]
  },
  {
   "cell_type": "code",
   "execution_count": null,
   "metadata": {},
   "outputs": [],
   "source": [
    "ratings_map = map(list, data[\"ratings\"])\n",
    "ratings_map"
   ]
  },
  {
   "cell_type": "markdown",
   "metadata": {},
   "source": [
    "> Let's check that the new Series looks as expected"
   ]
  },
  {
   "cell_type": "code",
   "execution_count": null,
   "metadata": {},
   "outputs": [],
   "source": []
  },
  {
   "cell_type": "markdown",
   "metadata": {},
   "source": [
    "> Each element in the Series is a list"
   ]
  },
  {
   "cell_type": "code",
   "execution_count": null,
   "metadata": {
    "scrolled": true
   },
   "outputs": [],
   "source": [
    "data[\"ratings\"].info"
   ]
  },
  {
   "cell_type": "markdown",
   "metadata": {
    "scrolled": true
   },
   "source": [
    "> data type of the new Series is object"
   ]
  },
  {
   "cell_type": "markdown",
   "metadata": {},
   "source": [
    "##### Note that object is not just for strings."
   ]
  },
  {
   "cell_type": "code",
   "execution_count": null,
   "metadata": {},
   "outputs": [],
   "source": []
  },
  {
   "cell_type": "markdown",
   "metadata": {},
   "source": [
    "#### <font color = \"blue\"> So far so good, remember to: </font>\n",
    "\n",
    "- Pay attention to data types in pandas\n",
    "- Use apply any time it is necessary"
   ]
  },
  {
   "cell_type": "markdown",
   "metadata": {},
   "source": [
    "### Question 7.1. Let's have a look at the total number of ratings received by each talk\n",
    "\n",
    "- for each talk, calculate the percentage of ratings that were negative\n",
    "\n",
    "- for each talk, calculate the average number of ratings it received per day since it was published"
   ]
  },
  {
   "cell_type": "markdown",
   "metadata": {},
   "source": [
    "> Let's start by building a simple function"
   ]
  },
  {
   "cell_type": "markdown",
   "metadata": {},
   "source": [
    "> Here, expected result (for each talk) is sum of count"
   ]
  },
  {
   "cell_type": "code",
   "execution_count": 51,
   "metadata": {},
   "outputs": [
    {
     "data": {
      "text/plain": [
       "19645"
      ]
     },
     "execution_count": 51,
     "metadata": {},
     "output_type": "execute_result"
    }
   ],
   "source": [
    "data[\"ratings\"].apply(ast.literal_eval)[0][0][\"count\"]"
   ]
  },
  {
   "cell_type": "code",
   "execution_count": 52,
   "metadata": {},
   "outputs": [
    {
     "data": {
      "text/html": [
       "<div>\n",
       "<style scoped>\n",
       "    .dataframe tbody tr th:only-of-type {\n",
       "        vertical-align: middle;\n",
       "    }\n",
       "\n",
       "    .dataframe tbody tr th {\n",
       "        vertical-align: top;\n",
       "    }\n",
       "\n",
       "    .dataframe thead th {\n",
       "        text-align: right;\n",
       "    }\n",
       "</style>\n",
       "<table border=\"1\" class=\"dataframe\">\n",
       "  <thead>\n",
       "    <tr style=\"text-align: right;\">\n",
       "      <th></th>\n",
       "      <th>comments</th>\n",
       "      <th>description</th>\n",
       "      <th>duration</th>\n",
       "      <th>event</th>\n",
       "      <th>film_date</th>\n",
       "      <th>languages</th>\n",
       "      <th>main_speaker</th>\n",
       "      <th>name</th>\n",
       "      <th>num_speaker</th>\n",
       "      <th>published_date</th>\n",
       "      <th>related_talks</th>\n",
       "      <th>speaker_occupation</th>\n",
       "      <th>tags</th>\n",
       "      <th>title</th>\n",
       "      <th>url</th>\n",
       "      <th>views</th>\n",
       "      <th>CPV</th>\n",
       "      <th>delay</th>\n",
       "      <th>film_datetime</th>\n",
       "      <th>year</th>\n",
       "    </tr>\n",
       "    <tr>\n",
       "      <th>ratings</th>\n",
       "      <th></th>\n",
       "      <th></th>\n",
       "      <th></th>\n",
       "      <th></th>\n",
       "      <th></th>\n",
       "      <th></th>\n",
       "      <th></th>\n",
       "      <th></th>\n",
       "      <th></th>\n",
       "      <th></th>\n",
       "      <th></th>\n",
       "      <th></th>\n",
       "      <th></th>\n",
       "      <th></th>\n",
       "      <th></th>\n",
       "      <th></th>\n",
       "      <th></th>\n",
       "      <th></th>\n",
       "      <th></th>\n",
       "      <th></th>\n",
       "    </tr>\n",
       "  </thead>\n",
       "  <tbody>\n",
       "    <tr>\n",
       "      <th>[{'id': 1, 'name': 'Beautiful', 'count': 100}, {'id': 9, 'name': 'Ingenious', 'count': 97}, {'id': 3, 'name': 'Courageous', 'count': 78}, {'id': 8, 'name': 'Informative', 'count': 313}, {'id': 10, 'name': 'Inspiring', 'count': 518}, {'id': 21, 'name': 'Unconvincing', 'count': 30}, {'id': 22, 'name': 'Fascinating', 'count': 158}, {'id': 11, 'name': 'Longwinded', 'count': 31}, {'id': 7, 'name': 'Funny', 'count': 12}, {'id': 25, 'name': 'OK', 'count': 59}, {'id': 23, 'name': 'Jaw-dropping', 'count': 72}, {'id': 24, 'name': 'Persuasive', 'count': 174}, {'id': 26, 'name': 'Obnoxious', 'count': 14}, {'id': 2, 'name': 'Confusing', 'count': 15}]</th>\n",
       "      <td>1</td>\n",
       "      <td>1</td>\n",
       "      <td>1</td>\n",
       "      <td>1</td>\n",
       "      <td>1</td>\n",
       "      <td>1</td>\n",
       "      <td>1</td>\n",
       "      <td>1</td>\n",
       "      <td>1</td>\n",
       "      <td>1</td>\n",
       "      <td>1</td>\n",
       "      <td>1</td>\n",
       "      <td>1</td>\n",
       "      <td>1</td>\n",
       "      <td>1</td>\n",
       "      <td>1</td>\n",
       "      <td>1</td>\n",
       "      <td>1</td>\n",
       "      <td>1</td>\n",
       "      <td>1</td>\n",
       "    </tr>\n",
       "    <tr>\n",
       "      <th>[{'id': 1, 'name': 'Beautiful', 'count': 101}, {'id': 3, 'name': 'Courageous', 'count': 141}, {'id': 10, 'name': 'Inspiring', 'count': 252}, {'id': 11, 'name': 'Longwinded', 'count': 20}, {'id': 8, 'name': 'Informative', 'count': 92}, {'id': 22, 'name': 'Fascinating', 'count': 36}, {'id': 2, 'name': 'Confusing', 'count': 15}, {'id': 24, 'name': 'Persuasive', 'count': 39}, {'id': 21, 'name': 'Unconvincing', 'count': 10}, {'id': 26, 'name': 'Obnoxious', 'count': 11}, {'id': 9, 'name': 'Ingenious', 'count': 19}, {'id': 25, 'name': 'OK', 'count': 28}, {'id': 23, 'name': 'Jaw-dropping', 'count': 7}, {'id': 7, 'name': 'Funny', 'count': 5}]</th>\n",
       "      <td>1</td>\n",
       "      <td>1</td>\n",
       "      <td>1</td>\n",
       "      <td>1</td>\n",
       "      <td>1</td>\n",
       "      <td>1</td>\n",
       "      <td>1</td>\n",
       "      <td>1</td>\n",
       "      <td>1</td>\n",
       "      <td>1</td>\n",
       "      <td>1</td>\n",
       "      <td>1</td>\n",
       "      <td>1</td>\n",
       "      <td>1</td>\n",
       "      <td>1</td>\n",
       "      <td>1</td>\n",
       "      <td>1</td>\n",
       "      <td>1</td>\n",
       "      <td>1</td>\n",
       "      <td>1</td>\n",
       "    </tr>\n",
       "    <tr>\n",
       "      <th>[{'id': 1, 'name': 'Beautiful', 'count': 101}, {'id': 3, 'name': 'Courageous', 'count': 84}, {'id': 10, 'name': 'Inspiring', 'count': 199}, {'id': 22, 'name': 'Fascinating', 'count': 83}, {'id': 9, 'name': 'Ingenious', 'count': 61}, {'id': 8, 'name': 'Informative', 'count': 67}, {'id': 24, 'name': 'Persuasive', 'count': 13}, {'id': 11, 'name': 'Longwinded', 'count': 2}, {'id': 25, 'name': 'OK', 'count': 10}, {'id': 7, 'name': 'Funny', 'count': 2}, {'id': 21, 'name': 'Unconvincing', 'count': 2}, {'id': 23, 'name': 'Jaw-dropping', 'count': 23}, {'id': 2, 'name': 'Confusing', 'count': 4}, {'id': 26, 'name': 'Obnoxious', 'count': 1}]</th>\n",
       "      <td>1</td>\n",
       "      <td>1</td>\n",
       "      <td>1</td>\n",
       "      <td>1</td>\n",
       "      <td>1</td>\n",
       "      <td>1</td>\n",
       "      <td>1</td>\n",
       "      <td>1</td>\n",
       "      <td>1</td>\n",
       "      <td>1</td>\n",
       "      <td>1</td>\n",
       "      <td>1</td>\n",
       "      <td>1</td>\n",
       "      <td>1</td>\n",
       "      <td>1</td>\n",
       "      <td>1</td>\n",
       "      <td>1</td>\n",
       "      <td>1</td>\n",
       "      <td>1</td>\n",
       "      <td>1</td>\n",
       "    </tr>\n",
       "    <tr>\n",
       "      <th>[{'id': 1, 'name': 'Beautiful', 'count': 101}, {'id': 7, 'name': 'Funny', 'count': 306}, {'id': 9, 'name': 'Ingenious', 'count': 106}, {'id': 11, 'name': 'Longwinded', 'count': 54}, {'id': 3, 'name': 'Courageous', 'count': 39}, {'id': 10, 'name': 'Inspiring', 'count': 230}, {'id': 8, 'name': 'Informative', 'count': 360}, {'id': 21, 'name': 'Unconvincing', 'count': 184}, {'id': 22, 'name': 'Fascinating', 'count': 298}, {'id': 2, 'name': 'Confusing', 'count': 34}, {'id': 25, 'name': 'OK', 'count': 66}, {'id': 23, 'name': 'Jaw-dropping', 'count': 54}, {'id': 26, 'name': 'Obnoxious', 'count': 47}, {'id': 24, 'name': 'Persuasive', 'count': 29}]</th>\n",
       "      <td>1</td>\n",
       "      <td>1</td>\n",
       "      <td>1</td>\n",
       "      <td>1</td>\n",
       "      <td>1</td>\n",
       "      <td>1</td>\n",
       "      <td>1</td>\n",
       "      <td>1</td>\n",
       "      <td>1</td>\n",
       "      <td>1</td>\n",
       "      <td>1</td>\n",
       "      <td>1</td>\n",
       "      <td>1</td>\n",
       "      <td>1</td>\n",
       "      <td>1</td>\n",
       "      <td>1</td>\n",
       "      <td>1</td>\n",
       "      <td>1</td>\n",
       "      <td>1</td>\n",
       "      <td>1</td>\n",
       "    </tr>\n",
       "    <tr>\n",
       "      <th>[{'id': 1, 'name': 'Beautiful', 'count': 1024}, {'id': 3, 'name': 'Courageous', 'count': 431}, {'id': 8, 'name': 'Informative', 'count': 268}, {'id': 24, 'name': 'Persuasive', 'count': 97}, {'id': 10, 'name': 'Inspiring', 'count': 822}, {'id': 9, 'name': 'Ingenious', 'count': 120}, {'id': 25, 'name': 'OK', 'count': 86}, {'id': 7, 'name': 'Funny', 'count': 17}, {'id': 11, 'name': 'Longwinded', 'count': 15}, {'id': 22, 'name': 'Fascinating', 'count': 198}, {'id': 21, 'name': 'Unconvincing', 'count': 8}, {'id': 26, 'name': 'Obnoxious', 'count': 9}, {'id': 23, 'name': 'Jaw-dropping', 'count': 64}, {'id': 2, 'name': 'Confusing', 'count': 6}]</th>\n",
       "      <td>1</td>\n",
       "      <td>1</td>\n",
       "      <td>1</td>\n",
       "      <td>1</td>\n",
       "      <td>1</td>\n",
       "      <td>1</td>\n",
       "      <td>1</td>\n",
       "      <td>1</td>\n",
       "      <td>1</td>\n",
       "      <td>1</td>\n",
       "      <td>1</td>\n",
       "      <td>1</td>\n",
       "      <td>1</td>\n",
       "      <td>1</td>\n",
       "      <td>1</td>\n",
       "      <td>1</td>\n",
       "      <td>1</td>\n",
       "      <td>1</td>\n",
       "      <td>1</td>\n",
       "      <td>1</td>\n",
       "    </tr>\n",
       "    <tr>\n",
       "      <th>...</th>\n",
       "      <td>...</td>\n",
       "      <td>...</td>\n",
       "      <td>...</td>\n",
       "      <td>...</td>\n",
       "      <td>...</td>\n",
       "      <td>...</td>\n",
       "      <td>...</td>\n",
       "      <td>...</td>\n",
       "      <td>...</td>\n",
       "      <td>...</td>\n",
       "      <td>...</td>\n",
       "      <td>...</td>\n",
       "      <td>...</td>\n",
       "      <td>...</td>\n",
       "      <td>...</td>\n",
       "      <td>...</td>\n",
       "      <td>...</td>\n",
       "      <td>...</td>\n",
       "      <td>...</td>\n",
       "      <td>...</td>\n",
       "    </tr>\n",
       "    <tr>\n",
       "      <th>[{'id': 9, 'name': 'Ingenious', 'count': 93}, {'id': 10, 'name': 'Inspiring', 'count': 271}, {'id': 24, 'name': 'Persuasive', 'count': 400}, {'id': 21, 'name': 'Unconvincing', 'count': 25}, {'id': 25, 'name': 'OK', 'count': 140}, {'id': 3, 'name': 'Courageous', 'count': 101}, {'id': 26, 'name': 'Obnoxious', 'count': 13}, {'id': 8, 'name': 'Informative', 'count': 317}, {'id': 1, 'name': 'Beautiful', 'count': 38}, {'id': 22, 'name': 'Fascinating', 'count': 46}, {'id': 7, 'name': 'Funny', 'count': 143}, {'id': 11, 'name': 'Longwinded', 'count': 6}, {'id': 23, 'name': 'Jaw-dropping', 'count': 4}, {'id': 2, 'name': 'Confusing', 'count': 2}]</th>\n",
       "      <td>1</td>\n",
       "      <td>1</td>\n",
       "      <td>1</td>\n",
       "      <td>1</td>\n",
       "      <td>1</td>\n",
       "      <td>1</td>\n",
       "      <td>1</td>\n",
       "      <td>1</td>\n",
       "      <td>1</td>\n",
       "      <td>1</td>\n",
       "      <td>1</td>\n",
       "      <td>1</td>\n",
       "      <td>1</td>\n",
       "      <td>1</td>\n",
       "      <td>1</td>\n",
       "      <td>1</td>\n",
       "      <td>1</td>\n",
       "      <td>1</td>\n",
       "      <td>1</td>\n",
       "      <td>1</td>\n",
       "    </tr>\n",
       "    <tr>\n",
       "      <th>[{'id': 9, 'name': 'Ingenious', 'count': 942}, {'id': 10, 'name': 'Inspiring', 'count': 1075}, {'id': 8, 'name': 'Informative', 'count': 310}, {'id': 22, 'name': 'Fascinating', 'count': 688}, {'id': 11, 'name': 'Longwinded', 'count': 28}, {'id': 1, 'name': 'Beautiful', 'count': 265}, {'id': 21, 'name': 'Unconvincing', 'count': 25}, {'id': 3, 'name': 'Courageous', 'count': 348}, {'id': 2, 'name': 'Confusing', 'count': 24}, {'id': 7, 'name': 'Funny', 'count': 26}, {'id': 23, 'name': 'Jaw-dropping', 'count': 2080}, {'id': 24, 'name': 'Persuasive', 'count': 87}, {'id': 25, 'name': 'OK', 'count': 65}, {'id': 26, 'name': 'Obnoxious', 'count': 25}]</th>\n",
       "      <td>1</td>\n",
       "      <td>1</td>\n",
       "      <td>1</td>\n",
       "      <td>1</td>\n",
       "      <td>1</td>\n",
       "      <td>1</td>\n",
       "      <td>1</td>\n",
       "      <td>1</td>\n",
       "      <td>1</td>\n",
       "      <td>1</td>\n",
       "      <td>1</td>\n",
       "      <td>1</td>\n",
       "      <td>1</td>\n",
       "      <td>1</td>\n",
       "      <td>1</td>\n",
       "      <td>1</td>\n",
       "      <td>1</td>\n",
       "      <td>1</td>\n",
       "      <td>1</td>\n",
       "      <td>1</td>\n",
       "    </tr>\n",
       "    <tr>\n",
       "      <th>[{'id': 9, 'name': 'Ingenious', 'count': 95}, {'id': 23, 'name': 'Jaw-dropping', 'count': 25}, {'id': 10, 'name': 'Inspiring', 'count': 57}, {'id': 25, 'name': 'OK', 'count': 50}, {'id': 22, 'name': 'Fascinating', 'count': 97}, {'id': 8, 'name': 'Informative', 'count': 100}, {'id': 1, 'name': 'Beautiful', 'count': 23}, {'id': 24, 'name': 'Persuasive', 'count': 16}, {'id': 2, 'name': 'Confusing', 'count': 11}, {'id': 3, 'name': 'Courageous', 'count': 16}, {'id': 21, 'name': 'Unconvincing', 'count': 32}, {'id': 11, 'name': 'Longwinded', 'count': 19}, {'id': 7, 'name': 'Funny', 'count': 2}, {'id': 26, 'name': 'Obnoxious', 'count': 1}]</th>\n",
       "      <td>1</td>\n",
       "      <td>1</td>\n",
       "      <td>1</td>\n",
       "      <td>1</td>\n",
       "      <td>1</td>\n",
       "      <td>1</td>\n",
       "      <td>1</td>\n",
       "      <td>1</td>\n",
       "      <td>1</td>\n",
       "      <td>1</td>\n",
       "      <td>1</td>\n",
       "      <td>1</td>\n",
       "      <td>1</td>\n",
       "      <td>1</td>\n",
       "      <td>1</td>\n",
       "      <td>1</td>\n",
       "      <td>1</td>\n",
       "      <td>1</td>\n",
       "      <td>1</td>\n",
       "      <td>1</td>\n",
       "    </tr>\n",
       "    <tr>\n",
       "      <th>[{'id': 9, 'name': 'Ingenious', 'count': 982}, {'id': 22, 'name': 'Fascinating', 'count': 1266}, {'id': 23, 'name': 'Jaw-dropping', 'count': 752}, {'id': 1, 'name': 'Beautiful', 'count': 85}, {'id': 8, 'name': 'Informative', 'count': 509}, {'id': 10, 'name': 'Inspiring', 'count': 586}, {'id': 21, 'name': 'Unconvincing', 'count': 18}, {'id': 26, 'name': 'Obnoxious', 'count': 15}, {'id': 3, 'name': 'Courageous', 'count': 38}, {'id': 24, 'name': 'Persuasive', 'count': 66}, {'id': 2, 'name': 'Confusing', 'count': 16}, {'id': 7, 'name': 'Funny', 'count': 47}, {'id': 25, 'name': 'OK', 'count': 67}, {'id': 11, 'name': 'Longwinded', 'count': 6}]</th>\n",
       "      <td>1</td>\n",
       "      <td>1</td>\n",
       "      <td>1</td>\n",
       "      <td>1</td>\n",
       "      <td>1</td>\n",
       "      <td>1</td>\n",
       "      <td>1</td>\n",
       "      <td>1</td>\n",
       "      <td>1</td>\n",
       "      <td>1</td>\n",
       "      <td>1</td>\n",
       "      <td>1</td>\n",
       "      <td>1</td>\n",
       "      <td>1</td>\n",
       "      <td>1</td>\n",
       "      <td>1</td>\n",
       "      <td>1</td>\n",
       "      <td>1</td>\n",
       "      <td>1</td>\n",
       "      <td>1</td>\n",
       "    </tr>\n",
       "    <tr>\n",
       "      <th>[{'id': 9, 'name': 'Ingenious', 'count': 986}, {'id': 8, 'name': 'Informative', 'count': 366}, {'id': 22, 'name': 'Fascinating', 'count': 890}, {'id': 23, 'name': 'Jaw-dropping', 'count': 922}, {'id': 25, 'name': 'OK', 'count': 60}, {'id': 10, 'name': 'Inspiring', 'count': 605}, {'id': 2, 'name': 'Confusing', 'count': 8}, {'id': 1, 'name': 'Beautiful', 'count': 128}, {'id': 3, 'name': 'Courageous', 'count': 17}, {'id': 11, 'name': 'Longwinded', 'count': 15}, {'id': 24, 'name': 'Persuasive', 'count': 18}, {'id': 7, 'name': 'Funny', 'count': 195}, {'id': 21, 'name': 'Unconvincing', 'count': 3}, {'id': 26, 'name': 'Obnoxious', 'count': 4}]</th>\n",
       "      <td>1</td>\n",
       "      <td>1</td>\n",
       "      <td>1</td>\n",
       "      <td>1</td>\n",
       "      <td>1</td>\n",
       "      <td>1</td>\n",
       "      <td>1</td>\n",
       "      <td>1</td>\n",
       "      <td>1</td>\n",
       "      <td>1</td>\n",
       "      <td>1</td>\n",
       "      <td>1</td>\n",
       "      <td>1</td>\n",
       "      <td>1</td>\n",
       "      <td>1</td>\n",
       "      <td>1</td>\n",
       "      <td>1</td>\n",
       "      <td>1</td>\n",
       "      <td>1</td>\n",
       "      <td>1</td>\n",
       "    </tr>\n",
       "  </tbody>\n",
       "</table>\n",
       "<p>2550 rows × 20 columns</p>\n",
       "</div>"
      ],
      "text/plain": [
       "                                                    comments  description  \\\n",
       "ratings                                                                     \n",
       "[{'id': 1, 'name': 'Beautiful', 'count': 100}, ...         1            1   \n",
       "[{'id': 1, 'name': 'Beautiful', 'count': 101}, ...         1            1   \n",
       "[{'id': 1, 'name': 'Beautiful', 'count': 101}, ...         1            1   \n",
       "[{'id': 1, 'name': 'Beautiful', 'count': 101}, ...         1            1   \n",
       "[{'id': 1, 'name': 'Beautiful', 'count': 1024},...         1            1   \n",
       "...                                                      ...          ...   \n",
       "[{'id': 9, 'name': 'Ingenious', 'count': 93}, {...         1            1   \n",
       "[{'id': 9, 'name': 'Ingenious', 'count': 942}, ...         1            1   \n",
       "[{'id': 9, 'name': 'Ingenious', 'count': 95}, {...         1            1   \n",
       "[{'id': 9, 'name': 'Ingenious', 'count': 982}, ...         1            1   \n",
       "[{'id': 9, 'name': 'Ingenious', 'count': 986}, ...         1            1   \n",
       "\n",
       "                                                    duration  event  \\\n",
       "ratings                                                               \n",
       "[{'id': 1, 'name': 'Beautiful', 'count': 100}, ...         1      1   \n",
       "[{'id': 1, 'name': 'Beautiful', 'count': 101}, ...         1      1   \n",
       "[{'id': 1, 'name': 'Beautiful', 'count': 101}, ...         1      1   \n",
       "[{'id': 1, 'name': 'Beautiful', 'count': 101}, ...         1      1   \n",
       "[{'id': 1, 'name': 'Beautiful', 'count': 1024},...         1      1   \n",
       "...                                                      ...    ...   \n",
       "[{'id': 9, 'name': 'Ingenious', 'count': 93}, {...         1      1   \n",
       "[{'id': 9, 'name': 'Ingenious', 'count': 942}, ...         1      1   \n",
       "[{'id': 9, 'name': 'Ingenious', 'count': 95}, {...         1      1   \n",
       "[{'id': 9, 'name': 'Ingenious', 'count': 982}, ...         1      1   \n",
       "[{'id': 9, 'name': 'Ingenious', 'count': 986}, ...         1      1   \n",
       "\n",
       "                                                    film_date  languages  \\\n",
       "ratings                                                                    \n",
       "[{'id': 1, 'name': 'Beautiful', 'count': 100}, ...          1          1   \n",
       "[{'id': 1, 'name': 'Beautiful', 'count': 101}, ...          1          1   \n",
       "[{'id': 1, 'name': 'Beautiful', 'count': 101}, ...          1          1   \n",
       "[{'id': 1, 'name': 'Beautiful', 'count': 101}, ...          1          1   \n",
       "[{'id': 1, 'name': 'Beautiful', 'count': 1024},...          1          1   \n",
       "...                                                       ...        ...   \n",
       "[{'id': 9, 'name': 'Ingenious', 'count': 93}, {...          1          1   \n",
       "[{'id': 9, 'name': 'Ingenious', 'count': 942}, ...          1          1   \n",
       "[{'id': 9, 'name': 'Ingenious', 'count': 95}, {...          1          1   \n",
       "[{'id': 9, 'name': 'Ingenious', 'count': 982}, ...          1          1   \n",
       "[{'id': 9, 'name': 'Ingenious', 'count': 986}, ...          1          1   \n",
       "\n",
       "                                                    main_speaker  name  \\\n",
       "ratings                                                                  \n",
       "[{'id': 1, 'name': 'Beautiful', 'count': 100}, ...             1     1   \n",
       "[{'id': 1, 'name': 'Beautiful', 'count': 101}, ...             1     1   \n",
       "[{'id': 1, 'name': 'Beautiful', 'count': 101}, ...             1     1   \n",
       "[{'id': 1, 'name': 'Beautiful', 'count': 101}, ...             1     1   \n",
       "[{'id': 1, 'name': 'Beautiful', 'count': 1024},...             1     1   \n",
       "...                                                          ...   ...   \n",
       "[{'id': 9, 'name': 'Ingenious', 'count': 93}, {...             1     1   \n",
       "[{'id': 9, 'name': 'Ingenious', 'count': 942}, ...             1     1   \n",
       "[{'id': 9, 'name': 'Ingenious', 'count': 95}, {...             1     1   \n",
       "[{'id': 9, 'name': 'Ingenious', 'count': 982}, ...             1     1   \n",
       "[{'id': 9, 'name': 'Ingenious', 'count': 986}, ...             1     1   \n",
       "\n",
       "                                                    num_speaker  \\\n",
       "ratings                                                           \n",
       "[{'id': 1, 'name': 'Beautiful', 'count': 100}, ...            1   \n",
       "[{'id': 1, 'name': 'Beautiful', 'count': 101}, ...            1   \n",
       "[{'id': 1, 'name': 'Beautiful', 'count': 101}, ...            1   \n",
       "[{'id': 1, 'name': 'Beautiful', 'count': 101}, ...            1   \n",
       "[{'id': 1, 'name': 'Beautiful', 'count': 1024},...            1   \n",
       "...                                                         ...   \n",
       "[{'id': 9, 'name': 'Ingenious', 'count': 93}, {...            1   \n",
       "[{'id': 9, 'name': 'Ingenious', 'count': 942}, ...            1   \n",
       "[{'id': 9, 'name': 'Ingenious', 'count': 95}, {...            1   \n",
       "[{'id': 9, 'name': 'Ingenious', 'count': 982}, ...            1   \n",
       "[{'id': 9, 'name': 'Ingenious', 'count': 986}, ...            1   \n",
       "\n",
       "                                                    published_date  \\\n",
       "ratings                                                              \n",
       "[{'id': 1, 'name': 'Beautiful', 'count': 100}, ...               1   \n",
       "[{'id': 1, 'name': 'Beautiful', 'count': 101}, ...               1   \n",
       "[{'id': 1, 'name': 'Beautiful', 'count': 101}, ...               1   \n",
       "[{'id': 1, 'name': 'Beautiful', 'count': 101}, ...               1   \n",
       "[{'id': 1, 'name': 'Beautiful', 'count': 1024},...               1   \n",
       "...                                                            ...   \n",
       "[{'id': 9, 'name': 'Ingenious', 'count': 93}, {...               1   \n",
       "[{'id': 9, 'name': 'Ingenious', 'count': 942}, ...               1   \n",
       "[{'id': 9, 'name': 'Ingenious', 'count': 95}, {...               1   \n",
       "[{'id': 9, 'name': 'Ingenious', 'count': 982}, ...               1   \n",
       "[{'id': 9, 'name': 'Ingenious', 'count': 986}, ...               1   \n",
       "\n",
       "                                                    related_talks  \\\n",
       "ratings                                                             \n",
       "[{'id': 1, 'name': 'Beautiful', 'count': 100}, ...              1   \n",
       "[{'id': 1, 'name': 'Beautiful', 'count': 101}, ...              1   \n",
       "[{'id': 1, 'name': 'Beautiful', 'count': 101}, ...              1   \n",
       "[{'id': 1, 'name': 'Beautiful', 'count': 101}, ...              1   \n",
       "[{'id': 1, 'name': 'Beautiful', 'count': 1024},...              1   \n",
       "...                                                           ...   \n",
       "[{'id': 9, 'name': 'Ingenious', 'count': 93}, {...              1   \n",
       "[{'id': 9, 'name': 'Ingenious', 'count': 942}, ...              1   \n",
       "[{'id': 9, 'name': 'Ingenious', 'count': 95}, {...              1   \n",
       "[{'id': 9, 'name': 'Ingenious', 'count': 982}, ...              1   \n",
       "[{'id': 9, 'name': 'Ingenious', 'count': 986}, ...              1   \n",
       "\n",
       "                                                    speaker_occupation  tags  \\\n",
       "ratings                                                                        \n",
       "[{'id': 1, 'name': 'Beautiful', 'count': 100}, ...                   1     1   \n",
       "[{'id': 1, 'name': 'Beautiful', 'count': 101}, ...                   1     1   \n",
       "[{'id': 1, 'name': 'Beautiful', 'count': 101}, ...                   1     1   \n",
       "[{'id': 1, 'name': 'Beautiful', 'count': 101}, ...                   1     1   \n",
       "[{'id': 1, 'name': 'Beautiful', 'count': 1024},...                   1     1   \n",
       "...                                                                ...   ...   \n",
       "[{'id': 9, 'name': 'Ingenious', 'count': 93}, {...                   1     1   \n",
       "[{'id': 9, 'name': 'Ingenious', 'count': 942}, ...                   1     1   \n",
       "[{'id': 9, 'name': 'Ingenious', 'count': 95}, {...                   1     1   \n",
       "[{'id': 9, 'name': 'Ingenious', 'count': 982}, ...                   1     1   \n",
       "[{'id': 9, 'name': 'Ingenious', 'count': 986}, ...                   1     1   \n",
       "\n",
       "                                                    title  url  views  CPV  \\\n",
       "ratings                                                                      \n",
       "[{'id': 1, 'name': 'Beautiful', 'count': 100}, ...      1    1      1    1   \n",
       "[{'id': 1, 'name': 'Beautiful', 'count': 101}, ...      1    1      1    1   \n",
       "[{'id': 1, 'name': 'Beautiful', 'count': 101}, ...      1    1      1    1   \n",
       "[{'id': 1, 'name': 'Beautiful', 'count': 101}, ...      1    1      1    1   \n",
       "[{'id': 1, 'name': 'Beautiful', 'count': 1024},...      1    1      1    1   \n",
       "...                                                   ...  ...    ...  ...   \n",
       "[{'id': 9, 'name': 'Ingenious', 'count': 93}, {...      1    1      1    1   \n",
       "[{'id': 9, 'name': 'Ingenious', 'count': 942}, ...      1    1      1    1   \n",
       "[{'id': 9, 'name': 'Ingenious', 'count': 95}, {...      1    1      1    1   \n",
       "[{'id': 9, 'name': 'Ingenious', 'count': 982}, ...      1    1      1    1   \n",
       "[{'id': 9, 'name': 'Ingenious', 'count': 986}, ...      1    1      1    1   \n",
       "\n",
       "                                                    delay  film_datetime  year  \n",
       "ratings                                                                         \n",
       "[{'id': 1, 'name': 'Beautiful', 'count': 100}, ...      1              1     1  \n",
       "[{'id': 1, 'name': 'Beautiful', 'count': 101}, ...      1              1     1  \n",
       "[{'id': 1, 'name': 'Beautiful', 'count': 101}, ...      1              1     1  \n",
       "[{'id': 1, 'name': 'Beautiful', 'count': 101}, ...      1              1     1  \n",
       "[{'id': 1, 'name': 'Beautiful', 'count': 1024},...      1              1     1  \n",
       "...                                                   ...            ...   ...  \n",
       "[{'id': 9, 'name': 'Ingenious', 'count': 93}, {...      1              1     1  \n",
       "[{'id': 9, 'name': 'Ingenious', 'count': 942}, ...      1              1     1  \n",
       "[{'id': 9, 'name': 'Ingenious', 'count': 95}, {...      1              1     1  \n",
       "[{'id': 9, 'name': 'Ingenious', 'count': 982}, ...      1              1     1  \n",
       "[{'id': 9, 'name': 'Ingenious', 'count': 986}, ...      1              1     1  \n",
       "\n",
       "[2550 rows x 20 columns]"
      ]
     },
     "execution_count": 52,
     "metadata": {},
     "output_type": "execute_result"
    }
   ],
   "source": [
    "data.groupby(\"ratings\").count()\n"
   ]
  },
  {
   "cell_type": "code",
   "execution_count": 53,
   "metadata": {},
   "outputs": [
    {
     "data": {
      "text/plain": [
       "array([\"[{'id': 1, 'name': 'Beautiful', 'count': 100}, {'id': 9, 'name': 'Ingenious', 'count': 97}, {'id': 3, 'name': 'Courageous', 'count': 78}, {'id': 8, 'name': 'Informative', 'count': 313}, {'id': 10, 'name': 'Inspiring', 'count': 518}, {'id': 21, 'name': 'Unconvincing', 'count': 30}, {'id': 22, 'name': 'Fascinating', 'count': 158}, {'id': 11, 'name': 'Longwinded', 'count': 31}, {'id': 7, 'name': 'Funny', 'count': 12}, {'id': 25, 'name': 'OK', 'count': 59}, {'id': 23, 'name': 'Jaw-dropping', 'count': 72}, {'id': 24, 'name': 'Persuasive', 'count': 174}, {'id': 26, 'name': 'Obnoxious', 'count': 14}, {'id': 2, 'name': 'Confusing', 'count': 15}]\",\n",
       "       \"[{'id': 1, 'name': 'Beautiful', 'count': 101}, {'id': 3, 'name': 'Courageous', 'count': 141}, {'id': 10, 'name': 'Inspiring', 'count': 252}, {'id': 11, 'name': 'Longwinded', 'count': 20}, {'id': 8, 'name': 'Informative', 'count': 92}, {'id': 22, 'name': 'Fascinating', 'count': 36}, {'id': 2, 'name': 'Confusing', 'count': 15}, {'id': 24, 'name': 'Persuasive', 'count': 39}, {'id': 21, 'name': 'Unconvincing', 'count': 10}, {'id': 26, 'name': 'Obnoxious', 'count': 11}, {'id': 9, 'name': 'Ingenious', 'count': 19}, {'id': 25, 'name': 'OK', 'count': 28}, {'id': 23, 'name': 'Jaw-dropping', 'count': 7}, {'id': 7, 'name': 'Funny', 'count': 5}]\",\n",
       "       \"[{'id': 1, 'name': 'Beautiful', 'count': 101}, {'id': 3, 'name': 'Courageous', 'count': 84}, {'id': 10, 'name': 'Inspiring', 'count': 199}, {'id': 22, 'name': 'Fascinating', 'count': 83}, {'id': 9, 'name': 'Ingenious', 'count': 61}, {'id': 8, 'name': 'Informative', 'count': 67}, {'id': 24, 'name': 'Persuasive', 'count': 13}, {'id': 11, 'name': 'Longwinded', 'count': 2}, {'id': 25, 'name': 'OK', 'count': 10}, {'id': 7, 'name': 'Funny', 'count': 2}, {'id': 21, 'name': 'Unconvincing', 'count': 2}, {'id': 23, 'name': 'Jaw-dropping', 'count': 23}, {'id': 2, 'name': 'Confusing', 'count': 4}, {'id': 26, 'name': 'Obnoxious', 'count': 1}]\",\n",
       "       ...,\n",
       "       \"[{'id': 9, 'name': 'Ingenious', 'count': 95}, {'id': 23, 'name': 'Jaw-dropping', 'count': 25}, {'id': 10, 'name': 'Inspiring', 'count': 57}, {'id': 25, 'name': 'OK', 'count': 50}, {'id': 22, 'name': 'Fascinating', 'count': 97}, {'id': 8, 'name': 'Informative', 'count': 100}, {'id': 1, 'name': 'Beautiful', 'count': 23}, {'id': 24, 'name': 'Persuasive', 'count': 16}, {'id': 2, 'name': 'Confusing', 'count': 11}, {'id': 3, 'name': 'Courageous', 'count': 16}, {'id': 21, 'name': 'Unconvincing', 'count': 32}, {'id': 11, 'name': 'Longwinded', 'count': 19}, {'id': 7, 'name': 'Funny', 'count': 2}, {'id': 26, 'name': 'Obnoxious', 'count': 1}]\",\n",
       "       \"[{'id': 9, 'name': 'Ingenious', 'count': 982}, {'id': 22, 'name': 'Fascinating', 'count': 1266}, {'id': 23, 'name': 'Jaw-dropping', 'count': 752}, {'id': 1, 'name': 'Beautiful', 'count': 85}, {'id': 8, 'name': 'Informative', 'count': 509}, {'id': 10, 'name': 'Inspiring', 'count': 586}, {'id': 21, 'name': 'Unconvincing', 'count': 18}, {'id': 26, 'name': 'Obnoxious', 'count': 15}, {'id': 3, 'name': 'Courageous', 'count': 38}, {'id': 24, 'name': 'Persuasive', 'count': 66}, {'id': 2, 'name': 'Confusing', 'count': 16}, {'id': 7, 'name': 'Funny', 'count': 47}, {'id': 25, 'name': 'OK', 'count': 67}, {'id': 11, 'name': 'Longwinded', 'count': 6}]\",\n",
       "       \"[{'id': 9, 'name': 'Ingenious', 'count': 986}, {'id': 8, 'name': 'Informative', 'count': 366}, {'id': 22, 'name': 'Fascinating', 'count': 890}, {'id': 23, 'name': 'Jaw-dropping', 'count': 922}, {'id': 25, 'name': 'OK', 'count': 60}, {'id': 10, 'name': 'Inspiring', 'count': 605}, {'id': 2, 'name': 'Confusing', 'count': 8}, {'id': 1, 'name': 'Beautiful', 'count': 128}, {'id': 3, 'name': 'Courageous', 'count': 17}, {'id': 11, 'name': 'Longwinded', 'count': 15}, {'id': 24, 'name': 'Persuasive', 'count': 18}, {'id': 7, 'name': 'Funny', 'count': 195}, {'id': 21, 'name': 'Unconvincing', 'count': 3}, {'id': 26, 'name': 'Obnoxious', 'count': 4}]\"],\n",
       "      dtype=object)"
      ]
     },
     "execution_count": 53,
     "metadata": {},
     "output_type": "execute_result"
    }
   ],
   "source": [
    "np.unique(data[\"ratings\"].values)"
   ]
  },
  {
   "cell_type": "markdown",
   "metadata": {},
   "source": [
    "#### Question 7.2. Please pass it a list, and it returns the first element in the list, which is a dictionary"
   ]
  },
  {
   "cell_type": "code",
   "execution_count": null,
   "metadata": {},
   "outputs": [],
   "source": []
  },
  {
   "cell_type": "markdown",
   "metadata": {},
   "source": [
    "#### Question 7.3. Let's modify the function to return the vote count."
   ]
  },
  {
   "cell_type": "code",
   "execution_count": null,
   "metadata": {},
   "outputs": [],
   "source": []
  },
  {
   "cell_type": "markdown",
   "metadata": {},
   "source": [
    "#### Quesion 7.4. Let's pass it a list, and it returns a value from the first dictionary in the list"
   ]
  },
  {
   "cell_type": "code",
   "execution_count": null,
   "metadata": {},
   "outputs": [],
   "source": []
  },
  {
   "cell_type": "markdown",
   "metadata": {},
   "source": [
    "#### Question 7.5. Let's modify the function to get the sum of count"
   ]
  },
  {
   "cell_type": "code",
   "execution_count": null,
   "metadata": {},
   "outputs": [],
   "source": []
  },
  {
   "cell_type": "markdown",
   "metadata": {},
   "source": [
    "> Does the result look about right? Please check."
   ]
  },
  {
   "cell_type": "code",
   "execution_count": null,
   "metadata": {},
   "outputs": [],
   "source": []
  },
  {
   "cell_type": "markdown",
   "metadata": {},
   "source": [
    "> Let's apply it to every element in the Series"
   ]
  },
  {
   "cell_type": "code",
   "execution_count": null,
   "metadata": {},
   "outputs": [],
   "source": []
  },
  {
   "cell_type": "markdown",
   "metadata": {},
   "source": [
    "> #### <font color = \"blue\"> Alternative here is to use a `generator expression`</font>\n",
    "\n",
    "> #### <font color = \"red\"> Please check the following for more details </font>\n",
    "> - `Think Python`: https://greenteapress.com/thinkpython2/thinkpython2.pdf\n",
    "    - *Chapter 19*: The Goodies\n",
    "        - *Section 3*: Generator expressions"
   ]
  },
  {
   "cell_type": "code",
   "execution_count": null,
   "metadata": {},
   "outputs": [],
   "source": []
  },
  {
   "cell_type": "markdown",
   "metadata": {},
   "source": [
    "> Try to use `lambda` to apply this method"
   ]
  },
  {
   "cell_type": "code",
   "execution_count": null,
   "metadata": {},
   "outputs": [],
   "source": []
  },
  {
   "cell_type": "markdown",
   "metadata": {},
   "source": [
    "> Another alternative is to use `pd.DataFrame()`"
   ]
  },
  {
   "cell_type": "code",
   "execution_count": null,
   "metadata": {},
   "outputs": [],
   "source": []
  },
  {
   "cell_type": "markdown",
   "metadata": {},
   "source": [
    "> use `lambda` to apply this method"
   ]
  },
  {
   "cell_type": "code",
   "execution_count": null,
   "metadata": {},
   "outputs": [],
   "source": []
  },
  {
   "cell_type": "markdown",
   "metadata": {},
   "source": [
    "> Things to consider:\n",
    "\n",
    "- Write your code in small chunks\n",
    "\n",
    "- Check your work as you move forward\n",
    "\n",
    "- `lambda` is best for simple functions"
   ]
  },
  {
   "cell_type": "markdown",
   "metadata": {},
   "source": [
    "### Let's find: \n",
    "#### ***which occupations deliver the funniest TED talks on average?***\n",
    "\n",
    "- for each talk, calculate the most frequent rating\n",
    "- for each talk, clean the occupation data so that there's only one occupation per talk"
   ]
  },
  {
   "cell_type": "markdown",
   "metadata": {},
   "source": [
    "##### You might want to count the number of funny ratings"
   ]
  },
  {
   "cell_type": "code",
   "execution_count": null,
   "metadata": {},
   "outputs": [],
   "source": []
  },
  {
   "cell_type": "markdown",
   "metadata": {},
   "source": [
    "> \"Funny\" is not always the first dictionary in the list."
   ]
  },
  {
   "cell_type": "markdown",
   "metadata": {},
   "source": [
    "#### Please check ratings (not ratings_list) to see if \"Funny\" is always a rating type"
   ]
  },
  {
   "cell_type": "code",
   "execution_count": null,
   "metadata": {},
   "outputs": [],
   "source": []
  },
  {
   "cell_type": "markdown",
   "metadata": {},
   "source": [
    "### Question 8. Let's write a custom function that gives us a `dictionary` that lists `talks` containing `funny` rating."
   ]
  },
  {
   "cell_type": "code",
   "execution_count": null,
   "metadata": {},
   "outputs": [],
   "source": []
  },
  {
   "cell_type": "markdown",
   "metadata": {},
   "source": [
    "> Then, you might want to examine a record in which \"Funny\" is not the first dictionary"
   ]
  },
  {
   "cell_type": "code",
   "execution_count": null,
   "metadata": {},
   "outputs": [],
   "source": []
  },
  {
   "cell_type": "markdown",
   "metadata": {},
   "source": [
    "> Let's check that the function works."
   ]
  },
  {
   "cell_type": "code",
   "execution_count": null,
   "metadata": {},
   "outputs": [],
   "source": []
  },
  {
   "cell_type": "markdown",
   "metadata": {},
   "source": [
    "> Let's apply it to every element in the Series."
   ]
  },
  {
   "cell_type": "code",
   "execution_count": null,
   "metadata": {},
   "outputs": [],
   "source": []
  },
  {
   "cell_type": "markdown",
   "metadata": {},
   "source": [
    "> Do check for `missing values`."
   ]
  },
  {
   "cell_type": "code",
   "execution_count": null,
   "metadata": {},
   "outputs": [],
   "source": []
  },
  {
   "cell_type": "markdown",
   "metadata": {},
   "source": [
    "##### Now, let's calculate the percentage of ratings that are funny"
   ]
  },
  {
   "cell_type": "code",
   "execution_count": null,
   "metadata": {},
   "outputs": [],
   "source": []
  },
  {
   "cell_type": "markdown",
   "metadata": {},
   "source": [
    "> Let's do some \"gut check\" here that this calculation makes sense by examining the occupations of the funniest talks"
   ]
  },
  {
   "cell_type": "code",
   "execution_count": null,
   "metadata": {},
   "outputs": [],
   "source": []
  },
  {
   "cell_type": "markdown",
   "metadata": {},
   "source": [
    "> Let's examine the occupations of the least funny talks."
   ]
  },
  {
   "cell_type": "code",
   "execution_count": null,
   "metadata": {},
   "outputs": [],
   "source": []
  },
  {
   "cell_type": "markdown",
   "metadata": {},
   "source": [
    "### Question 9. It would be funny (pun inteded here) to analyze the funny rate by occupation :) Let's calculate the mean funny rate for each job."
   ]
  },
  {
   "cell_type": "code",
   "execution_count": null,
   "metadata": {},
   "outputs": [],
   "source": []
  },
  {
   "cell_type": "markdown",
   "metadata": {},
   "source": [
    "##### Note that most of the occupations have a sample size of 1"
   ]
  },
  {
   "cell_type": "code",
   "execution_count": null,
   "metadata": {},
   "outputs": [],
   "source": []
  },
  {
   "cell_type": "markdown",
   "metadata": {},
   "source": [
    "### Question 10. Let's start looking at `occupations` that are well-represented in the dataset. Let's count how many times each job appears"
   ]
  },
  {
   "cell_type": "code",
   "execution_count": null,
   "metadata": {},
   "outputs": [],
   "source": []
  },
  {
   "cell_type": "markdown",
   "metadata": {},
   "source": [
    "##### `value_counts()` outputs a pandas Series, thus we can use pandas to manipulate the output"
   ]
  },
  {
   "cell_type": "code",
   "execution_count": null,
   "metadata": {},
   "outputs": [],
   "source": []
  },
  {
   "cell_type": "markdown",
   "metadata": {},
   "source": [
    "##### Let's take a look at jobs which appear at least 5 times"
   ]
  },
  {
   "cell_type": "code",
   "execution_count": null,
   "metadata": {},
   "outputs": [],
   "source": []
  },
  {
   "cell_type": "markdown",
   "metadata": {},
   "source": [
    "> Let's save the index of this Series"
   ]
  },
  {
   "cell_type": "code",
   "execution_count": null,
   "metadata": {},
   "outputs": [],
   "source": []
  },
  {
   "cell_type": "markdown",
   "metadata": {},
   "source": [
    "##### Now, re-analyze the funny rate by occupation (for top jobs only)"
   ]
  },
  {
   "cell_type": "markdown",
   "metadata": {},
   "source": [
    "> Let's filter DataFrame to include only those jobs."
   ]
  },
  {
   "cell_type": "code",
   "execution_count": null,
   "metadata": {},
   "outputs": [],
   "source": []
  },
  {
   "cell_type": "markdown",
   "metadata": {},
   "source": [
    "##### Let's re-do the previous groupby"
   ]
  },
  {
   "cell_type": "code",
   "execution_count": null,
   "metadata": {},
   "outputs": [],
   "source": []
  },
  {
   "cell_type": "markdown",
   "metadata": {},
   "source": [
    "> ### <font color = \"blue\"> Please consider the following, when using `pandas`: </font>\n",
    "\n",
    "- Check your assumptions about your data\n",
    "- Check whether your results are reasonable\n",
    "- Take advantage of the fact that pandas operations often output a DataFrame or a Series\n",
    "- Watch out for small sample sizes\n",
    "- Consider the impact of missing data\n",
    "\n",
    "> ### <font color = \"blue\"> As you could find from me as well as from the dataset, `data scientists are relatively funny` :) </font>\n"
   ]
  },
  {
   "cell_type": "markdown",
   "metadata": {},
   "source": [
    "### <font color=\"green\">\"Thank you for putting your efforts into the exercise problem sets 😊\"</font>"
   ]
  }
 ],
 "metadata": {
  "kernelspec": {
   "display_name": "Python 3 (ipykernel)",
   "language": "python",
   "name": "python3"
  },
  "language_info": {
   "codemirror_mode": {
    "name": "ipython",
    "version": 3
   },
   "file_extension": ".py",
   "mimetype": "text/x-python",
   "name": "python",
   "nbconvert_exporter": "python",
   "pygments_lexer": "ipython3",
   "version": "3.11.3"
  }
 },
 "nbformat": 4,
 "nbformat_minor": 2
}
