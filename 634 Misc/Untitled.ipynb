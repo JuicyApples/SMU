{
 "cells": [
  {
   "cell_type": "code",
   "execution_count": 1,
   "id": "85e6550c-302c-4678-9b8d-9901dbd9151d",
   "metadata": {},
   "outputs": [],
   "source": [
    "import numpy as np\n",
    "import pandas as pd\n",
    "import matplotlib.pyplot as plt"
   ]
  },
  {
   "cell_type": "code",
   "execution_count": 3,
   "id": "0035753a-338d-453a-97ce-11b479fb13c3",
   "metadata": {},
   "outputs": [],
   "source": [
    "cruise = pd.read_csv('cruise_ship_info.csv')"
   ]
  },
  {
   "cell_type": "code",
   "execution_count": 4,
   "id": "963842a8-acd6-4875-a77a-85250303e404",
   "metadata": {},
   "outputs": [
    {
     "data": {
      "text/plain": [
       "((110, 6), (48, 6), (110,), (48,))"
      ]
     },
     "execution_count": 4,
     "metadata": {},
     "output_type": "execute_result"
    }
   ],
   "source": [
    "from sklearn.model_selection import train_test_split\n",
    "from sklearn.preprocessing import StandardScaler\n",
    "\n",
    "# Selecting the features and target variable\n",
    "features = cruise[['Age', 'TonnageGTx1000', 'passengersx100', 'lengthx100ft', 'cabinsx100', 'spaceratio']]\n",
    "target = cruise['crewx100']\n",
    "\n",
    "# Standardizing the features\n",
    "scaler = StandardScaler()\n",
    "features_standardized = scaler.fit_transform(features)\n",
    "\n",
    "# Splitting the data into training and testing sets\n",
    "X_train, X_test, y_train, y_test = train_test_split(features_standardized, target, test_size=0.3, random_state=0)\n",
    "\n",
    "# Checking the shape of the training and testing sets\n",
    "X_train.shape, X_test.shape, y_train.shape, y_test.shape"
   ]
  },
  {
   "cell_type": "code",
   "execution_count": 9,
   "id": "8b5a2792-c349-44f2-8358-32e903c37d92",
   "metadata": {},
   "outputs": [
    {
     "data": {
      "text/html": [
       "<div>\n",
       "<style scoped>\n",
       "    .dataframe tbody tr th:only-of-type {\n",
       "        vertical-align: middle;\n",
       "    }\n",
       "\n",
       "    .dataframe tbody tr th {\n",
       "        vertical-align: top;\n",
       "    }\n",
       "\n",
       "    .dataframe thead th {\n",
       "        text-align: right;\n",
       "    }\n",
       "</style>\n",
       "<table border=\"1\" class=\"dataframe\">\n",
       "  <thead>\n",
       "    <tr style=\"text-align: right;\">\n",
       "      <th></th>\n",
       "      <th>0</th>\n",
       "      <th>1</th>\n",
       "      <th>2</th>\n",
       "      <th>3</th>\n",
       "      <th>4</th>\n",
       "      <th>5</th>\n",
       "    </tr>\n",
       "  </thead>\n",
       "  <tbody>\n",
       "    <tr>\n",
       "      <th>0</th>\n",
       "      <td>-1.276402</td>\n",
       "      <td>-1.104984</td>\n",
       "      <td>-1.193956</td>\n",
       "      <td>-1.225331</td>\n",
       "      <td>-1.184588</td>\n",
       "      <td>0.318057</td>\n",
       "    </tr>\n",
       "    <tr>\n",
       "      <th>1</th>\n",
       "      <td>-1.276402</td>\n",
       "      <td>-1.104984</td>\n",
       "      <td>-1.193956</td>\n",
       "      <td>-1.225331</td>\n",
       "      <td>-1.184588</td>\n",
       "      <td>0.318057</td>\n",
       "    </tr>\n",
       "    <tr>\n",
       "      <th>2</th>\n",
       "      <td>1.358105</td>\n",
       "      <td>-0.647310</td>\n",
       "      <td>-0.372926</td>\n",
       "      <td>-0.509363</td>\n",
       "      <td>-0.314095</td>\n",
       "      <td>-0.940676</td>\n",
       "    </tr>\n",
       "    <tr>\n",
       "      <th>3</th>\n",
       "      <td>-0.617775</td>\n",
       "      <td>1.043215</td>\n",
       "      <td>1.169614</td>\n",
       "      <td>0.782736</td>\n",
       "      <td>1.357341</td>\n",
       "      <td>-0.338017</td>\n",
       "    </tr>\n",
       "    <tr>\n",
       "      <th>4</th>\n",
       "      <td>0.172577</td>\n",
       "      <td>0.810215</td>\n",
       "      <td>0.825445</td>\n",
       "      <td>0.441533</td>\n",
       "      <td>0.982670</td>\n",
       "      <td>-0.178934</td>\n",
       "    </tr>\n",
       "    <tr>\n",
       "      <th>...</th>\n",
       "      <td>...</td>\n",
       "      <td>...</td>\n",
       "      <td>...</td>\n",
       "      <td>...</td>\n",
       "      <td>...</td>\n",
       "      <td>...</td>\n",
       "    </tr>\n",
       "    <tr>\n",
       "      <th>153</th>\n",
       "      <td>0.831204</td>\n",
       "      <td>-1.830796</td>\n",
       "      <td>-1.844975</td>\n",
       "      <td>-2.987284</td>\n",
       "      <td>-1.907008</td>\n",
       "      <td>1.244688</td>\n",
       "    </tr>\n",
       "    <tr>\n",
       "      <th>154</th>\n",
       "      <td>-0.222599</td>\n",
       "      <td>0.148615</td>\n",
       "      <td>0.118448</td>\n",
       "      <td>0.368817</td>\n",
       "      <td>0.188457</td>\n",
       "      <td>-0.083716</td>\n",
       "    </tr>\n",
       "    <tr>\n",
       "      <th>155</th>\n",
       "      <td>1.226380</td>\n",
       "      <td>-1.776662</td>\n",
       "      <td>-1.749603</td>\n",
       "      <td>-2.086730</td>\n",
       "      <td>-1.815023</td>\n",
       "      <td>-0.701471</td>\n",
       "    </tr>\n",
       "    <tr>\n",
       "      <th>156</th>\n",
       "      <td>1.489831</td>\n",
       "      <td>-1.776662</td>\n",
       "      <td>-1.740273</td>\n",
       "      <td>-2.086730</td>\n",
       "      <td>-1.815023</td>\n",
       "      <td>-0.912808</td>\n",
       "    </tr>\n",
       "    <tr>\n",
       "      <th>157</th>\n",
       "      <td>0.962929</td>\n",
       "      <td>-1.523507</td>\n",
       "      <td>-1.594104</td>\n",
       "      <td>-1.096680</td>\n",
       "      <td>-1.631052</td>\n",
       "      <td>0.925360</td>\n",
       "    </tr>\n",
       "  </tbody>\n",
       "</table>\n",
       "<p>158 rows × 6 columns</p>\n",
       "</div>"
      ],
      "text/plain": [
       "            0         1         2         3         4         5\n",
       "0   -1.276402 -1.104984 -1.193956 -1.225331 -1.184588  0.318057\n",
       "1   -1.276402 -1.104984 -1.193956 -1.225331 -1.184588  0.318057\n",
       "2    1.358105 -0.647310 -0.372926 -0.509363 -0.314095 -0.940676\n",
       "3   -0.617775  1.043215  1.169614  0.782736  1.357341 -0.338017\n",
       "4    0.172577  0.810215  0.825445  0.441533  0.982670 -0.178934\n",
       "..        ...       ...       ...       ...       ...       ...\n",
       "153  0.831204 -1.830796 -1.844975 -2.987284 -1.907008  1.244688\n",
       "154 -0.222599  0.148615  0.118448  0.368817  0.188457 -0.083716\n",
       "155  1.226380 -1.776662 -1.749603 -2.086730 -1.815023 -0.701471\n",
       "156  1.489831 -1.776662 -1.740273 -2.086730 -1.815023 -0.912808\n",
       "157  0.962929 -1.523507 -1.594104 -1.096680 -1.631052  0.925360\n",
       "\n",
       "[158 rows x 6 columns]"
      ]
     },
     "execution_count": 9,
     "metadata": {},
     "output_type": "execute_result"
    }
   ],
   "source": [
    "features_standardized = pd.DataFrame(features_standardized)\n",
    "features_standardized"
   ]
  },
  {
   "cell_type": "code",
   "execution_count": 10,
   "id": "6ce95620-af6f-4e0b-bf64-3bfdce8c4590",
   "metadata": {},
   "outputs": [
    {
     "data": {
      "text/plain": [
       "0       3.55\n",
       "1       3.55\n",
       "2       6.70\n",
       "3      19.10\n",
       "4      10.00\n",
       "       ...  \n",
       "153     0.59\n",
       "154    12.00\n",
       "155     0.88\n",
       "156     0.88\n",
       "157     1.80\n",
       "Name: crewx100, Length: 158, dtype: float64"
      ]
     },
     "execution_count": 10,
     "metadata": {},
     "output_type": "execute_result"
    }
   ],
   "source": [
    "target"
   ]
  },
  {
   "cell_type": "code",
   "execution_count": 7,
   "id": "cd150b91-c646-4933-88a5-a14f928fa15a",
   "metadata": {},
   "outputs": [
    {
     "data": {
      "text/plain": [
       "(0.910947756056873, 0.9567576421666848)"
      ]
     },
     "execution_count": 7,
     "metadata": {},
     "output_type": "execute_result"
    }
   ],
   "source": [
    "from sklearn.linear_model import Lasso\n",
    "from sklearn.metrics import r2_score\n",
    "\n",
    "# Create a LASSO regression model with alpha = 0.01\n",
    "lasso_model = Lasso(alpha=0.01)\n",
    "\n",
    "# Train the model\n",
    "lasso_model.fit(X_train, y_train)\n",
    "\n",
    "# Predictions on training and test sets\n",
    "y_train_pred_lasso = lasso_model.predict(X_train)\n",
    "y_test_pred_lasso = lasso_model.predict(X_test)\n",
    "\n",
    "# R2 scores for training and test sets using LASSO Regression\n",
    "r2_train_lasso = r2_score(y_train, y_train_pred_lasso)\n",
    "r2_test_lasso = r2_score(y_test, y_test_pred_lasso)\n",
    "\n",
    "r2_train_lasso, r2_test_lasso"
   ]
  },
  {
   "cell_type": "code",
   "execution_count": null,
   "id": "23b1b2e4-82ac-4205-8dbb-bd188c3f901d",
   "metadata": {},
   "outputs": [],
   "source": [
    "X_train"
   ]
  }
 ],
 "metadata": {
  "kernelspec": {
   "display_name": "Python 3 (ipykernel)",
   "language": "python",
   "name": "python3"
  },
  "language_info": {
   "codemirror_mode": {
    "name": "ipython",
    "version": 3
   },
   "file_extension": ".py",
   "mimetype": "text/x-python",
   "name": "python",
   "nbconvert_exporter": "python",
   "pygments_lexer": "ipython3",
   "version": "3.12.0"
  }
 },
 "nbformat": 4,
 "nbformat_minor": 5
}
